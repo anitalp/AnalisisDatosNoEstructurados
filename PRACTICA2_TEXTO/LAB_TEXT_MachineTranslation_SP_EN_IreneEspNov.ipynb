{
 "cells": [
  {
   "cell_type": "markdown",
   "metadata": {
    "colab_type": "text",
    "id": "ijhr3IqYRj7l"
   },
   "source": [
    "# Traducción automática español-inglés\n",
    "\n",
    "La traducción automática es un área del procesamiento de lenguaje natural que investiga el uso de software para traducir texto o habla de un lenguaje a otro.\n",
    "\n",
    "El objetivo de esta práctica es entrenar distintos modelos de traducción automática entre los idiomas español e inglés de tal forma que se pueda comparar sus niveles de precision y complejidad."
   ]
  },
  {
   "cell_type": "markdown",
   "metadata": {
    "colab_type": "text",
    "id": "IdeXv-InpVQI"
   },
   "source": [
    "## Importar las librerías y preparar el fichero de datos\n",
    "En primer lugar se deben cargar las librerías necesarias así como disponer el fichero que contiene la información de las traducciones."
   ]
  },
  {
   "cell_type": "code",
   "execution_count": 0,
   "metadata": {
    "colab": {},
    "colab_type": "code",
    "id": "agPi3aSTpVQJ"
   },
   "outputs": [],
   "source": [
    "import string\n",
    "import tensorflow as tf\n",
    "import re\n",
    "from numpy import array, argmax, random, take\n",
    "import pandas as pd\n",
    "from keras.models import Sequential\n",
    "from keras.layers import Dense, LSTM, Embedding, Bidirectional, RepeatVector, TimeDistributed, SimpleRNN, GRU\n",
    "from keras.preprocessing.text import Tokenizer\n",
    "from keras.callbacks import ModelCheckpoint\n",
    "from keras.preprocessing.sequence import pad_sequences\n",
    "from keras.models import load_model\n",
    "from keras import optimizers\n",
    "import matplotlib.pyplot as plt\n",
    "% matplotlib inline\n",
    "pd.set_option('display.max_colwidth', 200)"
   ]
  },
  {
   "cell_type": "code",
   "execution_count": 4,
   "metadata": {
    "colab": {
     "base_uri": "https://localhost:8080/",
     "height": 35
    },
    "colab_type": "code",
    "id": "Oo4JMeUIk1X6",
    "outputId": "7ca5e10a-0e84-4fe1-fc3f-8d821e5c1c58"
   },
   "outputs": [
    {
     "name": "stdout",
     "output_type": "stream",
     "text": [
      "Found GPU at: /device:GPU:0\n"
     ]
    }
   ],
   "source": [
    "device_name = tf.test.gpu_device_name()\n",
    "\n",
    "if device_name != '/device:GPU:0':\n",
    "  raise SystemError('GPU device not found')\n",
    "  \n",
    "print('Found GPU at: {}'.format(device_name))"
   ]
  },
  {
   "cell_type": "code",
   "execution_count": 41,
   "metadata": {
    "colab": {
     "base_uri": "https://localhost:8080/",
     "height": 124
    },
    "colab_type": "code",
    "id": "wxyKuT7-phFA",
    "outputId": "58e617b7-1f80-409f-e29d-ffb37f860b20"
   },
   "outputs": [
    {
     "name": "stdout",
     "output_type": "stream",
     "text": [
      "Drive already mounted at /content/drive; to attempt to forcibly remount, call drive.mount(\"/content/drive\", force_remount=True).\n",
      "/content/drive/My Drive/TEXT_P2\n",
      "deu-eng\t\t\t\t\t\t     model.h1.27_apr_20_m2\n",
      "LAB_TEXT_MachineTranslation_DE_EN.ipynb\t\t     model.h1.27_apr_20_m3\n",
      "LAB_TEXT_MachineTranslation_SP_EN_IreneEspNov.ipynb  spa-eng\n",
      "model.h1.26_apr_20\n"
     ]
    }
   ],
   "source": [
    "from google.colab import drive\n",
    "drive.mount('/content/drive')\n",
    "\n",
    "# Navigate to code directory\n",
    "%cd /content/drive/My Drive/TEXT_P2\n",
    "\n",
    "# List project directory contents\n",
    "!ls"
   ]
  },
  {
   "cell_type": "markdown",
   "metadata": {
    "colab_type": "text",
    "id": "tTVCqsrQca_8"
   },
   "source": [
    "### Limpiar el fichero *spa.txt*\n",
    "Las siguientes celdas solo se ejecutan una vez.\n",
    "Es necesario extraer del fichero spa.txt las dos primeras columnas que son las que contienen las frases en español y su traducción en ingles, la información que es interesante para este problema.\n"
   ]
  },
  {
   "cell_type": "code",
   "execution_count": 3,
   "metadata": {
    "colab": {
     "base_uri": "https://localhost:8080/",
     "height": 200
    },
    "colab_type": "code",
    "id": "3CXZ7tO9VuK3",
    "outputId": "db0231d3-2204-4438-c0e3-05ab6e8694c6"
   },
   "outputs": [
    {
     "data": {
      "text/html": [
       "<div>\n",
       "<style scoped>\n",
       "    .dataframe tbody tr th:only-of-type {\n",
       "        vertical-align: middle;\n",
       "    }\n",
       "\n",
       "    .dataframe tbody tr th {\n",
       "        vertical-align: top;\n",
       "    }\n",
       "\n",
       "    .dataframe thead th {\n",
       "        text-align: right;\n",
       "    }\n",
       "</style>\n",
       "<table border=\"1\" class=\"dataframe\">\n",
       "  <thead>\n",
       "    <tr style=\"text-align: right;\">\n",
       "      <th></th>\n",
       "      <th>0</th>\n",
       "      <th>1</th>\n",
       "      <th>2</th>\n",
       "    </tr>\n",
       "  </thead>\n",
       "  <tbody>\n",
       "    <tr>\n",
       "      <th>0</th>\n",
       "      <td>Go.</td>\n",
       "      <td>Ve.</td>\n",
       "      <td>CC-BY 2.0 (France) Attribution: tatoeba.org #2877272 (CM) &amp; #4986655 (cueyayotl)</td>\n",
       "    </tr>\n",
       "    <tr>\n",
       "      <th>1</th>\n",
       "      <td>Go.</td>\n",
       "      <td>Vete.</td>\n",
       "      <td>CC-BY 2.0 (France) Attribution: tatoeba.org #2877272 (CM) &amp; #4986656 (cueyayotl)</td>\n",
       "    </tr>\n",
       "    <tr>\n",
       "      <th>2</th>\n",
       "      <td>Go.</td>\n",
       "      <td>Vaya.</td>\n",
       "      <td>CC-BY 2.0 (France) Attribution: tatoeba.org #2877272 (CM) &amp; #4986657 (cueyayotl)</td>\n",
       "    </tr>\n",
       "    <tr>\n",
       "      <th>3</th>\n",
       "      <td>Go.</td>\n",
       "      <td>Váyase.</td>\n",
       "      <td>CC-BY 2.0 (France) Attribution: tatoeba.org #2877272 (CM) &amp; #6586271 (arh)</td>\n",
       "    </tr>\n",
       "    <tr>\n",
       "      <th>4</th>\n",
       "      <td>Hi.</td>\n",
       "      <td>Hola.</td>\n",
       "      <td>CC-BY 2.0 (France) Attribution: tatoeba.org #538123 (CM) &amp; #431975 (Leono)</td>\n",
       "    </tr>\n",
       "  </tbody>\n",
       "</table>\n",
       "</div>"
      ],
      "text/plain": [
       "     0  ...                                                                                 2\n",
       "0  Go.  ...  CC-BY 2.0 (France) Attribution: tatoeba.org #2877272 (CM) & #4986655 (cueyayotl)\n",
       "1  Go.  ...  CC-BY 2.0 (France) Attribution: tatoeba.org #2877272 (CM) & #4986656 (cueyayotl)\n",
       "2  Go.  ...  CC-BY 2.0 (France) Attribution: tatoeba.org #2877272 (CM) & #4986657 (cueyayotl)\n",
       "3  Go.  ...        CC-BY 2.0 (France) Attribution: tatoeba.org #2877272 (CM) & #6586271 (arh)\n",
       "4  Hi.  ...        CC-BY 2.0 (France) Attribution: tatoeba.org #538123 (CM) & #431975 (Leono)\n",
       "\n",
       "[5 rows x 3 columns]"
      ]
     },
     "execution_count": 3,
     "metadata": {
      "tags": []
     },
     "output_type": "execute_result"
    }
   ],
   "source": [
    "data = pd.read_csv(\"spa-eng/spa.txt\", header=None, sep=\"\\t\")\n",
    "data.head()"
   ]
  },
  {
   "cell_type": "code",
   "execution_count": 4,
   "metadata": {
    "colab": {
     "base_uri": "https://localhost:8080/",
     "height": 200
    },
    "colab_type": "code",
    "id": "qv27wAsuVuF8",
    "outputId": "fb664ada-b79d-47e5-9249-104581d44137"
   },
   "outputs": [
    {
     "data": {
      "text/html": [
       "<div>\n",
       "<style scoped>\n",
       "    .dataframe tbody tr th:only-of-type {\n",
       "        vertical-align: middle;\n",
       "    }\n",
       "\n",
       "    .dataframe tbody tr th {\n",
       "        vertical-align: top;\n",
       "    }\n",
       "\n",
       "    .dataframe thead th {\n",
       "        text-align: right;\n",
       "    }\n",
       "</style>\n",
       "<table border=\"1\" class=\"dataframe\">\n",
       "  <thead>\n",
       "    <tr style=\"text-align: right;\">\n",
       "      <th></th>\n",
       "      <th>0</th>\n",
       "      <th>1</th>\n",
       "    </tr>\n",
       "  </thead>\n",
       "  <tbody>\n",
       "    <tr>\n",
       "      <th>0</th>\n",
       "      <td>Go.</td>\n",
       "      <td>Ve.</td>\n",
       "    </tr>\n",
       "    <tr>\n",
       "      <th>1</th>\n",
       "      <td>Go.</td>\n",
       "      <td>Vete.</td>\n",
       "    </tr>\n",
       "    <tr>\n",
       "      <th>2</th>\n",
       "      <td>Go.</td>\n",
       "      <td>Vaya.</td>\n",
       "    </tr>\n",
       "    <tr>\n",
       "      <th>3</th>\n",
       "      <td>Go.</td>\n",
       "      <td>Váyase.</td>\n",
       "    </tr>\n",
       "    <tr>\n",
       "      <th>4</th>\n",
       "      <td>Hi.</td>\n",
       "      <td>Hola.</td>\n",
       "    </tr>\n",
       "  </tbody>\n",
       "</table>\n",
       "</div>"
      ],
      "text/plain": [
       "     0        1\n",
       "0  Go.      Ve.\n",
       "1  Go.    Vete.\n",
       "2  Go.    Vaya.\n",
       "3  Go.  Váyase.\n",
       "4  Hi.    Hola."
      ]
     },
     "execution_count": 4,
     "metadata": {
      "tags": []
     },
     "output_type": "execute_result"
    }
   ],
   "source": [
    "data=data[[0,1]]\n",
    "data.head()"
   ]
  },
  {
   "cell_type": "code",
   "execution_count": 0,
   "metadata": {
    "colab": {},
    "colab_type": "code",
    "id": "UovWahs4VuCU"
   },
   "outputs": [],
   "source": [
    "data.to_csv(r'spa-eng/spa_modif.txt', header=None, index=None, sep='\\t', mode='a')"
   ]
  },
  {
   "cell_type": "markdown",
   "metadata": {
    "colab_type": "text",
    "id": "ZbrJTQsQpVQP"
   },
   "source": [
    "## Leer los datos\n",
    "\n",
    "Los datos, como se ha podido apreciar en las celdas anteriores, son un conjunto de pares de frases en inglés con su traducción a español. Una vez limpio el fichero, se realiza su lectura con la función definida abajo."
   ]
  },
  {
   "cell_type": "code",
   "execution_count": 0,
   "metadata": {
    "colab": {},
    "colab_type": "code",
    "id": "aQaSITB0pVQQ"
   },
   "outputs": [],
   "source": [
    "# function to read raw text file\n",
    "def read_text(filename):\n",
    "    # open the file\n",
    "    file = open(filename, mode='rt', encoding='utf-8')\n",
    "    # read all text\n",
    "    text = file.read()\n",
    "    file.close()\n",
    "    return text"
   ]
  },
  {
   "cell_type": "markdown",
   "metadata": {
    "colab_type": "text",
    "id": "Abh5Ni08pVQT"
   },
   "source": [
    "A continuación se define una función para separar el texto en las parejas de frases ingles-español.\n"
   ]
  },
  {
   "cell_type": "code",
   "execution_count": 0,
   "metadata": {
    "colab": {},
    "colab_type": "code",
    "id": "nO-pd6i_pVQT"
   },
   "outputs": [],
   "source": [
    "# split a text into sentences\n",
    "def to_lines(text):\n",
    "    sents = text.strip().split('\\n')\n",
    "    sents = [i.split('\\t') for i in sents]\n",
    "    return sents"
   ]
  },
  {
   "cell_type": "code",
   "execution_count": 0,
   "metadata": {
    "colab": {},
    "colab_type": "code",
    "id": "1SJOVqPUpVQW"
   },
   "outputs": [],
   "source": [
    "data = read_text(\"spa-eng/spa_modif.txt\")\n",
    "spa_eng = to_lines(data)\n",
    "spa_eng = array(spa_eng)"
   ]
  },
  {
   "cell_type": "code",
   "execution_count": 12,
   "metadata": {
    "colab": {
     "base_uri": "https://localhost:8080/",
     "height": 195
    },
    "colab_type": "code",
    "id": "Q7_Xzu8EpVQZ",
    "outputId": "a30fa2ef-fa15-4ae7-8a97-90215e982cb0"
   },
   "outputs": [
    {
     "data": {
      "text/plain": [
       "array([['Go.', 'Ve.'],\n",
       "       ['Go.', 'Vete.'],\n",
       "       ['Go.', 'Vaya.'],\n",
       "       ['Go.', 'Váyase.'],\n",
       "       ['Hi.', 'Hola.'],\n",
       "       ['Run!', '¡Corre!'],\n",
       "       ['Run!', '¡Corran!'],\n",
       "       ['Run!', '¡Corra!'],\n",
       "       ['Run!', '¡Corred!'],\n",
       "       ['Run.', 'Corred.']], dtype='<U332')"
      ]
     },
     "execution_count": 12,
     "metadata": {
      "tags": []
     },
     "output_type": "execute_result"
    }
   ],
   "source": [
    "spa_eng[:10,:]"
   ]
  },
  {
   "cell_type": "markdown",
   "metadata": {
    "colab_type": "text",
    "id": "q-St1PripVQc"
   },
   "source": [
    "## Pre-procesamiento del texto"
   ]
  },
  {
   "cell_type": "markdown",
   "metadata": {
    "colab_type": "text",
    "id": "Tff_OmwmpVQd"
   },
   "source": [
    "### Limpieza del texto\n",
    "\n",
    "Una vez que se posee el texto en el formato de una lista de parejas, se observa más en detalle el texto de cada pareja con el fin de detectar si existen caracteres que es necesario eliminar."
   ]
  },
  {
   "cell_type": "code",
   "execution_count": 13,
   "metadata": {
    "colab": {
     "base_uri": "https://localhost:8080/",
     "height": 232
    },
    "colab_type": "code",
    "id": "gu3lK0BIpVQd",
    "outputId": "e239d1a2-79aa-4765-e7b4-142b04b8c3ec",
    "scrolled": true
   },
   "outputs": [
    {
     "data": {
      "text/plain": [
       "array([['Go.', 'Ve.'],\n",
       "       ['Go.', 'Vete.'],\n",
       "       ['Go.', 'Vaya.'],\n",
       "       ...,\n",
       "       ['Since there are usually multiple websites on any given topic, I usually just click the back button when I arrive on any webpage that has pop-up advertising. I just go to the next page found by Google and hope for something less irritating.',\n",
       "        'Como suele haber varias páginas web sobre cualquier tema, normalmente sólo le doy al botón de retroceso cuando entro en una página web que tiene anuncios en ventanas emergentes. Simplemente voy a la siguiente página encontrada por Google y espero encontrar algo menos irritante.'],\n",
       "       ['If you want to sound like a native speaker, you must be willing to practice saying the same sentence over and over in the same way that banjo players practice the same phrase over and over until they can play it correctly and at the desired tempo.',\n",
       "        'Si quieres sonar como un hablante nativo, debes estar dispuesto a practicar diciendo la misma frase una y otra vez de la misma manera en que un músico de banjo practica el mismo fraseo una y otra vez hasta que lo puedan tocar correctamente y en el tiempo esperado.'],\n",
       "       ['It may be impossible to get a completely error-free corpus due to the nature of this kind of collaborative effort. However, if we encourage members to contribute sentences in their own languages rather than experiment in languages they are learning, we might be able to minimize errors.',\n",
       "        'Puede que sea imposible obtener un corpus completamente libre de errores debido a la naturaleza de este tipo de esfuerzo de colaboración. Sin embargo, si animamos a los miembros a contribuir frases en sus propios idiomas en lugar de experimentar con los idiomas que están aprendiendo, podríamos ser capaces de minimizar los errores.']],\n",
       "      dtype='<U332')"
      ]
     },
     "execution_count": 13,
     "metadata": {
      "tags": []
     },
     "output_type": "execute_result"
    }
   ],
   "source": [
    "spa_eng"
   ]
  },
  {
   "cell_type": "markdown",
   "metadata": {
    "colab_type": "text",
    "id": "1w_4JZwwpVQh"
   },
   "source": [
    "Se quitan los signos de puntación y se convierte todo el texto a minúsculas para estandarizarlo."
   ]
  },
  {
   "cell_type": "code",
   "execution_count": 0,
   "metadata": {
    "colab": {},
    "colab_type": "code",
    "id": "b5uJIGcZpVQh"
   },
   "outputs": [],
   "source": [
    "# Remove punctuation\n",
    "spa_eng[:,0] = [s.translate(str.maketrans('', '', string.punctuation)) for s in spa_eng[:,0]]\n",
    "spa_eng[:,1] = [s.translate(str.maketrans('', '', string.punctuation)) for s in spa_eng[:,1]]"
   ]
  },
  {
   "cell_type": "code",
   "execution_count": 15,
   "metadata": {
    "colab": {
     "base_uri": "https://localhost:8080/",
     "height": 232
    },
    "colab_type": "code",
    "id": "DuYwTe1ypVQj",
    "outputId": "a4d50c45-a7d9-4652-b2b2-1ed422db1fe1"
   },
   "outputs": [
    {
     "data": {
      "text/plain": [
       "array([['Go', 'Ve'],\n",
       "       ['Go', 'Vete'],\n",
       "       ['Go', 'Vaya'],\n",
       "       ...,\n",
       "       ['Since there are usually multiple websites on any given topic I usually just click the back button when I arrive on any webpage that has popup advertising I just go to the next page found by Google and hope for something less irritating',\n",
       "        'Como suele haber varias páginas web sobre cualquier tema normalmente sólo le doy al botón de retroceso cuando entro en una página web que tiene anuncios en ventanas emergentes Simplemente voy a la siguiente página encontrada por Google y espero encontrar algo menos irritante'],\n",
       "       ['If you want to sound like a native speaker you must be willing to practice saying the same sentence over and over in the same way that banjo players practice the same phrase over and over until they can play it correctly and at the desired tempo',\n",
       "        'Si quieres sonar como un hablante nativo debes estar dispuesto a practicar diciendo la misma frase una y otra vez de la misma manera en que un músico de banjo practica el mismo fraseo una y otra vez hasta que lo puedan tocar correctamente y en el tiempo esperado'],\n",
       "       ['It may be impossible to get a completely errorfree corpus due to the nature of this kind of collaborative effort However if we encourage members to contribute sentences in their own languages rather than experiment in languages they are learning we might be able to minimize errors',\n",
       "        'Puede que sea imposible obtener un corpus completamente libre de errores debido a la naturaleza de este tipo de esfuerzo de colaboración Sin embargo si animamos a los miembros a contribuir frases en sus propios idiomas en lugar de experimentar con los idiomas que están aprendiendo podríamos ser capaces de minimizar los errores']],\n",
       "      dtype='<U332')"
      ]
     },
     "execution_count": 15,
     "metadata": {
      "tags": []
     },
     "output_type": "execute_result"
    }
   ],
   "source": [
    "spa_eng"
   ]
  },
  {
   "cell_type": "code",
   "execution_count": 0,
   "metadata": {
    "colab": {},
    "colab_type": "code",
    "id": "2yOOJ47SpVQl",
    "scrolled": true
   },
   "outputs": [],
   "source": [
    "# convert to lowercase\n",
    "for i in range(len(spa_eng)):\n",
    "    spa_eng[i,0] = spa_eng[i,0].lower()\n",
    "    \n",
    "    spa_eng[i,1] = spa_eng[i,1].lower()"
   ]
  },
  {
   "cell_type": "code",
   "execution_count": 17,
   "metadata": {
    "colab": {
     "base_uri": "https://localhost:8080/",
     "height": 232
    },
    "colab_type": "code",
    "id": "u5gxXllgpVQo",
    "outputId": "c78e3e63-930c-4f13-d076-6cecdec6b76c"
   },
   "outputs": [
    {
     "data": {
      "text/plain": [
       "array([['go', 've'],\n",
       "       ['go', 'vete'],\n",
       "       ['go', 'vaya'],\n",
       "       ...,\n",
       "       ['since there are usually multiple websites on any given topic i usually just click the back button when i arrive on any webpage that has popup advertising i just go to the next page found by google and hope for something less irritating',\n",
       "        'como suele haber varias páginas web sobre cualquier tema normalmente sólo le doy al botón de retroceso cuando entro en una página web que tiene anuncios en ventanas emergentes simplemente voy a la siguiente página encontrada por google y espero encontrar algo menos irritante'],\n",
       "       ['if you want to sound like a native speaker you must be willing to practice saying the same sentence over and over in the same way that banjo players practice the same phrase over and over until they can play it correctly and at the desired tempo',\n",
       "        'si quieres sonar como un hablante nativo debes estar dispuesto a practicar diciendo la misma frase una y otra vez de la misma manera en que un músico de banjo practica el mismo fraseo una y otra vez hasta que lo puedan tocar correctamente y en el tiempo esperado'],\n",
       "       ['it may be impossible to get a completely errorfree corpus due to the nature of this kind of collaborative effort however if we encourage members to contribute sentences in their own languages rather than experiment in languages they are learning we might be able to minimize errors',\n",
       "        'puede que sea imposible obtener un corpus completamente libre de errores debido a la naturaleza de este tipo de esfuerzo de colaboración sin embargo si animamos a los miembros a contribuir frases en sus propios idiomas en lugar de experimentar con los idiomas que están aprendiendo podríamos ser capaces de minimizar los errores']],\n",
       "      dtype='<U332')"
      ]
     },
     "execution_count": 17,
     "metadata": {
      "tags": []
     },
     "output_type": "execute_result"
    }
   ],
   "source": [
    "spa_eng"
   ]
  },
  {
   "cell_type": "markdown",
   "metadata": {
    "colab_type": "text",
    "id": "KK8unYSnpVQq"
   },
   "source": [
    "### Conversión del texto a secuencia\n",
    "\n",
    "Para meter como entrada el texto en un modelo Seq2Seq, primero se deben convertir tanto las oraciones de entrada como de salida a una longitud fija. Para ello, primero se visualiza la longitud máxima de las frases y se capturan todas las longitudes tanto para las frases en inglés como en español en dos listas distintas.\n"
   ]
  },
  {
   "cell_type": "code",
   "execution_count": 0,
   "metadata": {
    "colab": {},
    "colab_type": "code",
    "id": "E5OgWNN9pVQq"
   },
   "outputs": [],
   "source": [
    "# empty lists\n",
    "eng_l = []\n",
    "spa_l = []\n",
    "\n",
    "# populate the lists with sentence lengths\n",
    "for i in spa_eng[:,0]:\n",
    "    eng_l.append(len(i.split()))\n",
    "\n",
    "for i in spa_eng[:,1]:\n",
    "    spa_l.append(len(i.split()))"
   ]
  },
  {
   "cell_type": "code",
   "execution_count": 48,
   "metadata": {
    "colab": {
     "base_uri": "https://localhost:8080/",
     "height": 301
    },
    "colab_type": "code",
    "id": "oD5n1FEXpVQs",
    "outputId": "54635c66-1c50-430c-944c-56019b15786e"
   },
   "outputs": [
    {
     "name": "stdout",
     "output_type": "stream",
     "text": [
      "         eng  spa\n",
      "0          1    1\n",
      "1          1    1\n",
      "2          1    1\n",
      "3          1    1\n",
      "4          1    1\n",
      "...      ...  ...\n",
      "1106419   34   42\n",
      "1106420   34   35\n",
      "1106421   43   44\n",
      "1106422   47   49\n",
      "1106423   47   53\n",
      "\n",
      "[1106424 rows x 2 columns]\n",
      "47\n",
      "53\n"
     ]
    }
   ],
   "source": [
    "length_df = pd.DataFrame({'eng':eng_l, 'spa':spa_l})\n",
    "print(length_df)\n",
    "print(max(length_df.eng))\n",
    "print(max(length_df.spa))"
   ]
  },
  {
   "cell_type": "code",
   "execution_count": 20,
   "metadata": {
    "colab": {
     "base_uri": "https://localhost:8080/",
     "height": 281
    },
    "colab_type": "code",
    "id": "eZLS_EB2pVQu",
    "outputId": "4d1d1363-8708-4f53-aaa4-b62185db7260"
   },
   "outputs": [
    {
     "data": {
      "image/png": "[encoded data removed]",
      "text/plain": [
       "<Figure size 432x288 with 2 Axes>"
      ]
     },
     "metadata": {
      "needs_background": "light",
      "tags": []
     },
     "output_type": "display_data"
    }
   ],
   "source": [
    "length_df.hist(bins = 30)\n",
    "plt.show()"
   ]
  },
  {
   "cell_type": "markdown",
   "metadata": {
    "colab_type": "text",
    "id": "9dg1FoA3pVQy"
   },
   "source": [
    "La máxima longitud de las frasese en inglés es 47 y de las frases en español es 53."
   ]
  },
  {
   "cell_type": "markdown",
   "metadata": {
    "colab_type": "text",
    "id": "agTsK4NEpVQy"
   },
   "source": [
    "Se vectoriza el texto usando la clase de tokenizador de Keras, la cual convierte las frases en secuencias de enteros. Después algunas de esas frases se rellenan con ceros hasta alcanzar la longitud máxima, de tal forma que todas las frases posean la misma longitud.\n"
   ]
  },
  {
   "cell_type": "code",
   "execution_count": 0,
   "metadata": {
    "colab": {},
    "colab_type": "code",
    "id": "0pwt0-RbpVQz"
   },
   "outputs": [],
   "source": [
    "# function to build a tokenizer\n",
    "def tokenization(lines):\n",
    "    tokenizer = Tokenizer()\n",
    "    tokenizer.fit_on_texts(lines)\n",
    "    return tokenizer"
   ]
  },
  {
   "cell_type": "code",
   "execution_count": 50,
   "metadata": {
    "colab": {
     "base_uri": "https://localhost:8080/",
     "height": 35
    },
    "colab_type": "code",
    "id": "foZsGD3vpVQ1",
    "outputId": "a402ac7e-840b-4a7e-8975-ae4341e224fd"
   },
   "outputs": [
    {
     "name": "stdout",
     "output_type": "stream",
     "text": [
      "Tamaño del vocabulario inglés: 13731\n"
     ]
    }
   ],
   "source": [
    "# prepare english tokenizer\n",
    "eng_tokenizer = tokenization(spa_eng[:, 0])\n",
    "eng_vocab_size = len(eng_tokenizer.word_index) + 1\n",
    "\n",
    "eng_length = 8\n",
    "print('Tamaño del vocabulario inglés: %d' % eng_vocab_size)"
   ]
  },
  {
   "cell_type": "code",
   "execution_count": 51,
   "metadata": {
    "colab": {
     "base_uri": "https://localhost:8080/",
     "height": 35
    },
    "colab_type": "code",
    "id": "vym5twSHpVQ5",
    "outputId": "a9217152-5234-4058-ea39-2714c9a2f5b2"
   },
   "outputs": [
    {
     "name": "stdout",
     "output_type": "stream",
     "text": [
      "Tamaño del vocabulario español: 27431\n"
     ]
    }
   ],
   "source": [
    "# prepare spanish tokenizer\n",
    "spa_tokenizer = tokenization(spa_eng[:, 1])\n",
    "spa_vocab_size = len(spa_tokenizer.word_index) + 1\n",
    "\n",
    "spa_length = 8\n",
    "print('Tamaño del vocabulario español: %d' % spa_vocab_size)"
   ]
  },
  {
   "cell_type": "code",
   "execution_count": 24,
   "metadata": {
    "colab": {
     "base_uri": "https://localhost:8080/",
     "height": 55
    },
    "colab_type": "code",
    "id": "AMjS3ZOVpVQ7",
    "outputId": "a92967a5-3f14-4db8-e92c-3b3f8f80cb51"
   },
   "outputs": [
    {
     "name": "stdout",
     "output_type": "stream",
     "text": [
      "OrderedDict([('ve', 1832), ('vete', 312), ('vaya', 1360), ('váyase', 64), ('hola', 176), ('¡corre', 8), ('¡corran', 8), ('¡corra', 8), ('¡corred', 8), ('corred', 24), ('¿quién', 4856), ('¡órale', 80), ('¡fuego', 32), ('¡incendio', 8), ('¡disparad', 24), ('¡ayuda', 16), ('¡socorro', 8), ('¡auxilio', 16), ('¡salta', 8), ('salte', 24), ('¡parad', 8), ('¡para', 32), ('¡pare', 8), ('¡espera', 32), ('esperen', 96), ('continúa', 160), ('continúe', 64), ('corrí', 152), ('corría', 88), ('lo', 55368), ('intento', 272), ('¡he', 16), ('ganado', 304), ('¡oh', 72), ('no', 164504), ('tomátelo', 16), ('con', 39392), ('soda', 32), ('¡disparen', 8), ('¡dispara', 8), ('¡dispará', 8), ('¡dispare', 8), ('sonríe', 96), ('¡al', 24), ('ataque', 208), ('¡atacad', 8), ('¡ataque', 8), ('¡ataquen', 8), ('¡ataca', 8), ('levanta', 336), ('ahora', 8704), ('mismo', 4488), ('id', 56), ('vayan', 192), ('ya', 8496), ('¡lo', 80), ('tengo', 17032), ('¿lo', 672), ('pillas', 16), ('¿entendiste', 80), ('él', 55944), ('corrió', 456), ('métete', 32), ('adentro', 344), ('abrázame', 8), ('me', 65792), ('caí', 104), ('yo', 23176), ('sé', 9888), ('salí', 256), ('mentí', 96), ('perdí', 1032), ('dimito', 16), ('renuncié', 72), ('canté', 24), ('estoy', 20080), ('trabajando', 992), ('diecinueve', 24), ('levantado', 240), ('escucha', 464), ('escuche', 80), ('escuchen', 40), ('¡no', 960), ('puede', 10384), ('ser', 9744), ('de', 187096), ('ninguna', 1360), ('manera', 1448), ('¡de', 40), ('¡imposible', 8), ('ningún', 1712), ('modo', 400), ('eso', 19664), ('nada', 11480), ('¡ni', 16), ('cagando', 32), ('¡mangos', 8), ('¡minga', 8), ('en', 103320), ('pedo', 32), ('¿en', 864), ('serio', 736), ('¿la', 264), ('verdad', 5104), ('¡gracias', 32), ('gracias', 2176), ('pruébalo', 16), ('procuramos', 8), ('ganamos', 72), ('¿por', 9784), ('qué', 22816), ('pregúntale', 232), ('a', 165896), ('tom', 159288), ('mantente', 200), ('calma', 296), ('estate', 128), ('tranquilo', 232), ('justo', 1168), ('bueno', 2840), ('buena', 3352), ('sed', 296), ('buenas', 648), ('buenos', 704), ('sea', 2864), ('sean', 192), ('gentiles', 8), ('agradable', 552), ('pírate', 8), ('llamame', 32), ('llamadme', 16), ('llámame', 320), ('llámanos', 8), ('entre', 2088), ('pase', 704), ('¡entren', 8), ('ándale', 16), ('suéltalo', 16), ('agarra', 56), ('bájate', 24), ('sal', 832), ('salid', 48), ('salgan', 72), ('¡vete', 96), ('aquí', 16640), ('¡lárgate', 32), ('¡salga', 16), ('¡largo', 32), ('¡a', 48), ('la', 148760), ('calle', 1392), ('lárguese', 8), ('casa', 15928), ('despacio', 504), ('¡hasta', 48), ('luego', 576), ('hasta', 5080), ('vista', 1096), ('¡chau', 8), ('un', 83912), ('momento', 2680), ('¡un', 8), ('segundo', 496), ('fuertemente', 80), ('vino', 3072), ('renunció', 144), ('ayúdame', 232), ('échame', 24), ('una', 52472), ('mano', 2168), ('ayudame', 24), ('ayúdanos', 32), ('¡hola', 72), ('golpea', 40), ('espera', 1120), ('sostenlo', 16), ('sostenedlo', 8), ('sosténgalo', 8), ('sosténganlo', 8), ('sosténganla', 8), ('sosténgala', 8), ('sostenla', 8), ('sostenedla', 8), ('resista', 8), ('resiste', 16), ('abraza', 16), ('acuerdo', 2320), ('incliné', 16), ('he', 10768), ('mudado', 16), ('mudé', 40), ('trasladé', 16), ('trasladado', 16), ('dormí', 296), ('intenté', 432), ('iré', 736), ('soy', 7624), ('gordo', 320), ('gorda', 192), ('forma', 1288), ('afectado', 32), ('viejo', 1560), ('tímido', 280), ('mojada', 64), ('está', 39176), ('bien', 10976), ('únete', 8), ('nosotros', 4496), ('parte', 2136), ('nuestra', 2648), ('guárdalo', 16), ('también', 2472), ('abre', 392), ('¡perfecto', 8), ('empújala', 8), ('empújalo', 8), ('empújadlo', 8), ('empújadla', 8), ('empújelo', 8), ('empújela', 8), ('empújenlo', 8), ('empújenla', 8), ('nos', 9832), ('vemos', 320), ('muéstramelo', 8), ('enséñamelo', 16), ('mostrame', 56), ('¡cierra', 32), ('boca', 824), ('¡cerrá', 8), ('el', 128584), ('pico', 56), ('sáltatelo', 8), ('páralo', 16), ('detenlo', 8), ('cógelo', 24), ('decime', 48), ('comió', 920), ('ganó', 520), ('espérame', 16), ('despierto', 512), ('¡despierta', 16), ('¡despiértate', 8), ('¡despertate', 8), ('despierta', 184), ('lávate', 112), ('las', 30232), ('manos', 1312), ('preocupamos', 16), ('sabemos', 592), ('perdimos', 160), ('bienvenidos', 64), ('bienvenidas', 32), ('ha', 12288), ('corre', 312), ('has', 4232), ('¿estoy', 160), ('preguntales', 8), ('pregúntales', 8), ('aparta', 16), ('apártate', 16), ('hombre', 4968), ('fuerte', 1896), ('breve', 248), ('breves', 24), ('quieto', 176), ('te', 29896), ('muevas', 80), ('¡llamalo', 16), ('tomás', 7944), ('¡llámalo', 16), ('¡llámenlo', 16), ('anímate', 8), ('venga', 912), ('¡cálmate', 8), ('espósale', 8), ('vayas', 832), ('encontralo', 8), ('encuéntralo', 16), ('encuéntrelo', 8), ('encuéntrenlo', 8), ('encuentre', 120), ('encuentren', 24), ('arregla', 24), ('esto', 13440), ('ponte', 208), ('ello', 952), ('abajo', 552), ('túmbate', 40), ('¡piérdete', 8), ('esfúmate', 8), ('¡piénsalo', 8), ('los', 41096), ('ojos', 1664), ('adelante', 528), ('entra', 232), ('entren', 32), ('entrá', 16), ('entrad', 8), ('¿subes', 8), ('¡buen', 56), ('trabajo', 8912), ('sujeta', 40), ('agárralo', 8), ('diviértanse', 16), ('pásala', 32), ('pásenla', 32), ('habló', 680), ('intenta', 352), ('prueba', 624), ('ayuda', 3528), ('¿qué', 14560), ('hay', 11344), ('ey', 16), ('chavales', 24), ('pasa', 1536), ('troncos', 8), ('tal', 1584), ('os', 1544), ('va', 6632), ('por', 48680), ('¡qué', 1600), ('encanto', 24), ('tan', 11840), ('profundo', 248), ('¿cómo', 5184), ('hazme', 80), ('favor', 11904), ('compláceme', 8), ('¡date', 40), ('prisa', 672), ('apresúrate', 72), ('apúrese', 8), ('convine', 8), ('acepté', 40), ('accedí', 16), ('comí', 536), ('puedo', 11624), ('ir', 11584), ('hice', 2232), ('fracasé', 16), ('olvidé', 552), ('arreglo', 56), ('entiendo', 1240), ('salté', 16), ('llamé', 312), ('teléfono', 2504), ('niego', 80), ('renuncio', 16), ('senté', 160), ('vi', 2880), ('suspiré', 8), ('sonreí', 16), ('quedé', 736), ('hablé', 304), ('hablaba', 272), ('charlé', 8), ('charlaba', 8), ('uso', 352), ('esperé', 216), ('pagaré', 152), ('vuelto', 512), ('vuelta', 1232), ('calvo', 192), ('calmado', 56), ('terminado', 1168), ('bastante', 2288), ('facilón', 8), ('perfectamente', 288), ('¡soy', 32), ('libre', 1280), ('lleno', 744), ('llena', 544), ('llené', 16), ('herido', 576), ('llego', 184), ('tarde', 6544), ('vago', 192), ('perdida', 64), ('malo', 1248), ('toca', 584), ('mí', 5536), ('pobre', 640), ('rica', 424), ('rico', 1160), ('salvo', 384), ('enferma', 520), ('delgado', 136), ('limpio', 256), ('calentito', 24), ('débil', 248), ('listo', 1376), ('gané', 104), ('duele', 768), ('funciona', 728), ('es', 100248), ('divertido', 896), ('suyo', 376), ('nuevo', 4936), ('extraño', 1176), ('rojo', 768), ('triste', 760), ('prohibido', 288), ('pasar', 2016), ('entrar', 1216), ('besá', 8), ('besa', 40), ('besen', 16), ('déjalo', 176), ('déjame', 1168), ('déjanos', 88), ('vamos', 2360), ('cuidado', 1336), ('cásate', 8), ('conmigo', 3160), ('¿puedo', 3120), ('salva', 16), ('ella', 35960), ('murió', 2256), ('¡sentate', 8), ('siéntate', 184), ('sentate', 88), ('¡hable', 8), ('más', 28960), ('habla', 2824), ('¡habla', 16), ('alto', 1928), ('prepárate', 56), ('¡parate', 8), ('pie', 1088), ('detén', 64), ('llévate', 88), ('díselo', 32), ('¡genial', 8), ('ellos', 9840), ('ganaron', 64), ('muerto', 984), ('se', 62616), ('cayó', 1000), ('sabía', 4112), ('tenía', 5808), ('constancia', 8), ('fue', 16360), ('mintió', 264), ('miente', 136), ('perdió', 1400), ('pagó', 296), ('nadó', 32), ('lloró', 288), ('demasiado', 6320), ('confía', 184), ('inténtalo', 112), ('veras', 184), ('poco', 7432), ('pruebe', 24), ('prueben', 40), ('probá', 32), ('usa', 592), ('avísale', 16), ('avísele', 8), ('avísenle', 8), ('avisale', 8), ('mírame', 32), ('vigílame', 8), ('obsérvame', 8), ('obsérvalos', 8), ('obsérvanos', 16), ('estamos', 4048), ('intentamos', 56), ('iremos', 312), ('¿para', 608), ('calló', 16), ('ido', 1608), ('dejado', 712), ('escríbeme', 88), ('perdiste', 112), ('perdido', 1488), ('perdisteis', 16), ('habéis', 320), ('usted', 5744), ('perdieron', 176), ('ustedes', 2320), ('han', 2328), ('después', 3888), ('ti', 4280), ('tú', 6768), ('primero', 1168), ('vosotras', 440), ('apunta', 72), ('respóndeme', 32), ('respondedme', 8), ('respóndanme', 8), ('pájaros', 496), ('vuelan', 64), ('jesús', 80), ('¡llama', 48), ('cálmate', 40), ('tranquilízate', 32), ('paz', 552), ('bajá', 16), ('cambio', 552), ('¿podemos', 488), ('irnos', 264), ('marcharnos', 16), ('¡atrápelo', 8), ('captúralo', 8), ('captúrenlo', 8), ('atrápenlo', 8), ('atrápalo', 8), ('vuelve', 648), ('vení', 72), ('ven', 1256), ('venid', 184), ('vente', 40), ('veníos', 24), ('pronto', 3544), ('¿yo', 80), ('¿gané', 8), ('hazlo', 408), ('perros', 1256), ('ladran', 16), ('preguntes', 96), ('llores', 128), ('llorés', 32), ('lloren', 16), ('lloréis', 8), ('llore', 8), ('mueras', 80), ('mintáis', 8), ('corras', 24), ('¡fantástico', 8), ('¡es', 96), ('estupendo', 224), ('tienta', 8), ('tiente', 8), ('tienten', 8), ('tentad', 8), ('tentá', 8), ('sígueme', 40), ('seguidme', 8), ('síguenos', 16), ('olvídame', 8), ('olvídate', 32), ('olvídenme', 8), ('olvídense', 8), ('preparaos', 24), ('cogerlo', 48), ('cama', 2712), ('coge', 256), ('alguno', 216), ('toma', 864), ('algo', 13512), ('tome', 232), ('anciano', 672), ('afeitó', 40), ('sonrió', 472), ('dj', 24), ('veloz', 96), ('acá', 1232), ('sostén', 64), ('horror', 32), ('raro', 488), ('divierte', 24), ('ocupada', 808), ('ruego', 56), ('suplico', 16), ('eructé', 8), ('volar', 296), ('correr', 712), ('esquiar', 288), ('sentí', 584), ('vergüenza', 224), ('exhalé', 8), ('consciencia', 64), ('inconsciente', 136), ('dejé', 624), ('rendí', 24), ('tiré', 32), ('toalla', 232), ('cedí', 40), ('pillo', 40), ('dieron', 320), ('alcanzaron', 40), ('odio', 1272), ('seca', 136), ('baja', 392), ('golpeo', 8), ('espero', 2640), ('reí', 48), ('gusta', 12240), ('adoro', 208), ('encanta', 1288), ('hablo', 664), ('digo', 480), ('echo', 216), ('falta', 1168), ('menos', 3488), ('añoro', 16), ('necesito', 4920), ('le', 36112), ('uno', 3896), ('veía', 544), ('visto', 3264), ('veo', 1528), ('tropecé', 24), ('cocinaré', 16), ('guisaré', 8), ('viviré', 40), ('cantaré', 24), ('pararé', 8), ('dejaré', 312), ('esperaré', 184), ('aguardaré', 8), ('caminaré', 8), ('andaré', 8), ('voy', 7288), ('trabajar', 2408), ('pro', 8), ('solo', 9440), ('sola', 1736), ('enojado', 504), ('enojada', 192), ('ciega', 112), ('sin', 5376), ('dinero', 8560), ('quebrado', 48), ('blanca', 368), ('loco', 928), ('borracho', 624), ('tomada', 32), ('prendida', 16), ('muriendo', 160), ('feliz', 3600), ('amado', 48), ('amada', 16), ('obeso', 16), ('¡estoy', 72), ('siento', 2584), ('cansado', 1896), ('cansada', 456), ('tuyo', 568), ('tuya', 416), ('ólvidalo', 8), ('hagas', 1208), ('caso', 1040), ('¿está', 1248), ('¿es', 2488), ('grave', 248), ('lejos', 1456), ('¿eres', 728), ('quemó', 152), ('consiguió', 432), ('falló', 96), ('fracasó', 80), ('llovió', 272), ('nevó', 104), ('apesta', 48), ('funcionó', 144), ('son', 11648), ('830', 24), ('televisor', 336), ('hace', 7224), ('frío', 1792), ('fresco', 352), ('oscuro', 448), ('¡está', 32), ('perfecto', 576), ('mío', 1368), ('mía', 904), ('buen', 4152), ('tiempo', 12712), ('vale', 848), ('nuestro', 3064), ('terminó', 864), ('acabó', 376), ('llegado', 664), ('hora', 5464), ('mi', 39832), ('guárdalos', 8), ('quédatelos', 8), ('guárdenselos', 8), ('guarda', 136), ('guarde', 16), ('guardá', 8), ('guardad', 8), ('guarden', 32), ('caliente', 704), ('manténgase', 56), ('mantenete', 24), ('abrigado', 24), ('manténganse', 24), ('calientes', 32), ('abrigados', 8), ('dejalo', 24), ('déjelo', 48), ('márchate', 16), ('lárgate', 16), ('¡déjame', 64), ('marchar', 48), ('¡suéltame', 16), ('¡déjeme', 16), ('déjeme', 80), ('comamos', 136), ('veamos', 280), ('¡intentémoslo', 8), ('silencio', 528), ('suelo', 856), ('escuchá', 56), ('mirá', 120), ('para', 32776), ('otro', 3424), ('lado', 1936), ('mira', 888), ('mire', 128), ('miren', 64), ('¡mira', 64), ('hacia', 1680), ('atrás', 800), ('mirad', 64), ('aflójalo', 8), ('suéltala', 8), ('aflójala', 8), ('hazte', 48), ('deja', 1560), ('sitio', 1008), ('mueve', 80), ('culo', 16), ('tiro', 112), ('¡por', 80), ('supuesto', 256), ('discreción', 8), ('¿perdona', 8), ('póntelo', 8), ('póngaselo', 8), ('ponéoslo', 8), ('pónganselo', 8), ('lee', 432), ('lea', 176), ('lean', 24), ('leed', 16), ('decí', 48), ('que', 178552), ('registren', 8), ('véase', 16), ('arriba', 344), ('¡cogedlo', 8), ('¡arrestadlo', 8), ('¡prendedlo', 8), ('¡capturadlo', 8), ('intentó', 776), ('probó', 96), ('anda', 384), ('camina', 160), ('candente', 8), ('como', 14944), ('tren', 2912), ('pan', 816), ('y', 29872), ('moja', 8), ('cruje', 8), ('firme', 160), ('firma', 104), ('firmen', 16), ('firmá', 8), ('firmad', 16), ('quédate', 336), ('ahí', 3272), ('fuera', 3688), ('aléjate', 48), ('mantén', 200), ('mantené', 32), ('quedate', 56), ('da', 1552), ('paso', 552), ('párate', 56), ('detente', 56), ('deténgase', 8), ('deténganse', 8), ('paraos', 8), ('parad', 8), ('detenlos', 8), ('párales', 8), ('¡cuidate', 8), ('¡te', 72), ('cuidas', 8), ('cuídate', 48), ('cuidaos', 16), ('asume', 8), ('mando', 240), ('control', 304), ('encárgate', 24), ('tomen', 40), ('tomá', 40), ('ese', 7704), ('¿entonces', 72), ('cayeron', 80), ('fueron', 1680), ('marcharon', 32), ('iban', 192), ('inclinó', 200), ('preocupó', 24), ('preocupaba', 24), ('importaba', 112), ('preocupa', 240), ('importa', 1728), ('dormitó', 8), ('condujo', 184), ('dentro', 1056), ('teje', 8), ('sabe', 6256), ('mudó', 144), ('movió', 88), ('mece', 8), ('quedó', 1408), ('juró', 32), ('votó', 72), ('saludó', 152), ('trabaja', 1096), ('irá', 352), ('intentadlo', 8), ('otra', 4072), ('vez', 10736), ('pruébatelo', 16), ('aguarda', 48), ('esperad', 88), ('vigila', 64), ('¡abusado', 8), ('podemos', 1976), ('fallamos', 8), ('hemos', 1752), ('fallado', 64), ('olvidamos', 40), ('vimos', 616), ('veíamos', 48), ('conversamos', 56), ('esperamos', 272), ('veremos', 88), ('intentaremos', 24), ('¡hemos', 8), ('hecho', 4592), ('¿a', 3104), ('quién', 3920), ('conducía', 64), ('aabe', 8), ('escribe', 568), ('maneja', 152), ('¡pedazo', 8), ('idiota', 480), ('empieza', 624), ('intentaste', 32), ('estás', 6576), ('apuntad', 8), ('¡todos', 16), ('bordo', 168), ('¿tengo', 168), ('razón', 2016), ('¿me', 2712), ('equivoco', 48), ('equivocada', 280), ('¡respóndale', 8), ('¡respondele', 8), ('¡respóndanle', 8), ('¿tienes', 2224), ('dieciocho', 160), ('¿has', 1832), ('cumplido', 112), ('¿estás', 2480), ('¿te', 4496), ('apuntas', 8), ('cualquiera', 504), ('preguntadle', 16), ('pregúntele', 24), ('pregúntenle', 8), ('pregunta', 2104), ('alrededores', 64), ('¡ten', 32), ('¡sé', 24), ('cuidadoso', 312), ('contento', 744), ('llega', 584), ('llegue', 584), ('paciente', 704), ('cantan', 40), ('están', 7744), ('cantando', 344), ('traed', 24), ('comida', 3256), ('trae', 256), ('venir', 2248), ('acercarme', 40), ('ayudar', 2248), ('quedar', 672), ('lleva', 1752), ('comprobad', 8), ('comprueba', 48), ('escoge', 24), ('vénganse', 16), ('temprano', 2176), ('vengan', 128), ('¡pásale', 8), ('¡pásele', 8), ('¡pásenle', 8), ('¡ven', 24), ('rápido', 2480), ('¡vení', 8), ('¡ya', 16), ('párale', 8), ('¿fue', 72), ('¿los', 128), ('hombres', 1320), ('lloran', 40), ('vengas', 280), ('saltéis', 8), ('miréis', 16), ('mováis', 8), ('mueva', 40), ('muevan', 16), ('cantes', 56), ('canten', 8), ('pares', 112), ('hables', 384), ('esperes', 104), ('grites', 80), ('chilles', 24), ('chilléis', 8), ('chille', 8), ('chillen', 8), ('come', 984), ('¡comé', 8), ('¡enfréntate', 8), ('hechos', 408), ('¡enfrentaos', 8), ('¡enfréntese', 8), ('¡enfréntense', 8), ('fuego', 1032), ('quema', 96), ('seguilo', 8), ('síguelo', 24), ('sígalo', 8), ('síganlo', 8), ('síguele', 8), ('olvidate', 8), ('olvídese', 8), ('olvídenlo', 8), ('perdónanos', 8), ('perdónenos', 8), ('consíguete', 16), ('vida', 4816), ('ver', 6552), ('andá', 104), ('dios', 624), ('existe', 192), ('ten', 440), ('fe', 176), ('tened', 16), ('tengan', 160), ('confíen', 8), ('salió', 1504), ('comer', 4896), ('tosió', 32), ('tosía', 8), ('rindió', 48), ('dejó', 2440), ('cedió', 176), ('tiró', 216), ('descolgó', 8), ('cogió', 408), ('¡él', 56), ('gentil', 88), ('amable', 728), ('generoso', 72), ('mezquino', 16), ('reía', 32), ('hizo', 6056), ('logró', 144), ('arruinado', 64), ('cruel', 216), ('mintiendo', 528), ('inteligente', 936), ('¡helo', 8), ('¡aquí', 32), ('hey', 72), ('aburrimiento', 72), ('bonito', 384), ('¡encantador', 8), ('preciosidad', 16), ('trágico', 8), ('van', 1152), ('cosas', 3904), ('admito', 64), ('persona', 3056), ('aburrida', 144), ('humano', 176), ('fisurado', 16), ('rompí', 88), ('saltar', 168), ('leer', 2576), ('cantar', 1064), ('nadar', 2176), ('solté', 32), ('risita', 40), ('dudo', 384), ('carne', 880), ('envidio', 64), ('mal', 3104), ('sentía', 632), ('encontré', 1336), ('puse', 304), ('enfermo', 1256), ('imagino', 208), ('sí', 2200), ('supongo', 784), ('detesto', 264), ('oigo', 144), ('ayudo', 40), ('conocí', 512), ('conozco', 1928), ('les', 3456), ('agrada', 360), ('arte', 344), ('té', 1136), ('agradas', 24), ('gustó', 512), ('amo', 720), ('quiero', 17192), ('encantó', 56), ('hielo', 464), ('objeté', 8), ('prometí', 104), ('fui', 2472), ('corriendo', 744), ('apresuré', 32), ('recuerdo', 1184), ('dije', 2232), ('decía', 232), ('sentaba', 16), ('grité', 32), ('disparé', 40), ('sobreviví', 16), ('creo', 9264), ('vomité', 32), ('dicho', 1976), ('utilizo', 8), ('¡quiero', 64), ('último', 880), ('era', 11200), ('llegué', 808), ('estaba', 17264), ('hago', 704), ('ejercicio', 416), ('escribí', 312), ('compraría', 96), ('estaré', 1048), ('haré', 1216), ('entraré', 8), ('héroe', 248), ('mentiroso', 304), ('gemelo', 96), ('mejor', 6976), ('agotado', 232), ('comprando', 88), ('torpe', 48), ('comiendo', 688), ('codicioso', 16), ('escondido', 176), ('hambre', 1272), ('pica', 72), ('bagre', 24), ('inmune', 40), ('moviendo', 32), ('mudaré', 8), ('normal', 496), ('asustado', 288), ('soltero', 232), ('soltera', 120), ('flacucho', 8), ('¡tengo', 40), ('sueño', 1592), ('intentando', 832), ('esforzando', 16), ('doce', 336), ('años', 6480), ('comido', 792), ('ignora', 48), ('grande', 2608), ('¿tom', 1000), ('¿tiene', 688), ('calor', 1232), ('gratis', 360), ('¿aquí', 32), ('¿esto', 288), ('real', 272), ('seguro', 3528), ('¿vale', 120), ('¿eso', 344), ('todo', 13688), ('¿acaso', 632), ('así', 4488), ('este', 18800), ('vivo', 1200), ('vacío', 208), ('grandioso', 16), ('verde', 520), ('magia', 120), ('cd', 224), ('noche', 5744), ('anochecido', 16), ('correcto', 672), ('blanco', 968), ('viento', 416), ('sólo', 3152), ('¡continúa', 8), ('¡continúe', 8), ('apuntes', 96), ('tomad', 32), ('notas', 200), ('¡quédate', 24), ('¡guarden', 8), ('quietos', 16), ('abandona', 48), ('ciudad', 3088), ('dejar', 2176), ('¡déjale', 8), ('irse', 744), ('déjenlo', 16), ('dejadlo', 16), ('salir', 2760), ('¡dejadme', 24), ('pague', 64), ('charlemos', 8), ('charlar', 144), ('besémonos', 8), ('juguemos', 160), ('oremos', 8), ('recemos', 32), ('desistamos', 8), ('renunciemos', 8), ('cantemos', 48), ('nademos', 8), ('conversemos', 24), ('votemos', 16), ('caminemos', 24), ('trabajemos', 40), ('levántalo', 8), ('míralo', 32), ('obsérvalo', 8), ('contémplalo', 8), ('míranos', 8), ('búscalo', 32), ('búsquenlo', 8), ('allí', 3768), ('amor', 1088), ('dura', 248), ('mamá', 832), ('comentarios', 168), ('problema', 4504), ('¡sin', 8), ('problemas', 2552), ('nadie', 7264), ('siéntese', 72), ('sentaos', 40), ('voz', 800), ('reemplazadlo', 8), ('di', 1144), ('patata', 16), ('decid', 24), ('güisqui', 32), ('sonría', 8), ('vieja', 504), ('guapa', 536), ('canta', 288), ('huele', 360), ('olé', 8), ('huelan', 8), ('oled', 8), ('huela', 8), ('¡retrocede', 8), ('alerta', 96), ('consciente', 384), ('duermas', 48), ('cerca', 2512), ('alejes', 8), ('vera', 8), ('¡más', 8), ('dejá', 128), ('mentir', 216), ('bolacear', 8), ('estudia', 344), ('harto', 288), ('estudiá', 8), ('bus', 912), ('llevate', 24), ('estos', 2088), ('¡háblame', 8), ('¡hablad', 8), ('¡ése', 8), ('chico', 1552), ('valdrá', 32), ('sirve', 184), ('ése', 336), ('ésa', 280), ('pertenece', 432), ('mojado', 80), ('engañaron', 24), ('hicieron', 680), ('trampas', 112), ('quedaron', 272), ('mantuvieron', 48), ('intentaron', 64), ('votaron', 112), ('ellas', 920), ('apuntan', 16), ('fin', 1624), ('éste', 752), ('basta', 104), ('vuela', 40), ('convino', 8), ('aquiescente', 8), ('estuvo', 1880), ('mordió', 176), ('eructó', 8), ('llamó', 872), ('trampa', 432), ('bailó', 40), ('baila', 64), ('bebe', 584), ('conduce', 288), ('reprobó', 48), ('olvidó', 752), ('peleó', 24), ('luchó', 48), ('soltó', 88), ('grito', 104), ('ahogado', 40), ('aliento', 168), ('dio', 3352), ('metió', 280), ('pata', 24), ('levantó', 544), ('ayudó', 696), ('golpeó', 448), ('salido', 368), ('saltó', 280), ('miró', 920), ('gimió', 16), ('asintió', 120), ('obedeció', 16), ('detuvo', 296), ('telefoneó', 40), ('rezó', 32), ('rezaba', 8), ('vio', 1792), ('rasuró', 8), ('suspiró', 24), ('ronca', 24), ('charló', 24), ('esperó', 288), ('caminó', 152), ('guiño', 40), ('lanzó', 136), ('guiñó', 24), ('ojo', 528), ('trabajó', 360), ('bostezó', 8), ('gritó', 288), ('llorará', 8), ('morirá', 32), ('pagará', 96), ('ocupado', 2088), ('sordo', 152), ('marchado', 48), ('disparado', 64), ('feo', 152), ('enciéndelo', 24), ('gira', 168), ('derecha', 376), ('¿era', 72), ('somos', 1560), ('compramos', 104), ('cedés', 8), ('pagar', 1152), ('intentarlo', 232), ('probarlo', 112), ('probar', 320), ('ganar', 936), ('divertimos', 96), ('pasamos', 360), ('reímos', 56), ('hicimos', 448), ('debemos', 1072), ('queremos', 1248), ('haremos', 208), ('fracasaremos', 8), ('ayudaremos', 40), ('echaremos', 16), ('cantaremos', 8), ('esperaremos', 48), ('nosotras', 408), ('caminar', 984), ('trabajaremos', 24), ('regresado', 32), ('ocupados', 392), ('tenemos', 4520), ('terminamos', 104), ('perdidos', 40), ('pobres', 168), ('ricos', 192), ('ricas', 80), ('hartos', 48), ('débiles', 56), ('¡pero', 80), ('día', 7504), ('cuentas', 160), ('¿dónde', 4824), ('dónde', 3864), ('madera', 424), ('arde', 32), ('¿llamaste', 32), ('puedes', 5336), ('irte', 432), ('marcharte', 64), ('decides', 56), ('podéis', 472), ('iros', 16), ('pueden', 1648), ('marcharos', 8), ('marcharse', 32), ('podés', 456), ('fallaste', 16), ('verás', 96), ('veréis', 8), ('eres', 5672), ('mala', 1008), ('¡has', 8), ('¿hay', 1544), ('alguien', 4288), ('¿alguien', 512), ('¿hemos', 16), ('¿tú', 696), ('¿tenéis', 144), ('enfadado', 592), ('loca', 224), ('nueva', 2200), ('creativos', 24), ('discreto', 24), ('discretos', 8), ('clemente', 8), ('¡prepárate', 16), ('preparado', 488), ('estad', 16), ('preparados', 64), ('puntual', 224), ('puntuales', 8), ('razonable', 224), ('razonables', 24), ('específico', 16), ('específica', 24), ('especifica', 8), ('exhaustivo', 16), ('tolerante', 40), ('vigilante', 16), ('atento', 128), ('cerveza', 1120), ('comenzar', 328), ('¿puede', 824), ('esperar', 1712), ('hablar', 7856), ('conversar', 224), ('¿puedes', 2360), ('¿podéis', 144), ('compruébalo', 8), ('revísalo', 8), ('sube', 120), ('acercate', 8), ('verme', 672), ('consuela', 8), ('contacto', 520), ('cocíname', 8), ('cocina', 1072), ('cuenta', 2712), ('cuente', 112), ('¿ha', 352), ('¿ganaste', 32), ('haz', 792), ('¡hacedlo', 8), ('ahorita', 64), ('al', 26792), ('ratito', 48), ('¿juegas', 64), ('boliche', 24), ('discutáis', 24), ('copiéis', 8), ('hagáis', 64), ('hagan', 288), ('haga', 1664), ('peleéis', 8), ('entres', 72), ('rías', 56), ('dispares', 24), ('dispare', 16), ('disparéis', 8), ('sonrías', 8), ('sonrían', 8), ('fumes', 48), ('fuméis', 16), ('preocupes', 384), ('preocupéis', 32), ('preocupen', 32), ('termine', 120), ('termina', 216), ('terminá', 8), ('terminen', 16), ('terminad', 8), ('lanza', 48), ('moneda', 160), ('tira', 80), ('aire', 880), ('vístete', 24), ('vestite', 8), ('¡entra', 8), ('¡ponte', 16), ('encontrar', 2016), ('buscar', 424), ('descúbrelo', 16), ('pedir', 576), ('delante', 368), ('recto', 72), ('dormir', 2080), ('¡váyanse', 8), ('¡ve', 32), ('asiento', 680), ('vistazo', 304), ('encontró', 1032), ('escapó', 184), ('envejeció', 8), ('¡ha', 8), ('venido', 784), ('tiene', 18216), ('agallas', 32), ('ocho', 688), ('odiado', 48), ('guarro', 32), ('asqueroso', 80), ('grima', 16), ('joven', 2336), ('gusto', 376), ('quiere', 6960), ('pajero', 8), ('fingiendo', 24), ('estúpido', 896), ('agua', 3352), ('tanque', 56), ('salame', 16), ('écheme', 8), ('vengo', 184), ('curioso', 56), ('cocinero', 160), ('monje', 8), ('encuentro', 408), ('quedando', 216), ('dormido', 920), ('jodiendo', 48), ('leseando', 8), ('pido', 192), ('disculpas', 264), ('pregunté', 376), ('culpo', 120), ('comprado', 696), ('compré', 1544), ('lugar', 2648), ('última', 1896), ('hacerlo', 4136), ('compartir', 200), ('decir', 4616), ('confesé', 16), ('lloro', 72), ('mucho', 10800), ('fruta', 432), ('noto', 16), ('enfadé', 8), ('emborraché', 16), ('tuve', 1816), ('gatos', 1040), ('leche', 1472), ('ratas', 104), ('arena', 376), ('odiaba', 136), ('odié', 8), ('trescientos', 120), ('dólares', 1464), ('gota', 72), ('traigo', 104), ('noticias', 760), ('escucho', 192), ('oí', 888), ('oído', 1464), ('contraté', 16), ('gustan', 2400), ('dos', 8688), ('encantan', 384), ('jazz', 168), ('arroz', 504), ('rock', 208), ('nieve', 1144), ('amaba', 432), ('pescado', 704), ('golf', 552), ('niños', 3720), ('chicos', 832), ('matemáticas', 600), ('música', 1848), ('sopa', 600), ('quería', 6360), ('quise', 584), ('refiero', 56), ('extrañaba', 24), ('debo', 1648), ('esconderme', 40), ('efectivo', 240), ('metálico', 32), ('¡necesito', 8), ('necesité', 64), ('nunca', 9464), ('gano', 80), ('frecuencia', 480), ('pago', 144), ('impuestos', 232), ('leo', 224), ('labios', 144), ('pararas', 24), ('detuvieras', 8), ('ovni', 96), ('perro', 5096), ('vendo', 40), ('autos', 304), ('debería', 3984), ('huelo', 88), ('gas', 264), ('agradezco', 176), ('confío', 304), ('voté', 40), ('aburrido', 472), ('mareado', 112), ('mareada', 16), ('despedido', 232), ('despidieron', 88), ('suerte', 1240), ('ingenuo', 280), ('desnudo', 176), ('equivocado', 1088), ('preguntaré', 96), ('preguntaría', 40), ('cambiaré', 72), ('probaré', 32), ('17', 48), ('panadero', 8), ('perdedor', 40), ('perdedora', 8), ('mujer', 2424), ('desconcertado', 88), ('cocinando', 192), ('curiosidad', 240), ('bailando', 160), ('comprometida', 32), ('emocionado', 168), ('emocionada', 64), ('ayunando', 8), ('quisquilloso', 40), ('fraile', 8), ('saludable', 256), ('cárcel', 376), ('enamorada', 192), ('nervioso', 488), ('inquieto', 96), ('casado', 808), ('casada', 400), ('neutral', 24), ('tímida', 96), ('mentalizado', 24), ('leyendo', 952), ('descansando', 24), ('egoísta', 136), ('¡me', 176), ('muero', 136), ('atrapado', 304), ('esperando', 1704), ('preocupada', 240), ('ignoralos', 8), ('acabado', 360), ('¿se', 624), ('encuentra', 376), ('acertado', 16), ('cierto', 1344), ('dice', 2832), ('limpia', 280), ('llevar', 880), ('ventoso', 32), ('vuestro', 520), ('¿ella', 216), ('simpática', 32), ('costó', 424), ('30', 336), ('pasó', 2616), ('sucedió', 464), ('invito', 16), ('llueva', 320), ('podría', 3008), ('nevar', 240), ('posible', 1224), ('salvó', 216), ('chido', 8), ('chilo', 8), ('padre', 6200), ('fácil', 2120), ('50', 184), ('yenes', 424), ('lunes', 2592), ('muñeca', 320), ('pez', 328), ('arpa', 32), ('harpa', 24), ('broma', 392), ('quilombo', 40), ('normativa', 8), ('canción', 1552), ('vicio', 16), ('roto', 480), ('estropeado', 80), ('rota', 232), ('fresquito', 8), ('biruji', 8), ('veas', 144), ('nublado', 104), ('inútil', 248), ('secreto', 1216), ('simple', 368), ('sigue', 968), ('moviéndote', 16), ('ayudarte', 864), ('házmelo', 32), ('saber', 3632), ('vivir', 2280), ('¡empecemos', 24), ('comencemos', 112), ('bailemos', 32), ('¡hagámoslo', 8), ('hagámoslo', 112), ('entremos', 48), ('apurémonos', 40), ('vayámonos', 64), ('¡vamos', 56), ('guateque', 8), ('festejemos', 8), ('relajémonos', 16), ('divertida', 168), ('desde', 3256), ('busca', 152), ('lista', 1152), ('pide', 144), ('deseo', 544), ('¡muchas', 8), ('memórizalo', 8), ('memórizala', 8), ('mundo', 3864), ('poderoso', 72), ('caballero', 320), ('don', 48), ('llegas', 168), ('significa', 736), ('ninguno', 720), ('acudió', 32), ('prosigue', 24), ('callate', 40), ('azul', 576), ('quédense', 72), ('quédese', 80), ('bájalo', 16), ('póngase', 80), ('libérale', 8), ('recuérdalo', 8), ('responded', 8), ('sus', 8976), ('disparos', 64), ('adiós', 232), ('digas', 848), ('mándalo', 16), ('mándelo', 16), ('mándenlo', 16), ('mandalo', 16), ('¿nos', 232), ('pegó', 344), ('muerta', 144), ('despertó', 216), ('zorra', 8), ('¿debería', 152), ('muéstrame', 160), ('cómo', 3928), ('háblame', 80), ('¡dejad', 16), ('haciéndolo', 96), ('llorar', 952), ('¡quieto', 8), ('moverte', 8), ('¡alto', 16), ('¡ladrón', 8), ('saque', 64), ('carta', 2728), ('saca', 120), ('echa', 160), ('ojeada', 56), ('descansad', 16), ('repósate', 8), ('actúa', 104), ('coche', 4600), ('tontería', 104), ('enorme', 328), ('esa', 6832), ('pasado', 3848), ('ésos', 120), ('televisión', 2016), ('encendida', 88), ('¡allá', 8), ('quemaron', 40), ('llamaron', 120), ('bailaron', 24), ('lograron', 48), ('abrazaron', 32), ('besaron', 72), ('quizá', 544), ('obedecieron', 16), ('vieron', 224), ('veían', 64), ('sonrieron', 88), ('esperaron', 64), ('caminaron', 40), ('pasearon', 8), ('gritaron', 48), ('malos', 160), ('nuevos', 504), ('nuevas', 288), ('viejos', 312), ('mayores', 304), ('ancianos', 128), ('piensa', 1112), ('piénsalo', 48), ('ésta', 552), ('suya', 256), ('ésto', 8), ('mierda', 24), ('llegó', 1848), ('sonrojó', 32), ('cambió', 368), ('varió', 8), ('vitoreó', 32), ('aplaudió', 88), ('tuvo', 2416), ('accidente', 2160), ('estrelló', 56), ('decidió', 1112), ('ahogó', 72), ('espiró', 8), ('desmayó', 128), ('regodeó', 8), ('gruñó', 40), ('doc', 8), ('inhaló', 8), ('pelón', 8), ('malvado', 56), ('satisfecho', 408), ('perezoso', 96), ('ordenado', 48), ('arrodilló', 32), ('rio', 120), ('adelantado', 184), ('pagaba', 24), ('negó', 584), ('cerró', 368), ('banda', 296), ('relajó', 8), ('relajaba', 8), ('resbaló', 40), ('estornudó', 8), ('enseña', 272), ('mayor', 2112), ('ayudará', 168), ('furioso', 136), ('polvo', 216), ('alegre', 112), ('disgustado', 72), ('pruébate', 56), ('apágalo', 16), ('esperame', 16), ('espéranos', 8), ('despertalo', 8), ('lentamente', 256), ('¿estaba', 64), ('¿hacía', 16), ('¿estuvo', 48), ('todos', 11792), ('trabajamos', 152), ('comimos', 192), ('huevos', 816), ('separamos', 24), ('dejamos', 64), ('rompimos', 8), ('encontrarnos', 32), ('vernos', 248), ('ayudamos', 72), ('conocemos', 280), ('porqué', 128), ('gustas', 208), ('amamos', 80), ('extrañamos', 40), ('actuar', 216), ('necesitamos', 1160), ('prometimos', 24), ('acordamos', 48), ('recordamos', 8), ('sentamos', 128), ('sentábamos', 16), ('sobrevivimos', 8), ('esos', 1024), ('estaremos', 216), ('conduciremos', 8), ('luchar', 88), ('compartiremos', 16), ('despiertos', 48), ('aburridos', 64), ('arruinados', 32), ('duro', 1240), ('velas', 120), ('limpios', 64), ('felices', 768), ('listos', 312), ('sentimos', 104), ('cansados', 232), ('gemelos', 152), ('jóvenes', 496), ('burro', 16), ('tipo', 1880), ('arrastrado', 24), ('pendejo', 8), ('imbécil', 40), ('pérdida', 376), ('desastre', 120), ('mugre', 16), ('confusión', 16), ('dolor', 1440), ('lástima', 224), ('pena', 832), ('equipo', 1112), ('ego', 16), ('¿quiénes', 176), ('sois', 400), ('sos', 1312), ('dibujó', 72), ('pegado', 72), ('siguiente', 680), ('dijo', 8656), ('viene', 2096), ('cocinar', 712), ('¿de', 2328), ('¿vas', 728), ('¿irás', 64), ('¿va', 168), ('escríbelo', 16), ('ponlo', 80), ('escrito', 704), ('hiciste', 1224), ('hicisteis', 104), ('desmayaron', 16), ('desmayaste', 8), ('lastimas', 24), ('quédatelo', 8), ('conoces', 376), ('conseguido', 128), ('logrado', 56), ('necesita', 1976), ('necesitáis', 64), ('necesitas', 1320), ('¡así', 8), ('exactamente', 1024), ('regreso', 144), ('langa', 8), ('hermosa', 832), ('estáis', 616), ('retrasado', 88), ('simpático', 88), ('¡estás', 56), ('chiflado', 16), ('¡estáis', 8), ('enfermos', 56), ('¡abandonen', 8), ('nave', 112), ('acorde', 16), ('tu', 19976), ('edad', 1624), ('invitado', 256), ('¿nada', 8), ('¿estamos', 56), ('¿estáis', 280), ('herida', 216), ('¿os', 432), ('encuentras', 136), ('¿usted', 344), ('segura', 688), ('seguras', 48), ('seguros', 280), ('¿están', 328), ('invita', 32), ('mary', 34280), ('estar', 6624), ('confiado', 88), ('confianza', 328), ('seguridad', 536), ('despiadado', 16), ('objetivo', 304), ('objetivos', 80), ('realista', 72), ('paciencia', 464), ('ternera', 32), ('hierve', 72), ('huevo', 312), ('tropas', 72), ('apoyo', 224), ('hazle', 8), ('sombrero', 1008), ('llamá', 48), ('fbi', 56), ('intentar', 472), ('¿sabes', 1728), ('andar', 496), ('revisa', 48), ('alrededor', 1024), ('¡échale', 16), ('¡míralo', 8), ('¡compruébalo', 8), ('cuando', 10976), ('quieras', 1152), ('alguna', 2768), ('enseguida', 272), ('acércate', 40), ('ayudarme', 656), ('echarme', 56), ('regresa', 56), ('baje', 40), ('subid', 16), ('suba', 40), ('suban', 24), ('véngase', 16), ('enfríalo', 8), ('describilo', 8), ('descríbelo', 8), ('descríbalo', 8), ('llamado', 344), ('¿vino', 24), ('¿ayudaste', 16), ('¿ayudasteis', 8), ('¿ustedes', 144), ('ayudaron', 72), ('¿ayudabas', 8), ('¿ayudabais', 8), ('ayudaba', 40), ('ayudaban', 24), ('¿perdiste', 16), ('¿firmaste', 16), ('¿firmaron', 8), ('¿luzco', 16), ('hágalo', 40), ('hacelo', 32), ('saben', 776), ('conocen', 448), ('¿bebes', 56), ('¿bebéis', 16), ('¿bebe', 8), ('fuma', 240), ('¿fumas', 8), ('roncas', 8), ('¿duele', 24), ('nota', 208), ('¿funciona', 24), ('estés', 752), ('seas', 688), ('tengas', 528), ('sueltes', 88), ('divagues', 8), ('tientes', 16), ('conduzca', 40), ('examina', 8), ('examine', 8), ('examiná', 8), ('examinad', 8), ('examinen', 16), ('temas', 112), ('miedo', 1960), ('lucha', 120), ('o', 5264), ('muere', 152), ('gato', 2144), ('libro', 7296), ('consigue', 80), ('recoge', 48), ('traiga', 104), ('recoja', 48), ('fantasmas', 240), ('existen', 160), ('dame', 1120), ('mitad', 504), ('deme', 208), ('denme', 40), ('dadme', 56), ('devuélvete', 8), ('escuela', 3896), ('días', 4680), ('pascua', 40), ('¡feliz', 40), ('rosquilla', 24), ('cómete', 72), ('trago', 256), ('tómate', 120), ('botana', 16), ('valiente', 240), ('valientes', 64), ('evita', 32), ('enfadó', 176), ('francés', 6472), ('morros', 8), ('motivado', 40), ('pateó', 72), ('fuéramos', 64), ('humillado', 40), ('prestigio', 8), ('esperará', 32), ('fanático', 24), ('ninja', 24), ('dieta', 376), ('sufriendo', 80), ('celoso', 256), ('lindo', 224), ('ayúdale', 24), ('tienes', 6240), ('bolígrafo', 480), ('boli', 64), ('¡oye', 24), ('aguante', 16), ('rollo', 112), ('pesado', 192), ('incordio', 8), ('hincha', 8), ('pelotas', 56), ('arrogante', 144), ('¡cómo', 24), ('atreves', 24), ('horrible', 280), ('romántico', 104), ('colegio', 1816), ('admiro', 136), ('chino', 360), ('confuso', 136), ('saberlo', 336), ('lesionado', 16), ('rezando', 32), ('disculpé', 40), ('manzanas', 760), ('caviar', 16), ('mordí', 16), ('labio', 48), ('arreglarlo', 112), ('mover', 200), ('parar', 608), ('corto', 424), ('corté', 120), ('cortado', 96), ('pagué', 152), ('chupa', 8), ('desconozco', 80), ('canto', 72), ('tomé', 440), ('bebido', 200), ('queso', 488), ('viva', 208), ('genial', 328), ('atontado', 16), ('aturdido', 32), ('enmarqué', 8), ('pidieron', 152), ('identificación', 40), ('identificarme', 8), ('documentación', 8), ('atracaron', 8), ('dudas', 184), ('habas', 8), ('moscas', 48), ('mentirosos', 48), ('ópera', 88), ('reglas', 688), ('sushi', 168), ('carro', 760), ('llave', 1560), ('pluma', 160), ('ayudé', 192), ('abracé', 16), ('acabo', 1008), ('mudarme', 48), ('frijoles', 24), ('dulces', 224), ('ajedrez', 320), ('miel', 224), ('pizza', 352), ('mujeres', 1056), ('libros', 2680), ('juegos', 184), ('viajes', 120), ('gustaba', 624), ('apuesta', 64), ('éstos', 392), ('engañé', 16), ('eché', 80), ('extrañé', 40), ('taxi', 776), ('auto', 3280), ('abrazo', 80), ('siesta', 160), ('pintura', 480), ('espacio', 376), ('necesitaba', 640), ('frecuentemente', 176), ('león', 192), ('estrella', 280), ('pistola', 312), ('hoy', 7296), ('nadé', 24), ('simpatizo', 8), ('muchas', 2688), ('avisado', 24), ('enmarcado', 24), ('encontraba', 96), ('veces', 3496), ('perder', 1400), ('perderé', 24), ('pregunto', 1272), ('volveré', 616), ('seré', 280), ('comprar', 3120), ('arriesgaré', 8), ('demandaré', 16), ('ex', 48), ('médico', 1424), ('doctor', 1176), ('médica', 96), ('granjero', 88), ('sacerdote', 88), ('cura', 136), ('surfista', 8), ('camarero', 80), ('escritor', 248), ('oídos', 96), ('actor', 200), ('adulta', 16), ('adulto', 144), ('agente', 72), ('anoréxico', 16), ('autista', 16), ('descalzo', 64), ('confusa', 24), ('confundido', 184), ('confundida', 64), ('divorciada', 16), ('dubitativo', 8), ('ahogando', 56), ('formación', 24), ('congelado', 56), ('helado', 696), ('helando', 16), ('agradecida', 40), ('luto', 8), ('vacilante', 8), ('gravemente', 96), ('perth', 8), ('inocente', 432), ('culto', 8), ('ángel', 120), ('rebelde', 56), ('indignado', 64), ('pintando', 80), ('embarazada', 168), ('embarazado', 16), ('preparada', 112), ('racional', 40), ('aliviado', 88), ('desasosegado', 8), ('intranquilo', 32), ('durmiendo', 608), ('tanto', 2856), ('lamento', 824), ('muy', 19912), ('todavía', 4712), ('terco', 48), ('estudiando', 872), ('pensando', 1192), ('meditando', 72), ('trece', 256), ('concienzudo', 8), ('entusiasmado', 64), ('cachondo', 8), ('exhausto', 160), ('reventado', 24), ('sólido', 24), ('hierro', 184), ('curado', 40), ('lúcido', 8), ('ciervo', 120), ('lobo', 112), ('alce', 8), ('suficiente', 2000), ('falso', 176), ('auténtico', 136), ('empezado', 272), ('empezó', 1184), ('comenzó', 680), ('romper', 288), ('rompa', 48), ('negro', 720), ('repugnante', 136), ('mágico', 32), ('quemará', 8), ('será', 1880), ('maldición', 24), ('¡eso', 152), ('increíble', 192), ('mañana', 9384), ('turno', 288), ('llamas', 344), ('nevando', 216), ('funcionando', 72), ('¡tan', 8), ('nomás', 40), ('seguí', 176), ('cavando', 88), ('conduciendo', 200), ('mirando', 736), ('siga', 200), ('sigan', 56), ('seguid', 32), ('continuad', 16), ('continúen', 16), ('sonriendo', 152), ('continuá', 8), ('hablando', 1800), ('caminando', 448), ('escribiendo', 408), ('quede', 184), ('irme', 848), ('dejame', 88), ('pensar', 1376), ('vámonos', 88), ('salgamos', 160), ('escuchemos', 32), ('vayamos', 504), ('corta', 384), ('¡fíjate', 16), ('fíjate', 56), ('atentamente', 176), ('detenidamente', 24), ('adivina', 112), ('detenga', 56), ('entró', 928), ('mona', 72), ('maría', 6112), ('alta', 808), ('cerdos', 96), ('muévete', 8), ('hacer', 15832), ('ruido', 1192), ('césped', 176), ('cortad', 8), ('corte', 168), ('corten', 24), ('brazo', 792), ('duelen', 64), ('orejas', 176), ('pies', 392), ('cadera', 16), ('mandíbula', 32), ('pierna', 424), ('preguntó', 1880), ('cacho', 32), ('ah', 24), ('oh', 96), ('obtuve', 96), ('abrí', 208), ('caja', 1552), ('abra', 208), ('apurate', 16), ('márchese', 8), ('sonreíd', 8), ('señalalo', 8), ('ábrela', 16), ('del', 17680), ('ponedlo', 16), ('pónganlo', 16), ('descanso', 424), ('recreo', 24), ('escóndete', 16), ('repítelo', 16), ('terminaron', 72), ('clases', 1008), ('veré', 488), ('entonces', 992), ('¡avergüénzate', 8), ('tranquila', 128), ('disparó', 336), ('demandó', 24), ('quedaos', 64), ('concéntrate', 16), ('desconcentres', 8), ('permanece', 48), ('céntrate', 8), ('frente', 976), ('discutas', 32), ('discutir', 416), ('mirar', 352), ('empujar', 56), ('deje', 376), ('fumar', 1624), ('mirarme', 48), ('cállate', 96), ('pará', 16), ('quejarte', 104), ('gritar', 200), ('¡felices', 8), ('sueños', 376), ('¡dulces', 8), ('descansa', 32), ('descanse', 16), ('¡relajate', 8), ('¡relájate', 8), ('llévatelo', 16), ('tomate', 120), ('bondi', 8), ('llévanos', 16), ('cuéntame', 160), ('dime', 928), ('dígame', 200), ('cuénteme', 16), ('dinos', 80), ('díganos', 16), ('dígannos', 16), ('cuéntanos', 40), ('cuéntenos', 8), ('cuéntennos', 8), ('agradecido', 280), ('nuevamente', 280), ('colmo', 24), ('bastará', 16), ('durará', 112), ('funcionará', 120), ('mentira', 400), ('montón', 1064), ('locura', 104), ('ambos', 816), ('sentaron', 112), ('aprueban', 16), ('grandes', 808), ('entraron', 152), ('llegaron', 304), ('entraban', 8), ('vitorearon', 16), ('tuvieron', 304), ('chocaron', 32), ('estrellaron', 8), ('escaparon', 80), ('abandonaron', 104), ('rindieron', 16), ('desistieron', 8), ('tiraron', 24), ('odian', 240), ('ayudan', 72), ('conocían', 48), ('rieron', 192), ('adoran', 40), ('aman', 136), ('necesitan', 408), ('negaron', 40), ('dijeron', 608), ('pararon', 80), ('sudaron', 8), ('quieren', 1144), ('llamarán', 16), ('vendrán', 48), ('sabrán', 24), ('esperarán', 8), ('aguardarán', 8), ('muchachos', 168), ('tienen', 2496), ('rápidos', 16), ('estupendamente', 56), ('encuentran', 32), ('míos', 368), ('mías', 192), ('simpáticos', 48), ('bonitos', 96), ('feos', 16), ('rompen', 16), ('sencillo', 208), ('oro', 496), ('¡esto', 64), ('respondió', 416), ('aprueba', 32), ('aburre', 80), ('canceló', 56), ('cancelación', 24), ('enroló', 16), ('sintió', 568), ('encogió', 80), ('dispararon', 64), ('enfermó', 40), ('odia', 488), ('insistió', 152), ('poli', 16), ('veterano', 24), ('veterinario', 104), ('fiel', 32), ('canicas', 16), ('bichi', 8), ('jiruta', 8), ('encuerado', 8), ('encueroles', 8), ('mañoso', 16), ('bajo', 1512), ('tonto', 464), ('chispa', 8), ('escuchó', 472), ('ama', 584), ('conoció', 248), ('pánico', 120), ('prometió', 560), ('huyó', 240), ('aplacó', 16), ('apiadó', 32), ('hombros', 88), ('tartamudea', 8), ('balbucea', 8), ('sobrevivió', 112), ('desapareció', 200), ('ruin', 8), ('pálido', 136), ('hablará', 64), ('viniendo', 96), ('llorando', 448), ('grogui', 24), ('bromeando', 368), ('drogado', 16), ('confiá', 8), ('tarta', 632), ('centrarte', 8), ('espere', 320), ('despertalos', 8), ('despiértate', 8), ('¿quieres', 2296), ('bebida', 240), ('lava', 128), ('pedimos', 104), ('demandar', 48), ('preparamos', 24), ('estábamos', 800), ('almorzamos', 120), ('algunos', 2016), ('unos', 1736), ('cuantos', 120), ('sabíamos', 104), ('conocíamos', 32), ('vivimos', 232), ('hogar', 320), ('queríamos', 104), ('encontramos', 344), ('echar', 328), ('quedamos', 288), ('dormidos', 80), ('dormimos', 40), ('deberíamos', 1280), ('conseguimos', 72), ('logramos', 16), ('rendimos', 32), ('heridos', 120), ('lastimados', 16), ('saldremos', 24), ('adultos', 152), ('asustados', 16), ('mejores', 568), ('cerrados', 192), ('saliendo', 280), ('desahuciados', 8), ('escondidos', 32), ('hambrientos', 112), ('perdiendo', 176), ('mudando', 32), ('mudamos', 32), ('mudar', 48), ('cambiamos', 16), ('reventados', 8), ('consegido', 8), ('bienvenido', 256), ('bienvenida', 168), ('festín', 8), ('farsante', 8), ('susto', 40), ('desperdicio', 16), ('idea', 3384), ('picó', 64), ('aquello', 224), ('construyó', 208), ('paga', 312), ('envió', 296), ('contó', 688), ('ambas', 232), ('agradeces', 8), ('das', 392), ('morir', 712), ('vivirá', 40), ('¿no', 4488), ('vas', 3040), ('tinta', 160), ('escriba', 216), ('escriban', 16), ('escribid', 24), ('pasaron', 160), ('diviertes', 16), ('¡eres', 120), ('maleducado', 48), ('descansar', 280), ('quedarte', 536), ('primera', 1632), ('vos', 1344), ('vosotros', 936), ('heriste', 16), ('conoce', 1064), ('sabés', 168), ('ves', 680), ('acalorado', 16), ('pareces', 856), ('acalorada', 24), ('tenés', 752), ('prometiste', 72), ('prometisteis', 24), ('prometieron', 24), ('asustas', 16), ('sobreviviste', 24), ('sobrevivisteis', 16), ('sobrevivieron', 80), ('estarás', 392), ('cerdo', 216), ('borracha', 16), ('despedida', 136), ('despedidos', 48), ('despedidas', 24), ('gracioso', 240), ('espabilado', 24), ('listas', 56), ('pequeño', 1216), ('pequeños', 280), ('pequeñas', 120), ('inteligentes', 208), ('dulce', 352), ('ingenioso', 24), ('ocurrente', 8), ('intentado', 232), ('atropelló', 72), ('aprobé', 24), ('aprobado', 120), ('soñando', 136), ('incluido', 24), ('¿soy', 48), ('talentoso', 104), ('¿son', 272), ('polis', 24), ('altos', 288), ('altas', 136), ('«poli»', 8), ('pasma', 16), ('ciego', 328), ('aburres', 32), ('aburriendo', 48), ('ebrio', 128), ('embriagado', 16), ('¿sos', 40), ('¿contento', 8), ('molesto', 224), ('experto', 192), ('pórtate', 16), ('respetuoso', 48), ('respetuosos', 16), ('apóyame', 8), ('apóyanos', 8), ('bate', 48), ('corren', 24), ('rómpelo', 8), ('estropéalo', 8), ('rompedlo', 8), ('descomponlo', 8), ('desglósalo', 8), ('tíralo', 16), ('derrúmbalo', 8), ('échalo', 8), ('derríbalo', 8), ('tráelo', 8), ('traedlo', 8), ('quemen', 16), ('cuerpo', 392), ('quemá', 8), ('queme', 24), ('quemad', 16), ('caín', 8), ('llame', 288), ('pida', 96), ('pidan', 16), ('pedid', 8), ('¡llámame', 8), ('¡llamen', 16), ('¡llamad', 16), ('llama', 1048), ('policía', 2696), ('tenerlo', 24), ('abrazarte', 16), ('participar', 144), ('quedármelo', 8), ('visitar', 920), ('tomarlo', 40), ('bailar', 784), ('conducir', 1568), ('cierra', 520), ('observad', 8), ('cuece', 32), ('desfalleció', 8), ('¿funcionó', 8), ('¿hablaste', 48), ('¿conozco', 8), ('¿le', 1224), ('¿necesito', 32), ('sueñan', 32), ('vuelvas', 264), ('serás', 184), ('peces', 360), ('duermen', 80), ('rápidamente', 496), ('platos', 496), ('sigues', 96), ('¿esta', 184), ('¿este', 232), ('seáis', 24), ('malas', 312), ('llegues', 176), ('tacaño', 80), ('grosero', 200), ('llames', 112), ('llamés', 16), ('llaméis', 8), ('llamen', 48), ('niegues', 8), ('desesperes', 8), ('engordes', 16), ('subas', 40), ('peso', 864), ('engordés', 8), ('rindas', 48), ('tires', 80), ('lastimes', 48), ('mates', 72), ('mires', 168), ('prestes', 40), ('atención', 1016), ('burles', 64), ('abras', 80), ('empujes', 16), ('presiones', 24), ('apresures', 8), ('irrespetuoso', 16), ('vacia', 8), ('aceite', 128), ('traza', 16), ('círculo', 104), ('dibuja', 32), ('coman', 88), ('beban', 32), ('coma', 232), ('beba', 48), ('sano', 232), ('comed', 8), ('ganan', 32), ('alimenta', 56), ('pájaro', 608), ('rellena', 32), ('fríeme', 8), ('preparame', 24), ('estrellado', 16), ('pon', 280), ('ponga', 344), ('vuelva', 440), ('consígueme', 56), ('¡que', 72), ('dale', 264), ('dámelo', 48), ('dímelo', 72), ('dádmelo', 8), ('démelo', 8), ('dénmelo', 8), ('traer', 256), ('café', 3008), ('bendiga', 16), ('aguanta', 40), ('agárrate', 56), ('aférrate', 24), ('conserva', 32), ('jamón', 48), ('engañó', 144), ('bebió', 272), ('cavó', 16), ('agujero', 224), ('cogieron', 112), ('cultiva', 56), ('blog', 40), ('constipado', 24), ('mucama', 8), ('abrazó', 88), ('inglés', 4088), ('ladrón', 480), ('jefe', 728), ('andando', 304), ('patineta', 16), ('besó', 360), ('luce', 240), ('aspecto', 200), ('pellizcó', 24), ('parece', 6080), ('vende', 232), ('carros', 40), ('palabra', 1464), ('expresa', 16), ('apedreado', 8), ('sabrá', 112), ('abogado', 936), ('machista', 16), ('gran', 2936), ('negocios', 456), ('adorable', 96), ('demente', 48), ('santo', 16), ('hijo', 2416), ('sírvase', 72), ('sírvete', 40), ('servíos', 16), ('mismos', 320), ('sírvanse', 32), ('¿paquí', 8), ('pa', 8), ('oye', 96), ('vayáis', 32), ('oiga', 40), ('su', 40880), ('nariz', 344), ('sangraba', 24), ('abrazame', 8), ('retenga', 8), ('mis', 6208), ('llamadas', 128), ('sujétalo', 16), ('¡sujétalo', 8), ('puerta', 3992), ('cuerda', 400), ('bocina', 32), ('claxon', 16), ('¿cuántos', 1208), ('murieron', 392), ('emocionante', 192), ('date', 112), ('apúrate', 40), ('acepto', 128), ('adquirí', 8), ('añadí', 24), ('admiraba', 56), ('casi', 3824), ('morí', 16), ('siempre', 7528), ('camino', 1992), ('americano', 152), ('estadounidense', 232), ('japonés', 880), ('japonesa', 368), ('dedico', 48), ('trote', 8), ('tosiendo', 24), ('indigna', 24), ('estornudando', 16), ('culpa', 1168), ('volví', 224), ('pertenezco', 64), ('prestado', 464), ('soborné', 16), ('quemé', 80), ('vine', 352), ('autobús', 1528), ('explicar', 376), ('sentirlo', 40), ('verte', 1560), ('manejar', 400), ('soportar', 504), ('resistir', 72), ('cancelé', 16), ('causé', 8), ('contribuí', 8), ('lloré', 40), ('merecía', 120), ('diseñé', 8), ('desprecio', 72), ('menosprecio', 16), ('pude', 1272), ('importó', 32), ('supe', 184), ('moví', 16), ('paré', 72), ('detuve', 24), ('caminé', 56), ('claro', 704), ('pienso', 1784), ('bebo', 240), ('tomo', 280), ('ronco', 32), ('robo', 208), ('estudio', 480), ('bebí', 136), ('llevo', 656), ('bmw', 16), ('disfruto', 80), ('jugar', 2200), ('escuchar', 928), ('póker', 16), ('exageré', 8), ('temo', 568), ('alimenté', 16), ('adormitado', 8), ('causa', 744), ('culpable', 496), ('renacido', 8), ('finalmente', 872), ('terminé', 160), ('perdono', 16), ('defendí', 8), ('bono', 16), ('resulté', 8), ('engañado', 96), ('casé', 88), ('sediento', 88), ('esconder', 216), ('boston', 5664), ('fútbol', 1008), ('invierno', 808), ('bomba', 296), ('resfriado', 504), ('acatarrado', 16), ('cita', 584), ('plan', 1664), ('aro', 8), ('anillo', 336), ('hermana', 2496), ('gemela', 40), ('hermano', 2968), ('visa', 136), ('visado', 64), ('rodilleras', 8), ('cáncer', 432), ('tenido', 1096), ('órdenes', 184), ('derechos', 184), ('pecado', 40), ('tenencia', 8), ('sirenas', 8), ('voces', 64), ('ignoré', 24), ('recién', 136), ('levanto', 184), ('levanté', 328), ('levantar', 248), ('gente', 4656), ('personas', 3088), ('dejo', 240), ('caer', 264), ('camellos', 48), ('relojes', 40), ('caballos', 272), ('películas', 504), ('coser', 200), ('cucharas', 16), ('deporte', 376), ('prefiero', 912), ('tenis', 1656), ('trenes', 200), ('tulipanes', 16), ('miré', 200), ('aparté', 16), ('clave', 112), ('árabe', 80), ('hornear', 40), ('ajo', 72), ('excursionismo', 8), ('papá', 768), ('empleo', 656), ('naturaleza', 208), ('primavera', 504), ('negocio', 392), ('trato', 280), ('cena', 1160), ('preparé', 56), ('repararlo', 24), ('objetar', 8), ('rechazar', 72), ('verlo', 648), ('estuve', 888), ('baño', 968), ('tripulación', 64), ('lámpara', 104), ('préstamo', 104), ('lleven', 32), ('cuarto', 1408), ('habitación', 4008), ('semana', 4232), ('consejos', 240), ('bolsa', 576), ('bolso', 336), ('preocupo', 64), ('supero', 16), ('rango', 8), ('dueño', 152), ('yate', 24), ('juego', 1368), ('squash', 8), ('toco', 144), ('violín', 232), ('afuera', 752), ('leí', 376), ('cambié', 136), ('fecha', 176), ('rescaté', 32), ('ofendo', 16), ('respeto', 320), ('administro', 8), ('motel', 16), ('manejo', 64), ('¡yo', 16), ('levántate', 72), ('ratón', 200), ('avión', 1432), ('corona', 104), ('viendo', 696), ('luz', 1272), ('reina', 144), ('barco', 992), ('niño', 3296), ('oso', 152), ('renunciar', 216), ('tocino', 24), ('humo', 176), ('olí', 16), ('vendí', 64), ('chiste', 208), ('conté', 152), ('bañé', 8), ('paseo', 608), ('confiaba', 72), ('firefox', 8), ('ofrecí', 32), ('voluntario', 152), ('ganas', 1504), ('precavido', 24), ('desarmado', 8), ('observé', 8), ('vigilé', 8), ('observaba', 8), ('subí', 72), ('marcha', 192), ('senderismo', 8), ('excursión', 88), ('despertado', 120), ('cederé', 16), ('saldré', 88), ('escribo', 88), ('versos', 16), ('gustaría', 4320), ('permitiré', 64), ('permitirlo', 32), ('compraré', 56), ('llamar', 888), ('llamaré', 360), ('alcanzaré', 16), ('comeré', 48), ('encontraré', 96), ('mataré', 48), ('matar', 640), ('encontrarme', 112), ('echaré', 96), ('extrañar', 120), ('demostraré', 16), ('mostraré', 200), ('detener', 144), ('encargaré', 96), ('llevaré', 200), ('cogeré', 64), ('diré', 360), ('avisar', 72), ('advertiré', 8), ('alertaré', 8), ('miraré', 24), ('estudiante', 1072), ('profesor', 2728), ('maestro', 304), ('turista', 72), ('testigo', 176), ('adicta', 24), ('artista', 240), ('huérfano', 72), ('desesperado', 64), ('desesperada', 24), ('olvidadizo', 96), ('¡mamá', 16), ('horrorizado', 24), ('horrorizada', 8), ('imparcial', 48), ('impaciente', 208), ('importante', 1856), ('impresionada', 32), ('impresionado', 136), ('cargo', 384), ('peligro', 920), ('intrigada', 8), ('escuchando', 496), ('escucharé', 8), ('mudo', 56), ('superaré', 16), ('seguiré', 80), ('espía', 80), ('mandón', 8), ('mandona', 8), ('huelga', 104), ('sensible', 160), ('hambriento', 200), ('tanta', 264), ('estúpida', 264), ('asegurado', 32), ('asegurada', 16), ('jefa', 16), ('encontrado', 616), ('famoso', 576), ('siente', 592), ('doloroso', 72), ('popular', 424), ('privado', 152), ('lloviendo', 608), ('murciélago', 48), ('peluca', 56), ('legal', 80), ('aquél', 112), ('latín', 88), ('quebró', 80), ('pone', 448), ('peor', 912), ('empeora', 56), ('había', 7488), ('nevado', 48), ('pinta', 160), ('regalo', 1288), ('engaño', 88), ('examen', 1096), ('irónico', 24), ('dolerá', 16), ('servirá', 88), ('media', 1528), ('sábado', 400), ('enigma', 32), ('secuela', 8), ('arma', 536), ('desierto', 192), ('mejorado', 72), ('caballo', 632), ('obsoleto', 40), ('oficial', 152), ('deber', 256), ('rata', 32), ('depende', 496), ('corresponde', 48), ('seco', 88), ('minuto', 848), ('coja', 40), ('coged', 32), ('cojan', 32), ('remando', 32), ('llaves', 792), ('déjale', 32), ('terminar', 1312), ('preguntémosle', 32), ('pidámosle', 8), ('preguntarle', 312), ('hagamos', 448), ('volvamos', 136), ('mantengámoslo', 16), ('prosigamos', 32), ('avancemos', 16), ('abrámoslo', 8), ('sigamos', 120), ('demandemos', 8), ('injusta', 56), ('¡traba', 8), ('¡ponle', 8), ('entrada', 416), ('cancela', 8), ('aquéllos', 24), ('oferta', 544), ('resume', 24), ('mortal', 32), ('chula', 8), ('rara', 464), ('chilló', 48), ('preguntar', 320), ('escasa', 24), ('memoriza', 8), ('memorízate', 8), ('espalda', 472), ('cabeza', 1672), ('pulmones', 32), ('nombre', 3136), ('llamo', 256), ('cuello', 312), ('sonreía', 32), ('escuchad', 16), ('atended', 16), ('atendedme', 8), ('quítate', 104), ('capucha', 16), ('¡fuera', 24), ('búhos', 40), ('monos', 112), ('cambia', 216), ('tócalo', 16), ('arreglalo', 8), ('súbase', 8), ('bata', 24), ('apostar', 56), ('apuestas', 32), ('léelo', 56), ('rusia', 136), ('¡di', 8), ('¡decid', 8), ('acabaron', 48), ('manda', 80), ('mándamelo', 24), ('¿empiezo', 8), ('¿debo', 64), ('continuar', 168), ('agachó', 56), ('patinar', 128), ('enojó', 120), ('cabreó', 16), ('contrató', 96), ('francesa', 192), ('acaba', 872), ('obedece', 56), ('cumplió', 128), ('dieciséis', 88), ('desea', 144), ('ingenua', 32), ('modelo', 160), ('esposa', 1584), ('junto', 576), ('claramente', 280), ('hable', 360), ('hablen', 80), ('hablad', 24), ('quedito', 24), ('calladito', 8), ('párense', 8), ('línea', 416), ('comienza', 288), ('empiece', 72), ('empezad', 8), ('empiecen', 32), ('comience', 40), ('comenzad', 8), ('comiencen', 8), ('escribir', 1400), ('positivo', 40), ('positiva', 16), ('manteneos', 8), ('juntos', 1696), ('separéis', 8), ('mezclá', 8), ('remueve', 16), ('balbucear', 16), ('chismorrear', 24), ('soñar', 96), ('¡dejá', 8), ('pelear', 240), ('entrometas', 16), ('disparar', 112), ('preocuparte', 120), ('pasan', 176), ('gustes', 40), ('barre', 40), ('respiro', 32), ('número', 1416), ('llévame', 56), ('todas', 3160), ('formas', 232), ('saturno', 16), ('bote', 312), ('copia', 264), ('aquella', 720), ('mito', 16), ('absurdo', 104), ('chaval', 56), ('irreal', 8), ('vulgar', 16), ('copa', 168), ('chicas', 464), ('sabían', 224), ('supieron', 8), ('partieron', 32), ('levantaron', 72), ('alzaron', 24), ('pusieron', 216), ('gritan', 8), ('construyeron', 96), ('cancelaron', 8), ('mutuamente', 152), ('encontraron', 216), ('encantaba', 72), ('deben', 360), ('pagan', 72), ('sentaban', 8), ('salvaron', 16), ('estarán', 96), ('bailarán', 8), ('harán', 72), ('asiáticos', 72), ('vivos', 136), ('solos', 392), ('enojados', 40), ('armadas', 24), ('arruinadas', 16), ('limpias', 112), ('embriagados', 8), ('ebrios', 8), ('borrachos', 104), ('enormes', 16), ('inmensas', 8), ('verdes', 120), ('espías', 16), ('vuestros', 168), ('suyos', 88), ('cambian', 32), ('japón', 2528), ('esta', 18632), ('ley', 616), ('palabras', 1144), ('incorrecto', 128), ('recibió', 384), ('graduó', 96), ('vaca', 96), ('mapa', 416), ('oyó', 472), ('dudó', 40), ('pelele', 8), ('ausente', 184), ('bravío', 8), ('descansado', 16), ('fuerzas', 136), ('delgaducho', 24), ('estricto', 64), ('injusto', 112), ('malévolo', 8), ('unió', 80), ('pueblo', 680), ('gustaste', 16), ('gustabas', 8), ('recuperó', 136), ('acuerda', 152), ('recuerda', 568), ('asusta', 80), ('vaciló', 24), ('tambaleó', 8), ('13', 64), ('siguió', 768), ('distante', 16), ('banca', 104), ('sucio', 144), ('moría', 48), ('severo', 80), ('contratado', 48), ('leal', 24), ('afortunado', 256), ('mentía', 16), ('palideció', 56), ('cocinará', 16), ('obedecerá', 8), ('adoptado', 32), ('ayudando', 160), ('inservible', 24), ('cero', 160), ('izquierda', 472), ('violento', 80), ('bancame', 8), ('seis', 1576), ('roncando', 24), ('cubre', 48), ('encera', 8), ('piso', 664), ('encerá', 8), ('condenados', 8), ('podríamos', 288), ('preguntamos', 40), ('comemos', 128), ('fuimos', 632), ('robados', 40), ('robaron', 368), ('planes', 536), ('disparamos', 8), ('callados', 48), ('teníamos', 336), ('intención', 488), ('hablamos', 248), ('entendemos', 80), ('aburríamos', 8), ('tuvimos', 632), ('preguntaremos', 16), ('esconderemos', 8), ('sobreviviremos', 8), ('desorientados', 16), ('primos', 176), ('intrigados', 24), ('comprometidos', 24), ('prometidos', 24), ('amigos', 3720), ('amigas', 248), ('enamorados', 128), ('abogados', 104), ('casados', 312), ('pacientes', 120), ('mentalizados', 8), ('egoístas', 16), ('serios', 32), ('hundiendo', 16), ('especiales', 56), ('concluido', 48), ('¡estamos', 8), ('atrapados', 104), ('inútiles', 32), ('unas', 1328), ('ganando', 128), ('¿estabas', 160), ('fiasco', 8), ('jaleo', 48), ('lío', 88), ('¡menudo', 16), ('¡vaya', 48), ('alivio', 80), ('aflige', 8), ('güey', 16), ('¿ellos', 144), ('ocurrió', 952), ('ocurrido', 256), ('sido', 2400), ('¿cuándo', 3216), ('¿cuál', 3800), ('mandó', 176), ('queda', 1544), ('gana', 560), ('vendrá', 872), ('¿vendrá', 48), ('llegaste', 280), ('equivocan', 24), ('¡puedes', 16), ('¡tú', 24), ('¡hipócrita', 8), ('sabes', 1592), ('sabéis', 56), ('tenéis', 464), ('quedaros', 40), ('debes', 2248), ('necesitás', 80), ('preguntas', 1416), ('deberías', 4104), ('hueles', 16), ('estabas', 1128), ('eras', 536), ('fuisteis', 40), ('eran', 1128), ('fracasarás', 8), ('trabajas', 144), ('llegaréis', 16), ('llegará', 416), ('llegarás', 160), ('bebé', 1464), ('parcial', 120), ('¿bromeas', 8), ('tratando', 552), ('cocacola', 40), ('actuá', 8), ('linda', 392), ('calificado', 40), ('rojas', 168), ('¿somos', 24), ('¿vendréis', 24), ('¿vendrás', 56), ('¿vienes', 112), ('vienes', 232), ('famosa', 320), ('sientes', 464), ('racista', 56), ('¿vosotros', 32), ('otoño', 208), ('chica', 1448), ('aves', 80), ('ponen', 80), ('respira', 104), ('hondo', 48), ('traé', 8), ('pala', 72), ('tráemelo', 16), ('tráigamelo', 16), ('¿también', 24), ('comerme', 112), ('ayudarle', 248), ('besarte', 72), ('verlos', 96), ('verles', 24), ('dejas', 152), ('sentarme', 240), ('¿podremos', 8), ('conseguirlo', 32), ('conseguiremos', 24), ('proseguir', 24), ('levantarte', 96), ('atrapa', 8), ('pelota', 496), ('revísalos', 8), ('échale', 48), ('pieza', 760), ('háganlo', 8), ('pacá', 8), ('contacte', 24), ('archivo', 96), ('vacas', 160), ('comen', 280), ('pasto', 184), ('dan', 528), ('pártelo', 8), ('daño', 640), ('lastimé', 64), ('compró', 1768), ('olvidaste', 48), ('olvidado', 480), ('¿entendió', 8), ('dijiste', 976), ('treinta', 1008), ('viste', 536), ('¡la', 32), ('háztelo', 8), ('odias', 56), ('oyes', 72), ('escuchás', 8), ('conocés', 64), ('quieres', 4280), ('amas', 168), ('echas', 64), ('prometes', 16), ('promete', 24), ('reciclas', 8), ('queréis', 328), ('des', 176), ('lata', 112), ('enfades', 16), ('enfade', 16), ('apresurado', 72), ('boludo', 16), ('culpes', 40), ('quejes', 24), ('pierdas', 104), ('ayudes', 160), ('dejes', 768), ('levantes', 48), ('forcejees', 8), ('cuentes', 136), ('toques', 240), ('¡suelta', 16), ('cuchillo', 784), ('agacha', 8), ('cómanse', 8), ('disfrute', 40), ('espectáculo', 160), ('disfruta', 152), ('disfruten', 8), ('disfrutad', 8), ('mienten', 72), ('pagaron', 80), ('llora', 96), ('peleen', 24), ('pelead', 8), ('pescar', 664), ('filas', 48), ('súbete', 56), ('caravana', 16), ('tráeme', 248), ('¡súbase', 8), ('¡súbete', 8), ('subíos', 8), ('duerme', 392), ('dáselo', 72), ('pista', 64), ('beso', 344), ('cartera', 296), ('cambiarte', 16), ('tardes', 72), ('pásaselo', 8), ('taza', 960), ('año', 3480), ('vacaciones', 1264), ('¿han', 96), ('¿comiste', 24), ('¿ya', 640), ('comiste', 168), ('¿habéis', 128), ('aceleró', 40), ('contar', 568), ('antipatía', 8), ('moreno', 8), ('elevó', 56), ('volantín', 32), ('12', 56), ('hijos', 1880), ('barba', 128), ('cambiado', 472), ('regresó', 240), ('golpe', 224), ('devolvió', 96), ('canadiense', 1128), ('genio', 200), ('golfista', 48), ('techo', 360), ('tío', 1128), ('extrovertido', 16), ('tirado', 72), ('espaldas', 96), ('aprende', 136), ('gelatina', 16), ('vive', 2328), ('adora', 208), ('juega', 496), ('respeta', 88), ('retó', 40), ('increpó', 8), ('riñó', 24), ('enfadada', 208), ('frutas', 128), ('abofeteó', 48), ('confió', 24), ('extranjero', 1040), ('acostar', 144), ('acostó', 48), ('florista', 8), ('animal', 320), ('deprimido', 160), ('prisión', 480), ('estudiar', 1896), ('llegando', 112), ('vienen', 232), ('tarjeta', 344), ('esconde', 24), ('escondé', 8), ('plata', 248), ('dolía', 64), ('¿cuán', 48), ('asco', 88), ('hacen', 576), ('¿cuánto', 2576), ('cuesta', 880), ('mide', 72), ('¡apúrensen', 16), ('húngara', 8), ('checo', 16), ('manzana', 768), ('creí', 328), ('apuesto', 312), ('presto', 32), ('uña', 8), ('traje', 704), ('arreglar', 432), ('demostrarlo', 16), ('levantarme', 280), ('cuento', 152), ('merezco', 88), ('avisé', 16), ('conducido', 72), ('doy', 320), ('sigo', 160), ('cojo', 48), ('honrado', 40), ('empeñé', 8), ('arrestaron', 32), ('divorcié', 8), ('nostálgico', 8), ('nostalgia', 8), ('garantizo', 16), ('divertí', 48), ('domingos', 696), ('insectos', 128), ('planchar', 48), ('karaoke', 24), ('fiestas', 112), ('acertijos', 16), ('arañas', 88), ('espinacas', 64), ('tos', 144), ('corazonada', 48), ('rancho', 96), ('camión', 376), ('ni', 3488), ('escuincle', 8), ('hermanas', 424), ('hipo', 32), ('ojalá', 1320), ('ganes', 16), ('sencillamente', 280), ('venderlo', 32), ('simplemente', 712), ('mantuve', 40), ('castillos', 24), ('pollo', 256), ('galletas', 392), ('pesca', 232), ('historia', 2320), ('trotar', 48), ('mahjongg', 16), ('fideos', 40), ('tallarines', 8), ('picnic', 296), ('rompecabezas', 128), ('sashimi', 8), ('mariscos', 64), ('historias', 208), ('tortugas', 80), ('escritura', 32), ('norte', 280), ('harvard', 200), ('flores', 1224), ('lasaña', 8), ('puestas', 48), ('sol', 1328), ('galletitas', 64), ('equivoque', 16), ('amiga', 648), ('regresar', 280), ('volver', 2040), ('gauchada', 40), ('aumento', 200), ('regla', 200), ('cigarrillo', 144), ('bocadillo', 16), ('sello', 64), ('respuestas', 288), ('tener', 2960), ('cirugía', 64), ('dejarlo', 144), ('viajo', 48), ('menudo', 2120), ('cien', 392), ('declaro', 8), ('castigué', 8), ('crío', 24), ('largues', 8), ('calles', 176), ('¡dije', 8), ('amigo', 3152), ('cinco', 2112), ('estornudo', 24), ('coreano', 72), ('enseño', 64), ('giré', 24), ('quisiera', 1648), ('vaso', 824), ('perrito', 88), ('cachorrito', 64), ('palomitas', 72), ('maíz', 96), ('ventilador', 8), ('secuestraron', 24), ('raptaron', 16), ('arrestado', 184), ('arrestada', 32), ('capturado', 72), ('ofendido', 48), ('riendo', 152), ('dejaron', 200), ('sudando', 128), ('excitado', 8), ('gafas', 496), ('prosperaré', 8), ('desearía', 832), ('poder', 968), ('pudiera', 712), ('sería', 1400), ('honor', 168), ('preferiría', 448), ('directo', 200), ('tomar', 2200), ('ocuparé', 40), ('extra', 192), ('regañaré', 8), ('reñiré', 8), ('pego', 32), ('quedaré', 344), ('enseñar', 280), ('daré', 376), ('invitaré', 16), ('principiante', 112), ('diabética', 8), ('músico', 248), ('sujeto', 136), ('prisionero', 120), ('ateo', 24), ('asombrada', 8), ('detrás', 736), ('cansancio', 32), ('confiable', 40), ('devastada', 8), ('diplomática', 40), ('fascinada', 16), ('sintiendo', 80), ('divirtiendo', 120), ('apurado', 80), ('interesado', 448), ('interesada', 160), ('contigo', 3016), ('preparando', 336), ('escondiendo', 320), ('suficientemente', 904), ('optimista', 120), ('bencina', 32), ('reforma', 40), ('desafortunado', 80), ('desvistiendo', 32), ('desnudando', 16), ('sacando', 40), ('ropa', 1368), ('paro', 32), ('desempleado', 48), ('parado', 536), ('desempleada', 16), ('acostumbrado', 592), ('acostumbrada', 192), ('rudo', 56), ('demandaron', 16), ('guiso', 64), ('¡ojalá', 48), ('supiera', 336), ('¿tomás', 104), ('lastimado', 80), ('lastimó', 128), ('¿él', 224), ('timbre', 128), ('probable', 488), ('negra', 192), ('hacerse', 240), ('mejora', 48), ('¡huele', 8), ('ameno', 8), ('venta', 248), ('planeado', 120), ('nevaba', 8), ('difícil', 3480), ('cederá', 40), ('estará', 968), ('navidad', 1376), ('tarea', 1072), ('miércoles', 104), ('clásico', 32), ('reclamo', 8), ('error', 1720), ('excusa', 176), ('insulto', 48), ('superior', 56), ('supera', 40), ('delicioso', 200), ('diferente', 608), ('haciendo', 2872), ('idéntico', 48), ('barato', 328), ('redundante', 8), ('demasiada', 256), ('arriesgado', 88), ('decisión', 1048), ('lento', 168), ('vibrando', 16), ('maravilloso', 224), ('movida', 8), ('olvídalo', 24), ('limítate', 144), ('punto', 1632), ('llévalo', 40), ('consérvalo', 8), ('permanezca', 24), ('buscando', 1600), ('crueles', 16), ('inclínate', 8), ('déjamelo', 32), ('¡dejame', 8), ('sala', 808), ('idos', 16), ('váyanse', 32), ('solas', 400), ('préstame', 56), ('responda', 56), ('sienta', 128), ('oírlo', 104), ('déjalos', 16), ('seamos', 160), ('continuemos', 32), ('averigüémoslo', 16), ('cada', 3032), ('esperemos', 272), ('tiña', 8), ('practiquemos', 8), ('sentémonos', 80), ('levantémonos', 8), ('¡escucha', 24), ('viví', 88), ('aprendé', 32), ('cosa', 2288), ('almuerzo', 944), ('suceda', 144), ('simplifica', 8), ('mueves', 8), ('muchos', 3408), ('muchacha', 248), ('acompañarle', 8), ('acompañarles', 8), ('unírmeles', 16), ('sentar', 152), ('usar', 1368), ('avariciosos', 8), ('caminas', 32), ('muévase', 8), ('escritorio', 752), ('corazón', 776), ('articulaciones', 32), ('comezón', 16), ('estómago', 336), ('rió', 120), ('ábreme', 16), ('trampilla', 8), ('tus', 3800), ('maletas', 136), ('caigo', 48), ('ayúdeme', 40), ('ábrelo', 8), ('diga', 728), ('digan', 128), ('díganme', 88), ('despiértese', 8), ('precios', 424), ('subieron', 56), ('demuéstramelo', 8), ('contador', 56), ('resérvame', 8), ('guárdame', 24), ('dilo', 80), ('envíame', 48), ('¿empezamos', 16), ('¿comenzamos', 8), ('¿quiere', 336), ('¿bailamos', 8), ('¿vamos', 56), ('ahorcó', 24), ('estranguló', 16), ('cultivó', 8), ('rosas', 160), ('bicicleta', 1632), ('enfermera', 256), ('quieta', 32), ('parecía', 1368), ('extraña', 344), ('adinerada', 16), ('provocaba', 16), ('teclea', 8), ('belleza', 224), ('cabezota', 32), ('testaruda', 32), ('cerrar', 448), ('¿paramos', 8), ('siéntense', 40), ('allá', 1176), ('apareció', 400), ('dejen', 144), ('copuchar', 8), ('refunfuñar', 8), ('¡deja', 40), ('resistirte', 8), ('chillar', 24), ('azúcar', 672), ('verano', 1504), ('llévaselo', 8), ('devuélvelo', 32), ('llevátelo', 8), ('contanos', 8), ('aspero', 8), ('cambiará', 112), ('farsa', 16), ('¡increíble', 16), ('gallina', 160), ('cianuro', 8), ('evidente', 88), ('obvio', 160), ('idiotez', 8), ('ilegal', 200), ('inmoral', 40), ('¡esa', 8), ('frase', 448), ('obsceno', 16), ('salta', 40), ('plástico', 80), ('patético', 80), ('suicidio', 104), ('cantaban', 16), ('ladraba', 16), ('bandera', 176), ('alzada', 8), ('derritió', 32), ('gotea', 48), ('sirena', 8), ('sonó', 528), ('cantaron', 8), ('miradas', 40), ('cruzaron', 32), ('éstas', 184), ('estas', 1504), ('nuestras', 480), ('auténticas', 16), ('verdaderas', 32), ('auténticos', 8), ('reales', 56), ('aplaudieron', 48), ('preguntaron', 40), ('compraron', 152), ('volvieron', 40), ('regresaron', 32), ('descubrieron', 48), ('odiaban', 32), ('parecen', 472), ('amaban', 16), ('encantaste', 8), ('encantabas', 8), ('querían', 376), ('quisieron', 24), ('bienintencionados', 8), ('discutieron', 24), ('arruinaron', 24), ('huelen', 40), ('esforzaron', 8), ('confían', 48), ('estaban', 2368), ('muertos', 232), ('enfermas', 32), ('ayudarán', 24), ('trabajan', 176), ('atacarán', 16), ('rotos', 48), ('estropeados', 8), ('familia', 2464), ('vacíos', 40), ('idiotas', 104), ('fatal', 64), ('olla', 72), ('cacao', 16), ('mental', 40), ('azotea', 24), ('pinza', 16), ('cabras', 88), ('cabra', 160), ('molidos', 8), ('taradura', 8), ('cambiaron', 40), ('piénsatelo', 16), ('respecto', 768), ('piénselo', 8), ('muerde', 64), ('perra', 40), ('mesa', 2120), ('embrollo', 24), ('norma', 112), ('estafa', 8), ('descompuesto', 48), ('espeluznante', 8), ('locos', 144), ('gata', 64), ('pagando', 56), ('debe', 2272), ('ésas', 72), ('esas', 856), ('bonitas', 112), ('cucos', 8), ('dados', 32), ('arroja', 16), ('dado', 584), ('billete', 248), ('átate', 16), ('cordones', 88), ('disculpó', 136), ('acercó', 240), ('paliza', 152), ('responder', 776), ('paralizado', 32), ('quedarse', 720), ('65', 40), ('despidió', 48), ('donó', 32), ('sangre', 432), ('aproximó', 24), ('robado', 408), ('asma', 24), ('improvisó', 8), ('improvisación', 8), ('intervino', 72), ('rubio', 56), ('lacroso', 8), ('cerdomarrano', 8), ('friki', 8), ('enano', 8), ('piloto', 168), ('avergonzado', 296), ('taimado', 8), ('concentrado', 8), ('temeroso', 16), ('servicial', 16), ('preso', 56), ('enamorado', 608), ('ídolo', 8), ('travieso', 80), ('servicio', 296), ('relajado', 96), ('temblando', 56), ('frívolo', 16), ('fumando', 96), ('malcriado', 24), ('quejando', 168), ('aviso', 88), ('pellizco', 8), ('leyó', 328), ('acordó', 48), ('recordó', 112), ('copado', 16), ('puso', 2392), ('entendió', 104), ('retratado', 8), ('humilde', 16), ('aterrado', 16), ('luchará', 8), ('cantará', 8), ('llevaba', 840), ('encantador', 64), ('colgado', 48), ('nadando', 232), ('ilusionado', 16), ('¡tom', 56), ('salsa', 56), ('trata', 720), ('encontrarlo', 104), ('pararme', 96), ('enciende', 184), ('tele', 496), ('volumen', 232), ('si', 16784), ('cara', 1320), ('lavaos', 24), ('lávese', 16), ('lávense', 16), ('adoptamos', 16), ('médicos', 96), ('pagarte', 16), ('bebimos', 24), ('perdonamos', 16), ('casamos', 104), ('necesitábamos', 64), ('estudiamos', 72), ('normalmente', 728), ('presentamos', 8), ('voluntarios', 72), ('apuntamos', 16), ('voluntariamente', 32), ('enmarcados', 8), ('culpados', 16), ('llamaremos', 16), ('averiguaremos', 8), ('pintaremos', 8), ('salvaremos', 8), ('hermanos', 720), ('ocupadas', 64), ('confiables', 8), ('divorciados', 16), ('famélicos', 8), ('ingenuos', 40), ('esperanza', 448), ('inquietos', 24), ('morimos', 48), ('colgados', 16), ('minuciosos', 8), ('levantamos', 40), ('observando', 144), ('observamos', 16), ('miramos', 32), ('golpeado', 32), ('concepto', 16), ('país', 1856), ('caluroso', 184), ('chasco', 24), ('decepción', 56), ('pensamiento', 16), ('tragedia', 48), ('¿y', 352), ('podrá', 376), ('causó', 184), ('dedicas', 32), ('haces', 696), ('ocurrirá', 80), ('fallo', 56), ('¿ahora', 120), ('parís', 632), ('estabais', 88), ('rompió', 848), ('guardia', 136), ('mató', 392), ('pintó', 224), ('hará', 568), ('importaría', 368), ('escribió', 720), ('aquel', 1016), ('mientes', 24), ('harás', 184), ('reloj', 1704), ('sonate', 8), ('límpiate', 8), ('adoraban', 24), ('adoraron', 8), ('ciertamente', 136), ('cambiaste', 32), ('pagaste', 40), ('ignorabas', 8), ('ignoraste', 8), ('mentiste', 80), ('negarte', 8), ('vuelvan', 80), ('volváis', 16), ('fuiste', 376), ('tuviste', 104), ('sacaste', 72), ('barata', 120), ('tenías', 392), ('fraude', 40), ('caprichoso', 8), ('mojigato', 8), ('chorro', 8), ('increíbles', 24), ('entretenido', 56), ('andas', 64), ('afortunados', 80), ('superficial', 48), ('flaco', 40), ('servís', 8), ('inservibles', 16), ('lograste', 16), ('vuestra', 488), ('zozobró', 16), ('presentes', 232), ('quien', 1424), ('¿estos', 40), ('tuyos', 136), ('tuyas', 32), ('¿terminamos', 8), ('fantasma', 144), ('coña', 16), ('pregúntame', 40), ('cualquier', 1688), ('bolas', 24), ('redondas', 8), ('preciso', 32), ('abejas', 56), ('tripas', 8), ('estúpidos', 80), ('acércalo', 8), ('traeme', 40), ('esposo', 360), ('¡llame', 16), ('marido', 792), ('¡llamá', 8), ('pedirlo', 24), ('comprarme', 168), ('quedarme', 720), ('apuntarme', 16), ('probármelo', 16), ('ayudarnos', 288), ('arreglarse', 8), ('reparar', 200), ('repararse', 16), ('¿pueden', 144), ('¿podés', 264), ('respirar', 152), ('contribuir', 48), ('gastos', 160), ('oírme', 40), ('oírnos', 32), ('abrirlo', 24), ('mostrarme', 152), ('callar', 40), ('silbar', 48), ('atrapan', 32), ('ratones', 64), ('cajas', 120), ('cerrá', 48), ('escotilla', 16), ('cerrad', 32), ('volvé', 8), ('¡felicidades', 8), ('defiéndete', 8), ('botaste', 8), ('oíste', 96), ('¿les', 232), ('querías', 496), ('amabas', 32), ('echado', 152), ('extrañaste', 16), ('¿dijiste', 16), ('¿viste', 240), ('¿demandaste', 8), ('sabías', 256), ('cava', 8), ('corbata', 632), ('ahoritita', 8), ('¿tenemos', 112), ('hacé', 56), ('puedas', 552), ('¿dudás', 8), ('¿dudas', 16), ('¿comes', 56), ('¿come', 24), ('¿comés', 8), ('¿coméis', 24), ('¿conoces', 336), ('¿vos', 72), ('conocéis', 64), ('¿sabés', 136), ('rap', 8), ('¿echas', 8), ('recuerdas', 192), ('crees', 1200), ('cree', 1432), ('¿confiás', 8), ('¿confías', 16), ('¿confiáis', 8), ('¿ves', 144), ('¿el', 296), ('absurda', 64), ('canuto', 32), ('molestes', 128), ('moleste', 80), ('jodas', 16), ('rompas', 32), ('engañes', 56), ('enoje', 24), ('enojes', 8), ('emborraches', 8), ('interfieras', 8), ('interrumpas', 72), ('mientas', 88), ('exageres', 16), ('ridículo', 232), ('juegues', 88), ('recuerdes', 40), ('mentiras', 128), ('confíes', 88), ('confíe', 16), ('confiéis', 8), ('fíes', 48), ('bebed', 8), ('provecho', 40), ('aproveche', 8), ('viaje', 1192), ('incluso', 640), ('estuvieron', 216), ('sueña', 48), ('miraron', 152), ('oraron', 8), ('produjo', 88), ('sonrisa', 416), ('colectiva', 16), ('búscame', 16), ('píldoras', 16), ('madre', 4264), ('localiza', 8), ('recoged', 8), ('vuestras', 88), ('locas', 32), ('ponme', 48), ('sonríeme', 8), ('bastón', 88), ('entrégame', 16), ('dales', 24), ('¡dámelas', 8), ('¡dámelos', 8), ('pochoclo', 64), ('andate', 8), ('tienda', 1440), ('señal', 144), ('alcanzame', 16), ('traicionó', 136), ('amanecer', 104), ('pudo', 2400), ('volvió', 1176), ('esperanzas', 160), ('7', 120), ('balón', 48), ('derrame', 16), ('cerebral', 24), ('vaqueros', 64), ('jeans', 56), ('puestos', 104), ('toyota', 56), ('cámara', 1368), ('puesto', 1072), ('raqueta', 96), ('boleto', 240), ('diez', 2504), ('coches', 224), ('etíope', 16), ('soñador', 32), ('pintor', 128), ('llegar', 2064), ('seguía', 168), ('disney', 40), ('tigres', 120), ('robot', 56), ('mencionó', 128), ('ríe', 136), ('jamás', 1232), ('presionó', 56), ('cantó', 248), ('desafinado', 8), ('niña', 1192), ('honesto', 416), ('whisky', 72), ('tendencia', 40), ('nara', 64), ('sobrevivirá', 40), ('comediante', 32), ('primer', 1008), ('universidad', 864), ('jardinero', 56), ('realmente', 3280), ('rostro', 176), ('iluminó', 8), ('cabello', 304), ('álbum', 120), ('¡eh', 112), ('falsa', 104), ('1245', 8), ('hacemos', 344), ('sentís', 64), ('sienten', 144), ('fascinante', 104), ('humillante', 32), ('interesante', 1440), ('terminará', 104), ('muchachas', 48), ('españa', 248), ('tokio', 968), ('quitando', 56), ('lengua', 1040), ('reservé', 16), ('quebré', 24), ('permitir', 304), ('permitírmelo', 8), ('apañármelas', 8), ('aguanto', 120), ('soportarlo', 72), ('sentir', 360), ('rendirme', 32), ('oír', 1296), ('evitarlo', 72), ('veros', 136), ('verle', 224), ('deshacerlo', 8), ('resfrié', 24), ('pillé', 48), ('acobardé', 8), ('cociné', 16), ('podía', 2704), ('dedo', 464), ('escuché', 416), ('comprendo', 200), ('pillado', 32), ('sequé', 8), ('huí', 24), ('muerte', 1296), ('traicionada', 8), ('febril', 8), ('impotente', 16), ('desamparado', 32), ('indefenso', 48), ('excluido', 8), ('rechazado', 96), ('daban', 40), ('tosté', 8), ('adiviné', 16), ('correctamente', 96), ('acerté', 16), ('opción', 432), ('política', 368), ('mapaches', 8), ('reptiles', 24), ('tomates', 72), ('barbita', 8), ('chivo', 16), ('caspa', 8), ('fiebre', 376), ('centimo', 32), ('chavo', 40), ('mango', 48), ('lapiceras', 8), ('bolígrafos', 88), ('apurarme', 8), ('automóviles', 56), ('trabajos', 104), ('tambores', 8), ('sirva', 16), ('tobillo', 72), ('codo', 80), ('imaginé', 192), ('ganaríamos', 24), ('cuál', 664), ('aprendí', 448), ('dibujos', 24), ('animados', 8), ('caricaturas', 8), ('escalada', 16), ('automóvil', 224), ('partida', 144), ('comedias', 16), ('berenjenas', 24), ('aprender', 2064), ('festejar', 24), ('casamientos', 8), ('bodas', 80), ('herir', 200), ('conocido', 488), ('ayudarla', 112), ('ayudarlo', 96), ('obedecer', 184), ('decírselo', 120), ('advertirle', 24), ('internet', 192), ('escalera', 256), ('lápiz', 520), ('ducha', 416), ('pañuelo', 192), ('pastillas', 88), ('tijeras', 120), ('afeitarme', 8), ('rindo', 40), ('pedí', 936), ('burlé', 16), ('béisbol', 968), ('jugaba', 184), ('jugué', 104), ('cubierto', 176), ('refugiarme', 8), ('competí', 16), ('alcalde', 224), ('soné', 16), ('campana', 168), ('campanilla', 8), ('leído', 632), ('reconozco', 80), ('corro', 48), ('sacudí', 8), ('arriesgué', 8), ('llevé', 128), ('totalmente', 608), ('traté', 280), ('dólar', 104), ('devolución', 8), ('profesora', 440), ('nací', 400), ('preocupado', 568), ('extenuado', 24), ('petrificado', 16), ('escéptico', 32), ('sorprendió', 528), ('compras', 592), ('10', 416), ('ayudaré', 120), ('detendré', 24), ('negaré', 8), ('negar', 96), ('leerlo', 144), ('estaría', 640), ('volvería', 144), ('haría', 952), ('tenedor', 128), ('arreglaré', 32), ('placer', 168), ('traeré', 88), ('ford', 40), ('vendré', 168), ('buscaré', 24), ('doble', 352), ('premiaré', 8), ('recompensaré', 8), ('entenderé', 16), ('comprenderé', 8), ('cristiano', 64), ('adicto', 120), ('tv', 216), ('carpintero', 32), ('maderero', 8), ('detective', 72), ('salvavidas', 48), ('masoquista', 8), ('ave', 72), ('nocturna', 48), ('atrasado', 200), ('ingeniero', 72), ('banco', 1240), ('enterado', 64), ('suplicando', 8), ('implorando', 8), ('llamando', 192), ('comprendiendo', 8), ('daltónico', 24), ('cómodo', 232), ('cómoda', 200), ('vuelvo', 160), ('carcajeo', 8), ('extrovertida', 16), ('friendo', 24), ('apuros', 80), ('aprieto', 48), ('bañadera', 8), ('bromeo', 8), ('zurdo', 16), ('propio', 616), ('miope', 8), ('celosa', 72), ('perfecta', 176), ('especial', 424), ('gritando', 72), ('armado', 48), ('mente', 368), ('abierta', 688), ('dolorido', 8), ('responsable', 304), ('desmañado', 8), ('modesto', 32), ('podrido', 48), ('farfullando', 32), ('¿respira', 8), ('respirando', 32), ('peligroso', 816), ('¿cubre', 8), ('noticia', 640), ('venenoso', 8), ('pequeña', 1016), ('doctora', 72), ('radio', 888), ('río', 1552), ('viernes', 408), ('¿hoy', 72), ('molesta', 264), ('parecer', 184), ('suceder', 152), ('verdaderamente', 664), ('¡suena', 8), ('siglos', 16), ('fabuloso', 56), ('hecha', 256), ('largo', 1200), ('suave', 176), ('importará', 32), ('empeorará', 16), ('lloverá', 160), ('callejón', 56), ('salida', 248), ('seta', 8), ('atajo', 72), ('sorpresa', 504), ('engendro', 8), ('artificial', 24), ('botado', 16), ('imposible', 800), ('inevitable', 88), ('irrelevante', 48), ('engañoso', 32), ('refrescante', 24), ('sofocante', 8), ('agobio', 8), ('solamente', 144), ('pruébatela', 8), ('envuélvalo', 24), ('tenlo', 16), ('tenedlo', 24), ('presente', 216), ('practicando', 112), ('¡guarde', 8), ('koalas', 16), ('plomo', 32), ('metal', 96), ('mensaje', 768), ('dejadle', 8), ('limones', 40), ('ácidos', 8), ('amargos', 8), ('llevarlo', 56), ('averiguarlo', 48), ('arregle', 48), ('celebremos', 8), ('terminemos', 88), ('remontemos', 32), ('barriletes', 8), ('cometas', 56), ('volemos', 32), ('cometa', 112), ('olvidémoslo', 8), ('tomemos', 96), ('llevémonos', 8), ('emborrachémonos', 8), ('embriaguémonos', 8), ('curémonos', 8), ('alistémonos', 8), ('colectivo', 200), ('descansemos', 24), ('quedémonos', 8), ('paremos', 40), ('intentemos', 64), ('visitemos', 8), ('equitativa', 8), ('oficina', 1736), ('cielo', 712), ('aflojate', 8), ('servida', 32), ('achícalo', 8), ('¡haz', 8), ('¡haced', 8), ('¡armad', 8), ('¡mete', 8), ('boche', 40), ('viuda', 48), ('resplandeciente', 8), ('radiante', 16), ('sobrina', 40), ('esté', 1352), ('veámonos', 40), ('reúnete', 8), ('pelo', 1456), ('voló', 128), ('camisa', 976), ('húmeda', 16), ('zapatos', 1816), ('chirrían', 16), ('olvides', 520), ('botella', 552), ('abran', 48), ('¡abra', 16), ('¡abre', 16), ('¡abrid', 8), ('¡abran', 8), ('divertidas', 32), ('aburren', 24), ('llámalo', 64), ('prosiga', 8), ('arreglad', 8), ('arreglá', 8), ('arreglen', 8), ('leé', 16), ('recuérdamelo', 8), ('repite', 64), ('repítemelo', 8), ('ensilla', 8), ('cuida', 216), ('dile', 632), ('drogas', 304), ('envíelo', 16), ('correo', 592), ('aéreo', 56), ('envíalo', 8), ('mándemelos', 8), ('durmió', 296), ('perdonó', 48), ('cantante', 392), ('despreocupada', 16), ('grácil', 16), ('casó', 584), ('apuñaló', 96), ('ató', 64), ('quitó', 544), ('jadeando', 32), ('brasileña', 16), ('asertiva', 8), ('preciosa', 152), ('piedad', 32), ('tenga', 712), ('muestra', 128), ('cartas', 688), ('mostraos', 8), ('derecho', 728), ('ayude', 536), ('perdón', 368), ('¡toca', 8), ('alarma', 240), ('piensas', 920), ('ortografía', 16), ('cenar', 952), ('¡quedate', 8), ('roba', 24), ('cotilla', 16), ('marujees', 8), ('párese', 24), ('dejad', 16), ('reñiros', 8), ('disputas', 8), ('señora', 136), ('aspirina', 96), ('durar', 144), ('brincó', 32), ('funcionar', 176), ('iglesia', 704), ('pagoda', 8), ('niñada', 8), ('dudoso', 32), ('vestido', 1088), ('personal', 224), ('terrible', 480), ('cordero', 24), ('húmedo', 112), ('echada', 48), ('abrió', 784), ('motor', 264), ('extinguió', 40), ('lago', 848), ('hojas', 328), ('luna', 584), ('red', 56), ('cortó', 424), ('radar', 24), ('calurosa', 56), ('mar', 600), ('color', 528), ('gris', 72), ('soldado', 216), ('fría', 352), ('pozo', 136), ('¡ahí', 16), ('geniales', 32), ('estupendos', 32), ('hablaron', 80), ('charlaron', 24), ('actores', 16), ('melones', 16), ('pilotos', 40), ('lindos', 56), ('lindas', 40), ('amarillos', 40), ('amarillas', 136), ('cenaron', 32), ('cambiar', 888), ('liebre', 24), ('beben', 72), ('temían', 24), ('saludaron', 40), ('tomaron', 160), ('ignoraron', 16), ('viven', 896), ('separados', 80), ('contentos', 88), ('contentas', 8), ('vinieron', 272), ('ataron', 32), ('entendieron', 80), ('equivocados', 96), ('equivocadas', 56), ('quedarán', 24), ('matarán', 16), ('gustará', 112), ('responderán', 8), ('rusos', 24), ('rusas', 16), ('discutiendo', 136), ('correctos', 8), ('becarios', 8), ('prácticas', 8), ('celosos', 16), ('nerviosos', 48), ('charlando', 104), ('aguardando', 16), ('preocupados', 128), ('hotel', 1408), ('basura', 368), ('mahjong', 32), ('destino', 352), ('chévere', 24), ('muchacho', 384), ('final', 928), ('aquellos', 336), ('regalos', 312), ('tíraselo', 8), ('tírasela', 8), ('limitado', 40), ('tiempos', 232), ('duros', 32), ('cual', 192), ('merece', 392), ('errar', 24), ('horneó', 64), ('responsabilizó', 8), ('pilló', 112), ('persiguió', 40), ('asfixió', 16), ('contribuyó', 48), ('aprobó', 192), ('abandonó', 376), ('exageró', 8), ('exagera', 8), ('obtuvo', 184), ('emocionó', 8), ('disparo', 64), ('piano', 1064), ('musulmán', 16), ('banquero', 56), ('cyborg', 8), ('leyenda', 32), ('maníaco', 16), ('sangrando', 56), ('creativo', 24), ('divorciado', 8), ('desconfiado', 16), ('amistoso', 56), ('guapo', 216), ('entrado', 80), ('shock', 72), ('inseguro', 48), ('insolente', 16), ('inspirado', 8), ('implicado', 48), ('aprendiendo', 336), ('socio', 40), ('enemigo', 536), ('perverso', 16), ('atarantado', 8), ('meticuloso', 40), ('ruidoso', 48), ('entrenando', 48), ('patada', 56), ('defraudó', 16), ('mentido', 160), ('vivía', 480), ('tenso', 48), ('fatigado', 8), ('haber', 5416), ('quizás', 416), ('desfallecer', 8), ('desmayarse', 16), ('confundió', 40), ('echó', 424), ('bromea', 24), ('achuchó', 8), ('suavemente', 80), ('sentado', 600), ('abatió', 16), ('robó', 400), ('entiende', 640), ('advirtió', 160), ('enfermero', 48), ('desorientado', 80), ('artero', 16), ('impactado', 32), ('pasmado', 24), ('averiguará', 24), ('recordará', 32), ('primo', 224), ('bostezar', 24), ('apaga', 176), ('apagad', 8), ('encienda', 72), ('destraba', 8), ('lavá', 16), ('cuidadosamente', 176), ('dedos', 392), ('odiamos', 24), ('profesores', 320), ('maestros', 24), ('arrestamos', 8), ('ayudarlos', 64), ('cerramos', 24), ('contamos', 32), ('crudo', 112), ('visita', 256), ('salimos', 136), ('zona', 128), ('picnics', 8), ('waffles', 8), ('gofres', 8), ('conocimos', 184), ('pagamos', 32), ('cantamos', 40), ('compartimos', 80), ('ideas', 400), ('andamos', 24), ('justicia', 104), ('votar', 216), ('éramos', 168), ('seremos', 80), ('asesinados', 48), ('detendremos', 8), ('visitaremos', 32), ('canadienses', 240), ('disponibles', 56), ('cordiales', 16), ('imparciales', 8), ('organizados', 8), ('prisioneros', 104), ('satisfechos', 96), ('bebidos', 8), ('estado', 4832), ('bravo', 16), ('¿estabais', 16), ('catástrofe', 48), ('continuación', 120), ('pasando', 984), ('premio', 448), ('correrás', 8), ('¿adónde', 376), ('peine', 48), ('zoológico', 224), ('¿cuáles', 320), ('individuo', 32), ('enfadados', 56), ('enfadadas', 40), ('tristes', 104), ('preguntaste', 48), ('llorabas', 8), ('lloraste', 16), ('corriste', 8), ('soñamos', 24), ('harías', 296), ('respuesta', 1440), ('anota', 72), ('anote', 32), ('anoten', 16), ('anotad', 32), ('traicionaste', 40), ('engañaste', 24), ('escondas', 64), ('decírnoslo', 8), ('merecías', 16), ('bobo', 8), ('suertudo', 56), ('alegrado', 8), ('deberían', 536), ('dormías', 16), ('dormían', 24), ('alcanzarás', 24), ('descubrirás', 16), ('perderás', 128), ('agradecerás', 8), ('agradecer', 24), ('donnadie', 8), ('murmurando', 64), ('chismorreando', 40), ('decidido', 592), ('decidida', 40), ('remedio', 272), ('inocentes', 8), ('perteneces', 24), ('enemiga', 56), ('enemigos', 256), ('enemigas', 56), ('fiar', 136), ('estancado', 16), ('atascado', 64), ('alas', 112), ('ladrando', 96), ('zorro', 144), ('accidentes', 272), ('ocurren', 104), ('invisible', 48), ('toda', 2944), ('lastimando', 16), ('aplica', 88), ('aplique', 8), ('apliquen', 8), ('japoneses', 416), ('mago', 72), ('sonrojando', 8), ('¿sois', 56), ('bebiendo', 248), ('flexible', 32), ('congelando', 8), ('estudiantes', 1720), ('¿estudias', 64), ('estudias', 128), ('pregúntate', 8), ('atlántida', 32), ('¡sea', 8), ('franco', 32), ('osos', 128), ('muerdete', 8), ('cepíllese', 8), ('dientes', 632), ('cepíllense', 8), ('cepíllate', 32), ('lentos', 40), ('permiten', 40), ('tocar', 1208), ('conejos', 144), ('quedarnos', 136), ('apuntarnos', 8), ('confiar', 776), ('llamarlo', 56), ('encontrarla', 48), ('descubrirlo', 40), ('levantaros', 8), ('enseñarme', 176), ('verifique', 24), ('datos', 168), ('carpeta', 40), ('buzón', 80), ('orden', 352), ('cerezas', 8), ('elige', 112), ('sabiamente', 40), ('espejo', 232), ('persianas', 8), ('cajón', 184), ('ventana', 1776), ('cierre', 160), ('cierren', 24), ('únetenos', 16), ('sentarte', 104), ('consulte', 40), ('¡contrólate', 16), ('¡modérese', 8), ('¡controlate', 8), ('¡pará', 8), ('contrólate', 8), ('cookie', 56), ('cruza', 40), ('puente', 640), ('papas', 296), ('¿pagó', 16), ('tenían', 376), ('¿dijeron', 8), ('¿encontraste', 80), ('divertiste', 48), ('pasaste', 128), ('mataste', 56), ('¿conocías', 8), ('conocíais', 8), ('conocías', 56), ('encontraste', 240), ('votado', 40), ('advertiste', 32), ('dar', 1760), ('inyección', 40), ('quiera', 680), ('¿lloras', 8), ('¿seguido', 8), ('lloras', 32), ('¿niegas', 16), ('¿alguna', 680), ('descansas', 8), ('¿tienen', 192), ('bichos', 8), ('lluvia', 976), ('¿vives', 48), ('¿vivís', 16), ('¿viven', 24), ('¿vive', 32), ('¿necesitáis', 16), ('¿juega', 8), ('¿juegan', 8), ('¿querés', 744), ('¿que', 88), ('deberes', 936), ('preguntéis', 16), ('bruto', 24), ('desanimado', 24), ('desanimada', 8), ('bebáis', 16), ('exageréis', 8), ('atrapen', 32), ('ligero', 128), ('comas', 192), ('cable', 64), ('riñas', 16), ('eches', 64), ('reprimenda', 8), ('sermonees', 8), ('desanimes', 24), ('muecas', 16), ('menciones', 32), ('opongas', 8), ('estafes', 8), ('fume', 40), ('habléis', 40), ('acuses', 8), ('delates', 8), ('toquéis', 24), ('uses', 64), ('dragones', 56), ('molan', 8), ('guays', 16), ('guay', 24), ('trace', 8), ('bailaba', 32), ('saltaron', 16), ('ríen', 32), ('alegraron', 16), ('hubo', 784), ('vitoreo', 8), ('general', 328), ('aclamación', 8), ('triunfa', 16), ('explícamelo', 24), ('acláramelo', 8), ('explíquese', 8), ('¡pelea', 16), ('depósito', 32), ('consejo', 1232), ('¡seguir', 8), ('¿con', 656), ('propósito', 352), ('súbanse', 8), ('grano', 144), ('chance', 72), ('martillo', 160), ('espada', 64), ('¡entrégame', 8), ('dáselos', 16), ('danos', 64), ('diviértete', 16), ('garaje', 120), ('escaleras', 448), ('paraguas', 816), ('pásame', 136), ('cruasán', 40), ('tengáis', 40), ('ponche', 16), ('decidiste', 120), ('portó', 56), ('arruinó', 104), ('infringió', 8), ('cuernos', 24), ('alegría', 128), ('recientemente', 216), ('repente', 528), ('cumple', 96), ('fascinaba', 8), ('reparó', 56), ('pocos', 560), ('melena', 8), ('picasso', 96), ('piernas', 384), ('largas', 232), ('zanahorias', 120), ('colgó', 208), ('italiano', 88), ('distraído', 56), ('universitario', 104), ('pijamas', 32), ('sobrepeso', 48), ('diario', 464), ('acerca', 2568), ('animales', 912), ('cazar', 144), ('naranjas', 296), ('sonreír', 200), ('lentes', 504), ('jugó', 128), ('izó', 8), ('endeudó', 8), ('permaneció', 80), ('fácilmente', 368), ('grita', 56), ('comparte', 64), ('aterroriza', 32), ('volteó', 32), ('giró', 80), ('ipad', 144), ('nació', 640), ('francia', 616), ('persistente', 32), ('pegar', 48), ('bárbaro', 8), ('historiador', 8), ('astuto', 120), ('lisboa', 8), ('envejeciendo', 24), ('senil', 8), ('solitario', 72), ('salud', 992), ('riqueza', 120), ('eche', 40), ('ponerme', 168), ('bici', 120), ('bébete', 16), ('bebeos', 8), ('rojos', 128), ('furiosa', 40), ('aguantá', 8), ('contén', 8), ('respiración', 88), ('momentito', 16), ('hierba', 112), ('declara', 16), ('melodramático', 16), ('mides', 32), ('gafe', 8), ('iba', 1480), ('crecido', 56), ('llevas', 272), ('aborrezco', 24), ('violencia', 264), ('ahogué', 8), ('cedo', 8), ('pasteles', 64), ('poquito', 152), ('contra', 1536), ('guerra', 1512), ('estupefacto', 16), ('brasil', 216), ('noruega', 40), ('bruja', 32), ('relativamente', 64), ('cariño', 64), ('convertido', 112), ('empecé', 240), ('sudar', 48), ('inclinación', 24), ('educadamente', 16), ('golpeé', 32), ('rodilla', 168), ('antes', 6184), ('apenas', 1024), ('mentes', 16), ('moverlo', 16), ('ápice', 24), ('quejarme', 16), ('quejar', 16), ('odiarte', 32), ('oírte', 192), ('oíros', 16), ('oírles', 8), ('oírle', 16), ('ayudaros', 96), ('alcanzar', 248), ('mostrarte', 152), ('soporto', 184), ('pararla', 24), ('detenerla', 8), ('pararle', 16), ('agarré', 56), ('gripe', 128), ('engripé', 8), ('matarte', 88), ('matarlo', 32), ('matarla', 24), ('mataros', 16), ('matarlos', 16), ('matarlas', 16), ('ligera', 88), ('preguntado', 104), ('aposta', 32), ('adrede', 32), ('simpatiza', 8), ('caes', 24), ('relajarme', 88), ('soledad', 48), ('detalles', 312), ('halagado', 8), ('refrescado', 16), ('comparto', 152), ('gorra', 80), ('700', 32), ('parque', 1280), ('química', 136), ('hipocresía', 24), ('sorpresas', 40), ('viajar', 784), ('granada', 8), ('scooter', 8), ('ardor', 8), ('duda', 456), ('futuro', 632), ('vídeo', 120), ('anular', 32), ('suspenderlo', 8), ('cancelar', 112), ('cumplí', 24), ('veinte', 576), ('conseguir', 832), ('pateé', 8), ('normas', 160), ('australia', 1624), ('chocolate', 400), ('idiomas', 416), ('pop', 40), ('playa', 896), ('gustás', 16), ('gustaban', 120), ('estima', 32), ('astronomía', 56), ('yemas', 16), ('fortuna', 256), ('cometí', 88), ('desayuno', 776), ('enfadar', 184), ('agradecérselo', 16), ('masaje', 32), ('milagro', 112), ('primeros', 112), ('auxilios', 40), ('jabón', 112), ('deuda', 160), ('computadora', 320), ('plantado', 40), ('árbol', 1152), ('violoncelo', 8), ('flauta', 72), ('apunté', 72), ('milla', 56), ('etiqueta', 72), ('rehusé', 8), ('arrepiento', 160), ('aconsejen', 16), ('dirijo', 24), ('contuve', 24), ('burlona', 16), ('aún', 2576), ('nado', 112), ('solía', 1680), ('visité', 256), ('despidan', 40), ('divorciarme', 16), ('divorcio', 128), ('pancho', 16), ('martini', 8), ('comérmelo', 24), ('jubilarme', 24), ('2003', 16), ('asombrado', 8), ('piedra', 328), ('infeliz', 120), ('intentaré', 112), ('callado', 168), ('quejaría', 8), ('pondría', 32), ('queja', 168), ('ensalada', 176), ('investigaría', 8), ('echaría', 24), ('apoyaré', 24), ('castigarán', 16), ('¡voy', 8), ('batirte', 8), ('agarrar', 16), ('madrazos', 16), ('comprobaré', 8), ('seguir', 824), ('tí', 32), ('recogeré', 32), ('protegeré', 24), ('consultaré', 8), ('almohada', 144), ('pueda', 1424), ('lavar', 384), ('prima', 96), ('ciudadano', 184), ('estados', 1472), ('unidos', 1448), ('ciudadana', 16), ('traductor', 56), ('ando', 128), ('chilla', 8), ('hule', 24), ('humor', 520), ('anciana', 280), ('registrando', 8), ('decepcionado', 232), ('almorzando', 152), ('enloqueciendo', 16), ('disponible', 168), ('dispuesto', 352), ('colaborar', 16), ('educan', 8), ('enseñan', 40), ('guardés', 16), ('cuido', 40), ('invitando', 8), ('clase', 2688), ('católica', 40), ('mendigo', 48), ('delator', 8), ('embaucando', 8), ('drogo', 8), ('suicida', 56), ('aliado', 56), ('cegato', 8), ('orgulloso', 624), ('orgullosa', 280), ('retraso', 248), ('hastiada', 8), ('quedo', 152), ('nerviosa', 136), ('relajada', 16), ('mucha', 2088), ('ahorrando', 104), ('dibujado', 16), ('sentido', 944), ('¿verdad', 2168), ('sospechoso', 296), ('contactar', 80), ('¿todo', 40), ('contagioso', 40), ('adecuado', 168), ('roja', 448), ('abierto', 264), ('flor', 344), ('puzzle', 40), ('¿éste', 16), ('dvd', 16), ('¿tu', 216), ('llover', 1008), ('2', 96), ('euros', 16), ('enchinada', 8), ('emboscada', 40), ('lloviznaba', 16), ('excesivo', 48), ('fantástico', 64), ('medio', 800), ('hacía', 616), ('ayer', 5152), ('aterrador', 40), ('llevará', 176), ('horas', 2408), ('suena', 592), ('grupo', 480), ('lluvioso', 48), ('soleado', 80), ('mediodía', 352), ('complicado', 192), ('temporada', 160), ('venados', 8), ('oscurecido', 40), ('droga', 88), ('mono', 120), ('truco', 88), ('lógico', 40), ('natural', 136), ('inusual', 72), ('sofá', 448), ('sobre', 5264), ('segunda', 400), ('improbable', 272), ('amargo', 88), ('asia', 88), ('manténgame', 8), ('informado', 120), ('manteneme', 8), ('fuerza', 304), ('abandónalo', 8), ('dejádmelo', 8), ('cargue', 24), ('suéltame', 32), ('suelta', 56), ('suelte', 8), ('soltadme', 8), ('permíteme', 64), ('tratar', 368), ('barrilete', 8), ('papalote', 8), ('probemos', 64), ('almorcemos', 32), ('olvidemos', 48), ('baraja', 24), ('pesquemos', 8), ('candela', 8), ('vela', 88), ('libertad', 272), ('inmortal', 16), ('bajen', 48), ('permiso', 448), ('elección', 264), ('marimacho', 16), ('chicazo', 16), ('encantadora', 88), ('abrir', 664), ('funcione', 80), ('azules', 184), ('adoloridos', 16), ('fríos', 56), ('pequeñita', 8), ('minúscula', 16), ('pulso', 80), ('elevado', 40), ('quemadura', 16), ('garganta', 192), ('juguete', 160), ('dañado', 32), ('pega', 56), ('prestó', 112), ('previno', 48), ('importar', 304), ('ilesos', 24), ('esfuerzo', 288), ('enseñado', 72), ('enseñó', 560), ('erróneo', 24), ('intentad', 16), ('intente', 48), ('intenten', 16), ('ventanas', 440), ('gane', 128), ('ketchup', 64), ('ridícula', 56), ('mascotas', 56), ('contestame', 8), ('educado', 144), ('calmaos', 8), ('tranquilícese', 8), ('copiad', 8), ('copie', 8), ('copiá', 8), ('copien', 8), ('sígame', 8), ('retroceda', 16), ('inténtelo', 16), ('dese', 8), ('dense', 24), ('hala', 8), ('gatillo', 128), ('envía', 24), ('¡apaga', 8), ('¡dejen', 8), ('quejarse', 136), ('quejaros', 16), ('precipitación', 8), ('levantá', 24), ('levanten', 24), ('levante', 64), ('artículo', 312), ('tinto', 136), ('respétate', 16), ('venganza', 96), ('roma', 240), ('italia', 288), ('ahórrate', 32), ('saliva', 16), ('palabrería', 8), ('oraciones', 32), ('véalo', 16), ('compártelo', 8), ('compartilo', 16), ('derrotó', 24), ('despreció', 8), ('desprecia', 64), ('1960', 32), ('divorció', 72), ('idolatraba', 8), ('insultó', 88), ('pianista', 104), ('calcetines', 280), ('rechazó', 264), ('rechaza', 16), ('montó', 96), ('camello', 80), ('chao', 8), ('cantaba', 80), ('alegremente', 24), ('melancólicamente', 8), ('carretero', 24), ('fijó', 24), ('mirada', 296), ('arduamente', 56), ('promovida', 8), ('venderla', 16), ('mostranos', 8), ('tamaño', 184), ('disculpe', 296), ('tardanza', 32), ('disculparte', 40), ('disculpes', 24), ('evitarme', 8), ('metiche', 8), ('interferir', 48), ('pellizcarme', 8), ('asustar', 40), ('presumir', 24), ('sobarme', 8), ('tocarme', 24), ('saquen', 24), ('precaución', 48), ('¡dímelo', 16), ('cordialmente', 16), ('mochila', 216), ('ayudado', 176), ('asombroso', 80), ('mejorable', 8), ('mejorarse', 8), ('hermoso', 416), ('discutible', 16), ('deshonesto', 48), ('asunto', 1080), ('ofensivo', 32), ('problemático', 16), ('reventó', 48), ('globo', 56), ('pesada', 160), ('jaula', 136), ('vacía', 296), ('marrón', 88), ('tictac', 48), ('cortina', 128), ('telón', 24), ('muriéndose', 8), ('chirrió', 32), ('¡se', 16), ('jurado', 104), ('desacuerdo', 48), ('resultó', 464), ('clara', 136), ('bombilla', 32), ('fundida', 16), ('apagada', 8), ('micrófono', 40), ('lechero', 24), ('fiesta', 3032), ('piscina', 200), ('carrera', 520), ('paró', 440), ('carretera', 272), ('congelada', 32), ('oscura', 144), ('show', 64), ('función', 112), ('despejado', 48), ('tormenta', 584), ('amainó', 24), ('aflojó', 24), ('gemelas', 40), ('secó', 136), ('curó', 48), ('cabe', 88), ('apuro', 64), ('límite', 104), ('lastiman', 16), ('observaron', 16), ('comtemplaron', 8), ('cantantes', 64), ('degradaron', 8), ('descendieron', 8), ('merecían', 8), ('desprecian', 40), ('desaparecieron', 24), ('cavaron', 8), ('tumba', 112), ('casaron', 112), ('sensatos', 8), ('mintieron', 16), ('confiaron', 16), ('confiaban', 24), ('comían', 16), ('cederán', 8), ('encontrarán', 48), ('acordarán', 8), ('escapando', 56), ('escapan', 8), ('peleando', 192), ('inmaduros', 8), ('involucrados', 48), ('traidores', 16), ('raras', 56), ('medítalo', 16), ('medita', 16), ('antiguo', 216), ('encaja', 48), ('839', 8), ('lujo', 144), ('entrenador', 104), ('entrenadora', 8), ('relajante', 32), ('sabotaje', 8), ('faltaba', 40), ('cds', 48), ('admira', 56), ('pierde', 160), ('saciarse', 8), ('evitaba', 24), ('cuidó', 136), ('trajo', 336), ('venía', 176), ('decidir', 360), ('rehusarse', 16), ('convenció', 280), ('detesta', 40), ('divirtió', 88), ('tuberculosis', 16), ('2009', 8), ('darse', 144), ('perilla', 48), ('coartada', 88), ('pecas', 32), ('insomnio', 16), ('aceitunas', 16), ('ignoró', 160), ('fascista', 8), ('luchador', 16), ('guerrero', 32), ('patriota', 16), ('plomero', 16), ('recluso', 16), ('campesino', 32), ('refugiado', 8), ('manipulador', 24), ('maquinador', 8), ('cirujano', 80), ('traidor', 64), ('camionero', 40), ('viudo', 8), ('ambicioso', 40), ('brillante', 152), ('volviendo', 232), ('embustero', 32), ('excéntrico', 16), ('emocional', 24), ('enérgico', 8), ('despistado', 64), ('mejorando', 104), ('ocultando', 232), ('sincero', 112), ('sobrino', 56), ('obsesivo', 8), ('perplejo', 24), ('indeciso', 32), ('debilitando', 8), ('debilita', 8), ('silbando', 40), ('hockey', 72), ('ponis', 8), ('reggae', 24), ('encendió', 208), ('prendió', 144), ('horno', 96), ('lucía', 152), ('fiero', 8), ('deportes', 256), ('puñetazo', 72), ('rescató', 40), ('sentó', 832), ('tronco', 16), ('regañó', 72), ('agradeció', 136), ('zancadilleó', 8), ('visitó', 240), ('alejó', 32), ('pony', 24), ('raptado', 24), ('ejecutado', 40), ('dudando', 8), ('torturado', 40), ('observó', 80), ('observa', 40), ('encontrará', 64), ('amará', 56), ('alegrará', 64), ('aparecerá', 56), ('tendrá', 352), ('éxito', 1056), ('entrará', 24), ('trabajaba', 224), ('preocuparos', 16), ('preocuparse', 208), ('tratad', 8), ('trate', 56), ('tuerce', 8), ('gire', 64), ('girad', 16), ('involucrado', 152), ('riega', 32), ('plantas', 208), ('aceptamos', 72), ('cheques', 96), ('odiábamos', 8), ('amábamos', 8), ('confiamos', 24), ('llegamos', 320), ('competimos', 8), ('vinimos', 56), ('230', 568), ('dependemos', 24), ('molestamos', 8), ('dimos', 152), ('crisis', 96), ('teoría', 304), ('visitas', 80), ('oímos', 152), ('tiros', 24), ('escuchamos', 80), ('topamos', 24), ('acabamos', 120), ('referimos', 8), ('pasada', 912), ('evacuar', 40), ('sentarnos', 88), ('avisarle', 24), ('retirarnos', 8), ('líder', 152), ('pruebas', 168), ('regreses', 56), ('apegados', 8), ('encallados', 8), ('estudiábamos', 8), ('entusiasmados', 16), ('partido', 752), ('rescatados', 16), ('encontraremos', 72), ('sabremos', 48), ('notificaremos', 8), ('pagaremos', 24), ('hablaremos', 72), ('compañeros', 224), ('llevamos', 152), ('historiadores', 8), ('apurados', 24), ('socorristas', 8), ('rodeados', 16), ('completamente', 880), ('película', 1752), ('bonita', 576), ('larga', 656), ('dijisteis', 32), ('querés', 712), ('desgracia', 112), ('sucede', 120), ('pachuca', 8), ('toluca', 8), ('mudarnos', 8), ('empezamos', 144), ('¿cúando', 16), ('aparcar', 136), ('estacionar', 120), ('¿hacia', 40), ('empiezo', 72), ('aduana', 24), ('cuchilla', 8), ('resto', 520), ('correcta', 416), ('pastel', 440), ('estropeó', 40), ('llamaste', 224), ('asesinado', 184), ('hamlet', 32), ('invitarían', 8), ('viniste', 232), ('vinisteis', 8), ('renunciaste', 8), ('paraste', 16), ('quedaste', 64), ('gritaste', 8), ('ayudarás', 40), ('acompañáis', 8), ('unirás', 16), ('unirán', 8), ('abandonaste', 40), ('perturbado', 8), ('guapísima', 16), ('espléndida', 32), ('escapar', 352), ('lidias', 8), ('mereces', 96), ('golpearon', 40), ('entendiste', 32), ('pulsera', 56), ('mami', 24), ('lastimaste', 16), ('diriges', 8), ('defraudaste', 8), ('sorprendido', 568), ('sorprendida', 88), ('atrasaste', 8), ('lleves', 88), ('equivoques', 16), ('decírmelo', 48), ('pasatiempo', 272), ('lees', 88), ('salvado', 64), ('deberíais', 232), ('empezar', 720), ('estuviste', 264), ('moriréis', 8), ('morirán', 16), ('ajustarás', 8), ('establecidas', 8), ('necesitarás', 32), ('impacientes', 72), ('motivados', 24), ('necesario', 656), ('autoridad', 144), ('práctico', 72), ('propietario', 32), ('sabio', 104), ('sabia', 120), ('engordado', 80), ('enrojecida', 8), ('¡tienes', 72), ('mutiló', 8), ('torrencial', 16), ('agrega', 24), ('añada', 32), ('ajusta', 16), ('frenos', 80), ('ajustad', 8), ('gratuita', 48), ('iguales', 248), ('molestando', 104), ('¿voy', 56), ('único', 1712), ('arresto', 48), ('detenido', 128), ('américa', 560), ('cometió', 232), ('respóndame', 8), ('papel', 840), ('americanos', 144), ('estadounidenses', 248), ('olvidadiza', 24), ('desmemoriado', 8), ('¿salís', 8), ('¿van', 48), ('libres', 128), ('¿tocas', 32), ('¿escuchas', 40), ('creyente', 40), ('chef', 48), ('preguntale', 16), ('sincera', 88), ('sinceras', 32), ('demás', 648), ('compórtate', 8), ('¡cuidado', 16), ('construyen', 40), ('nidos', 16), ('profundamente', 496), ('inspira', 24), ('ambulancia', 168), ('hospital', 1304), ('llamad', 16), ('mordida', 32), ('probarme', 24), ('¿todos', 104), ('rentar', 16), ('¿oyes', 24), ('firmar', 128), ('ocuparte', 40), ('coger', 480), ('lazo', 40), ('despedir', 136), ('champaña', 16), ('elija', 48), ('click', 32), ('enlace', 64), ('pincha', 8), ('codificar', 8), ('codificación', 8), ('insisto', 8), ('admítelo', 16), ('aprisa', 8), ('apura', 8), ('tócala', 8), ('¿podrías', 1064), ('callarte', 24), ('crimen', 400), ('compensa', 56), ('delincuencia', 16), ('repártenos', 8), ('naipes', 16), ('inminente', 16), ('defendeos', 8), ('pases', 56), ('vueltas', 136), ('¿desperté', 8), ('desperté', 240), ('¿hirió', 8), ('¿besó', 8), ('¿conocía', 8), ('¿fracasó', 16), ('¿compraste', 96), ('¿comprasteis', 8), ('¿compró', 8), ('¿compraron', 24), ('zumo', 120), ('¿oíste', 104), ('besado', 56), ('besaste', 40), ('¿sabías', 104), ('¿viviste', 8), ('vivido', 352), ('habías', 384), ('saliste', 40), ('¿las', 80), ('hormigas', 56), ('¿beben', 8), ('ríes', 32), ('¿tenés', 256), ('mascota', 72), ('jugo', 264), ('¿necesitas', 176), ('¿necesita', 16), ('rosa', 208), ('¿hueles', 16), ('¿comprende', 16), ('¿entendéis', 8), ('¿comprendes', 16), ('¿entiende', 8), ('¿comprendéis', 8), ('¿queréis', 152), ('dé', 224), ('¿desean', 8), ('abrace', 40), ('¿quieren', 208), ('¿importa', 8), ('cobarde', 144), ('engañéis', 16), ('cambies', 80), ('decepciones', 40), ('defraudes', 24), ('desilusiones', 16), ('busques', 24), ('repitas', 16), ('amenaces', 8), ('despiertes', 8), ('¡tira', 8), ('armas', 336), ('¡arrojen', 8), ('¡tiren', 8), ('¡arroja', 8), ('terror', 104), ('chillido', 48), ('llene', 40), ('formulario', 176), ('llená', 16), ('completá', 8), ('completa', 88), ('complete', 24), ('consígame', 8), ('cuelga', 72), ('arrodíllate', 8), ('rodillas', 104), ('poneos', 32), ('arrodillaos', 8), ('salga', 240), ('¡dámelo', 8), ('cuchara', 80), ('seguida', 192), ('señores', 32), ('noches', 360), ('señoritas', 8), ('consejera', 8), ('heno', 24), ('fiera', 16), ('chantajeó', 24), ('bloqueó', 24), ('palmó', 8), ('mejoró', 64), ('tres', 5976), ('marrones', 48), ('castaño', 64), ('remordimiento', 24), ('casas', 424), ('mantuvo', 272), ('biólogo', 32), ('poeta', 120), ('nato', 16), ('temerario', 8), ('verdadero', 424), ('científico', 192), ('40', 72), ('influyente', 24), ('introvertido', 16), ('misma', 1584), ('fumador', 16), ('enviar', 176), ('texto', 296), ('guardó', 104), ('suicidó', 208), ('encima', 536), ('osaka', 296), ('reputación', 168), ('trasladó', 48), ('pidió', 2048), ('posee', 144), ('tierra', 728), ('empujó', 88), ('rehuso', 8), ('marinero', 24), ('sacudió', 40), ('ruso', 112), ('fósforo', 32), ('estudió', 184), ('exterior', 112), ('vitaminas', 72), ('tomó', 1248), ('sacó', 688), ('foto', 1136), ('convirtió', 232), ('torció', 40), ('violó', 16), ('sonrisas', 24), ('encarcelado', 8), ('encolerizado', 8), ('volverá', 488), ('usaba', 64), ('pantalones', 272), ('guiones', 16), ('recuperará', 56), ('pasará', 344), ('conductor', 344), ('chofer', 56), ('ideal', 88), ('sobreactuando', 8), ('atiende', 48), ('advertencias', 56), ('atienda', 8), ('atiendan', 8), ('pollera', 88), ('cierta', 264), ('dirección', 936), ('recibo', 80), ('ordenada', 80), ('agárraos', 16), ('agárrese', 16), ('agárrense', 16), ('sujétate', 16), ('sujétaos', 8), ('sujétese', 8), ('sujétense', 8), ('ascensor', 264), ('barandilla', 8), ('irás', 80), ('complejidad', 8), ('19', 24), ('vegetariano', 56), ('horneando', 32), ('deudas', 80), ('ecuador', 56), ('diestro', 16), ('curiosa', 24), ('destrozado', 56), ('cebé', 8), ('anzuelo', 40), ('cactus', 8), ('nopal', 8), ('híbrido', 16), ('pasaje', 120), ('pedido', 296), ('consolarla', 32), ('chopin', 40), ('proteger', 184), ('culpar', 200), ('culparos', 8), ('culparte', 80), ('rezar', 24), ('decidí', 352), ('dimitir', 64), ('seguido', 232), ('obtenerlo', 8), ('rehusar', 16), ('exigo', 8), ('reembolso', 32), ('limpié', 32), ('besé', 32), ('robé', 64), ('reprocho', 16), ('voto', 48), ('vacuno', 24), ('pool', 8), ('billar', 16), ('conduje', 40), ('pinto', 8), ('abandoné', 24), ('bofetón', 8), ('consigo', 264), ('acuesto', 72), ('abeja', 80), ('conseguí', 200), ('saqué', 136), ('siete', 928), ('recibido', 296), ('pasé', 672), ('pesadilla', 128), ('sufrí', 16), ('decirle', 912), ('hipócritas', 8), ('mosquitos', 72), ('padres', 2576), ('ordenador', 568), ('computador', 480), ('resaca', 88), ('jaqueca', 16), ('otitis', 8), ('negros', 120), ('discos', 16), ('puntas', 32), ('abiertas', 96), ('sobrinas', 24), ('distinta', 136), ('ignoro', 24), ('inventarlo', 16), ('inventar', 32), ('vendrías', 80), ('ganarás', 8), ('cantos', 8), ('populares', 128), ('sándwiches', 104), ('chucrut', 8), ('sandía', 32), ('bufanda', 104), ('estilo', 128), ('bloqueado', 16), ('trancado', 8), ('arete', 32), ('silla', 712), ('algunas', 1968), ('minutos', 1952), ('teclado', 128), ('compro', 88), ('emborracho', 16), ('amé', 16), ('ordené', 88), ('100', 208), ('guitarra', 912), ('choqué', 40), ('rehúso', 32), ('salvé', 24), ('bordillo', 32), ('envié', 40), ('concuerdo', 16), ('largarme', 8), ('beber', 1264), ('firmé', 8), ('jugando', 936), ('tabaco', 136), ('opinión', 904), ('pensaba', 984), ('vengué', 8), ('usé', 40), ('plato', 312), ('acostumbraba', 48), ('comúnmente', 224), ('descuento', 80), ('disculpa', 192), ('creer', 1560), ('competir', 56), ('confesar', 48), ('chaqueta', 408), ('frustrado', 48), ('área', 256), ('zoo', 176), ('¡nunca', 40), ('lotería', 144), ('juzgar', 168), ('hubiera', 1456), ('esperado', 256), ('agradecería', 64), ('devastado', 24), ('devolveré', 64), ('ire', 8), ('esconderé', 16), ('oraré', 8), ('rezaré', 8), ('mandar', 88), ('liberaré', 8), ('acompañaré', 56), ('trabajaré', 24), ('escribiré', 72), ('dependiente', 48), ('astrónomo', 16), ('siendo', 888), ('observado', 32), ('concentrando', 8), ('tomando', 344), ('pera', 32), ('ayuno', 8), ('poniendo', 280), ('empeorando', 120), ('alegra', 416), ('rayado', 16), ('toilette', 8), ('llevando', 80), ('adelgazando', 16), ('convencida', 32), ('abandono', 8), ('miento', 32), ('convencido', 272), ('convence', 8), ('persuade', 8), ('18', 80), ('echando', 48), ('bofes', 8), ('hígado', 56), ('sale', 680), ('muchísima', 16), ('bañando', 64), ('twitter', 48), ('cliente', 144), ('vecino', 320), ('perdonado', 80), ('diarrea', 16), ('cagalera', 8), ('evidencia', 184), ('rumores', 112), ('identifíquese', 16), ('puro', 64), ('torta', 672), ('toque', 168), ('impresionante', 104), ('caro', 704), ('pedazos', 96), ('sentidos', 56), ('piadosa', 8), ('egipcio', 16), ('resulta', 168), ('familiar', 136), ('resultar', 96), ('desagradable', 96), ('daba', 176), ('sorprendente', 56), ('imprevisto', 16), ('crecer', 88), ('grasoso', 16), ('carga', 144), ('conspiración', 16), ('diccionario', 1024), ('comienzo', 320), ('emergencia', 256), ('urgencias', 16), ('confidencial', 48), ('vivificante', 16), ('turistas', 168), ('¡todo', 24), ('humana', 96), ('bolsillo', 336), ('probablemente', 872), ('llueve', 696), ('bello', 224), ('bella', 392), ('cerrado', 176), ('subiendo', 136), ('molde', 8), ('escucharme', 24), ('escúchame', 48), ('acerques', 80), ('alejado', 64), ('alejada', 32), ('abrigo', 776), ('lleve', 240), ('permítame', 104), ('menú', 296), ('empecemos', 120), ('casémonos', 8), ('centro', 408), ('echemos', 32), ('cenemos', 24), ('démonos', 32), ('investiguemos', 8), ('escondamos', 16), ('pasemos', 48), ('cojamos', 16), ('maravillosa', 208), ('precio', 640), ('vence', 8), ('predicción', 48), ('decídete', 24), ('¡maría', 8), ('vivaracha', 8), ('vivaz', 8), ('bañar', 24), ('ponerlo', 80), ('podamos', 248), ('modales', 104), ('brazos', 200), ('entumecieron', 16), ('blancos', 112), ('pican', 24), ('atadas', 24), ('afición', 64), ('desaparecido', 128), ('hombro', 272), ('panza', 24), ('ofrece', 24), ('movido', 8), ('tené', 16), ('explícate', 8), ('explicarte', 24), ('perdóname', 72), ('perdóneme', 56), ('perdonarme', 40), ('reconsidera', 8), ('postura', 96), ('tapa', 112), ('gotera', 32), ('tapad', 8), ('tape', 16), ('tapen', 8), ('poetas', 24), ('escriben', 8), ('poemas', 192), ('ponelo', 16), ('póngalo', 32), ('apague', 88), ('¡arriba', 16), ('molestarme', 32), ('léalo', 8), ('alfombras', 16), ('absorben', 16), ('sonido', 256), ('dígalo', 24), ('decidlo', 16), ('díganlo', 16), ('atorníllalo', 8), ('firmemente', 64), ('próxima', 808), ('envíamelo', 8), ('debutó', 8), ('manejarlo', 24), ('facilidad', 352), ('emborrachó', 32), ('fotografía', 304), ('figura', 88), ('planta', 168), ('agresiva', 16), ('atractiva', 152), ('31', 24), ('secretos', 136), ('desgraciada', 8), ('apresuró', 32), ('apurar', 24), ('alemán', 416), ('polaco', 24), ('aterrorizaba', 8), ('trató', 728), ('deprimida', 24), ('subió', 352), ('amargamente', 16), ('conseguirá', 24), ('hiperactiva', 8), ('desnuda', 48), ('sonroja', 16), ('muéstreme', 80), ('muéstrenme', 8), ('¡enséñame', 16), ('cerrada', 432), ('entran', 16), ('tesoro', 144), ('resuelva', 32), ('resuelve', 40), ('surgió', 48), ('tejen', 16), ('redes', 16), ('robar', 232), ('dejate', 8), ('joder', 8), ('exagerar', 48), ('fome', 8), ('gorro', 40), ('medicina', 504), ('decidme', 64), ('termitas', 16), ('preguntarme', 80), ('antemano', 40), ('avance', 48), ('indispensable', 64), ('esencial', 56), ('fundamental', 16), ('nudo', 104), ('flojo', 64), ('bastar', 16), ('acontecerá', 8), ('abeto', 8), ('faisán', 8), ('entristecedor', 8), ('terrorífico', 16), ('espíritu', 16), ('bar', 192), ('sabroso', 48), ('sabrosa', 24), ('asustó', 80), ('espantó', 8), ('buenísima', 8), ('local', 104), ('desafilado', 16), ('amellado', 8), ('romo', 16), ('amantes', 24), ('agonizando', 8), ('mercado', 192), ('amplio', 32), ('alquiler', 144), ('templada', 8), ('cálida', 104), ('zarpó', 8), ('espesa', 40), ('táctica', 16), ('test', 88), ('continuaba', 8), ('pura', 72), ('dioses', 24), ('pelea', 312), ('obstáculo', 16), ('juicio', 160), ('carnicería', 24), ('margaritas', 24), ('verdaderos', 88), ('nuestros', 968), ('viejas', 112), ('traicionaron', 16), ('movieron', 8), ('cedieron', 40), ('escuchan', 32), ('siguieron', 144), ('cazaban', 8), ('zorros', 48), ('continuaron', 24), ('saludables', 40), ('asesinaron', 40), ('adelantaron', 24), ('hablaban', 56), ('torturaron', 24), ('maravillosos', 32), ('muertas', 24), ('idénticos', 24), ('agradables', 24), ('sorprendidos', 104), ('cubeta', 32), ('fuga', 48), ('balde', 136), ('cojonudo', 16), ('buenísimo', 16), ('riquísimo', 8), ('extorsión', 8), ('galimatías', 8), ('incoherente', 8), ('graciosísimo', 16), ('desordenado', 24), ('espagueti', 64), ('insípido', 8), ('parada', 344), ('servir', 96), ('tírame', 32), ('bola', 96), ('jueves', 56), ('contestó', 120), ('atacó', 136), ('creía', 592), ('molestia', 40), ('burdo', 8), ('cocinó', 88), ('preparó', 208), ('menospreció', 8), ('menosprecia', 16), ('tiñó', 56), ('alimentó', 24), ('traicionado', 32), ('bug', 16), ('bicho', 32), ('discurso', 496), ('insoló', 8), ('debilitó', 8), ('adivinó', 24), ('alergias', 40), ('iphone', 24), ('artritis', 24), ('piel', 232), ('ingresos', 112), ('finos', 24), ('ondulado', 24), ('imitó', 8), ('civil', 88), ('demócrata', 16), ('diseñador', 32), ('diabético', 40), ('lobista', 8), ('mecánico', 40), ('asesino', 152), ('homicida', 24), ('pacifista', 8), ('reportero', 32), ('vendedor', 80), ('hechicero', 8), ('adolescente', 88), ('debilucho', 8), ('agresivo', 72), ('diplomático', 40), ('bajando', 120), ('fascinado', 24), ('creciendo', 96), ('histérico', 8), ('indiscreto', 16), ('intolerante', 16), ('hipnotizado', 24), ('novio', 704), ('padrastro', 40), ('alumno', 96), ('empacando', 16), ('apasionado', 32), ('tartamudeando', 8), ('ganador', 32), ('infiel', 24), ('fiable', 72), ('tajante', 8), ('vulnerable', 16), ('cediendo', 16), ('empatía', 16), ('rubias', 40), ('langosta', 24), ('tejer', 16), ('cigarro', 136), ('estufa', 112), ('malinterpretó', 8), ('pausa', 104), ('ofendió', 24), ('poseía', 40), ('renta', 64), ('intoxicó', 8), ('postuló', 56), ('ante', 352), ('reconoció', 120), ('jubiló', 40), ('asaltó', 32), ('pacientemente', 64), ('video', 72), ('firmó', 112), ('confidencialidad', 8), ('adc', 8), ('estafó', 16), ('amenazó', 64), ('usó', 104), ('vomitó', 8), ('resultados', 264), ('absuelto', 16), ('secuestrado', 48), ('estrangulado', 16), ('aterrorizado', 32), ('saludaba', 8), ('descubrirá', 40), ('diría', 288), ('sabría', 48), ('poesía', 48), ('incompetente', 48), ('imparable', 16), ('calmarte', 16), ('tranquilizarte', 24), ('voltéate', 8), ('prendé', 8), ('giren', 8), ('cervezas', 64), ('úsalo', 8), ('piérdelo', 8), ('¡visítenos', 8), ('¡espere', 8), ('abandonado', 224), ('líquido', 40), ('aborrecemos', 8), ('defectos', 104), ('creemos', 128), ('cultivamos', 16), ('bailamos', 24), ('juntas', 112), ('tomamos', 136), ('metimos', 16), ('aprendimos', 40), ('anhelamos', 8), ('admiramos', 16), ('misterios', 32), ('facultad', 16), ('echamos', 64), ('apurarnos', 24), ('mantener', 600), ('empleos', 32), ('reconocimos', 8), ('alquilamos', 32), ('canoa', 40), ('partir', 368), ('aspiramos', 16), ('felicidad', 328), ('comprendemos', 24), ('estuvimos', 224), ('vecinos', 304), ('batalla', 192), ('jugaremos', 32), ('cruz', 80), ('aventureros', 8), ('invitados', 344), ('indefensos', 8), ('desvalidos', 16), ('extrovertidos', 16), ('conejillos', 8), ('indias', 8), ('periodistas', 24), ('perfectos', 16), ('adictos', 40), ('probando', 16), ('escondernos', 56), ('abrigada', 8), ('colección', 96), ('novedosa', 8), ('original', 96), ('sentiste', 8), ('sintieron', 80), ('escondiste', 56), ('ocurre', 208), ('pretendía', 152), ('dirás', 48), ('pasaría', 112), ('olor', 184), ('cuánto', 976), ('escribes', 32), ('vuelo', 384), ('estacionarnos', 8), ('comenzamos', 16), ('vives', 192), ('vodka', 56), ('¿quienes', 8), ('inventó', 224), ('fabricado', 40), ('estuvisteis', 32), ('andabas', 8), ('levantada', 8), ('tumbado', 72), ('marchó', 152), ('llorás', 8), ('sufrir', 40), ('riesgo', 264), ('arriesgarnos', 24), ('casarte', 192), ('contado', 232), ('inflamable', 8), ('¡ah', 8), ('pegas', 8), ('maestra', 152), ('actrices', 16), ('importantes', 208), ('responderlo', 16), ('estacionarse', 32), ('vencerme', 16), ('negarlo', 32), ('rendirte', 16), ('perdértelo', 16), ('perdéroslo', 24), ('vender', 312), ('podrías', 664), ('diste', 232), ('escuchaste', 112), ('engañas', 40), ('sabrás', 72), ('adivinaste', 8), ('tomaste', 104), ('darte', 416), ('acaban', 72), ('agradan', 48), ('luces', 400), ('europeo', 32), ('europea', 16), ('fabulosa', 16), ('cometido', 360), ('hiciera', 744), ('reír', 288), ('necesites', 152), ('apurarte', 48), ('detenerlo', 48), ('relajarte', 40), ('corres', 16), ('salvaste', 8), ('estresado', 8), ('hablas', 432), ('habláis', 24), ('cómicos', 8), ('entiendes', 128), ('¡eras', 8), ('graciosos', 24), ('vencerás', 24), ('encontrarás', 184), ('hacéis', 40), ('embromando', 8), ('rodeado', 104), ('experta', 16), ('pálida', 32), ('arañado', 8), ('contesta', 32), ('logra', 56), ('¿incluye', 8), ('comidas', 160), ('¿viene', 16), ('budista', 32), ('culpando', 72), ('tontos', 48), ('productivo', 32), ('¿todavía', 432), ('ansioso', 128), ('pídele', 144), ('pedidle', 8), ('apártense', 8), ('plátanos', 104), ('marque', 24), ('cambiando', 120), ('pero', 8304), ('tranquilicen', 8), ('llevármelo', 8), ('recoger', 176), ('recogerlo', 40), ('olerlo', 16), ('humanos', 184), ('revisen', 8), ('bolsillos', 120), ('revise', 32), ('sígannos', 8), ('síganos', 8), ('considerá', 8), ('controlaos', 8), ('cruzá', 24), ('creyó', 240), ('¿sobornó', 8), ('cenó', 80), ('¿tenía', 16), ('vivían', 56), ('vivieron', 48), ('¿fuiste', 112), ('invitaste', 72), ('invitasteis', 8), ('divide', 56), ('¿acepta', 16), ('¿aceptas', 8), ('creéis', 40), ('pulpo', 16), ('¿hablás', 16), ('mozart', 24), ('robots', 40), ('¿añoras', 8), ('aventón', 56), ('juegas', 112), ('acuerdas', 216), ('recorte', 8), ('sangran', 16), ('encías', 24), ('salvan', 16), ('vidas', 120), ('¿conoce', 64), ('ofende', 8), ('¿sabe', 240), ('¿muerde', 8), ('avaricioso', 16), ('resfríes', 8), ('exceso', 56), ('vencido', 128), ('malentienda', 24), ('malinterprete', 8), ('paranoico', 64), ('deis', 16), ('den', 56), ('riais', 8), ('escena', 208), ('pongas', 192), ('excusas', 96), ('pongáis', 8), ('pongan', 16), ('causes', 16), ('metas', 112), ('pienses', 136), ('trates', 104), ('condescendencia', 8), ('pronuncies', 8), ('paren', 24), ('arriesgues', 32), ('piedras', 104), ('camines', 24), ('trabajes', 72), ('¡muera', 8), ('rey', 520), ('relaja', 24), ('¡vaciá', 8), ('¡vacía', 8), ('dudaron', 8), ('vacilaron', 8), ('agradabas', 16), ('piensan', 256), ('creen', 200), ('molestos', 8), ('molestas', 16), ('estupefactos', 16), ('explicaos', 8), ('rellene', 40), ('huecos', 16), ('llénalo', 8), ('ejemplo', 264), ('olvida', 168), ('olvide', 152), ('olviden', 40), ('aléjese', 16), ('sácame', 16), ('levántame', 16), ('¡desaparece', 8), ('¡sal', 32), ('deshazte', 8), ('deshágase', 16), ('sácanos', 16), ('despertar', 224), ('escoba', 104), ('entrégueme', 8), ('distancia', 400), ('acción', 152), ('abusó', 32), ('comportó', 24), ('estúpidamente', 8), ('comprarse', 136), ('compás', 32), ('gustamos', 32), ('disfrutaba', 24), ('obligó', 56), ('regaló', 256), ('bajó', 448), ('apretó', 144), ('retirarse', 64), ('graso', 8), ('pasos', 40), ('contuvo', 56), ('compañero', 192), ('colega', 24), ('desalmado', 24), ('aventuras', 40), ('aventura', 56), ('memoria', 464), ('chismes', 24), ('haló', 8), ('alzó', 104), ('rinde', 16), ('impunemente', 24), ('precedente', 8), ('rapó', 8), ('mostró', 440), ('tocó', 216), ('apelar', 16), ('4', 48), ('envejecía', 16), ('habían', 336), ('invitaron', 152), ('gustar', 120), ('culturista', 8), ('creacionista', 8), ('portero', 24), ('verdadera', 232), ('aristócrata', 24), ('madrugador', 24), ('pisando', 8), ('cincuenta', 312), ('trabajador', 120), ('autónomo', 24), ('aplicado', 16), ('talento', 240), ('erizos', 8), ('adorables', 24), ('imprimir', 48), ('rasgado', 8), ('gramática', 80), ('deficiente', 24), ('lisa', 8), ('¡hey', 8), ('armario', 240), ('posición', 176), ('mantenga', 32), ('mantengan', 16), ('rellenas', 8), ('olvidarlo', 40), ('resistirme', 16), ('decidieron', 160), ('decidisteis', 16), ('entraste', 48), ('granizo', 32), ('utiliza', 96), ('¿hasta', 40), ('¿cuánta', 176), ('recorriste', 8), ('probabilidad', 48), ('¿harto', 8), ('hirviendo', 104), ('jardín', 1000), ('metro', 296), ('ochenta', 120), ('centímetros', 48), ('altura', 216), ('mido', 40), ('respondí', 40), ('remera', 40), ('confirmar', 48), ('conseguirte', 72), ('conseguirles', 8), ('cabalgar', 16), ('montar', 248), ('esperarte', 16), ('creerlo', 72), ('culparlos', 32), ('controlarlo', 24), ('excluirlo', 8), ('perdonarle', 48), ('perdonarla', 24), ('explicarlo', 152), ('seguirte', 40), ('olvidar', 168), ('mentirte', 48), ('mentiros', 8), ('irresistible', 40), ('logro', 152), ('entender', 1192), ('aplaudí', 8), ('colecciono', 24), ('antigüedades', 96), ('tosí', 8), ('serles', 8), ('útil', 512), ('exijo', 32), ('recuento', 16), ('esperaba', 1152), ('dicen', 752), ('deprisa', 72), ('almorzar', 616), ('soñado', 64), ('soñé', 88), ('entré', 192), ('cueva', 120), ('suspendí', 16), ('temía', 72), ('entrando', 32), ('hoyo', 72), ('intenso', 56), ('lancé', 8), ('campera', 40), ('fracturé', 8), ('enfado', 40), ('enojo', 16), ('canso', 24), ('metí', 80), ('crecí', 192), ('horroroso', 16), ('aceptarlo', 8), ('aburrirme', 8), ('chistes', 168), ('funerala', 8), ('morado', 56), ('acuario', 24), ('pecera', 16), ('pinchó', 24), ('llanta', 8), ('ponchó', 8), ('goma', 64), ('cristal', 56), ('vidrio', 88), ('sangra', 72), ('lugares', 192), ('información', 560), ('pasaporte', 384), ('apetito', 128), ('juntarme', 16), ('encontrame', 8), ('pintarlo', 8), ('advertir', 16), ('cámaras', 72), ('sobrinos', 16), ('guste', 360), ('troto', 16), ('casar', 352), ('maté', 40), ('empaqué', 16), ('metido', 152), ('dolido', 24), ('aquellas', 48), ('coreana', 56), ('ángeles', 96), ('favoritas', 32), ('carreras', 64), ('cortos', 48), ('costumbre', 304), ('refrán', 40), ('divertirme', 40), ('conjunto', 136), ('mirado', 48), ('identidad', 80), ('mariposas', 24), ('lentejas', 8), ('hija', 1344), ('asada', 8), ('otros', 1152), ('gradúe', 8), ('graduarme', 32), ('ofender', 48), ('mes', 1832), ('destruirte', 16), ('nombres', 256), ('dudé', 64), ('pillaron', 32), ('obedecí', 16), ('puertas', 144), ('videojuegos', 104), ('arado', 16), ('campo', 600), ('adonde', 144), ('repetí', 56), ('pegarle', 48), ('arrancar', 80), ('huir', 88), ('duermo', 152), ('nueve', 536), ('fumo', 112), ('cigarrillos', 152), ('derramé', 32), ('psicología', 24), ('sugiero', 160), ('sorprendí', 40), ('estando', 40), ('mientras', 1936), ('pare', 104), ('viniera', 224), ('entregué', 56), ('torcí', 24), ('desafío', 80), ('tigre', 80), ('devuelvan', 16), ('propia', 592), ('disfrutar', 112), ('contratar', 152), ('besar', 184), ('conocer', 376), ('verlas', 24), ('advertirte', 32), ('quedes', 248), ('1972', 32), ('1979', 16), ('1982', 8), ('1988', 24), ('forzado', 72), ('encantado', 96), ('proseguiré', 8), ('leeré', 48), ('tuviera', 440), ('sabido', 336), ('fuese', 184), ('coaccionado', 8), ('traicionaré', 24), ('molestarte', 80), ('trabajé', 168), ('granja', 248), ('pasaré', 80), ('lavaré', 8), ('averiguaré', 40), ('extrañaré', 24), ('abandonaré', 40), ('jugaré', 48), ('guardaré', 56), ('recordaré', 40), ('aprovecharé', 8), ('oportunidad', 1160), ('nadador', 40), ('tocado', 96), ('tocada', 8), ('ida', 56), ('fiestero', 8), ('fotógrafo', 80), ('biblioteca', 992), ('desangrando', 8), ('extremadamente', 344), ('domingo', 680), ('singapur', 56), ('engordando', 24), ('devolviendo', 8), ('alegro', 472), ('hayamos', 64), ('hablado', 352), ('marcho', 8), ('esquiando', 72), ('esquí', 112), ('gozo', 8), ('comenzando', 96), ('clientes', 160), ('calcetín', 64), ('fotogénico', 24), ('avergonzada', 40), ('perdona', 88), ('ocupando', 32), ('atacada', 8), ('agredido', 8), ('ascendieron', 16), ('convocado', 16), ('cubierta', 272), ('cubro', 8), ('equivoqué', 56), ('juzgué', 16), ('ignorancia', 104), ('bendición', 32), ('¿algo', 16), ('realidad', 1240), ('¿esa', 72), ('encadenado', 24), ('serpiente', 120), ('cargada', 48), ('pertenecía', 32), ('evitar', 632), ('empeorar', 96), ('cae', 168), ('durante', 2928), ('valor', 504), ('cuestión', 248), ('extraordinario', 56), ('chulo', 32), ('valía', 40), ('costará', 184), ('tomará', 192), ('tardará', 96), ('sucederá', 56), ('pegadiza', 24), ('común', 584), ('diseño', 104), ('defectuoso', 56), ('imperfecto', 8), ('distracción', 32), ('sistema', 296), ('demostrado', 16), ('arenque', 8), ('tipeo', 8), ('esquina', 320), ('abarrotado', 40), ('cálido', 112), ('medianoche', 408), ('apestoso', 16), ('comenzado', 136), ('europa', 536), ('grecia', 88), ('mermelada', 48), ('jarra', 96), ('rellenarlo', 8), ('rellénalo', 8), ('bajar', 224), ('subir', 160), ('dí', 48), ('perfil', 40), ('vigilá', 8), ('pisar', 16), ('pise', 16), ('tensa', 16), ('alzadas', 8), ('quites', 32), ('calzoncillos', 8), ('promesas', 248), ('calzado', 40), ('leyes', 120), ('necesarias', 8), ('aprenda', 48), ('marcar', 24), ('inmediato', 384), ('cayendo', 48), ('lección', 160), ('préstamelo', 8), ('explique', 104), ('dejadme', 24), ('compremos', 16), ('divorciémonos', 8), ('preparémonos', 16), ('emborracharnos', 8), ('tomémonos', 32), ('quedemos', 48), ('imprudentes', 16), ('miremos', 8), ('¡veamos', 8), ('hablemos', 240), ('estudiemos', 16), ('tomémoslo', 8), ('intentémoslo', 16), ('usemos', 24), ('ilusión', 80), ('lilas', 16), ('afortunadamente', 144), ('marte', 80), ('lunas', 24), ('tía', 432), ('actriz', 192), ('histérica', 24), ('risa', 88), ('prestar', 304), ('llamarte', 64), ('cheque', 128), ('sacar', 296), ('moveos', 8), ('detengáis', 8), ('definitiva', 40), ('arranca', 24), ('uvas', 176), ('pesadas', 24), ('sellados', 24), ('naranja', 296), ('salvarme', 24), ('¡nadie', 8), ('resultado', 392), ('equivoca', 56), ('valija', 32), ('proyecto', 600), ('lechuzas', 16), ('cazan', 8), ('recógeme', 16), ('discuta', 32), ('discutan', 16), ('vístase', 8), ('hágame', 72), ('contribución', 16), ('tranquilos', 40), ('recuérdame', 32), ('bañate', 8), ('esperarme', 16), ('esperadme', 16), ('volaron', 24), ('pistolas', 40), ('bajad', 24), ('haced', 40), ('relájate', 56), ('vendaje', 32), ('inmediatamente', 544), ('guardalo', 8), ('reserva', 160), ('resérvate', 8), ('rato', 824), ('empiezan', 128), ('9', 56), ('colegios', 16), ('escuelas', 56), ('¡nos', 24), ('muchachada', 8), ('mándale', 16), ('mándele', 16), ('mándenle', 8), ('enviadlo', 8), ('postal', 64), ('agitar', 24), ('agite', 16), ('varones', 24), ('invitó', 344), ('besando', 96), ('astuta', 40), ('moza', 8), ('recogió', 192), ('señaló', 72), ('apuntó', 144), ('deseando', 304), ('franqueza', 40), ('veinticuatro', 32), ('sonriente', 40), ('suertuda', 8), ('apresurada', 16), ('alcohólica', 32), ('reunión', 1728), ('somalia', 8), ('madrina', 16), ('repetirlo', 56), ('¿deberíamos', 48), ('difamación', 8), ('delito', 56), ('pónganse', 32), ('liado', 72), ('fastidiado', 32), ('golpeando', 48), ('¡mantente', 24), ('donde', 2144), ('molestar', 112), ('déjate', 32), ('bromear', 24), ('bromas', 184), ('armar', 48), ('escándalo', 72), ('detengan', 8), ('gritarme', 24), ('cosquillas', 16), ('quita', 80), ('saluda', 80), ('cuéntamelo', 8), ('llamáis', 16), ('háblanos', 16), ('triciclo', 16), ('intrigante', 32), ('pino', 56), ('maleta', 368), ('permitido', 152), ('notable', 48), ('innecesario', 40), ('despertador', 152), ('eje', 16), ('partió', 144), ('ronroneando', 24), ('cuervo', 32), ('volando', 200), ('discoteca', 32), ('ladra', 56), ('corriente', 128), ('cerradas', 72), ('niebla', 120), ('amañado', 8), ('hundió', 152), ('derretido', 32), ('costa', 152), ('apagadas', 32), ('repuntó', 8), ('alza', 32), ('agria', 40), ('venció', 24), ('fresca', 120), ('loro', 32), ('perico', 8), ('despegó', 96), ('electricidad', 184), ('arreglada', 8), ('cohete', 24), ('silenciosa', 8), ('falda', 216), ('aclaró', 24), ('despejó', 16), ('soldados', 448), ('abrieron', 48), ('araña', 72), ('estampilla', 56), ('estrellas', 312), ('salieron', 216), ('difundió', 24), ('brilla', 80), ('brillando', 24), ('neumáticos', 32), ('chillaron', 16), ('helada', 56), ('olas', 40), ('soplaba', 40), ('violentamente', 24), ('escapatoria', 16), ('comenzaron', 72), ('besarse', 48), ('venden', 216), ('recibieron', 56), ('familias', 168), ('escucharon', 56), ('oyeron', 48), ('meta', 184), ('rinden', 16), ('pagarme', 8), ('comprenden', 16), ('entienden', 104), ('estudiaban', 8), ('nadaban', 8), ('emocionados', 72), ('conseguirán', 8), ('entenderán', 32), ('cristianos', 48), ('cristianas', 16), ('extranjeros', 280), ('esposados', 8), ('poca', 216), ('ácida', 16), ('grasosa', 8), ('greñudo', 8), ('hoja', 184), ('ruta', 40), ('carreteras', 32), ('triángulo', 16), ('clasificado', 8), ('misión', 136), ('plagio', 24), ('destacable', 8), ('incómodo', 152), ('embarazoso', 32), ('estrafalario', 8), ('típico', 80), ('ultra', 16), ('altamente', 72), ('soso', 8), ('riesgoso', 8), ('salado', 24), ('profunda', 104), ('resultaron', 48), ('amárrate', 8), ('apriete', 8), ('tornillo', 48), ('marzo', 88), ('conocernos', 16), ('comía', 144), ('toser', 56), ('cortésmente', 32), ('levantarse', 312), ('consoló', 16), ('contactó', 8), ('describió', 104), ('diversión', 88), ('combate', 16), ('tifoidea', 8), ('falleció', 136), ('limonada', 40), ('evitó', 64), ('males', 24), ('rasguñó', 24), ('canadá', 408), ('liberó', 80), ('miraba', 144), ('desagrado', 8), ('aplicar', 32), ('gripa', 8), ('rizado', 8), ('enloquecido', 24), ('aguantado', 8), ('arrepentimientos', 8), ('desmayado', 32), ('aferró', 24), ('sirvió', 136), ('pitó', 16), ('camarógrafo', 8), ('celebridad', 16), ('comunista', 16), ('hipócrita', 32), ('nerd', 8), ('socialista', 32), ('terrorista', 40), ('aventurero', 8), ('empleado', 192), ('anonadado', 40), ('hiperactivo', 8), ('delantera', 40), ('independiente', 120), ('insensible', 48), ('malicioso', 24), ('enfocado', 8), ('desocupado', 120), ('condescendiente', 32), ('pesimista', 56), ('descoordinado', 8), ('cariñoso', 16), ('obediente', 8), ('secuestró', 8), ('conocía', 472), ('riesgos', 88), ('lacrosse', 8), ('pelirrojas', 8), ('cargó', 40), ('conmocionado', 32), ('espantosa', 16), ('comerlo', 16), ('perderse', 32), ('enfermarse', 16), ('juzgó', 16), ('erróneamente', 8), ('relajarse', 64), ('entrenamiento', 32), ('estacionó', 64), ('propuso', 40), ('matrimonio', 264), ('tras', 656), ('tranquilizó', 24), ('dependía', 16), ('respetó', 8), ('respetaba', 24), ('sonreir', 16), ('maletero', 112), ('loncheó', 8), ('vendió', 136), ('fijamente', 184), ('reprimió', 24), ('moverse', 64), ('aterrorizó', 16), ('llevó', 656), ('comprende', 96), ('evidencias', 8), ('desfigurado', 8), ('riña', 16), ('condenado', 104), ('ostracismo', 8), ('quedado', 312), ('lavó', 136), ('agitó', 56), ('disculpará', 8), ('matará', 32), ('necesitar', 232), ('morder', 48), ('nasa', 16), ('ráfaga', 40), ('permanecer', 144), ('¿estuve', 8), ('¿su', 56), ('¿ese', 80), ('detestamos', 8), ('papa', 88), ('patinaje', 56), ('frustrados', 8), ('obtuvimos', 8), ('trigo', 120), ('razones', 200), ('motivos', 56), ('charla', 192), ('compra', 216), ('estrategia', 56), ('guardián', 16), ('herramientas', 144), ('usamos', 72), ('jugábamos', 72), ('corrimos', 32), ('agotó', 16), ('permanecimos', 32), ('sacrificamos', 8), ('carpa', 64), ('2013', 88), ('lodo', 24), ('tipos', 176), ('concurso', 152), ('rendiremos', 16), ('estaríamos', 80), ('diplomáticamente', 16), ('miraremos', 8), ('refugio', 48), ('oraremos', 8), ('rezaremos', 8), ('nacemos', 24), ('quebrados', 8), ('ambidextros', 8), ('ambidiestros', 8), ('evitando', 56), ('culturistas', 8), ('atamos', 16), ('alambre', 32), ('guardeses', 16), ('cuidando', 40), ('cuidamos', 8), ('ignorando', 40), ('pareja', 256), ('avistado', 8), ('sorprendiste', 16), ('calabaza', 24), ('coincidencia', 112), ('doncella', 16), ('experiencia', 608), ('pésimo', 120), ('clima', 712), ('referirse', 8), ('aprendiste', 216), ('derramaste', 24), ('robaste', 24), ('ballenas', 104), ('motiva', 24), ('estrechas', 8), ('llevarás', 16), ('cobrar', 32), ('naciste', 32), ('empezará', 72), ('vendrás', 88), ('boda', 392), ('policías', 112), ('comprarla', 24), ('buscaste', 8), ('trabajabas', 16), ('trabajaban', 48), ('oculta', 32), ('vais', 144), ('sujetos', 40), ('engañar', 104), ('jarrón', 64), ('impedir', 112), ('sospechas', 40), ('terreno', 40), ('¿del', 8), ('compraste', 360), ('pegaste', 16), ('comisteis', 16), ('comistes', 8), ('comieron', 136), ('flota', 40), ('entramos', 56), ('cicatriz', 80), ('doler', 32), ('¿dolerá', 8), ('¿lloverá', 48), ('hablan', 448), ('harían', 16), ('ponerle', 152), ('enseñarías', 32), ('saturado', 32), ('durísimo', 8), ('juramento', 96), ('rompiste', 48), ('dejarme', 72), ('tentarme', 8), ('usarlo', 64), ('ayudaste', 24), ('avisaste', 16), ('asustás', 8), ('conduces', 80), ('manejás', 24), ('conducís', 24), ('asustaste', 8), ('acostumbras', 40), ('desahuciaron', 16), ('uds', 8), ('cuatro', 1096), ('acabas', 168), ('fallar', 32), ('elefantes', 104), ('viviendo', 432), ('recibir', 296), ('encuentres', 104), ('¡debes', 24), ('debés', 16), ('arruinaste', 32), ('disparaste', 16), ('unirte', 40), ('enseñaste', 40), ('recuperarás', 40), ('sentirte', 16), ('sentirás', 64), ('tendrás', 368), ('lamentarás', 40), ('cocinera', 128), ('maja', 40), ('¡sois', 8), ('cobardes', 48), ('¡son', 8), ('invitadas', 8), ('racistas', 8), ('fastidiando', 24), ('carismático', 8), ('cooperando', 8), ('desamparada', 16), ('interfiriendo', 64), ('favorito', 904), ('princesa', 120), ('condescendiendo', 8), ('inmaduro', 40), ('negativo', 48), ('engreído', 24), ('engreída', 8), ('engreídos', 16), ('engreídas', 16), ('empapada', 16), ('empapado', 40), ('poniéndote', 8), ('astutos', 8), ('aburridísimo', 16), ('advertido', 40), ('temperatura', 360), ('cogido', 136), ('esconderte', 40), ('decepcionas', 16), ('trabajado', 200), ('extenuación', 8), ('sucia', 104), ('patas', 56), ('mamíferos', 32), ('ballena', 88), ('mamífero', 24), ('parranda', 8), ('aluminio', 16), ('responde', 104), ('asientos', 144), ('¿existe', 16), ('algún', 1904), ('esquíes', 32), ('gimnasio', 112), ('siguiendo', 128), ('¿solo', 16), ('¿siempre', 64), ('facebook', 112), ('perdidas', 16), ('¿sigues', 64), ('¿seguís', 16), ('profeta', 16), ('atenas', 16), ('entristece', 32), ('cueza', 8), ('sobrevalorado', 8), ('servido', 16), ('tráigame', 24), ('burda', 8), ('cuchis', 24), ('¿podría', 712), ('crédito', 240), ('móvil', 200), ('creérnoslo', 8), ('¿cambiémonos', 8), ('intercambiamos', 16), ('intercambiarnos', 8), ('creerle', 72), ('preparar', 240), ('verificar', 16), ('principio', 472), ('darme', 440), ('¡cumpla', 8), ('atrápame', 8), ('cámbiate', 8), ('aceptan', 16), ('mastica', 16), ('caballerosidad', 16), ('gentileza', 48), ('despeja', 16), ('conocerlos', 16), ('consulta', 24), ('contáctame', 24), ('partes', 336), ('virus', 64), ('amanecerá', 8), ('borra', 16), ('elimina', 16), ('borrá', 8), ('habré', 72), ('¿mintió', 8), ('¿vinieron', 8), ('¿entendieron', 8), ('¿soñaste', 8), ('¿acabas', 32), ('¿dejaste', 24), ('propina', 56), ('¿dejasteis', 8), ('¿notaste', 16), ('leíste', 64), ('bañaste', 8), ('desconecta', 8), ('enchufe', 16), ('parta', 24), ('maldigo', 8), ('¿necesitamos', 32), ('b', 56), ('¿entiendes', 72), ('hobby', 64), ('lema', 16), ('mascar', 16), ('chicle', 48), ('bolos', 24), ('ostras', 72), ('surfear', 16), ('¿habláis', 8), ('¿habla', 64), ('¿hablas', 48), ('¿estudiás', 8), ('¿viajáis', 8), ('abandonar', 280), ('¿deseas', 40), ('¿usás', 8), ('anteojos', 136), ('actúes', 16), ('pidas', 80), ('caiga', 24), ('dudes', 48), ('pelees', 8), ('ilusiones', 32), ('escuchés', 8), ('escuches', 104), ('enojar', 88), ('telefonees', 24), ('leas', 80), ('azote', 8), ('tomes', 88), ('boludeces', 8), ('digáis', 24), ('malgastes', 56), ('desperdicies', 24), ('echáis', 8), ('añora', 32), ('verduras', 304), ('¡cómanse', 8), ('aplaudiendo', 8), ('riéndose', 16), ('oigan', 24), ('perdone', 160), ('pocas', 520), ('olvidá', 8), ('dolores', 80), ('tiquete', 8), ('sácala', 8), ('aléjenlo', 8), ('púdrete', 8), ('mamón', 8), ('tráiganme', 8), ('propiedad', 88), ('acostúmbrate', 8), ('mandale', 24), ('saludos', 120), ('salúdalo', 8), ('déle', 8), ('recuerdos', 120), ('palillo', 8), ('devuélveme', 32), ('rompe', 88), ('lavarte', 48), ('cepillarte', 32), ('cepillarse', 16), ('tírate', 8), ('gárgaras', 16), ('entrega', 48), ('papeles', 128), ('entreguen', 40), ('cená', 8), ('aceptó', 272), ('dedal', 8), ('pararlos', 16), ('escaló', 8), ('monte', 352), ('fuji', 240), ('génova', 8), ('gales', 8), ('diseñó', 24), ('contrario', 208), ('pesar', 616), ('cólera', 48), ('enriqueció', 8), ('agarró', 272), ('dama', 144), ('acababa', 64), ('redonda', 40), ('actuado', 16), ('picassos', 8), ('sostuvo', 32), ('pescadero', 8), ('grosera', 16), ('efectivamente', 8), ('penitencia', 8), ('80', 56), ('kilos', 112), ('soberbio', 32), ('dando', 264), ('lavando', 72), ('promesa', 432), ('quiénes', 120), ('sobria', 8), ('melón', 32), ('cardiff', 8), ('marruecos', 8), ('insecto', 32), ('haya', 1184), ('masculló', 8), ('suele', 464), ('jaulas', 16), ('alcanzó', 128), ('administra', 32), ('zapatería', 32), ('lustró', 8), ('agradecerle', 80), ('cristianismo', 48), ('amarla', 16), ('amó', 24), ('ohio', 16), ('enterraron', 64), ('nombraron', 24), ('capitán', 256), ('terriblemente', 64), ('castigado', 64), ('derrotará', 8), ('aprobará', 32), ('dirá', 168), ('arrepentirá', 16), ('creerá', 48), ('laboratorio', 32), ('empeño', 24), ('rendir', 24), ('letra', 240), ('mejorará', 48), ('cazafantasmas', 8), ('guionista', 8), ('teme', 208), ('tantos', 216), ('centinela', 8), ('tetris', 16), ('posiblemente', 88), ('mejillas', 80), ('novela', 632), ('che', 64), ('recordar', 616), ('conmovió', 112), ('sostenete', 8), ('agarre', 16), ('honestidad', 152), ('virtud', 56), ('sinceridad', 32), ('¡cuánto', 8), ('nhk', 8), ('funcionan', 96), ('imanes', 16), ('concierto', 904), ('casamiento', 40), ('arreglarás', 8), ('aligera', 8), ('porque', 2552), ('condiciones', 232), ('mato', 24), ('prometido', 88), ('resfriando', 8), ('india', 280), ('pelando', 96), ('tocando', 248), ('obra', 296), ('escucharlo', 80), ('tristeza', 32), ('escaso', 80), ('fondos', 56), ('kanji', 40), ('sms', 8), ('londres', 664), ('viniese', 24), ('ayudara', 312), ('pedía', 72), ('cantara', 40), ('cantase', 16), ('quedara', 240), ('quedase', 48), ('parase', 32), ('parara', 48), ('almorcé', 64), ('apresuradamente', 24), ('liviano', 24), ('24', 64), ('lápices', 136), ('construido', 144), ('construí', 32), ('disculparme', 144), ('verla', 176), ('defender', 72), ('guardar', 176), ('pelar', 80), ('aceptar', 424), ('controlar', 144), ('superarlo', 16), ('acordar', 152), ('decirlo', 168), ('exactitud', 56), ('valla', 168), ('fantaseo', 8), ('decoré', 8), ('invité', 120), ('entendí', 144), ('salgo', 152), ('tampoco', 568), ('aprecio', 216), ('apetece', 168), ('reparo', 8), ('radios', 16), ('rotas', 16), ('preguntárselo', 8), ('c', 104), ('recibí', 352), ('electrónico', 176), ('barca', 64), ('bajé', 80), ('estupenda', 104), ('frenética', 8), ('quedaba', 176), ('mentirle', 24), ('alquilar', 120), ('empleados', 376), ('novia', 1176), ('mocos', 8), ('sugerencia', 128), ('apendicitis', 16), ('facturas', 32), ('partidos', 72), ('retortijones', 16), ('solución', 464), ('cambiarlo', 24), ('dejarte', 112), ('darle', 472), ('portazo', 32), ('serias', 32), ('saliera', 216), ('diviertas', 16), ('enterarme', 16), ('enterar', 32), ('visión', 48), ('guardé', 16), ('guardado', 88), ('parda', 8), ('trataba', 200), ('entenderías', 72), ('cuantas', 112), ('tema', 456), ('cuándo', 1192), ('exótica', 8), ('actitud', 136), ('patatas', 192), ('perfume', 56), ('jersey', 88), ('página', 368), ('web', 336), ('kioto', 288), ('sector', 56), ('encerré', 16), ('lados', 176), ('china', 840), ('italiana', 48), ('€', 32), ('logré', 88), ('arreglé', 32), ('decírtelo', 64), ('in', 16), ('casualidad', 352), ('club', 472), ('topé', 88), ('asesiné', 8), ('haberlo', 560), ('haberme', 416), ('asistente', 96), ('perchas', 8), ('resfrío', 64), ('3000', 56), ('conecté', 8), ('fingí', 32), ('pijama', 96), ('pongo', 184), ('actos', 32), ('revisado', 24), ('informe', 304), ('reescribí', 8), ('reescrito', 8), ('conduzco', 48), ('moto', 104), ('podías', 144), ('anoche', 2272), ('pidiendo', 248), ('socorro', 8), ('proposición', 56), ('moción', 16), ('mandé', 104), ('email', 72), ('resolví', 32), ('tartamudeo', 8), ('sospecho', 32), ('factible', 24), ('pararan', 8), ('quité', 64), ('integrar', 8), ('salvar', 208), ('salvarle', 24), ('salvarlo', 16), ('salvarte', 32), ('apagué', 80), ('desaté', 8), ('cinta', 56), ('filete', 72), ('emborrachar', 8), ('acostarme', 88), ('casarme', 160), ('negociar', 48), ('acuático', 16), ('relajes', 24), ('matan', 16), ('desilusionado', 40), ('disfrutando', 64), ('atónito', 16), ('relajándome', 8), ('alterado', 8), ('vanidoso', 64), ('asustada', 88), ('tercero', 24), ('cola', 304), ('lavé', 40), ('sábanas', 88), ('preguntando', 112), ('siquiera', 1192), ('regresaré', 40), ('enfadaré', 8), ('encantaría', 160), ('capaz', 1384), ('estuviera', 656), ('tuviéramos', 24), ('olvidaré', 152), ('moriría', 40), ('habría', 832), ('daiquiri', 8), ('querría', 520), ('revisaré', 32), ('tomaré', 152), ('desnatada', 8), ('reuniré', 16), ('patearé', 8), ('trasero', 72), ('mandaré', 48), ('pensaré', 40), ('actualizaré', 8), ('perfeccionista', 16), ('tenista', 72), ('absolutamente', 312), ('disposición', 32), ('vientos', 24), ('rápida', 136), ('cuarenta', 168), ('recuperado', 16), ('cachorro', 88), ('casando', 8), ('comprarlo', 192), ('apartamento', 232), ('increíblemente', 112), ('esclavo', 56), ('absoluto', 368), ('aventuroso', 8), ('quejo', 16), ('especulando', 16), ('practico', 16), ('judo', 8), ('¿o', 304), ('fila', 184), ('preparándome', 24), ('suspendieron', 32), ('cogí', 120), ('preocupaciones', 64), ('escuchado', 272), ('estudiado', 160), ('identificaos', 8), ('parto', 40), ('¿sigue', 32), ('submarino', 24), ('¿anda', 8), ('billetero', 8), ('tremendo', 24), ('impactante', 32), ('¿eh', 40), ('tomas', 128), ('jodió', 8), ('duró', 328), ('costoso', 64), ('profecía', 48), ('exquisita', 16), ('merecido', 8), ('maravilla', 48), ('energía', 240), ('solar', 112), ('equivocamos', 8), ('metieron', 40), ('justa', 40), ('descuido', 48), ('estimulante', 8), ('oscureciendo', 64), ('presentimiento', 96), ('estuviese', 80), ('rumor', 168), ('siniestro', 8), ('imperdonable', 24), ('petición', 104), ('nevará', 80), ('cumpleaños', 1208), ('comedia', 32), ('cantidad', 280), ('considerable', 24), ('acreditada', 8), ('elegir', 360), ('juerga', 8), ('once', 280), ('privada', 64), ('facilísimo', 16), ('nublando', 32), ('placebo', 8), ('única', 976), ('insólito', 8), ('rasguño', 8), ('insoportable', 64), ('jesus', 8), ('segundos', 136), ('mantenme', 40), ('abiertos', 72), ('omite', 8), ('libérate', 8), ('permitime', 8), ('optimistas', 24), ('revisemos', 8), ('busquemos', 24), ('metámoslo', 8), ('llevémoslo', 8), ('divirtámonos', 16), ('limpiemos', 16), ('exageremos', 16), ('arruinemos', 8), ('leamos', 8), ('3', 256), ('compartamos', 24), ('tratemos', 40), ('¡intentemos', 8), ('imagen', 216), ('oxígeno', 144), ('acuerde', 24), ('solicite', 8), ('¡hombre', 8), ('prometida', 24), ('camarera', 48), ('acompañas', 16), ('acompañar', 40), ('permite', 256), ('interrumpa', 32), ('suben', 16), ('árboles', 488), ('¡mi', 24), ('mima', 8), ('lectura', 120), ('equipaje', 264), ('extravió', 8), ('5', 248), ('húmedos', 16), ('atoró', 16), ('explicó', 392), ('detendrá', 16), ('importo', 8), ('torturó', 8), ('infalible', 8), ('detenerme', 32), ('detenernos', 24), ('enseñarte', 96), ('dará', 168), ('avestruces', 8), ('prestanos', 8), ('duraznos', 16), ('tócame', 16), ('ventila', 8), ('corrija', 16), ('murmures', 8), ('tómese', 48), ('escúcheme', 8), ('deséame', 8), ('conocerte', 144), ('conocerlo', 40), ('veneno', 120), ('tire', 32), ('suéter', 248), ('¡ponete', 8), ('poné', 48), ('ponete', 24), ('¡abajo', 8), ('rambo', 8), ('acordate', 8), ('respetad', 8), ('antigua', 184), ('ciencia', 216), ('salúdela', 8), ('coció', 8), ('respiró', 24), ('llamaba', 152), ('costearlo', 16), ('2000', 64), ('narizota', 8), ('convulsiones', 8), ('adelgazado', 24), ('tortas', 48), ('corredor', 56), ('conocida', 80), ('ancho', 88), ('prosiguió', 16), ('saña', 8), ('helados', 64), ('interpretó', 64), ('sonata', 16), ('jaló', 16), ('shinjuku', 32), ('reservó', 16), ('impunidad', 8), ('frotó', 56), ('talló', 56), ('viajó', 152), ('ibaragi', 16), ('rubia', 40), ('besadora', 8), ('moderna', 136), ('chusma', 8), ('hermosura', 8), ('¡mostrame', 8), ('bocota', 16), ('bocaza', 8), ('quemando', 64), ('apretá', 8), ('condescender', 16), ('quítese', 48), ('quítense', 24), ('sacate', 24), ('sáquense', 8), ('medias', 80), ('quitaos', 24), ('decile', 128), ('adónde', 240), ('indícame', 8), ('deciles', 16), ('tailandia', 64), ('aclara', 8), ('explica', 48), ('irrita', 16), ('alucinante', 8), ('previsto', 120), ('inesperado', 88), ('poema', 288), ('órgano', 48), ('limonero', 24), ('imitación', 24), ('museo', 448), ('relevante', 16), ('buscamos', 72), ('magnífico', 32), ('inaceptable', 48), ('funeral', 248), ('calentó', 40), ('blusa', 104), ('regañado', 56), ('arbusto', 64), ('empresa', 288), ('malogró', 8), ('botón', 576), ('complejo', 64), ('carbón', 104), ('ardiendo', 48), ('cultivos', 56), ('multitud', 456), ('dispersó', 32), ('zapato', 88), ('babeando', 8), ('alegres', 24), ('cerrando', 40), ('economía', 192), ('corrupto', 24), ('bosque', 464), ('heladera', 136), ('ácidas', 24), ('pasaban', 8), ('alterada', 8), ('modificada', 24), ('apagaron', 72), ('rugiendo', 16), ('horrorosa', 16), ('continuó', 144), ('despensa', 24), ('salario', 224), ('exquisito', 32), ('estanque', 176), ('congeló', 24), ('elevados', 24), ('motivo', 256), ('tejado', 160), ('claras', 48), ('sanando', 16), ('hunde', 40), ('apestan', 16), ('victoria', 96), ('asombrosa', 32), ('caída', 56), ('cremallera', 32), ('atascada', 24), ('habrá', 568), ('¡hay', 16), ('escritorios', 8), ('maravillosas', 56), ('suceden', 32), ('nerviosas', 24), ('despediros', 8), ('despedirle', 8), ('despedirles', 8), ('pararnos', 16), ('burlaron', 40), ('fracasado', 64), ('alquilaron', 8), ('coro', 80), ('demandarte', 8), ('rodearon', 8), ('desertores', 8), ('forman', 8), ('regresando', 8), ('indefensas', 8), ('burlando', 16), ('favoritos', 88), ('chuleta', 8), ('tierna', 32), ('amarga', 40), ('significar', 16), ('periódico', 696), ('menuda', 8), ('cubo', 136), ('fastidioso', 32), ('fórmula', 32), ('sagrado', 16), ('intolerable', 8), ('favorita', 672), ('cuaderno', 128), ('sándwich', 192), ('taladro', 8), ('sobresaliente', 40), ('dilema', 32), ('lamentable', 16), ('escalofriante', 16), ('ponerse', 256), ('áspero', 16), ('suelto', 96), ('diente', 72), ('caballeros', 48), ('matarás', 8), ('transcurrieron', 8), ('semanas', 680), ('agotando', 48), ('detenerse', 16), ('fastidió', 8), ('webcam', 8), ('costear', 24), ('atrapó', 152), ('desafió', 16), ('animó', 80), ('colecciona', 16), ('estampillas', 96), ('peinó', 24), ('enfrentó', 32), ('repartió', 24), ('voltereta', 8), ('culpó', 64), ('traído', 136), ('quejó', 152), ('vejez', 32), ('desilusionó', 8), ('agrado', 80), ('motivó', 8), ('enfrenta', 32), ('horriblemente', 8), ('fingió', 304), ('perseguido', 24), ('sufrió', 104), ('rifle', 80), ('promovido', 32), ('avergonzó', 16), ('irritó', 32), ('arduo', 16), ('calva', 8), ('leporino', 16), ('sufre', 96), ('simpatía', 56), ('otras', 536), ('delgadas', 24), ('amigdalitis', 8), ('opciones', 168), ('brujas', 40), ('silbido', 16), ('sujetó', 24), ('bioquímico', 8), ('decente', 144), ('tragafuegos', 8), ('deportista', 8), ('periodista', 120), ('político', 152), ('psicópata', 8), ('trabajólico', 8), ('ambidiestro', 8), ('arquitecto', 88), ('conservador', 40), ('antipático', 16), ('incorregible', 24), ('intelectual', 8), ('igual', 552), ('pabellón', 16), ('lamenta', 32), ('mandando', 24), ('inescrupuloso', 8), ('insensato', 40), ('religioso', 24), ('garabateando', 8), ('erupto', 8), ('morenas', 8), ('curry', 40), ('picante', 160), ('ton', 24), ('billetera', 384), ('emplear', 24), ('aporte', 16), ('hirió', 96), ('supo', 224), ('ordenó', 232), ('debía', 328), ('adeuda', 8), ('empacó', 32), ('bolsos', 16), ('desgarró', 8), ('músculo', 8), ('sotana', 16), ('cuestionó', 8), ('niega', 72), ('rehúsa', 32), ('reanudó', 8), ('encarando', 8), ('frunció', 24), ('alineó', 8), ('compromiso', 192), ('gemido', 8), ('cavar', 40), ('estofado', 48), ('comprendió', 64), ('vendados', 8), ('liberado', 56), ('mintiéndonos', 8), ('estabá', 8), ('irritado', 8), ('extraordinariio', 8), ('espantado', 8), ('alertará', 8), ('cogerá', 32), ('perdonar', 136), ('trapeó', 16), ('ganadas', 8), ('despedirá', 8), ('interferirá', 8), ('odiaría', 16), ('desordenada', 32), ('traduce', 56), ('traduzca', 24), ('traduzcan', 8), ('traducid', 16), ('traducí', 16), ('inténtenlo', 8), ('probate', 8), ('pullover', 8), ('bájale', 16), ('ponla', 16), ('cafés', 32), ('esperá', 48), ('concierne', 72), ('pelma', 8), ('palabrotas', 16), ('tacos', 24), ('similares', 40), ('parecemos', 8), ('exageramos', 8), ('cogimos', 8), ('agarramos', 16), ('jugamos', 192), ('repudiamos', 8), ('disgusta', 8), ('bebemos', 24), ('anomalía', 8), ('abandonamos', 32), ('subimos', 48), ('crecimos', 32), ('oral', 16), ('prevenir', 80), ('barra', 72), ('obedecimos', 8), ('alcanzamos', 24), ('lamentamos', 64), ('deceso', 16), ('fallecimiento', 8), ('sazonamos', 8), ('nadamos', 32), ('viajamos', 56), ('superaban', 8), ('peleándonos', 8), ('peleábamos', 16), ('derrotaremos', 8), ('dejaremos', 24), ('empezaremos', 48), ('enteraremos', 8), ('descubriremos', 8), ('informados', 16), ('volvimos', 40), ('observados', 16), ('cardiólogos', 8), ('cercanos', 72), ('atónitos', 16), ('cenando', 56), ('abrimos', 8), ('encantados', 32), ('tendido', 8), ('derrotado', 56), ('elecciones', 184), ('persiguen', 32), ('diciendo', 744), ('respondido', 72), ('respondiste', 40), ('respondisteis', 8), ('esperabas', 48), ('creés', 64), ('sugieres', 16), ('postre', 208), ('pupitre', 40), ('cocinamos', 16), ('hacías', 40), ('leéis', 16), ('deshacer', 96), ('tarifa', 32), ('opina', 64), ('levantaste', 24), ('volviste', 72), ('terminan', 16), ('llegaremos', 64), ('empezarás', 24), ('¿cuando', 24), ('guantes', 176), ('tenedores', 24), ('niñas', 216), ('estudiaste', 8), ('estudiaron', 24), ('birome', 32), ('letrina', 16), ('aeropuerto', 808), ('frazada', 16), ('hablabas', 40), ('hablaste', 80), ('¿quén', 8), ('informar', 56), ('biblia', 136), ('peleamos', 32), ('bostezando', 8), ('apresurar', 16), ('contrataste', 8), ('vendiste', 24), ('dudás', 8), ('dices', 456), ('preocuparía', 16), ('¿cenarás', 8), ('¿firmaría', 8), ('¡hala', 8), ('ensayo', 80), ('decís', 72), ('pediste', 88), ('retirar', 56), ('señor', 200), ('disponer', 8), ('culparle', 32), ('ayudarles', 48), ('fiarte', 8), ('medalla', 112), ('merecen', 40), ('merecéis', 32), ('confiaste', 16), ('decepcionaste', 16), ('parecían', 128), ('¡sabes', 8), ('paliducho', 8), ('sexy', 24), ('seguramente', 88), ('apareciste', 8), ('pagas', 56), ('calidad', 184), ('semáforo', 96), ('pues', 72), ('majara', 16), ('apestas', 8), ('alcohol', 280), ('formal', 64), ('agradecerme', 8), ('echaste', 24), ('bronca', 40), ('rajaste', 8), ('elegido', 160), ('ignorado', 16), ('advierto', 16), ('estaréis', 48), ('pagarás', 16), ('afortunada', 32), ('aciertas', 8), ('detestable', 8), ('confundiendo', 8), ('desorganizado', 16), ('bolacero', 24), ('quedas', 112), ('quedan', 264), ('detenidos', 48), ('elegante', 40), ('sucios', 96), ('frías', 32), ('despelote', 8), ('dolar', 16), ('calamar', 16), ('tentáculos', 16), ('añádele', 16), ('ponle', 48), ('cálculos', 16), ('sospecha', 120), ('crecen', 56), ('imitando', 16), ('arremedando', 8), ('espiando', 24), ('subjetiva', 8), ('imitaciones', 24), ('bob', 24), ('mataron', 136), ('traigan', 24), ('tráete', 24), ('versión', 88), ('exterminador', 8), ('prestada', 48), ('tomarme', 64), ('prender', 64), ('encender', 136), ('aclararlo', 16), ('aclarar', 56), ('despacharlo', 16), ('repartir', 24), ('adivinar', 80), ('imaginarlo', 8), ('¿sabéis', 128), ('juntar', 64), ('programar', 24), ('mojarse', 32), ('entumece', 8), ('miembros', 296), ('resfriados', 24), ('contagiosos', 8), ('considera', 96), ('algodón', 72), ('absorbe', 32), ('traernos', 8), ('diamantes', 104), ('eternos', 16), ('¿preguntó', 8), ('¿pasó', 40), ('¿viniste', 40), ('¿vinisteis', 8), ('¿hiciste', 56), ('¿ganasteis', 8), ('¿ganó', 16), ('¿ganaron', 16), ('visítenos', 8), ('perturban', 8), ('serpientes', 168), ('molestan', 24), ('levantas', 72), ('presupuesto', 96), ('fotos', 840), ('tatuaje', 64), ('beisbol', 8), ('brócoli', 32), ('¿luces', 8), ('¿necesitan', 16), ('¿necesitás', 32), ('¿recuerdas', 160), ('¿corres', 16), ('¿piensas', 248), ('¿pensáis', 48), ('galletita', 32), ('galleta', 48), ('delfines', 72), ('curiosos', 24), ('admitas', 16), ('admitás', 8), ('descuidado', 64), ('infantil', 112), ('reservado', 40), ('frenes', 16), ('compres', 64), ('compre', 144), ('cierres', 32), ('bebas', 72), ('duras', 48), ('esfuerces', 8), ('emociones', 56), ('extremos', 16), ('errores', 984), ('cometan', 8), ('hurgues', 8), ('cerréis', 8), ('derrames', 16), ('toqués', 8), ('intentes', 120), ('engañarme', 16), ('ocultarlo', 16), ('perdés', 16), ('pierdes', 56), ('temen', 96), ('esperaban', 48), ('durmieron', 48), ('calmados', 16), ('sonreían', 8), ('torpeza', 8), ('¡formen', 8), ('recta', 24), ('aleja', 8), ('comuníquese', 8), ('¡divertíos', 8), ('¡diviértete', 8), ('almorzado', 64), ('fumado', 8), ('mediste', 8), ('conociste', 96), ('lapicera', 24), ('probado', 96), ('usaste', 48), ('bailara', 16), ('suicidarse', 136), ('catolicismo', 8), ('sentirse', 40), ('suplicó', 40), ('imploró', 16), ('rogó', 144), ('eligió', 152), ('esquiló', 8), ('oveja', 80), ('ginebra', 16), ('lloraba', 80), ('garbo', 16), ('acto', 72), ('pío', 8), ('chistó', 16), ('enfada', 64), ('vació', 48), ('envidia', 64), ('realizó', 96), ('cansa', 40), ('lograba', 24), ('doctorado', 8), ('veintidós', 32), ('hambrienta', 24), ('importado', 40), ('acento', 112), ('pecho', 96), ('peludo', 16), ('personalidad', 112), ('dócil', 24), ('ingreso', 72), ('marco', 64), ('voluntad', 160), ('poderosos', 16), ('hijas', 120), ('extendió', 72), ('crítico', 56), ('holgazán', 8), ('hueso', 48), ('roer', 8), ('hábil', 72), ('reconocido', 48), ('sesenta', 112), ('satisfacerlo', 8), ('complacer', 64), ('prepara', 48), ('querido', 272), ('depresivo', 8), ('vivió', 384), ('nagasaki', 16), ('yokohama', 80), ('tosca', 8), ('velocidad', 224), ('repitió', 40), ('ridiculizó', 8), ('enfadarse', 64), ('portugués', 48), ('súbito', 16), ('estudiara', 72), ('dobló', 48), ('triunfar', 136), ('vasos', 136), ('obligaron', 56), ('ciervos', 48), ('influencia', 88), ('jugador', 328), ('pulmón', 56), ('avaro', 16), ('aficionado', 64), ('ofreció', 264), ('entradas', 160), ('amarilla', 176), ('vinos', 32), ('¿trabajáis', 8), ('inspiró', 40), ('ásperas', 8), ('vacías', 80), ('aguantarlo', 16), ('profundidad', 72), ('averiguó', 24), ('conocisteis', 24), ('abro', 56), ('¿cuántas', 776), ('cuestan', 88), ('pagado', 232), ('detendrás', 16), ('aspiro', 16), ('disculpado', 16), ('pintar', 312), ('construyendo', 40), ('pared', 632), ('obligan', 16), ('vistiendo', 16), ('ordeñando', 16), ('trapeando', 16), ('dejando', 88), ('revolviendo', 16), ('malgastando', 16), ('disculpo', 24), ('condujera', 96), ('condujese', 8), ('diese', 8), ('marchase', 8), ('panchos', 16), ('malicia', 16), ('rogué', 24), ('cenicero', 16), ('yema', 16), ('recado', 56), ('permitirme', 88), ('pipa', 24), ('involucrarme', 24), ('ocultarme', 16), ('apagarlo', 8), ('infinito', 16), ('provoqué', 8), ('elijo', 8), ('cerré', 72), ('monedas', 168), ('comino', 16), ('mínimo', 136), ('rábano', 8), ('crucé', 16), ('subido', 152), ('sueldo', 280), ('deseaba', 136), ('ciudades', 184), ('interesa', 464), ('caridad', 112), ('canilla', 104), ('tomado', 504), ('grifo', 128), ('echarle', 120), ('vigilarlo', 8), ('serví', 8), ('sacaron', 24), ('alternativa', 192), ('ganara', 48), ('dobladas', 8), ('celosas', 16), ('cine', 768), ('afilado', 56), ('tripa', 24), ('sangrantes', 8), ('pesqué', 24), ('juzgado', 16), ('fotográficas', 8), ('localizar', 32), ('botas', 176), ('crujir', 8), ('rama', 80), ('ayudante', 16), ('cambien', 24), ('mañanas', 432), ('saltaba', 8), ('costilla', 8), ('cortarme', 24), ('cortar', 240), ('pantera', 8), ('pato', 24), ('ibas', 232), ('encontrarías', 16), ('canciones', 384), ('mentisteis', 8), ('moderé', 8), ('discusión', 416), ('presté', 56), ('decepcioné', 16), ('fallé', 8), ('colores', 168), ('claros', 40), ('brillantes', 40), ('bistec', 16), ('cocido', 40), ('póquer', 72), ('zuecos', 8), ('premios', 32), ('sencilla', 80), ('dique', 16), ('busqué', 168), ('buscaba', 104), ('linterna', 144), ('noción', 56), ('francesas', 48), ('pimientos', 32), ('gradué', 8), ('faltarle', 16), ('cobijas', 16), ('mantas', 40), ('práctica', 120), ('ahorrar', 160), ('mirarlo', 40), ('200', 64), ('rayo', 104), ('diablo', 24), ('rechacé', 16), ('propuesta', 360), ('parezco', 32), ('lloviera', 32), ('seriamente', 192), ('habértelo', 24), ('mostré', 56), ('dormitorio', 296), ('indiqué', 8), ('deslicé', 8), ('resuelto', 144), ('misterio', 136), ('introduje', 8), ('comprendí', 64), ('entendido', 248), ('llevan', 232), ('equivocas', 80), ('pensé', 4328), ('viajé', 32), ('reírme', 112), ('escribirle', 56), ('adinerado', 16), ('colina', 256), ('ventanilla', 32), ('mp3', 56), ('pasillo', 72), ('olvidarla', 8), ('complacerte', 8), ('comportes', 16), ('ganaran', 24), ('amar', 144), ('vinieras', 112), ('supieras', 96), ('solitaria', 48), ('teatro', 376), ('¡una', 16), ('marcharme', 48), ('58', 8), ('kilogramos', 16), ('uní', 16), ('ejército', 168), ('marina', 48), ('pachanga', 8), ('panadería', 56), ('acompaño', 32), ('tendré', 336), ('empezaré', 16), ('trataré', 88), ('¡desearía', 8), ('estuvieses', 24), ('venderé', 24), ('alma', 152), ('farmacia', 48), ('culparía', 72), ('recostarme', 8), ('traicionaría', 32), ('admitiré', 8), ('amaré', 72), ('disculparé', 8), ('pediré', 64), ('cuidadosa', 64), ('vigilando', 56), ('pides', 112), ('soñaré', 8), ('conduciré', 16), ('termino', 56), ('pintaré', 8), ('sacaré', 32), ('molido', 24), ('alérgico', 208), ('alérgica', 112), ('arqueólogo', 32), ('arqueóloga', 16), ('atrae', 48), ('dependo', 8), ('llamada', 408), ('arreglando', 96), ('doblando', 32), ('divorciando', 8), ('planchando', 32), ('asegurando', 24), ('guacamole', 8), ('cabo', 336), ('ignorándote', 8), ('prestando', 64), ('resistente', 16), ('resolviendo', 32), ('acertijo', 40), ('haberte', 592), ('sorprendes', 8), ('vendido', 88), ('quemado', 24), ('tostada', 32), ('marcapasos', 8), ('dignidad', 16), ('gustado', 152), ('pensado', 288), ('¿mary', 24), ('¿hace', 112), ('¿seguro', 64), ('¿mi', 8), ('sonando', 160), ('diamante', 104), ('¿así', 16), ('¿mañana', 56), ('nervios', 96), ('oscuridad', 368), ('oscurecer', 8), ('alfombra', 184), ('indicativo', 16), ('revés', 144), ('militares', 8), ('menor', 520), ('chupado', 8), ('trozo', 344), ('enfermedad', 600), ('cuero', 128), ('cabelludo', 8), ('ingrato', 16), ('medida', 192), ('extremo', 8), ('justificar', 24), ('plaza', 72), ('nutritivo', 24), ('merecemos', 8), ('península', 8), ('prevalecerá', 16), ('corderos', 8), ('bebés', 64), ('prestame', 32), ('acompañe', 16), ('ocupo', 16), ('comprobarlo', 8), ('¡enfrentemos', 8), ('movamos', 8), ('invitemos', 8), ('dividámonos', 8), ('formalidad', 8), ('graciosa', 56), ('ampolletas', 8), ('emiten', 8), ('lincoln', 128), ('1865', 8), ('leones', 40), ('daltónicos', 8), ('nubes', 240), ('límites', 56), ('diseña', 8), ('vestidos', 80), ('limó', 8), ('uñas', 184), ('fiestera', 8), ('fea', 80), ('cardo', 8), ('pendiente', 56), ('¿tendría', 8), ('programa', 224), ('logres', 16), ('fortalece', 40), ('ajetreado', 40), ('nikon', 8), ('gasolina', 176), ('lavarse', 96), ('grietas', 8), ('castillo', 264), ('motocicleta', 104), ('palmas', 32), ('sudaban', 8), ('púrpura', 32), ('nicotina', 8), ('pesadillas', 56), ('lastimarte', 88), ('reconoce', 32), ('apoyó', 152), ('entendía', 88), ('sabios', 32), ('detenerle', 32), ('detenerte', 48), ('perturba', 8), ('relajarnos', 16), ('frigorífico', 144), ('refri', 8), ('empácalas', 8), ('escoja', 24), ('odies', 8), ('permanezcan', 24), ('sentados', 168), ('guárdeme', 8), ('ponerte', 184), ('resistirse', 24), ('mangas', 24), ('duplicado', 48), ('mandame', 8), ('mándame', 32), ('¿tomamos', 8), ('guía', 128), ('limpió', 104), ('presentó', 216), ('aperitivo', 24), ('numerosa', 40), ('planchó', 48), ('corredora', 8), ('lenta', 24), ('taxista', 72), ('usando', 240), ('lamió', 24), ('minifaldas', 32), ('echaba', 32), ('compañía', 1112), ('azotó', 16), ('cachetada', 16), ('¡ella', 8), ('odiarlo', 16), ('detestaba', 8), ('amarle', 8), ('abrazarlo', 8), ('abrazarle', 8), ('chocó', 112), ('vestida', 144), ('nadaba', 56), ('pantis', 8), ('incluir', 8), ('enséñame', 160), ('pasión', 24), ('malignas', 16), ('mecanográfico', 16), ('encargado', 24), ('concrétese', 8), ('¡cíñete', 8), ('valores', 40), ('sumatra', 8), ('isla', 424), ('tómalo', 16), ('dígale', 72), ('recibirme', 16), ('desconcierta', 16), ('circulado', 8), ('aparte', 200), ('decepcionante', 32), ('especialidad', 56), ('grosería', 24), ('pseudociencia', 16), ('portón', 80), ('principal', 248), ('gateando', 16), ('tina', 32), ('batería', 136), ('frontera', 104), ('derrumbó', 40), ('dimitió', 32), ('ministerio', 32), ('maullando', 8), ('tictoc', 8), ('tic', 8), ('tac', 8), ('carbonera', 8), ('amaneciendo', 8), ('moverá', 16), ('bebidas', 72), ('manguera', 8), ('funcionaba', 32), ('encantada', 24), ('embrujada', 48), ('incendiando', 16), ('ampolleta', 32), ('encendidas', 40), ('comercial', 128), ('desierta', 104), ('sabor', 144), ('agrio', 8), ('cuanto', 1256), ('clasificada', 8), ('x', 24), ('jode', 24), ('monjas', 8), ('trucada', 8), ('desbordó', 8), ('cauce', 8), ('simples', 32), ('marineros', 80), ('guion', 24), ('húmedas', 16), ('escopeta', 32), ('destiñe', 8), ('votación', 32), ('calmó', 24), ('curando', 16), ('espadas', 16), ('diferencia', 584), ('fuertes', 184), ('ciruelas', 8), ('maduras', 40), ('respetan', 16), ('quejan', 40), ('inseparables', 32), ('rompieron', 16), ('llaman', 112), ('tintinearon', 8), ('copas', 64), ('batidos', 16), ('bebieron', 40), ('intercambiaron', 56), ('cacería', 24), ('divirtieron', 40), ('entretuvieron', 8), ('requieren', 72), ('aparecieron', 24), ('separado', 80), ('empezaron', 192), ('atraparon', 48), ('lastimarme', 16), ('tottori', 8), ('desnudos', 40), ('divertían', 40), ('victoriosos', 8), ('capaces', 256), ('amenaza', 64), ('lágrimas', 352), ('coetáneos', 8), ('reflexiona', 8), ('¡piense', 8), ('¡piensa', 16), ('pensá', 40), ('podrida', 32), ('cerrará', 32), ('seda', 120), ('aprobación', 64), ('canario', 24), ('chollo', 16), ('auténtica', 40), ('ganga', 24), ('carcinógeno', 8), ('carnet', 96), ('departamento', 240), ('chistoso', 16), ('folleto', 32), ('cambie', 96), ('cambiarse', 32), ('abarrotada', 32), ('costar', 48), ('20', 304), ('octubre', 408), ('gigante', 24), ('disculpar', 32), ('emparedado', 48), ('sandwich', 8), ('deprimió', 16), ('desesperó', 8), ('abordó', 24), ('marcó', 48), ('ternero', 8), ('tropezó', 40), ('llamarla', 32), ('tolera', 8), ('coleccionaba', 32), ('sellos', 144), ('ansias', 16), ('cruzó', 160), ('chapucero', 16), ('resistió', 8), ('volvía', 64), ('regresaba', 8), ('incendio', 424), ('realiza', 32), ('consume', 72), ('arregló', 80), ('ardua', 32), ('heredero', 16), ('varón', 24), ('2020', 16), ('carácter', 72), ('gramófono', 8), ('reñido', 16), ('remordimientos', 8), ('rasgados', 8), ('tíos', 16), ('cebollas', 64), ('crudas', 40), ('escondió', 184), ('ático', 48), ('sentimientos', 536), ('mentor', 8), ('milmillonario', 8), ('ligeramente', 56), ('bombero', 64), ('bailarín', 64), ('neurólogo', 8), ('repostería', 8), ('pastelero', 16), ('repostero', 8), ('maleducada', 8), ('conectado', 40), ('evangelista', 8), ('evangelizador', 8), ('asando', 8), ('anticuado', 32), ('regañando', 16), ('fax', 40), ('dándose', 16), ('acusado', 216), ('demandada', 8), ('detallista', 16), ('derribó', 48), ('consecuencias', 128), ('disciplina', 16), ('carece', 64), ('motivación', 32), ('carcajada', 24), ('aritmética', 32), ('basquetbol', 24), ('audición', 24), ('burló', 80), ('lastimarnos', 8), ('fregó', 8), ('impuso', 40), ('multa', 72), ('300', 144), ('cajera', 8), ('cajero', 56), ('peló', 32), ('envenenó', 24), ('declaró', 144), ('apagó', 240), ('recomendó', 120), ('rehusó', 232), ('ceder', 40), ('recargó', 8), ('rebobinó', 8), ('enjuagó', 32), ('soriendo', 8), ('exposiciones', 8), ('imágenes', 88), ('fertilizante', 16), ('sacudiéndola', 8), ('meter', 120), ('partiendo', 8), ('debió', 272), ('derramó', 80), ('murmurar', 16), ('roncar', 32), ('revolvió', 24), ('limpiar', 592), ('desató', 56), ('cuerdas', 48), ('ansiosamente', 24), ('quiso', 480), ('mintiera', 24), ('matarnos', 24), ('encontrarse', 80), ('contable', 32), ('minero', 8), ('leñador', 24), ('mil', 696), ('cacharon', 16), ('agarraron', 24), ('redondito', 16), ('electrocutó', 8), ('declarado', 48), ('rehén', 8), ('hospitalizado', 16), ('cabaña', 88), ('vigiló', 8), ('silenciosamente', 64), ('clandestinidad', 16), ('pondrá', 72), ('aprobaría', 16), ('aceptaría', 48), ('reporte', 152), ('averió', 40), ('entumecido', 16), ('desvaneció', 40), ('feriado', 48), ('intuición', 24), ('pruébese', 24), ('desempleo', 40), ('usá', 8), ('imaginación', 160), ('visitantes', 56), ('¿había', 56), ('¿hubo', 8), ('autopsia', 32), ('refleja', 16), ('cometemos', 40), ('trajimos', 16), ('veníamos', 16), ('vencidos', 16), ('aplaudimos', 8), ('discutimos', 96), ('propinas', 16), ('elegimos', 32), ('ventaja', 120), ('estrictas', 24), ('rendirnos', 8), ('contárselo', 32), ('abrazamos', 8), ('besamos', 16), ('partiremos', 24), ('ganemos', 32), ('movernos', 32), ('reducir', 136), ('festejamos', 32), ('vendemos', 16), ('compartíamos', 8), ('preocuparnos', 32), ('sospechamos', 16), ('envenenamiento', 8), ('aguardamos', 16), ('asegurarnos', 16), ('apretados', 16), ('atacados', 8), ('perdonaremos', 16), ('fábrica', 352), ('comeremos', 16), ('superaremos', 48), ('tocaremos', 8), ('aproximadamente', 264), ('cuidadosos', 80), ('atacan', 16), ('llamamos', 56), ('venimos', 16), ('acercando', 24), ('desordenados', 8), ('interesados', 32), ('terroristas', 64), ('balas', 32), ('bala', 136), ('plantando', 48), ('semillas', 40), ('escasos', 40), ('dueños', 48), ('vulnerables', 8), ('rumbo', 72), ('abandonados', 32), ('saboteado', 8), ('discutido', 64), ('digno', 24), ('grata', 8), ('ocultan', 8), ('funciones', 24), ('bell', 64), ('¿sobre', 80), ('implica', 48), ('equivocáis', 8), ('corrida', 16), ('toros', 32), ('toreo', 8), ('corridas', 16), ('edificio', 1000), ('sobrenombre', 16), ('ubicación', 40), ('visitarlos', 16), ('volveréis', 8), ('volverás', 56), ('guardias', 56), ('sacado', 40), ('estación', 1944), ('deberiamos', 8), ('director', 168), ('uniforme', 96), ('elegiste', 16), ('borró', 24), ('eliminado', 24), ('quedarás', 72), ('creó', 104), ('demonios', 64), ('plantó', 96), ('dirige', 64), ('burlará', 8), ('¿amigo', 8), ('despediste', 8), ('huiste', 8), ('arrancaste', 8), ('ignoras', 16), ('consiente', 16), ('consientes', 8), ('respondes', 16), ('intentas', 64), ('esconderse', 56), ('¿veré', 8), ('¿ayudará', 8), ('¿habrá', 24), ('probarás', 8), ('esperarás', 8), ('mentiría', 32), ('perdonarías', 8), ('¿mentirías', 8), ('¿preferirías', 80), ('apellidos', 8), ('diligentes', 16), ('poner', 800), ('ignorar', 120), ('captás', 8), ('advertidos', 8), ('sentimiento', 48), ('alegrar', 8), ('significas', 8), ('significáis', 8), ('tocarlo', 40), ('reposar', 16), ('sobrestimas', 8), ('recursos', 128), ('indiferente', 24), ('despreocupado', 8), ('somnoliento', 16), ('debiste', 176), ('dormís', 8), ('camarón', 16), ('creerme', 56), ('entras', 48), ('averiguarás', 8), ('encontraréis', 16), ('pararás', 8), ('¡sos', 16), ('mentirosa', 80), ('evasivo', 8), ('bajoneando', 8), ('yendo', 160), ('oportunista', 8), ('hipersensible', 8), ('tacto', 8), ('misterioso', 40), ('tentando', 8), ('expiatorio', 8), ('turco', 8), ('casco', 104), ('errónea', 48), ('delfín', 32), ('pajarito', 24), ('buscarle', 8), ('buscarlo', 32), ('pasarán', 16), ('áfrica', 144), ('continente', 40), ('¡y', 8), ('esforcé', 8), ('máximo', 104), ('¿éstos', 8), ('pantuflas', 16), ('cansando', 56), ('contenta', 88), ('ud', 16), ('nana', 8), ('viajan', 24), ('deliciosos', 16), ('exquisitos', 16), ('bananas', 24), ('deliciosas', 40), ('trepar', 40), ('bayas', 16), ('congelar', 16), ('carteristas', 16), ('lanzas', 16), ('afirmaciones', 24), ('falsas', 40), ('ciertas', 96), ('¡trae', 8), ('¡tráete', 8), ('abróchense', 32), ('cinturones', 32), ('cómpralo', 8), ('pedirte', 160), ('prestas', 96), ('comprarte', 48), ('patines', 48), ('apagar', 264), ('¿podrá', 32), ('contestar', 304), ('atender', 48), ('remos', 16), ('describirles', 8), ('describirlos', 8), ('morirse', 16), ('identificarlo', 8), ('identificar', 24), ('reconocer', 64), ('prestarías', 40), ('meterme', 48), ('mantiene', 184), ('brújulas', 8), ('¿podríamos', 24), ('hablarte', 104), ('repetir', 88), ('cúbralo', 8), ('córtalo', 8), ('¿llovió', 8), ('llovido', 88), ('¿cortaste', 8), ('¿descubriste', 8), ('¿descubristeis', 8), ('¿recibiste', 88), ('¿escuchaste', 24), ('pusiste', 104), ('usado', 176), ('¿querías', 56), ('¿quisiste', 8), ('mencioné', 16), ('¿crees', 824), ('¿creen', 24), ('¿cree', 80), ('¿creéis', 48), ('¿creés', 120), ('existencia', 72), ('¿disfrutas', 8), ('¿vuelas', 8), ('¿vuelan', 8), ('encendedor', 24), ('boleta', 16), ('auriculares', 40), ('audífonos', 32), ('¿debes', 8), ('atún', 48), ('¿oís', 8), ('lomo', 8), ('¿toca', 40), ('¿vende', 8), ('pilas', 40), ('¿aún', 120), ('amás', 8), ('ruegue', 8), ('¿trabajas', 16), ('¿usa', 8), ('¿alguno', 56), ('¿nadie', 24), ('entierran', 8), ('huesos', 80), ('irracional', 24), ('muerdas', 24), ('cortes', 16), ('cortés', 56), ('ostiones', 8), ('hilo', 104), ('dental', 48), ('involucres', 24), ('aleje', 16), ('bromees', 8), ('apoyes', 64), ('menee', 8), ('descubras', 16), ('maldigas', 8), ('público', 576), ('hablés', 8), ('toquen', 16), ('extraños', 176), ('pruebes', 8), ('malgasten', 8), ('clic', 72), ('ícono', 16), ('ruina', 24), ('lléveme', 24), ('estrógeno', 8), ('hormona', 8), ('artistas', 32), ('bajaron', 64), ('bajito', 8), ('oscureció', 48), ('acudieron', 32), ('consíganme', 8), ('quítalo', 16), ('quítame', 16), ('¡devuélveme', 16), ('entrégale', 24), ('universo', 152), ('adiviná', 8), ('adivinen', 32), ('cenaste', 40), ('admiró', 8), ('admitió', 272), ('adoptó', 24), ('gastó', 96), ('izquierdo', 160), ('varias', 608), ('inglaterra', 352), ('distribuye', 8), ('muebles', 360), ('lágrima', 40), ('grúa', 40), ('10000', 72), ('cobra', 24), ('recibe', 48), ('medicamentos', 80), ('afilada', 24), ('rueda', 104), ('nacimiento', 96), ('heroína', 16), ('heroinómano', 8), ('tirador', 24), ('agudo', 112), ('futbolista', 24), ('entusiasta', 16), ('ordinario', 40), ('faltan', 88), ('jugadores', 144), ('enseñando', 112), ('incapaz', 192), ('gacho', 16), ('chupó', 24), ('buscó', 128), ('tierras', 64), ('descansó', 16), ('vendría', 232), ('rascó', 32), ('¡salgan', 8), ('¡sale', 8), ('indicó', 24), ('leía', 96), ('unirá', 16), ('fracase', 8), ('presentará', 16), ('bronce', 16), ('maravillosamente', 16), ('arrancará', 8), ('remate', 24), ('llanto', 48), ('levantando', 24), ('sonrojaron', 8), ('mofletes', 8), ('contados', 24), ('ruedas', 96), ('suenan', 48), ('alocadas', 8), ('cuelgue', 24), ('firmeza', 16), ('ocurrir', 240), ('profundos', 32), ('brincar', 16), ('tarda', 168), ('pesas', 40), ('mantengo', 56), ('cepillando', 40), ('cosechando', 8), ('calentando', 40), ('vendiendo', 64), ('vendrían', 8), ('asumí', 240), ('deditos', 16), ('milagros', 32), ('florero', 88), ('oler', 40), ('océano', 208), ('atestiguar', 8), ('prometer', 16), ('tolero', 8), ('estornudar', 16), ('cargué', 8), ('alcancé', 40), ('considero', 88), ('hacerla', 32), ('definitivamente', 256), ('ascenso', 80), ('sobrevivir', 136), ('atreví', 8), ('atrevía', 16), ('doné', 16), ('caché', 8), ('talla', 152), ('estudié', 152), ('correspondencia', 8), ('brécol', 16), ('licores', 8), ('oboe', 24), ('afeito', 16), ('sueco', 16), ('expliqué', 56), ('prohíbo', 24), ('salgas', 136), ('descubrí', 80), ('hallé', 24), ('sedante', 24), ('obtengo', 24), ('11', 40), ('perforé', 8), ('ocultar', 312), ('precocida', 8), ('recados', 24), ('habilidades', 160), ('destreza', 8), ('propias', 136), ('secar', 16), ('alimentar', 184), ('recuperarlo', 16), ('sonar', 288), ('escondí', 40), ('debajo', 544), ('pegué', 40), ('mentón', 16), ('barbilla', 8), ('importe', 24), ('entiendas', 64), ('comprendas', 8), ('cuántos', 144), ('vivís', 24), ('platicar', 48), ('esmerado', 8), ('teñirme', 16), ('futbol', 56), ('inspiración', 48), ('interpretar', 24), ('músicos', 40), ('novelas', 280), ('romance', 16), ('clavos', 40), ('intérprete', 128), ('cápsulas', 8), ('impresionar', 56), ('arrendar', 40), ('olvido', 32), ('biología', 72), ('exámenes', 136), ('pospuse', 8), ('evento', 112), ('arruiné', 8), ('haberla', 128), ('lavarme', 24), ('cometo', 40), ('recomiendo', 64), ('oeste', 152), ('afané', 8), ('conversé', 16), ('frenillos', 32), ('bulo', 8), ('apañaremos', 8), ('apañamos', 8), ('deshice', 32), ('encendí', 24), ('pomo', 56), ('disgustaba', 8), ('tercera', 128), ('explicación', 432), ('adelgazar', 48), ('corea', 80), ('madures', 8), ('beses', 8), ('leerlos', 16), ('acusaron', 96), ('injustamente', 8), ('montaña', 824), ('asistiré', 48), ('aceptaré', 24), ('volaré', 8), ('alemania', 296), ('necesitaré', 32), ('¡quisiera', 8), ('dormiré', 24), ('embajada', 96), ('mcdonalds', 32), ('agradado', 8), ('conduzcas', 56), ('golpearía', 16), ('aconsejas', 16), ('apetezca', 16), ('obtendré', 8), ('prepararé', 32), ('firmaré', 8), ('enseñaré', 152), ('contaré', 120), ('contarte', 152), ('regar', 64), ('abuelo', 872), ('fan', 8), ('concejal', 8), ('alturas', 56), ('agotaron', 40), ('trucos', 72), ('avergüenzo', 72), ('restaurante', 992), ('atraído', 24), ('gustara', 32), ('acuerdes', 32), ('besaré', 8), ('extraoficialmente', 8), ('septimo', 8), ('matando', 80), ('pizca', 40), ('materialista', 48), ('cansé', 32), ('agobiado', 8), ('ritmo', 96), ('habituado', 72), ('negado', 40), ('decepcionada', 40), ('hambrita', 8), ('descubrimiento', 88), ('fijado', 32), ('organizado', 32), ('sangrar', 24), ('ocupé', 24), ('maneras', 64), ('¿sucede', 8), ('martes', 144), ('acaso', 320), ('instalar', 64), ('¿realmente', 264), ('instalaciones', 16), ('ciertos', 48), ('tela', 120), ('heló', 16), ('pelos', 80), ('punta', 160), ('confirmado', 24), ('confirmada', 8), ('crucero', 32), ('pelean', 48), ('desgarra', 8), ('interiormente', 8), ('forzada', 24), ('imponente', 40), ('sofocantemente', 8), ('dificilísimo', 8), ('valió', 24), ('intencional', 8), ('dejará', 72), ('inversión', 72), ('cultural', 32), ('estallar', 64), ('aunque', 784), ('pela', 40), ('verá', 24), ('recompensado', 16), ('sucediendo', 96), ('completo', 272), ('olimpíadas', 8), ('obligación', 80), ('notorio', 8), ('estresante', 48), ('autoexplicativo', 8), ('empezando', 336), ('frustrante', 8), ('esperábamos', 112), ('júpiter', 32), ('cadena', 88), ('¡prosigue', 8), ('buitreé', 8), ('apréndete', 16), ('frases', 80), ('sácalo', 8), ('entorna', 8), ('déjenme', 32), ('cargar', 120), ('jueguen', 72), ('dejemos', 64), ('decida', 48), ('construyamos', 8), ('llamémosle', 8), ('snoopy', 8), ('llamemos', 24), ('bajémonos', 8), ('¡vámonos', 16), ('ayudémonos', 8), ('dejémosla', 8), ('juntémonos', 48), ('emocionemos', 8), ('abramos', 24), ('quemadas', 16), ('voleibol', 120), ('repasar', 32), ('ajustar', 56), ('viajemos', 8), ('apaguemos', 16), ('palo', 88), ('astilla', 16), ('sentite', 8), ('siéntete', 16), ('siéntase', 32), ('disgustada', 24), ('rechazados', 8), ('exesposa', 24), ('abuela', 576), ('peluquera', 8), ('trofeo', 32), ('oncóloga', 8), ('hilando', 8), ('lana', 64), ('besara', 96), ('concedes', 8), ('baile', 240), ('mike', 8), ('tyson', 8), ('boxeador', 32), ('agitado', 32), ('rige', 16), ('gobierna', 8), ('reparado', 72), ('encantará', 16), ('celular', 184), ('apagado', 72), ('instinto', 32), ('abogada', 24), ('agenda', 72), ('desgastados', 16), ('comprometió', 24), ('aprecia', 24), ('controlarnos', 8), ('incumbencia', 56), ('escuchaba', 80), ('obviamente', 184), ('tuberías', 16), ('reventaron', 8), ('encontremos', 56), ('adopta', 48), ('adopte', 24), ('adoptá', 16), ('adoptad', 8), ('adopten', 32), ('micho', 8), ('michín', 8), ('misho', 8), ('reparte', 16), ('plancha', 48), ('planchá', 8), ('mantenlo', 8), ('medidor', 8), ('repare', 8), ('prenda', 24), ('prendan', 16), ('despiértame', 64), ('grasa', 96), ('contiene', 96), ('presenta', 40), ('argumentos', 16), ('intimidad', 16), ('deseche', 8), ('temores', 16), ('¡bajen', 16), ('queráis', 112), ('quieran', 48), ('reproducen', 24), ('rapidamente', 8), ('origen', 72), ('plaga', 32), ('portadoras', 8), ('transmiten', 24), ('epidemia', 16), ('vuélvelo', 8), ('sentadas', 32), ('sentada', 168), ('recuérdate', 8), ('acuérdate', 32), ('reformule', 8), ('lenguaje', 120), ('llano', 8), ('840', 8), ('mándanos', 8), ('impresión', 224), ('apártame', 8), ('actuó', 128), ('apaleó', 16), ('tarado', 8), ('español', 336), ('obsequio', 152), ('entregó', 176), ('ceceo', 8), ('cintura', 72), ('almuerza', 72), ('muchísimo', 160), ('nadadora', 24), ('diecisiete', 136), ('víctima', 80), ('emparentada', 8), ('pariente', 56), ('cosiendo', 40), ('visitando', 32), ('baloncesto', 232), ('agonía', 16), ('desafina', 8), ('estudiase', 8), ('analgésico', 16), ('besarlo', 16), ('besarle', 24), ('bautizada', 8), ('depresión', 32), ('despistada', 8), ('enséñeme', 48), ('abandonas', 8), ('ganaré', 32), ('renacuajos', 8), ('convierten', 8), ('ranas', 24), ('aliste', 8), ('¡contame', 8), ('unírtenos', 8), ('avisarme', 24), ('maca', 8), ('tardó', 48), ('miserable', 64), ('faltado', 48), ('detalle', 144), ('desalentador', 8), ('suposición', 8), ('pensábamos', 48), ('cañería', 32), ('comprensible', 32), ('sinsentido', 16), ('jackson', 296), ('vía', 48), ('láctea', 24), ('inmensa', 16), ('impidió', 288), ('estrepitosamente', 8), ('dixie', 8), ('funcionaban', 32), ('cumplirá', 32), ('limpieza', 32), ('comparación', 40), ('apropiada', 56), ('dato', 16), ('alentador', 8), ('mordiendo', 8), ('alcantarilla', 24), ('obstruida', 8), ('precipitó', 40), ('goteando', 24), ('mutuo', 16), ('archivos', 64), ('inundación', 112), ('tremenda', 24), ('dorado', 32), ('halcón', 24), ('cazador', 72), ('espeso', 24), ('tetera', 32), ('pava', 8), ('extensa', 32), ('ilimitada', 16), ('reuniones', 192), ('malísimo', 8), ('entristeció', 40), ('rechazada', 32), ('agravó', 8), ('secado', 24), ('laguna', 80), ('bendijo', 16), ('proceso', 64), ('régimen', 24), ('caído', 136), ('falsos', 8), ('situación', 936), ('salada', 64), ('creíble', 24), ('amena', 16), ('confesó', 152), ('ilegible', 8), ('marea', 16), ('tratado', 240), ('firmado', 32), ('quitaron', 16), ('tumor', 40), ('removieron', 16), ('tifón', 152), ('arrasó', 8), ('unánime', 8), ('1945', 48), ('1954', 8), ('ejemplos', 32), ('mancha', 96), ('dificultad', 224), ('sustituto', 24), ('alumnas', 8), ('difíciles', 128), ('lucían', 8), ('armaron', 32), ('bombones', 64), ('comparten', 16), ('confabularon', 8), ('toman', 88), ('cargaron', 16), ('castigados', 32), ('castigar', 32), ('evitaron', 16), ('despreciaron', 8), ('repartieron', 8), ('llevaron', 112), ('lavan', 32), ('carcajadas', 24), ('faltos', 8), ('estrictos', 24), ('criminales', 80), ('peligrosos', 80), ('peligrosas', 72), ('arreglado', 64), ('calentador', 48), ('abanico', 32), ('manchado', 8), ('inapropiado', 40), ('preciada', 32), ('creación', 8), ('deprimente', 8), ('impactantes', 8), ('imponentes', 8), ('suyas', 40), ('sana', 64), ('heridas', 96), ('almorzó', 40), ('restos', 64), ('completos', 24), ('hervir', 56), ('cepilló', 8), ('permitirse', 40), ('maní', 64), ('casualmente', 24), ('compuso', 24), ('soneto', 8), ('autocorrigió', 8), ('faltó', 48), ('recompensa', 56), ('abdominales', 40), ('dormía', 72), ('compasión', 56), ('accedió', 16), ('barro', 40), ('coqueteó', 24), ('camisas', 80), ('casillas', 32), ('taburete', 80), ('diplomó', 8), ('creció', 168), ('ajetreada', 40), ('leyeron', 16), ('palma', 24), ('jet', 16), ('lacio', 8), ('primas', 48), ('ocultó', 96), ('hijastro', 16), ('altivo', 8), ('cardiólogo', 8), ('atleta', 48), ('cuadripléjico', 8), ('humorista', 8), ('conflictivo', 8), ('cociendo', 16), ('claustrofobia', 8), ('consolando', 8), ('divorciándose', 8), ('donando', 8), ('calificando', 8), ('bastantes', 64), ('aporreado', 8), ('entonado', 8), ('sumo', 48), ('sarcástico', 16), ('salto', 64), ('divertirse', 72), ('quiché', 8), ('laptop', 64), ('conectó', 24), ('enchufó', 16), ('pulsó', 16), ('apestaba', 8), ('intentaría', 40), ('restregó', 32), ('últimamente', 352), ('ánimo', 56), ('empacar', 32), ('recriminado', 8), ('pagarlo', 16), ('mostraba', 16), ('arrepentimiento', 16), ('raspó', 24), ('resolvió', 136), ('acarició', 32), ('pensó', 744), ('abrazar', 32), ('tergiversó', 8), ('descorchó', 8), ('subestimó', 16), ('listón', 40), ('culparnos', 8), ('casarse', 464), ('sentarse', 168), ('enterrado', 112), ('desconsiderado', 8), ('mirándome', 24), ('indudablemente', 8), ('parche', 16), ('triatlón', 8), ('prefiere', 152), ('premonición', 8), ('secando', 24), ('presta', 120), ('sitios', 48), ('desocupados', 16), ('explotó', 64), ('1939', 72), ('estalló', 168), ('¿hizo', 24), ('aceptado', 80), ('angustiábamos', 16), ('instancia', 8), ('moriremos', 24), ('deseamos', 48), ('molestándole', 8), ('futbolistas', 8), ('capturamos', 8), ('cima', 224), ('continuamos', 16), ('seguimos', 64), ('derrotamos', 8), ('exigimos', 8), ('condujimos', 24), ('emborrachamos', 8), ('pusimos', 96), ('navegación', 16), ('arrodillamos', 8), ('adoramos', 8), ('descansamos', 32), ('solíamos', 128), ('caminamos', 64), ('rescate', 40), ('decepcionaremos', 8), ('preparemos', 32), ('volveremos', 48), ('viviremos', 8), ('reyes', 16), ('perderemos', 16), ('trataremos', 16), ('progresando', 32), ('descubiertos', 8), ('¿estuviste', 80), ('¿estuvisteis', 8), ('levantadas', 16), ('desilusión', 8), ('espantoso', 72), ('atrocidad', 16), ('síntomas', 40), ('hechas', 40), ('ruidos', 32), ('insinuando', 24), ('tejiendo', 64), ('pasatiempos', 32), ('trajiste', 64), ('descubriste', 16), ('contaste', 64), ('recomendarías', 24), ('refiere', 16), ('serviría', 24), ('grado', 88), ('aprendido', 224), ('disparate', 8), ('idioma', 584), ('abres', 16), ('demoró', 8), ('llevado', 96), ('averiguaste', 16), ('llegarán', 48), ('duchas', 24), ('servicios', 80), ('creciste', 8), ('diablos', 72), ('¿donde', 32), ('presidente', 640), ('bronceador', 24), ('testigos', 64), ('¿contra', 8), ('muñeco', 56), ('descubrió', 296), ('susurrando', 16), ('melancólico', 8), ('comes', 240), ('estacionaste', 8), ('preguntastes', 8), ('pensás', 72), ('entrás', 8), ('pasas', 152), ('creces', 8), ('unes', 32), ('acompañarnos', 16), ('callas', 32), ('sucedería', 56), ('lastimarías', 8), ('querer', 256), ('¿volveremos', 8), ('acompañarás', 8), ('¿recibís', 8), ('¿recibe', 8), ('¡caramba', 8), ('guau', 8), ('anótalo', 16), ('iniciado', 16), ('sesión', 40), ('500', 136), ('hacerte', 504), ('gobernar', 16), ('sentaros', 16), ('domesticar', 8), ('pudiste', 104), ('suenas', 32), ('genios', 24), ('aguantarse', 8), ('agotada', 8), ('cumplir', 328), ('haberlos', 32), ('seguirme', 16), ('creiste', 8), ('siembra', 8), ('tempestades', 16), ('recoges', 16), ('siembras', 56), ('cosechas', 56), ('recuperaste', 8), ('habérmelo', 56), ('nadas', 40), ('nadan', 32), ('parecéis', 48), ('debéis', 72), ('castigada', 16), ('acostumbraréis', 16), ('cantas', 24), ('invencible', 40), ('predecible', 8), ('monda', 8), ('idealista', 8), ('inflexible', 24), ('hermosísima', 24), ('observador', 16), ('escéptica', 16), ('reclama', 8), ('retrasan', 16), ('napia', 8), ('manchada', 8), ('desatados', 24), ('adelanta', 56), ('2539', 8), ('cierva', 8), ('hembra', 16), ('salvaje', 32), ('imán', 40), ('mosquito', 48), ('picar', 24), ('zancudo', 8), ('requiere', 224), ('contraseña', 168), ('conejo', 128), ('esponja', 32), ('hablarme', 48), ('bastarán', 8), ('domesticado', 16), ('bebía', 24), ('reservados', 8), ('buses', 88), ('llenos', 112), ('bondis', 16), ('maduros', 8), ('asustan', 32), ('¿dejas', 32), ('apuntando', 16), ('grabando', 8), ('ingleses', 48), ('destruida', 48), ('caen', 40), ('tejones', 8), ('cavan', 16), ('agujeros', 32), ('caerte', 16), ('revistas', 136), ('comprá', 16), ('leelo', 8), ('¿podré', 8), ('burlar', 16), ('traerte', 32), ('almohadón', 8), ('entregan', 16), ('pasármelo', 8), ('entregármelo', 8), ('fracaso', 192), ('planeta', 168), ('omelet', 40), ('contabilidad', 16), ('¿habrás', 16), ('acercar', 8), ('garantizar', 40), ('cuidar', 416), ('solucionar', 128), ('mojados', 40), ('plátano', 72), ('análisis', 8), ('cocine', 8), ('gramos', 16), ('podar', 24), ('pasear', 192), ('¿recibió', 8), ('¿encontraron', 8), ('¿terminaste', 72), ('metiste', 24), ('¿necesitabas', 8), ('¿revisaste', 8), ('¿nadaste', 8), ('¿quería', 8), ('¿queríais', 8), ('¿querían', 8), ('¿trabajaste', 8), ('operación', 112), ('¿existen', 24), ('¿esos', 8), ('ovnis', 32), ('¿venís', 8), ('¿soñás', 8), ('¿sueñas', 8), ('¿tomas', 40), ('entregas', 8), ('¿traes', 16), ('cicatrices', 24), ('manual', 40), ('arca', 8), ('noé', 8), ('¿saben', 72), ('cappelletis', 8), ('¿practicas', 8), ('¿tocáis', 8), ('¿lees', 8), ('¿reconoces', 16), ('mapache', 16), ('esperanto', 72), ('diariamente', 40), ('¿pensás', 64), ('caramelo', 56), ('matarme', 96), ('besarme', 32), ('¿escribes', 16), ('¿escribís', 8), ('pusilánime', 16), ('nieva', 112), ('estupidez', 88), ('leales', 8), ('maltrates', 16), ('halagues', 8), ('dejéis', 24), ('escape', 80), ('asuste', 16), ('permitas', 16), ('desanime', 8), ('consientas', 8), ('atemorice', 8), ('estribos', 56), ('prometas', 8), ('pulsar', 96), ('mandes', 16), ('falten', 24), ('¿ok', 8), ('malcríes', 8), ('relaje', 32), ('arrojes', 24), ('traten', 32), ('subestimes', 64), ('subestiméis', 8), ('malgaste', 8), ('¿jamás', 16), ('¿nunca', 48), ('callás', 16), ('sobrante', 8), ('lucen', 16), ('títeres', 8), ('permanecieron', 16), ('relativo', 8), ('encontrarte', 152), ('descubre', 56), ('plega', 8), ('salvajes', 120), ('consigan', 16), ('agarren', 8), ('palas', 16), ('ropas', 40), ('123', 8), ('sucedido', 120), ('¿alimentaste', 16), ('lunático', 24), ('derrota', 64), ('entera', 320), ('nivel', 176), ('mundial', 248), ('sopló', 72), ('docena', 72), ('desistió', 8), ('marcharas', 8), ('sur', 240), ('espíritus', 8), ('hangzhou', 8), ('periódicos', 168), ('exigió', 80), ('paraba', 32), ('vestía', 48), ('derrochó', 8), ('vaga', 24), ('anchos', 8), ('bretaña', 24), ('pesos', 56), ('dispositivo', 16), ('violinista', 24), ('destinado', 48), ('fluido', 88), ('asesinato', 336), ('recostó', 16), ('country', 40), ('aparece', 64), ('milton', 16), ('tocaba', 104), ('finge', 32), ('demostró', 16), ('arrepiente', 32), ('repara', 8), ('retira', 8), ('jubila', 16), ('ahorra', 16), ('apartado', 24), ('tragó', 24), ('orgullo', 88), ('física', 184), ('asignaron', 16), ('felizmente', 8), ('acariciaba', 8), ('visiblemente', 8), ('dentista', 200), ('acabará', 16), ('creería', 16), ('lastimaría', 40), ('mosca', 72), ('presión', 160), ('perdonará', 56), ('beisbolista', 16), ('devoto', 8), ('cadete', 8), ('topo', 24), ('espiarnos', 8), ('apoya', 16), ('entreteniendo', 8), ('paredes', 96), ('porta', 48), ('ruidosa', 64), ('descartado', 8), ('negativa', 24), ('paraíso', 24), ('sorprendieron', 24), ('sereno', 24), ('apago', 32), ('torre', 184), ('pronuncia', 64), ('costaron', 32), ('bebes', 64), ('permití', 24), ('6', 160), ('melancólica', 24), ('descargando', 8), ('pepino', 8), ('prendiendo', 8), ('memorizando', 24), ('empantanado', 8), ('ordenando', 32), ('apruebo', 56), ('llamaras', 16), ('llamarais', 8), ('llamara', 88), ('llamaran', 24), ('armo', 8), ('motores', 16), ('solito', 24), ('asistí', 24), ('cuidarte', 64), ('aguantar', 80), ('ganáramos', 8), ('tono', 24), ('agarrado', 16), ('catarro', 32), ('atroz', 32), ('elegí', 64), ('contacté', 8), ('incorrectamente', 16), ('critiqué', 8), ('chapoteo', 16), ('gasté', 96), ('céntimo', 24), ('centavo', 32), ('desagrada', 16), ('cocino', 32), ('apariencia', 200), ('donación', 40), ('conozca', 136), ('acabé', 24), ('disfruté', 72), ('disfrutado', 24), ('temblar', 40), ('sacudirse', 56), ('cobré', 16), ('alhajas', 16), ('arreglara', 24), ('muelas', 56), ('par', 1016), ('inflamado', 8), ('terribles', 56), ('e', 488), ('5000', 24), ('cepillar', 16), ('peinarme', 16), ('chaveta', 8), ('auxilio', 16), ('llamaban', 32), ('cerrarse', 8), ('estén', 176), ('conformes', 8), ('consigamos', 16), ('logremos', 8), ('resulte', 32), ('heredé', 8), ('ascender', 8), ('guardo', 24), ('reaccionar', 40), ('serías', 56), ('tendrías', 64), ('volverías', 32), ('personalmente', 168), ('diferentes', 288), ('lesionó', 16), ('lograr', 32), ('sombrilla', 32), ('obama', 32), ('clásica', 136), ('medianamente', 8), ('sorprenderme', 32), ('masticar', 48), ('observar', 80), ('rural', 16), ('americanas', 48), ('navideñas', 40), ('pudín', 8), ('tapioca', 8), ('emití', 16), ('conciencia', 96), ('precipitado', 24), ('aseguré', 8), ('acueste', 8), ('enfadara', 16), ('cursé', 8), ('énfasis', 48), ('major', 8), ('reaccionado', 8), ('exagerada', 8), ('norteamericana', 16), ('necesite', 136), ('vea', 192), ('botiquín', 16), ('asesoramiento', 16), ('usb', 24), ('documentos', 176), ('prepararme', 40), ('hacerle', 160), ('arriendo', 40), ('pasta', 104), ('acordeón', 32), ('toqué', 32), ('prometo', 208), ('carnada', 8), ('cebo', 8), ('esposé', 8), ('recorrido', 16), ('cancha', 16), ('entero', 344), ('deprimí', 8), ('reconocí', 120), ('arrepentí', 8), ('actualicé', 8), ('acordé', 8), ('regresé', 24), ('chamba', 8), ('millas', 296), ('liz', 8), ('subirse', 32), ('golpear', 80), ('rebaño', 32), ('ovejas', 56), ('lejana', 8), ('escaparse', 32), ('revista', 376), ('puesta', 208), ('apreté', 24), ('estudiéis', 16), ('terapia', 16), ('competente', 48), ('habíamos', 128), ('movieran', 16), ('movieras', 8), ('quedaras', 72), ('anduve', 24), ('pretendido', 8), ('protegerte', 64), ('plenamente', 48), ('mantenerme', 32), ('informada', 8), ('frescos', 32), ('cocinarte', 8), ('recepción', 8), ('alegré', 16), ('preguntaras', 16), ('recordando', 16), ('contendiente', 8), ('regañaba', 24), ('criaron', 24), ('requeteafortunada', 8), ('60', 40), ('distinto', 80), ('conociera', 104), ('hawái', 136), ('hubieras', 288), ('fueras', 192), ('chantajeen', 8), ('fallaré', 8), ('fracasaré', 8), ('invitar', 184), ('preguntaba', 440), ('asesor', 32), ('consultor', 8), ('probaría', 8), ('ofrecido', 8), ('aconsejaría', 8), ('apostaría', 24), ('entraría', 8), ('repetiría', 8), ('pensaría', 48), ('despierte', 48), ('mediana', 24), ('reemplazarlo', 8), ('guardaespaldas', 24), ('mantendré', 56), ('horario', 152), ('decidiré', 16), ('explicaré', 88), ('contactaré', 16), ('compondré', 8), ('pondré', 96), ('perdonaré', 64), ('enviaré', 48), ('estudiaré', 32), ('próximo', 1080), ('hablaré', 104), ('gluten', 8), ('autorizo', 8), ('solicitando', 8), ('avergüenza', 80), ('fascinan', 16), ('estuvieras', 104), ('cooperar', 8), ('sedienta', 8), ('lactosa', 16), ('terapeuta', 24), ('desorden', 56), ('meditar', 32), ('acordarme', 80), ('analizado', 16), ('jugado', 80), ('desgasté', 8), ('incentivo', 8), ('logrará', 16), ('reciente', 72), ('¿sólo', 8), ('¿queda', 48), ('objeción', 48), ('vergonzoso', 72), ('mangos', 16), ('ocurrirte', 8), ('ocurriros', 16), ('ocurrirle', 16), ('sorprende', 152), ('olía', 24), ('jerusalén', 8), ('roca', 64), ('narices', 56), ('llovía', 64), ('dulcemente', 16), ('excitante', 24), ('premeditado', 8), ('monumental', 8), ('excelente', 400), ('estereotipo', 8), ('despejarse', 16), ('moda', 232), ('ocurriendo', 72), ('opuesto', 32), ('biodegradable', 8), ('procedimiento', 40), ('rutina', 64), ('vital', 32), ('importancia', 216), ('john', 3136), ('alégrate', 8), ('contagiosa', 48), ('preguntemos', 8), ('crucemos', 8), ('meollo', 8), ('cambiemos', 16), ('corramos', 24), ('azar', 48), ('escuchame', 16), ('pizarra', 144), ('telefónica', 88), ('apariencias', 72), ('engañosas', 16), ('definir', 16), ('mojó', 24), ('lubricó', 8), ('animadora', 32), ('regordete', 8), ('maryam', 8), ('presentarme', 64), ('bañarme', 56), ('quitar', 104), ('¡métete', 16), ('asuntos', 216), ('¡meteos', 16), ('¡metete', 16), ('¡zapatero', 8), ('mayoría', 824), ('gps', 16), ('cochera', 136), ('encantar', 48), ('asombrosos', 8), ('latir', 56), ('aceleradamente', 16), ('cortas', 88), ('incondicionales', 8), ('párvulos', 8), ('gruñendo', 16), ('york', 504), ('concordó', 8), ('sustituirte', 8), ('llorones', 8), ('lloricas', 8), ('matado', 160), ('honestos', 32), ('placentera', 8), ('averiado', 32), ('incendió', 24), ('complicada', 72), ('pásate', 16), ('repita', 32), ('barred', 8), ('barran', 8), ('barrer', 72), ('alacena', 8), ('ordena', 40), ('limitada', 8), ('líneas', 80), ('modere', 8), ('ímpetus', 8), ('meza', 8), ('remar', 16), ('corré', 8), ('comienzan', 72), ('abril', 160), ('330', 8), ('¿arreglo', 8), ('¿cierro', 8), ('magra', 8), ('marcadamente', 8), ('resfriaba', 8), ('pareció', 312), ('calzaba', 8), ('blando', 24), ('hermosos', 56), ('talentosa', 40), ('tejió', 32), ('sweater', 16), ('divulgó', 8), ('faldas', 64), ('interruptor', 32), ('semejanza', 8), ('depiló', 8), ('axilas', 8), ('costado', 64), ('carrilla', 16), ('bélgica', 40), ('tembló', 16), ('deteriorando', 16), ('toneladas', 72), ('maquillaje', 112), ('aliviará', 32), ('marketing', 8), ('precioso', 88), ('glamorosa', 8), ('individualista', 8), ('asear', 8), ('yéndote', 8), ('gusanos', 24), ('capullos', 16), ('cántanos', 16), ('perjudica', 16), ('interrumpirte', 40), ('prohíbe', 72), ('escupir', 16), ('fronteras', 8), ('extienda', 8), ('ardillas', 40), ('mueven', 24), ('velozmente', 32), ('comerte', 64), ('morderte', 8), ('engañarte', 24), ('hurgarte', 8), ('produce', 96), ('engendra', 32), ('suministros', 88), ('¡tomá', 8), ('llévenme', 16), ('bolsas', 56), ('corran', 24), ('llevale', 8), ('¡díselo', 8), ('diles', 56), ('muchísimas', 72), ('invitarme', 48), ('rescatarme', 8), ('comentario', 144), ('entretenida', 24), ('cocinado', 32), ('tonta', 128), ('¿cierto', 112), ('preocupación', 48), ('interés', 280), ('halagador', 8), ('proseguía', 8), ('reventar', 16), ('coñac', 8), ('abrirse', 32), ('descolorida', 8), ('cubrieron', 16), ('taparon', 8), ('plazo', 80), ('filoso', 16), ('nación', 112), ('negociación', 40), ('terminada', 16), ('acusó', 208), ('héroes', 24), ('topó', 40), ('usados', 32), ('empeoró', 32), ('atardecer', 24), ('estatua', 120), ('mercados', 16), ('financieros', 48), ('brillaba', 56), ('descarriló', 24), ('ferozmente', 8), ('supone', 272), ('ganancia', 16), ('factores', 16), ('sobrevivientes', 24), ('explosión', 168), ('puentes', 56), ('patrón', 40), ('faro', 8), ('echaron', 72), ('perlas', 64), ('corbatas', 24), ('teniendo', 192), ('paseando', 56), ('entenderme', 8), ('podían', 120), ('pudieron', 128), ('huido', 8), ('detestan', 8), ('cobertizo', 32), ('fallaron', 16), ('dirigieron', 24), ('escondieron', 40), ('sótano', 80), ('lanzaron', 56), ('rememorar', 16), ('cambios', 112), ('cargos', 40), ('acusaciones', 24), ('instrucciones', 152), ('poseen', 8), ('elevaron', 24), ('afincaron', 8), ('viajaron', 8), ('protección', 48), ('tomados', 16), ('alegrarán', 8), ('comerán', 16), ('cuidadosas', 16), ('atrasados', 16), ('llegan', 40), ('mejorar', 168), ('cerebro', 104), ('eléctrico', 88), ('impermeable', 96), ('incorrecta', 120), ('deliciosa', 112), ('sentará', 16), ('discriminación', 24), ('eternidad', 80), ('rematadamente', 8), ('pésima', 80), ('gratuito', 40), ('musical', 112), ('bellísima', 32), ('hedor', 8), ('reservada', 16), ('abrirá', 56), ('balazos', 16), ('agotador', 8), ('regañadientes', 24), ('alcohólicos', 8), ('retiró', 96), ('abotonó', 32), ('calefactor', 40), ('dejarnos', 24), ('felicitó', 24), ('disfrazado', 64), ('protestar', 8), ('lagartijas', 16), ('vano', 176), ('recordaba', 32), ('rugby', 24), ('zambulló', 24), ('soñó', 80), ('forzó', 56), ('rehenes', 40), ('aburrió', 40), ('pobreza', 96), ('cardíaco', 40), ('agregar', 40), ('cejas', 48), ('peludas', 8), ('foco', 16), ('concentración', 32), ('planea', 208), ('esposas', 48), ('nieto', 72), ('ballet', 32), ('hipocondríaco', 8), ('karate', 16), ('manojo', 32), ('mimado', 16), ('muro', 144), ('tiñendo', 24), ('abanicando', 8), ('amateur', 16), ('atómico', 24), ('progresos', 32), ('analgésicos', 16), ('estacionando', 8), ('recogiendo', 64), ('planificando', 16), ('obstinado', 16), ('contando', 72), ('recula', 8), ('retroceder', 16), ('jogging', 16), ('precipicio', 24), ('quienes', 120), ('chupaba', 8), ('mexicana', 24), ('ojeó', 40), ('arquitectura', 56), ('captura', 24), ('marca', 152), ('trasplante', 16), ('descuidó', 8), ('lastima', 8), ('inocencia', 184), ('infló', 16), ('neumático', 72), ('zarandea', 8), ('rendirse', 88), ('rentó', 24), ('tabla', 40), ('alquiló', 8), ('snowboard', 8), ('dimitido', 8), ('reescribió', 16), ('urgente', 232), ('haberse', 232), ('compartía', 32), ('desconchó', 8), ('vertió', 40), ('exprimió', 56), ('limón', 80), ('pisó', 96), ('víbora', 8), ('pastilla', 40), ('sorbo', 48), ('desenchufó', 16), ('ileso', 40), ('conoceros', 24), ('conocerle', 40), ('conocerles', 16), ('sepas', 264), ('microscopio', 56), ('abrazado', 16), ('desaparecer', 24), ('mudarse', 80), ('decirte', 600), ('apasionaba', 8), ('feria', 32), ('proporcionará', 24), ('ganará', 48), ('pedirá', 8), ('defraudará', 8), ('visitará', 48), ('deshace', 8), ('colilla', 16), ('postales', 24), ('voceó', 8), ('trasplantes', 8), ('aumentando', 104), ('espéreme', 8), ('congela', 56), ('0°c', 8), ('obramos', 8), ('regresamos', 24), ('consolamos', 8), ('pudimos', 256), ('debatimos', 16), ('perdemos', 48), ('disfrutábamos', 8), ('diferencias', 56), ('disgustó', 16), ('relación', 280), ('cerrándose', 24), ('reíamos', 16), ('cometimos', 16), ('sake', 24), ('marchamos', 16), ('levantarnos', 24), ('acatar', 32), ('respetar', 120), ('miembro', 208), ('platicamos', 8), ('pospusimos', 16), ('preferimos', 8), ('torno', 32), ('platillo', 8), ('volador', 8), ('repartimos', 8), ('tareas', 232), ('callarnos', 8), ('valoramos', 8), ('malgastamos', 8), ('escribimos', 8), ('discutiremos', 48), ('actuaremos', 8), ('mostraremos', 8), ('orgullosos', 112), ('desayunando', 16), ('divertirnos', 16), ('investigando', 120), ('alcanzando', 8), ('alegramos', 48), ('desanimados', 8), ('caras', 112), ('¿eras', 40), ('hicieras', 64), ('despilfarro', 8), ('gasto', 32), ('derroche', 16), ('iniciales', 32), ('recomendaste', 8), ('trataste', 32), ('onu', 32), ('exacta', 64), ('cierran', 16), ('sales', 88), ('modos', 56), ('apellido', 168), ('calza', 16), ('asfalto', 16), ('¿pero', 48), ('costo', 56), ('actual', 120), ('sanguíneo', 88), ('filosofía', 72), ('terminaste', 64), ('pavo', 136), ('papás', 24), ('equivocó', 32), ('obtuviste', 32), ('subo', 16), ('venís', 56), ('cafetería', 128), ('bibliotecaria', 8), ('sentabas', 8), ('encajar', 16), ('vagón', 24), ('fundó', 32), ('disneyland', 32), ('tostadas', 24), ('haceros', 16), ('preocupadas', 24), ('tartamudeas', 8), ('sonríes', 40), ('atacaste', 8), ('dejaste', 120), ('delataste', 8), ('preguntáis', 8), ('preguntan', 40), ('sientas', 120), ('confías', 56), ('confiáis', 16), ('¿durará', 8), ('¿nadarás', 8), ('¿sería', 48), ('¿querrías', 56), ('¿jugarías', 8), ('congresista', 16), ('escríbele', 8), ('levadura', 32), ('masa', 64), ('eleve', 8), ('sorprendés', 8), ('oyendo', 32), ('elegida', 32), ('reemplazable', 8), ('tomarte', 104), ('ocupar', 88), ('odiar', 32), ('hipnotizarme', 8), ('podríais', 8), ('rindes', 16), ('¡chicos', 8), ('daros', 40), ('sobra', 48), ('aguadas', 8), ('trapo', 16), ('alternativas', 56), ('creernos', 8), ('parecés', 48), ('papión', 48), ('babuino', 8), ('mandril', 8), ('odiás', 16), ('comparar', 16), ('alzado', 16), ('consumir', 40), ('agarraste', 16), ('ridículos', 8), ('escondidas', 72), ('arrogantes', 8), ('lastimar', 120), ('creerás', 8), ('estarías', 168), ('¡mejor', 32), ('empiezas', 32), ('comenzaras', 8), ('empieces', 32), ('arruinar', 72), ('entenderás', 48), ('avergonzando', 16), ('interrumpiendo', 24), ('sonrojar', 16), ('veloces', 16), ('arruinando', 16), ('atractivo', 104), ('perspicaz', 8), ('posesivo', 16), ('callada', 48), ('salados', 8), ('oes', 8), ('aes', 8), ('denegada', 24), ('arrugada', 16), ('interjección', 8), ('susurró', 88), ('reunió', 120), ('hexágono', 8), ('usan', 144), ('cuadrado', 32), ('alcoholismo', 16), ('incurable', 32), ('abandonen', 8), ('sinceros', 24), ('demostrar', 88), ('actúan', 24), ('parientes', 56), ('¿quedamos', 8), ('colando', 8), ('enamorando', 24), ('¿cocinas', 8), ('refieres', 72), ('refiriendo', 8), ('siguen', 96), ('enojadas', 8), ('temes', 24), ('asistencia', 56), ('obligatoria', 24), ('austria', 48), ('aliados', 32), ('traen', 32), ('comprarle', 144), ('tractor', 32), ('comprarnos', 8), ('resolver', 776), ('¿podrás', 24), ('¿alcanzas', 8), ('cuadro', 288), ('desatar', 40), ('¿hablan', 8), ('collares', 16), ('cárgalo', 8), ('juegan', 144), ('juguetes', 136), ('concisión', 8), ('considérame', 8), ('considéreme', 8), ('considérenme', 8), ('considérate', 8), ('corrígeme', 24), ('prestás', 32), ('llamarme', 248), ('hacerme', 264), ('pasarme', 144), ('¿podríais', 8), ('reduce', 16), ('grasientas', 8), ('largos', 96), ('¿herí', 16), ('¿intentó', 8), ('apoyaba', 16), ('¿llamasteis', 8), ('limpiado', 48), ('¿limpiaste', 8), ('conseguiste', 104), ('¿mencionaste', 8), ('¿estudiaste', 8), ('¿tocaste', 8), ('lavaste', 32), ('lavado', 72), ('predicho', 8), ('predijo', 40), ('papi', 8), ('¿venden', 16), ('mandarinas', 24), ('harina', 136), ('cuenco', 40), ('¿lleva', 8), ('boletos', 72), ('sr', 8), ('macedonia', 8), ('¿requieres', 8), ('baña', 72), ('traduces', 16), ('letras', 128), ('divertir', 24), ('compartirlo', 48), ('esquives', 8), ('molestéis', 16), ('molesten', 40), ('cruces', 24), ('desobedezca', 8), ('incumplas', 8), ('oscurezca', 80), ('engañen', 24), ('movimientos', 40), ('bruscos', 8), ('fósforos', 32), ('nades', 8), ('desquites', 8), ('silbes', 8), ('preocupe', 48), ('baseball', 24), ('cometer', 328), ('negociable', 24), ('contactarme', 32), ('averigua', 56), ('alimentos', 168), ('prevenido', 16), ('sáquelo', 8), ('¡salí', 8), ('¡rápido', 8), ('¿escogiste', 8), ('halcones', 8), ('presa', 16), ('abusa', 24), ('ayudáramos', 24), ('anocheciera', 16), ('resfría', 24), ('ascendido', 40), ('demuestra', 40), ('disfrutó', 64), ('mayo', 88), ('hobbys', 8), ('hokkaido', 144), ('vigoroso', 40), ('dibujo', 112), ('detestado', 8), ('toro', 48), ('codos', 56), ('lujos', 8), ('bromeó', 8), ('repisa', 64), ('azafata', 16), ('popeye', 8), ('descuida', 16), ('estudios', 104), ('alentadoramente', 8), ('opuso', 40), ('saltarse', 8), ('únicamente', 24), ('hoteles', 64), ('ahorró', 40), ('entrecortado', 8), ('lenguas', 344), ('unidad', 24), ('creído', 40), ('retorció', 16), ('bigote', 40), ('desabotonó', 32), ('destruirlo', 8), ('sordos', 72), ('ruegos', 8), ('súplicas', 24), ('instantánea', 16), ('reelegido', 8), ('poseyó', 8), ('enviaron', 32), ('combatir', 40), ('esmoquin', 32), ('melodía', 160), ('chifló', 8), ('sinoamericano', 8), ('fluidamente', 88), ('perdidamente', 16), ('médula', 8), ('comprensivo', 8), ('amabilidad', 160), ('elogió', 48), ('pedazo', 120), ('niñez', 72), ('latía', 16), ('alumnos', 208), ('sostenelo', 8), ('disparando', 8), ('prevenirlo', 8), ('denuncio', 8), ('longitud', 40), ('tardar', 32), ('pesa', 136), ('¡apresúrate', 8), ('reto', 16), ('lombriz', 8), ('viruela', 16), ('andarme', 8), ('rodeos', 96), ('perdones', 16), ('perdonéis', 8), ('amistad', 288), ('nintendo', 32), ('3ds', 8), ('cielorraso', 8), ('cuota', 32), ('honorarios', 16), ('acostumbrarme', 48), ('quererla', 8), ('hospitales', 40), ('diferenciarlos', 8), ('confieso', 48), ('bailé', 8), ('similar', 72), ('colgué', 48), ('centros', 24), ('fijo', 32), ('ram', 8), ('frita', 16), ('moratón', 8), ('ningunos', 8), ('moretones', 16), ('variedad', 32), ('presionarte', 16), ('muera', 48), ('entrometerme', 16), ('vomitar', 24), ('enamoré', 32), ('crié', 32), ('infancia', 168), ('sangrado', 16), ('racha', 48), ('desayuné', 64), ('730', 24), ('recurrir', 112), ('dispararle', 16), ('notado', 32), ('¡odio', 8), ('suegra', 64), ('cronograma', 8), ('ajustado', 8), ('revuelto', 24), ('escalado', 56), ('habilidad', 152), ('as', 32), ('tréboles', 8), ('preocuparme', 120), ('duchar', 16), ('medicamento', 184), ('medicinas', 16), ('remedios', 24), ('adolescentes', 120), ('amigables', 24), ('valga', 8), ('estéis', 16), ('diviertan', 8), ('resultaría', 88), ('distinguir', 304), ('dibujar', 64), ('ordeñar', 16), ('barbaridad', 24), ('npr', 8), ('construir', 168), ('desabroché', 8), ('villancicos', 56), ('secretaria', 96), ('correcciones', 8), ('compensé', 8), ('nade', 8), ('reuní', 8), ('¡perdí', 8), ('escolar', 120), ('acercándome', 16), ('recuperarlos', 16), ('mantenerte', 64), ('cooperación', 40), ('visito', 80), ('oídas', 8), ('encargué', 32), ('1000', 88), ('pinté', 32), ('parcialmente', 24), ('tailandesa', 24), ('enfáticamente', 16), ('abstengo', 8), ('negué', 16), ('monociclo', 32), ('andé', 8), ('contaría', 48), ('serruchando', 8), ('serrando', 8), ('tendría', 192), ('haberle', 304), ('riéndome', 8), ('trizas', 24), ('documento', 176), ('estiré', 16), ('mareé', 8), ('retiro', 32), ('odiabas', 8), ('sabíais', 16), ('preocuparas', 16), ('preocupaseis', 8), ('inquietase', 8), ('intentaba', 88), ('disuadir', 16), ('acostumbro', 32), ('hermanito', 32), ('golosina', 8), ('gominola', 8), ('honesta', 80), ('spaghetti', 8), ('deshacerme', 40), ('unirme', 16), ('guardarlo', 16), ('parecerme', 16), ('confesara', 16), ('gustarte', 8), ('tráfico', 464), ('youtube', 32), ('kobe', 32), ('secaré', 8), ('camiseta', 48), ('¡siempre', 24), ('hablaras', 24), ('ocurra', 184), ('sorprendería', 104), ('recomendaría', 32), ('ayudaras', 32), ('sugerencias', 40), ('llegaré', 120), ('meteré', 8), ('conseguiré', 48), ('internen', 16), ('prestaré', 88), ('decepcionaré', 24), ('mostrar', 112), ('comenzaré', 24), ('memorizarlo', 8), ('visitaré', 56), ('cacahuates', 64), ('cacahuetes', 64), ('estrés', 56), ('cruzando', 128), ('emocionalmente', 8), ('harta', 80), ('pudieras', 136), ('hayas', 480), ('disfrutaras', 16), ('devuelvo', 8), ('dificultades', 176), ('protegeros', 8), ('octavo', 24), ('reparando', 32), ('tantísimo', 8), ('perdieses', 8), ('perdieras', 8), ('intenciones', 88), ('admirado', 24), ('licencia', 240), ('revisé', 24), ('estúpidas', 120), ('prioridades', 24), ('demasiadas', 96), ('llorá', 8), ('¿cuesta', 8), ('recuperando', 32), ('detuviste', 24), ('630', 24), ('manuscrito', 16), ('sensación', 168), ('hiele', 16), ('accidental', 8), ('informático', 8), ('macizo', 16), ('oscuras', 56), ('distaba', 16), ('alcance', 72), ('enfermizo', 8), ('aberración', 8), ('ocasión', 176), ('delicado', 32), ('fastidio', 24), ('quince', 328), ('consta', 40), ('visible', 32), ('expresión', 72), ('contrato', 248), ('inofensivo', 8), ('petróleo', 168), ('conservar', 32), ('kennedy', 24), ('patea', 16), ('decidle', 32), ('díganle', 32), ('conduzcamos', 8), ('pidamos', 24), ('discutamos', 40), ('botellas', 168), ('supongamos', 16), ('esclavitud', 80), ('lichis', 8), ('uva', 24), ('producción', 104), ('quesos', 8), ('decoró', 16), ('pestañas', 8), ('novios', 24), ('jubilada', 8), ('preguntarte', 152), ('navaja', 64), ('dejáis', 8), ('dejan', 56), ('telefonearle', 8), ('cortinas', 120), ('colgar', 72), ('permites', 32), ('ofrezca', 8), ('sacarte', 32), ('tomarle', 32), ('puedan', 112), ('tengamos', 160), ('engañada', 16), ('agricultura', 56), ('divorciaron', 16), ('furiosos', 32), ('calcetas', 8), ('dañó', 56), ('vegetariana', 16), ('apretes', 8), ('excepto', 392), ('escapa', 32), ('mezcla', 80), ('fines', 208), ('cancelado', 88), ('poseer', 8), ('chuchito', 8), ('pregúntaselo', 16), ('cómprame', 24), ('extender', 16), ('inserte', 8), ('mantenelo', 8), ('suélteme', 8), ('salúdame', 16), ('envíeme', 40), ('polonia', 40), ('baratas', 40), ('súbitamente', 56), ('presione', 32), ('pulsa', 24), ('¡apaguen', 8), ('repetid', 8), ('repitan', 8), ('enrolle', 8), ('aplican', 24), ('aumentado', 48), ('sueldos', 24), ('disuelve', 24), ('8', 112), ('envíe', 40), ('brasileños', 16), ('brasileñas', 8), ('inclinando', 16), ('irrumpió', 16), ('centró', 8), ('tímidamente', 32), ('seria', 112), ('educada', 40), ('chantajeándole', 8), ('mandado', 72), ('broche', 8), ('proverbios', 24), ('reveló', 96), ('resfriada', 32), ('ahuyentó', 16), ('mostro', 8), ('apartó', 24), ('presenció', 24), ('intentará', 16), ('inadecuada', 16), ('miedito', 8), ('cuadra', 32), ('ortográficos', 8), ('intrusión', 8), ('disculpame', 24), ('llamás', 8), ('deletree', 8), ('avellanas', 16), ('acero', 40), ('ilegales', 40), ('torturarte', 8), ('desmayé', 16), ('conocimiento', 128), ('calentar', 16), ('sidney', 24), ('¡cuídense', 8), ('sácate', 8), ('acepta', 88), ('temor', 72), ('evitarse', 16), ('comestible', 8), ('distrae', 16), ('insensatez', 16), ('rebalsó', 8), ('memorable', 16), ('conveniente', 56), ('césar', 32), ('derrocado', 16), ('españoles', 16), ('viciado', 8), ('embajador', 48), ('subasta', 16), ('autor', 208), ('brasileño', 16), ('gatear', 24), ('globos', 24), ('nido', 24), ('agujereada', 8), ('capturó', 56), ('templado', 48), ('criminal', 96), ('delincuente', 40), ('mandaron', 48), ('ladrar', 72), ('sacudía', 16), ('meneaba', 8), ('caminaba', 160), ('collar', 136), ('abriendo', 48), ('propagó', 24), ('marchitaron', 8), ('polvorientos', 8), ('mobiliario', 32), ('acercan', 24), ('impostor', 16), ('retroiluminado', 8), ('aterrizaje', 56), ('incesante', 8), ('chances', 72), ('organización', 72), ('empanadilla', 8), ('curda', 8), ('impresora', 40), ('proverbio', 32), ('encargo', 48), ('rebajas', 24), ('anclas', 8), ('despejará', 16), ('amainaba', 8), ('hablada', 16), ('inundadas', 8), ('suma', 112), ('título', 64), ('ruinas', 96), ('congestionado', 16), ('rastro', 72), ('enfriado', 8), ('innegable', 16), ('saldrá', 96), ('agujetas', 24), ('ventas', 80), ('habido', 272), ('vías', 24), ('férreas', 8), ('supervivientes', 24), ('higiénico', 40), ('originales', 24), ('cortan', 24), ('calzan', 8), ('renunciaron', 8), ('aceptaron', 64), ('adoptaron', 64), ('acordaban', 8), ('acordaron', 56), ('recordaban', 8), ('recordaron', 8), ('tendieron', 8), ('nueces', 32), ('preparan', 8), ('sensatas', 16), ('paces', 24), ('ahuyentaron', 8), ('actuaron', 16), ('rapidez', 16), ('maltrataron', 8), ('subrepticia', 8), ('cautelosamente', 16), ('aplastaron', 24), ('pelearon', 16), ('lucharon', 88), ('liberaron', 32), ('almohadas', 24), ('conocieron', 136), ('secundaria', 160), ('avanzaron', 16), ('fatigados', 8), ('balearon', 8), ('corrieron', 32), ('pasaportes', 16), ('confundidos', 16), ('persiguiendo', 40), ('¡pensá', 8), ('amigable', 32), ('tuerca', 8), ('policíaca', 16), ('presagio', 8), ('abandonada', 64), ('tremendamente', 32), ('perfección', 40), ('billetes', 80), ('despedí', 8), ('interesarte', 8), ('desconcertante', 16), ('mantendrá', 40), ('estornino', 8), ('cebras', 48), ('vendó', 8), ('hirvió', 24), ('patoso', 8), ('rebanó', 8), ('antiguas', 96), ('creérselo', 8), ('admiración', 16), ('impensable', 8), ('importarle', 16), ('97', 32), ('teñido', 40), ('bañó', 16), ('raite', 8), ('escalofríos', 24), ('vistió', 40), ('quedaban', 48), ('mensajeando', 8), ('novias', 32), ('desempacado', 16), ('pololo', 16), ('paracaidista', 16), ('cocainómano', 16), ('guitarrista', 64), ('bebedor', 16), ('social', 80), ('fiscal', 24), ('tosco', 8), ('alimentando', 32), ('balonmano', 16), ('hiperventilando', 8), ('sede', 32), ('cantina', 8), ('almacén', 88), ('manipulando', 8), ('escudriñando', 8), ('intensidad', 8), ('manager', 8), ('reflexionando', 8), ('sociable', 24), ('maru', 8), ('experimentar', 32), ('lente', 8), ('eventos', 32), ('deportivos', 16), ('hamburguesas', 96), ('tiende', 128), ('chela', 16), ('desplumó', 8), ('marisco', 16), ('duchó', 8), ('lonchas', 8), ('chasqueó', 8), ('escupió', 8), ('estrujó', 24), ('alocado', 32), ('arrojó', 152), ('desatascó', 8), ('desenfundó', 8), ('desabrochó', 8), ('voluntarió', 16), ('escenario', 232), ('agradecerte', 112), ('viésemos', 8), ('viéramos', 24), ('celda', 16), ('hundido', 8), ('pensamientos', 104), ('sumido', 16), ('enfrascado', 8), ('2010', 32), ('bromeaba', 8), ('reacio', 32), ('regó', 24), ('ostra', 8), ('quedará', 112), ('competencia', 104), ('arqueología', 16), ('plataforma', 32), ('petrolífera', 8), ('confiscado', 24), ('fachero', 8), ('surtió', 8), ('efecto', 96), ('procure', 24), ('controlarte', 16), ('faros', 16), ('contadas', 8), ('capa', 56), ('¿eran', 24), ('apreciamos', 24), ('equilibrio', 80), ('pensamos', 64), ('cenamos', 56), ('conferencia', 232), ('secreta', 72), ('¡traemos', 8), ('estupendas', 8), ('analizar', 8), ('proactivos', 8), ('mantenernos', 16), ('esperarle', 16), ('vigilantes', 16), ('aumentar', 40), ('chanza', 16), ('reportamos', 16), ('agradecimos', 8), ('tranquilamente', 40), ('perfeccionistas', 8), ('únicos', 96), ('fuésemos', 8), ('ocaso', 24), ('anochecer', 64), ('pasarla', 16), ('tendremos', 320), ('entrante', 24), ('sintiéndonos', 16), ('campeones', 16), ('navegamos', 16), ('orgullosas', 32), ('¿naciste', 8), ('establo', 32), ('¿estaban', 16), ('¿saliste', 16), ('sentando', 16), ('propones', 24), ('hablabais', 16), ('letrero', 24), ('compone', 96), ('nacionalidad', 72), ('ocupación', 16), ('equipos', 80), ('jugaban', 80), ('reacción', 40), ('nacisteis', 8), ('hacés', 64), ('causando', 24), ('zumbido', 16), ('aparador', 16), ('tasa', 80), ('vuelves', 56), ('botes', 72), ('fotografías', 192), ('cepillo', 64), ('¿desde', 32), ('comedor', 48), ('prefieres', 128), ('buscáis', 8), ('esperas', 104), ('provocó', 64), ('políticas', 88), ('mueble', 56), ('tango', 56), ('insegura', 32), ('inseguros', 8), ('inseguras', 8), ('qués', 8), ('paranoicos', 16), ('cocinas', 40), ('confiás', 8), ('esperás', 40), ('castigando', 16), ('diantres', 24), ('mataría', 24), ('querrías', 144), ('triunfará', 48), ('fracasará', 16), ('¿hará', 8), ('ayudarías', 32), ('ganadores', 16), ('consumen', 24), ('cables', 48), ('trabajadores', 256), ('trazarías', 8), ('banano', 8), ('banana', 24), ('¿desea', 56), ('ordenar', 48), ('¿dejarás', 8), ('teclear', 16), ('progreso', 128), ('cobrado', 8), ('merecés', 8), ('apresurarte', 24), ('fumas', 32), ('¿сierto', 8), ('manejaste', 8), ('hábilmente', 24), ('mensajes', 72), ('educados', 8), ('afrontar', 16), ('leerte', 16), ('aprendes', 48), ('elegirán', 16), ('conveniencia', 16), ('dolería', 8), ('enfrentarte', 8), ('enfrentar', 40), ('¡deberías', 8), ('espiar', 8), ('fisgonear', 16), ('escapará', 8), ('creelo', 16), ('meterás', 32), ('superarás', 16), ('pasarás', 24), ('aprenderás', 16), ('comprenderás', 32), ('rompiendo', 24), ('manejando', 56), ('terminasteis', 8), ('asustando', 8), ('desperdiciando', 32), ('podido', 264), ('ingles', 8), ('esfuerzos', 216), ('fantástica', 16), ('graciosas', 40), ('corrido', 8), ('mencionaron', 16), ('bajada', 8), ('deseos', 112), ('«¡protesto»', 8), ('«se', 8), ('admite»', 8), ('86400', 8), ('floja', 32), ('ángulos', 16), ('meses', 784), ('inevitables', 16), ('pimienta', 184), ('consumieron', 8), ('provisiones', 40), ('ira', 80), ('equivocarse', 48), ('¿todas', 16), ('¿mis', 8), ('secos', 56), ('¿estas', 24), ('tazas', 128), ('porcelana', 8), ('resolverla', 8), ('¿serás', 8), ('¿entras', 8), ('¿pasas', 48), ('coqueteando', 32), ('zorreando', 8), ('pitorreando', 8), ('cachondeando', 8), ('bancos', 72), ('cerraron', 16), ('ladrador', 16), ('mordedor', 16), ('mecánicas', 16), ('distancias', 32), ('suelen', 176), ('oponían', 16), ('búfalos', 8), ('bush', 8), ('mantequilla', 296), ('obtiene', 32), ('repollo', 16), ('bomberos', 120), ('hacerles', 24), ('mandolina', 8), ('usuario', 72), ('posponer', 104), ('copiarlo', 8), ('explicármelo', 24), ('darnos', 40), ('mantenerlo', 32), ('prestarme', 72), ('alcanzas', 8), ('alcanza', 64), ('ukelele', 56), ('lanzar', 16), ('cancelen', 8), ('reservas', 32), ('nocturnos', 16), ('fabrica', 32), ('visitarme', 120), ('congreso', 24), ('posibilidad', 312), ('custer', 8), ('darwin', 40), ('transformó', 24), ('¿dejé', 8), ('¿ayer', 72), ('gatito', 88), ('cepillaste', 8), ('¡¿alcanzaste', 8), ('divertisteis', 8), ('pasasteis', 16), ('¿tuvo', 16), ('¿pagaste', 32), ('cosiste', 8), ('dioxina', 16), ('peligrosa', 104), ('responsabilidad', 136), ('¿haces', 24), ('¿esperas', 24), ('violenta', 16), ('¿andas', 8), ('lúcidos', 8), ('¿llevas', 32), ('¿pegas', 8), ('¿pegáis', 8), ('celta', 16), ('frutillas', 40), ('¿requiere', 8), ('similitud', 16), ('¿cantas', 8), ('hablás', 56), ('ciegos', 32), ('calculadora', 64), ('conteste', 24), ('salvarlos', 8), ('venderlos', 40), ('lleguéis', 16), ('canal', 104), ('regreséis', 8), ('quejándote', 32), ('escribirme', 24), ('asusten', 8), ('mirés', 8), ('burléis', 8), ('jueges', 8), ('recurras', 8), ('asustes', 16), ('apagues', 24), ('cansás', 8), ('cansas', 8), ('reconoces', 8), ('folio', 8), ('trazá', 16), ('educación', 352), ('entusiasmo', 56), ('asistir', 256), ('elogian', 16), ('anduvo', 40), ('montañas', 272), ('fidelidad', 16), ('indica', 48), ('pliego', 8), ('solicitud', 216), ('cubra', 16), ('jarros', 8), ('transforma', 16), ('desperdiciar', 56), ('microbios', 16), ('provocar', 56), ('enfermedades', 112), ('aula', 160), ('tiza', 72), ('convencerlo', 104), ('estudian', 48), ('¡excelente', 8), ('distribuido', 16), ('¿he', 24), ('explicado', 32), ('claridad', 80), ('reunido', 32), ('¿ocultaste', 8), ('¿tomaste', 8), ('aconsejó', 896), ('agosto', 64), ('critica', 32), ('colgaran', 8), ('decepcionó', 40), ('modestia', 8), ('enamoró', 136), ('cortante', 16), ('ferocidad', 8), ('rechazaran', 8), ('empeñar', 8), ('respiratorios', 8), ('batió', 16), ('record', 8), ('titubeó', 16), ('instante', 96), ('hablador', 24), ('alardeando', 16), ('décimo', 8), ('quinto', 80), ('inmediata', 72), ('testamento', 64), ('pooch', 8), ('raramente', 48), ('señas', 48), ('detuvieran', 8), ('gasta', 152), ('través', 256), ('aprendió', 152), ('participó', 72), ('1998', 24), ('influenciado', 16), ('muertito', 16), ('achacaron', 8), ('culpado', 40), ('ahorcado', 8), ('judío', 16), ('mantenido', 56), ('cautiverio', 8), ('humilló', 24), ('pasivo', 16), ('silbaba', 24), ('seguirá', 40), ('regresará', 72), ('siguientes', 48), ('categoría', 48), ('acciones', 128), ('argumento', 40), ('gastada', 8), ('acumulándose', 8), ('desgastado', 8), ('gabardina', 16), ('desgastada', 8), ('granjeros', 72), ('¡detente', 8), ('andan', 32), ('deshago', 8), ('reírte', 8), ('subiste', 8), ('detenemos', 8), ('gorras', 8), ('sombreros', 40), ('cortaste', 24), ('kilo', 8), ('libra', 32), ('obtener', 176), ('antigüedad', 40), ('afectará', 8), ('prohibida', 16), ('caza', 88), ('actué', 24), ('capturo', 8), ('afilando', 24), ('exprimiendo', 8), ('limpiando', 112), ('ayudase', 56), ('sarampión', 16), ('persuasivo', 8), ('cantarlo', 8), ('cantarla', 8), ('comprármelo', 24), ('olvidara', 32), ('mirarte', 16), ('maletín', 72), ('atino', 8), ('cerradura', 80), ('lógica', 72), ('quitarme', 40), ('revelar', 64), ('fuentes', 48), ('escogí', 16), ('escalé', 16), ('queriendo', 40), ('apetecía', 16), ('existía', 40), ('descortés', 40), ('golpearlo', 16), ('muriera', 72), ('dislocado', 8), ('atrevo', 24), ('hablarle', 104), ('afecte', 16), ('autostop', 16), ('afecta', 56), ('fío', 16), ('herirla', 8), ('perderos', 8), ('perderte', 48), ('recordarlo', 16), ('contároslo', 8), ('contártelo', 24), ('reparto', 16), ('prius', 8), ('alimento', 128), ('peleo', 8), ('aniversario', 40), ('averigüé', 24), ('demandas', 56), ('autoescuela', 16), ('portátil', 104), ('interior', 104), ('chorreando', 8), ('infarto', 56), ('considerado', 184), ('contradecirte', 8), ('contradecirle', 8), ('contradecirles', 8), ('paquete', 272), ('tapada', 8), ('panda', 32), ('corazones', 24), ('picas', 16), ('cepillarme', 40), ('lustrarme', 8), ('sacarle', 24), ('brillo', 8), ('bolear', 8), ('pensármelo', 32), ('varios', 496), ('pisadas', 8), ('explosiones', 8), ('diversas', 8), ('opiniones', 104), ('vajilla', 8), ('mejore', 64), ('juzgarte', 8), ('organizar', 48), ('ilusionaría', 8), ('defraudado', 8), ('barcos', 80), ('aprendo', 32), ('extranjeras', 144), ('policíacas', 8), ('barrio', 128), ('espontáneo', 8), ('amarillo', 144), ('conversaciones', 40), ('vestís', 8), ('coleccionar', 104), ('vainilla', 48), ('demasiados', 104), ('mismísimo', 16), ('príncipe', 136), ('acortar', 8), ('protegerme', 24), ('dejaras', 48), ('usualmente', 200), ('murmuro', 8), ('eléctrica', 112), ('telas', 16), ('lisas', 8), ('crema', 88), ('invitación', 216), ('montando', 24), ('cruzar', 312), ('compartí', 16), ('comencé', 56), ('¡aún', 24), ('¡todavía', 8), ('juro', 56), ('enseñé', 64), ('presuntuoso', 24), ('despejando', 8), ('cuco', 8), ('relajar', 8), ('topado', 32), ('confiabas', 8), ('tuvieras', 128), ('participé', 56), ('metan', 24), ('carcel', 8), ('respete', 24), ('escalar', 224), ('sentirme', 48), ('sirviente', 16), ('lucir', 24), ('formar', 56), ('reservar', 104), ('pensarlo', 104), ('estemos', 88), ('caves', 8), ('sigas', 32), ('sorprenderla', 16), ('sorprenderte', 16), ('esperase', 32), ('supermercado', 360), ('atracado', 32), ('poseído', 16), ('avaricia', 8), ('arañó', 8), ('lavo', 48), ('reunirme', 16), ('regalaré', 32), ('tolerarlo', 16), ('acabe', 72), ('mencionaré', 8), ('soportaré', 8), ('inventado', 40), ('iría', 256), ('rutas', 16), ('devolver', 152), ('hojear', 8), ('ojear', 8), ('estrangular', 8), ('fueses', 8), ('acordaré', 32), ('responderé', 24), ('confeccionaré', 8), ('estropearé', 8), ('indicaré', 8), ('usaré', 16), ('habilitado', 8), ('dándole', 32), ('recordaste', 16), ('recordado', 56), ('consultar', 48), ('contraria', 8), ('chupatintas', 24), ('despido', 8), ('busco', 160), ('hablante', 272), ('nativo', 384), ('ayudarlas', 8), ('inspirada', 16), ('molestado', 64), ('haberos', 48), ('importunado', 16), ('molestarle', 24), ('disfrutarlo', 16), ('gustarme', 8), ('curso', 232), ('danza', 40), ('traducir', 224), ('valgo', 8), ('probé', 32), ('despedirme', 64), ('faena', 8), ('alquilé', 40), ('merced', 32), ('inspire', 8), ('¿papá', 8), ('¿mil', 24), ('suficientes', 104), ('aplicación', 64), ('impuesto', 56), ('capciosa', 8), ('aceptable', 80), ('spaguetti', 8), ('máquina', 472), ('¿ésta', 24), ('perteneció', 16), ('riñón', 48), ('costaba', 104), ('anochece', 8), ('maravillas', 40), ('embargo', 192), ('mansión', 16), ('necesariamente', 64), ('desafortunadamente', 280), ('pasadas', 32), ('windows', 24), ('principios', 72), ('rayos', 80), ('¡el', 64), ('certero', 8), ('equivocación', 8), ('empezaba', 64), ('metros', 168), ('publicado', 32), ('1969', 32), ('oscurecerá', 8), ('gustos', 48), ('acomodada', 8), ('evidentemente', 16), ('arrójala', 8), ('descabellado', 24), ('asiático', 16), ('koko', 8), ('gorila', 8), ('presentarte', 88), ('aclare', 8), ('avísame', 56), ('déjelos', 8), ('¡juntémonos', 8), ('¡volvamos', 8), ('juntarnos', 40), ('démosle', 32), ('campito', 8), ('démosles', 8), ('mantengamos', 16), ('desanimemos', 16), ('juntemos', 8), ('republicano', 8), ('científicos', 152), ('senadores', 8), ('opusieron', 24), ('mesero', 40), ('madrastra', 8), ('hermanastra', 8), ('hurgando', 16), ('pediros', 24), ('borrador', 24), ('borrar', 88), ('debiéramos', 16), ('michael', 40), ('monroe', 40), ('votos', 48), ('vocación', 24), ('novato', 24), ('reparación', 56), ('conviven', 8), ('ardilla', 48), ('remuerde', 8), ('construye', 24), ('permitirá', 8), ('fregar', 24), ('sobreprotectora', 8), ('multi', 8), ('desataron', 16), ('trota', 16), ('apretado', 40), ('lavarropa', 56), ('lavarropas', 56), ('lavadora', 168), ('exacto', 64), ('darles', 56), ('retrasarte', 8), ('descubrir', 224), ('retendrá', 8), ('distraerá', 8), ('pasarlo', 40), ('divertirte', 16), ('levantan', 56), ('aprobada', 8), ('activos', 32), ('registradora', 80), ('persistencia', 8), ('frutos', 80), ('mueren', 80), ('revele', 8), ('fumen', 16), ('desperdicie', 8), ('diván', 24), ('envíen', 8), ('lústrese', 8), ('lústrate', 8), ('visitame', 8), ('visítame', 8), ('visíteme', 8), ('praga', 8), ('seguían', 16), ('sacerdotes', 8), ('curas', 8), ('comportarte', 8), ('secas', 16), ('leída', 16), ('republicanos', 16), ('roosevelt', 56), ('samsung', 8), ('tiburones', 24), ('nadadores', 24), ('supuestamente', 40), ('engordar', 48), ('asiste', 32), ('bolearon', 8), ('inesperadamente', 32), ('universitaria', 64), ('obstinada', 24), ('dibujando', 24), ('apurada', 8), ('especializó', 16), ('bancario', 8), ('mendiga', 8), ('empujón', 24), ('recitó', 8), ('declinó', 24), ('desayunar', 416), ('avanzó', 32), ('daños', 120), ('desvió', 16), ('adularme', 8), ('acusada', 16), ('deseosa', 8), ('soltura', 16), ('dolorosamente', 8), ('delgada', 40), ('criada', 80), ('enjugó', 8), ('tacón', 16), ('museos', 48), ('aturde', 8), ('implicas', 8), ('fuman', 8), ('atrapadas', 8), ('sudáfrica', 16), ('controlaba', 8), ('florida', 8), ('retrasando', 16), ('golpearte', 8), ('suzhou', 16), ('avisame', 16), ('termines', 40), ('tensiones', 8), ('aumentaban', 8), ('recogerme', 48), ('entenderlo', 104), ('comprenderlo', 24), ('agradecemos', 24), ('áspera', 24), ('enloquece', 8), ('¡ese', 48), ('intrigó', 8), ('descompuso', 24), ('solemne', 16), ('difícilmente', 16), ('preferida', 176), ('hilton', 64), ('airbag', 8), ('flecha', 80), ('aun', 112), ('hemorragia', 24), ('ajustó', 24), ('repleto', 32), ('canasto', 32), ('resucitó', 8), ('aplazada', 8), ('caseta', 32), ('enfriando', 16), ('reírse', 56), ('gobernador', 16), ('derritiendo', 32), ('cancelada', 32), ('monjes', 16), ('destrozada', 8), ('enfermeras', 24), ('simpáticas', 8), ('orquesta', 32), ('estacionamiento', 72), ('decayendo', 8), ('triunfó', 16), ('descartados', 8), ('pm', 88), ('enchufada', 8), ('sorprendentes', 16), ('servidor', 24), ('estructura', 24), ('hundirse', 16), ('váter', 32), ('cisterna', 40), ('garantizado', 16), ('enlodaron', 8), ('salvada', 16), ('temer', 112), ('necesidad', 280), ('pertenecen', 32), ('¡estas', 8), ('consiguieron', 24), ('amables', 56), ('sanas', 8), ('enchiladas', 8), ('convirtieron', 24), ('capturaron', 24), ('robando', 152), ('consideran', 96), ('tales', 128), ('distintas', 48), ('invadieron', 24), ('afueras', 72), ('pisos', 64), ('ciegas', 16), ('odiarme', 16), ('artículos', 64), ('echarlos', 8), ('tradujeron', 8), ('zelanda', 112), ('gastaban', 16), ('pedirían', 8), ('rendirían', 8), ('creyeron', 32), ('promedio', 144), ('marchando', 32), ('monto', 32), ('incluye', 64), ('contraría', 16), ('parecido', 152), ('gruesa', 8), ('habitaciones', 152), ('ejemplar', 16), ('sentencia', 32), ('interno', 8), ('hierva', 32), ('estrecha', 16), ('planchada', 16), ('queroseno', 8), ('material', 104), ('sillas', 120), ('rapidísimo', 16), ('búsqueda', 56), ('direcciones', 72), ('asistió', 88), ('vengó', 16), ('gracia', 40), ('apostó', 32), ('abrochó', 8), ('razonar', 24), ('aseguró', 88), ('agachaba', 8), ('sugeriste', 32), ('investigó', 16), ('destacado', 8), ('necesitó', 40), ('treintas', 8), ('sucesor', 24), ('aparenta', 48), ('ocupa', 120), ('esteroides', 32), ('alistó', 16), ('llenó', 208), ('espacios', 8), ('concedió', 24), ('desvío', 8), ('británico', 56), ('admirador', 24), ('temperamento', 56), ('rendido', 16), ('regañina', 8), ('acceso', 168), ('maritales', 8), ('cantado', 72), ('heredó', 56), ('exesposo', 24), ('yerno', 16), ('compulsivo', 40), ('convicto', 24), ('amistosa', 40), ('imprudente', 40), ('desconocido', 88), ('parpadeando', 16), ('masticando', 32), ('cortando', 16), ('lamentarlo', 16), ('recostado', 16), ('rival', 16), ('porche', 32), ('podando', 8), ('firmando', 8), ('cabro', 8), ('encenagado', 8), ('conversando', 64), ('patadas', 16), ('tacho', 8), ('decoroso', 8), ('necesitado', 24), ('movimiento', 64), ('batuta', 8), ('chatarra', 64), ('deambulaba', 8), ('remoto', 40), ('planeó', 24), ('fingía', 64), ('disfraz', 56), ('refregó', 24), ('lechuga', 56), ('desplomó', 16), ('enojarse', 32), ('freno', 48), ('disminuya', 8), ('esperara', 120), ('sorbito', 16), ('brandi', 8), ('rescatar', 24), ('pedigüeño', 8), ('exigente', 24), ('dirigió', 112), ('podio', 8), ('probarse', 8), ('comandante', 40), ('tanques', 16), ('enviado', 80), ('irak', 16), ('mero', 16), ('apuñalado', 24), ('campeonato', 16), ('dejaba', 48), ('erróneas', 16), ('compañías', 40), ('máquinas', 72), ('caminá', 8), ('lavate', 32), ('mudaremos', 8), ('escalamos', 24), ('empinada', 24), ('conducimos', 24), ('leve', 48), ('disneylandia', 32), ('problemilla', 8), ('intereses', 48), ('stock', 8), ('existencias', 8), ('gastado', 128), ('solucionarlo', 16), ('positivos', 16), ('importamos', 56), ('reunimos', 32), ('recomenzar', 8), ('ordenamos', 16), ('reposamos', 8), ('propensos', 8), ('creíamos', 24), ('sacamos', 8), ('convencerle', 96), ('tratamos', 40), ('atrapar', 120), ('cases', 32), ('peli', 8), ('descansaremos', 8), ('vendremos', 8), ('visitarte', 72), ('tomaremos', 8), ('emplearemos', 8), ('prácticamente', 88), ('añoramos', 8), ('¡bienvenido', 8), ('mas', 32), ('arcoíris', 32), ('declaración', 88), ('celebras', 8), ('celebrando', 48), ('celebráis', 8), ('celebra', 48), ('celebran', 32), ('buscás', 8), ('esperan', 72), ('miras', 40), ('soñaste', 8), ('planeas', 96), ('opinas', 136), ('usas', 64), ('buscas', 96), ('urss', 16), ('aparato', 40), ('cartel', 32), ('anterior', 112), ('objeto', 80), ('sospechar', 40), ('disfrutas', 16), ('despiertas', 32), ('usarás', 8), ('escampó', 8), ('intermedio', 8), ('dirigen', 8), ('venían', 24), ('solicitar', 24), ('correos', 344), ('patito', 16), ('elegirá', 16), ('escogerá', 16), ('vecinas', 8), ('dividió', 56), ('átomo', 24), ('combustible', 88), ('postor', 8), ('interrumpió', 64), ('comprasteis', 24), ('enfadaste', 8), ('abriste', 16), ('informaste', 8), ('veinticinco', 56), ('centavos', 40), ('cogemos', 16), ('entendéis', 24), ('creerte', 8), ('¿será', 16), ('¿saldrás', 16), ('enseñarás', 16), ('moriríamos', 8), ('dejarías', 40), ('250', 16), ('fermente', 8), ('pedirle', 376), ('¡puede', 16), ('cogerte', 16), ('utilizar', 160), ('contarme', 40), ('sobornar', 40), ('juez', 208), ('escaparte', 16), ('respondas', 8), ('escuchas', 88), ('revelaste', 8), ('recibes', 16), ('consigues', 48), ('regular', 64), ('decisiones', 144), ('alegraste', 8), ('habérsete', 8), ('perdérselo', 16), ('perderla', 8), ('necesitabas', 40), ('ejercitarte', 8), ('derrotarás', 8), ('venceréis', 8), ('arrepentirás', 24), ('oponente', 48), ('engañando', 40), ('especialito', 8), ('tiquismiquis', 16), ('arruinas', 16), ('atmósfera', 96), ('recia', 8), ('comprará', 24), ('espléndido', 32), ('—vamos', 8), ('—me', 8), ('iluminaba', 8), ('cocodrilo', 32), ('indicación', 8), ('añade', 32), ('daña', 8), ('autobuses', 72), ('engañan', 40), ('¿vais', 8), ('excepción', 104), ('asegúrate', 152), ('gallinas', 72), ('negras', 40), ('peleas', 56), ('limítrofes', 16), ('comunes', 24), ('bourbon', 16), ('búlgaro', 8), ('nata', 16), ('manteca', 72), ('llámenme', 16), ('llámeme', 32), ('párpados', 8), ('permitírnoslo', 8), ('sumar', 16), ('números', 144), ('disculpan', 8), ('grapadora', 8), ('tope', 8), ('pedirlos', 8), ('alojar', 16), ('recomendar', 96), ('enseñarnos', 16), ('vigilar', 16), ('gominolas', 8), ('ositos', 8), ('considérense', 8), ('mandarme', 24), ('sagradas', 16), ('hindúes', 8), ('proveen', 8), ('bailad', 8), ('darcy', 8), ('detroit', 16), ('¿interrumpí', 8), ('¿dije', 16), ('arrestó', 80), ('¿compusieron', 8), ('¿repararon', 8), ('decoración', 16), ('¿llegaste', 16), ('criaste', 16), ('¿creciste', 8), ('crió', 112), ('¿creció', 8), ('¿dormiste', 16), ('¿percibiste', 8), ('alquilado', 16), ('¿devolviste', 16), ('dinosaurios', 48), ('actualmente', 152), ('extintos', 16), ('dicte', 8), ('caminás', 8), ('imitarla', 8), ('imitarle', 16), ('hadas', 32), ('respaldo', 8), ('tazón', 24), ('alergia', 40), ('vacantes', 8), ('vacante', 8), ('¿conocés', 48), ('¿conocen', 24), ('san', 176), ('francisco', 72), ('tatuajes', 8), ('¿pensas', 16), ('langostinos', 16), ('camarones', 8), ('ejercitas', 8), ('regularmente', 72), ('derramada', 24), ('fritas', 88), ('fracasas', 8), ('cuelgues', 8), ('sujetes', 8), ('bajes', 8), ('desprecies', 40), ('castigue', 8), ('quite', 16), ('manilla', 8), ('atrevas', 32), ('burros', 24), ('bravos', 8), ('dibujad', 8), ('taquilla', 16), ('casillero', 16), ('frescas', 32), ('espinas', 16), ('embuste', 8), ('pizzas', 48), ('confirma', 24), ('felicja', 8), ('granjas', 32), ('sinceramente', 120), ('alcanzo', 16), ('utilizada', 32), ('lavaros', 8), ('asearse', 8), ('adivine', 16), ('adivinad', 8), ('gancho', 24), ('cenado', 32), ('asaltado', 8), ('meditado', 8), ('justamente', 56), ('asumió', 40), ('garantizó', 16), ('nacional', 80), ('naturalidad', 16), ('alarde', 8), ('récord', 88), ('mudaba', 8), ('culpas', 40), ('taló', 48), ('cerezo', 48), ('causas', 64), ('naturales', 144), ('cadillac', 16), ('rosado', 40), ('malversó', 8), ('enoja', 16), ('chiripa', 16), ('graduado', 40), ('magnífica', 72), ('acumulado', 16), ('celulares', 16), ('móviles', 16), ('criado', 88), ('guapos', 16), ('sociedad', 160), ('novelista', 96), ('prometedor', 32), ('cocaína', 16), ('apasionadamente', 32), ('bailes', 16), ('folclóricos', 8), ('encendido', 32), ('burla', 32), ('voley', 24), ('adversario', 16), ('esforzó', 32), ('dominar', 120), ('furia', 24), ('amoratado', 8), ('condenaron', 32), ('sudor', 80), ('orador', 24), ('castigaron', 16), ('1970', 24), ('alegrarse', 24), ('call', 8), ('center', 24), ('reelecciones', 8), ('elevando', 16), ('volantines', 24), ('buscado', 72), ('coraje', 152), ('respaldaba', 8), ('cenizas', 40), ('enterradas', 16), ('condición', 136), ('crítica', 48), ('conducta', 112), ('admirable', 24), ('físico', 24), ('reconfortó', 8), ('entretuvo', 24), ('significado', 264), ('¿quisiera', 40), ('abuelos', 104), ('desquitarme', 8), ('cínico', 16), ('quererme', 8), ('pasara', 168), ('convenciste', 16), ('resuelvo', 24), ('chinatown', 16), ('¿exactamente', 24), ('edades', 32), ('acusé', 8), ('sapporo', 32), ('explicando', 16), ('holanda', 64), ('catorce', 32), ('colgando', 72), ('interesan', 56), ('involucrando', 8), ('sirviendo', 16), ('llegaran', 16), ('capacidades', 88), ('facultades', 8), ('deportivo', 72), ('rescatarte', 8), ('cuidarme', 16), ('imaginármelo', 8), ('dártelos', 8), ('mintiéndole', 8), ('leáis', 8), ('confisqué', 16), ('ordenarte', 8), ('arrastré', 16), ('atravesé', 16), ('guardaste', 16), ('herirlo', 16), ('ofenderte', 16), ('contarle', 96), ('despertarte', 16), ('extraterrestres', 144), ('políticos', 128), ('asustarte', 56), ('entrés', 8), ('litro', 16), ('hallo', 8), ('reparé', 16), ('reparen', 16), ('tientas', 40), ('fotografíen', 8), ('sensibilidad', 8), ('acidez', 8), ('planearlo', 8), ('páginas', 168), ('ajustarme', 8), ('cinturón', 224), ('trastes', 16), ('enteré', 32), ('planché', 8), ('avisarte', 16), ('experimento', 160), ('técnica', 48), ('duerma', 32), ('instrumental', 8), ('mejicana', 40), ('modificaciones', 8), ('decirles', 56), ('estirar', 24), ('aconsejaras', 8), ('pretendí', 8), ('herirte', 40), ('tumbo', 8), ('deshojé', 8), ('margarita', 16), ('modernos', 56), ('new', 48), ('times', 32), ('diciéndotelo', 8), ('propios', 184), ('familiares', 64), ('besándoos', 8), ('interrumpo', 16), ('quemándose', 32), ('fumaba', 32), ('sospechaba', 96), ('vencer', 32), ('analfabeto', 8), ('paperas', 16), ('formamos', 16), ('dormida', 128), ('dormidas', 16), ('generalmente', 176), ('astronauta', 96), ('paguen', 32), ('ananá', 16), ('piña', 16), ('rascarme', 8), ('telegrama', 40), ('levemente', 16), ('atropella', 24), ('consternado', 8), ('interesaba', 32), ('kawagoe', 8), ('actuaré', 8), ('según', 392), ('pelearé', 8), ('cuidaré', 72), ('hubieses', 32), ('podré', 168), ('ayudaría', 160), ('petrolera', 8), ('manta', 32), ('contestaré', 24), ('incidente', 176), ('prenderé', 8), ('anestesia', 16), ('inyectaré', 8), ('cambiarme', 64), ('distraerlos', 8), ('transformaré', 8), ('instituto', 168), ('terremotos', 80), ('adjuntando', 8), ('acosado', 8), ('acosada', 8), ('opongo', 56), ('rotundamente', 16), ('terminando', 40), ('terminara', 32), ('sociología', 24), ('revueltos', 24), ('alivia', 8), ('gritado', 24), ('confundí', 48), ('comparando', 32), ('enojará', 8), ('lamentos', 16), ('concentrarme', 112), ('endeudado', 40), ('pescuezo', 8), ('jirafa', 32), ('arco', 56), ('iris', 24), ('repentinamente', 136), ('ay', 8), ('mueres', 24), ('calientas', 8), ('derrite', 16), ('119', 32), ('mezclilla', 8), ('mercurio', 48), ('oxford', 16), ('contexto', 32), ('cagar', 16), ('valido', 8), ('okinawa', 32), ('sonaba', 48), ('inalcanzable', 16), ('septiembre', 24), ('serán', 112), ('acusación', 48), ('sorprender', 40), ('piramidal', 8), ('mencionarlo', 8), ('momentos', 152), ('temporal', 48), ('enérgicamente', 8), ('cántaros', 64), ('intuitivo', 8), ('virtualmente', 16), ('barajar', 8), ('tardan', 16), ('secarse', 8), ('juan', 144), ('cruzados', 48), ('tendámosle', 8), ('echémosle', 8), ('ayudemos', 32), ('aplauso', 8), ('sombra', 144), ('malgastemos', 8), ('trasnochemos', 8), ('asar', 16), ('castañas', 16), ('410', 8), ('polar', 8), ('llevaban', 56), ('aguardaban', 8), ('piercing', 8), ('36', 16), ('ciernes', 8), ('cepillándose', 8), ('maquillando', 8), ('pendientes', 64), ('maternidad', 8), ('floreada', 8), ('maltrataba', 8), ('preguntaros', 24), ('preguntarles', 24), ('veme', 8), ('menores', 72), ('generalidad', 8), ('juguetones', 16), ('disfrutan', 56), ('prematuramente', 16), ('dormitorios', 56), ('fracasaron', 32), ('miserablemente', 16), ('escuchará', 8), ('temblaba', 40), ('rendirá', 24), ('entenderle', 48), ('deshonestos', 8), ('pasarte', 40), ('comprender', 200), ('actualidad', 8), ('escasea', 24), ('59', 8), ('reja', 8), ('huéspedes', 24), ('prende', 32), ('relato', 24), ('pelícanos', 8), ('picos', 16), ('duran', 24), ('contácteme', 16), ('malentiendas', 8), ('malentiendan', 8), ('endóseme', 8), ('endósame', 8), ('apagá', 24), ('prométeme', 24), ('deposita', 16), ('abandonan', 32), ('desarrolla', 16), ('absténgase', 16), ('manga', 48), ('mándeme', 24), ('factura', 72), ('discusiones', 32), ('majo', 16), ('docenas', 56), ('54', 72), ('alegró', 40), ('moral', 64), ('mecanógrafo', 8), ('honores', 24), ('tendió', 40), ('desertor', 8), ('inteligencia', 80), ('ágil', 16), ('cientos', 128), ('visitado', 160), ('psíquicas', 32), ('conductora', 8), ('contigua', 48), ('propietaria', 8), ('renunciara', 24), ('testificó', 40), ('preocupara', 16), ('década', 24), ('hablaría', 56), ('calificaciones', 56), ('refunfuñando', 8), ('mostrales', 8), ('prestá', 8), ('empape', 8), ('afeitan', 16), ('volante', 40), ('tráguelo', 8), ('mastique', 8), ('aguántalo', 8), ('cazuela', 16), ('colocar', 32), ('¡muchísimas', 8), ('pellejo', 8), ('corrección', 16), ('chimenea', 96), ('rabo', 64), ('fruto', 40), ('malhablado', 8), ('traía', 48), ('frito', 48), ('fracasar', 24), ('tentador', 8), ('desaparecerá', 24), ('interpuso', 8), ('inadecuado', 24), ('ofrecemos', 16), ('escusa', 8), ('chihuahua', 8), ('absoluta', 80), ('desconsideración', 8), ('1812', 8), ('correctas', 56), ('madura', 16), ('sonado', 48), ('desplegó', 8), ('contenía', 24), ('dirigía', 32), ('avanzaba', 24), ('lamiendo', 16), ('aplausos', 24), ('ensordecedores', 8), ('pintaba', 32), ('chile', 32), ('bancarrota', 72), ('competición', 56), ('feroz', 72), ('asó', 16), ('parrilla', 16), ('predeterminado', 8), ('olfateó', 8), ('tirada', 16), ('alcantarillas', 16), ('obstruidas', 8), ('bailaban', 16), ('neblina', 48), ('envolvía', 8), ('investigación', 152), ('deshabitada', 8), ('abusaba', 8), ('refrigerador', 176), ('afectó', 24), ('aumentó', 24), ('población', 288), ('aumenta', 32), ('respondida', 8), ('extendieron', 16), ('admitían', 8), ('incómodos', 32), ('oscurecerse', 8), ('seguidos', 32), ('valientemente', 24), ('enfrente', 48), ('encendieron', 16), ('faroles', 16), ('trueno', 56), ('obstruyó', 16), ('océanos', 24), ('infectó', 24), ('destinos', 16), ('entrelazados', 8), ('fáciles', 80), ('pudrieron', 16), ('podridas', 48), ('preciosos', 24), ('corrigieron', 8), ('1997', 8), ('vetaron', 8), ('malograron', 8), ('rocky', 8), ('crearon', 8), ('gobierno', 432), ('sentían', 8), ('olvidaron', 16), ('despertarme', 32), ('avenida', 24), ('asintieron', 24), ('hundieron', 8), ('naves', 8), ('cultura', 136), ('boquiabiertos', 8), ('misa', 64), ('asustadas', 16), ('porte', 48), ('ishikawa', 8), ('interrogando', 16), ('sorprendentemente', 48), ('entusiastas', 8), ('descatalogado', 16), ('restringido', 8), ('automática', 16), ('hipótesis', 24), ('sartén', 56), ('usos', 24), ('excepcional', 56), ('rescatadas', 8), ('devuelta', 32), ('salen', 64), ('abstuvo', 8), ('marchara', 8), ('damas', 80), ('temerle', 8), ('traidora', 8), ('vencernos', 8), ('compite', 8), ('completó', 24), ('condena', 32), ('notó', 96), ('setentas', 8), ('desagradan', 8), ('ruidosas', 8), ('desayuna', 96), ('apresurarse', 24), ('falsificó', 8), ('reportes', 24), ('bruces', 8), ('tratamiento', 112), ('padece', 24), ('espiándome', 8), ('montones', 48), ('freelance', 8), ('actuando', 112), ('esquiador', 8), ('comprador', 24), ('litera', 64), ('desplumando', 8), ('esquilando', 8), ('atendiendo', 24), ('capacitado', 24), ('mejicano', 8), ('tirantes', 8), ('chismoseando', 8), ('cotorreando', 8), ('balbuceando', 8), ('zanja', 24), ('burlándose', 8), ('mostrador', 40), ('pañal', 8), ('domigos', 8), ('feneció', 8), ('pantalla', 88), ('practica', 24), ('caset', 8), ('casetera', 8), ('bloqueador', 16), ('cría', 32), ('árabes', 24), ('mojadas', 16), ('denunció', 8), ('desaparición', 40), ('párrafo', 16), ('dueto', 8), ('durmiera', 24), ('guiñarle', 8), ('apretón', 24), ('espió', 8), ('liberarse', 8), ('forcejeo', 8), ('soltar', 64), ('ataduras', 8), ('forcejeó', 8), ('liberación', 8), ('debatió', 8), ('dirigiera', 8), ('estaríais', 8), ('estarían', 40), ('consolar', 16), ('matarse', 8), ('ocupó', 48), ('económico', 80), ('exitoso', 120), ('respetado', 40), ('donar', 32), ('teñirse', 24), ('bautizo', 8), ('pegaron', 16), ('eligieron', 72), ('cercano', 232), ('sentenciado', 48), ('inanición', 8), ('sobreviviente', 16), ('toallas', 24), ('tangente', 8), ('ómnibus', 8), ('deseó', 88), ('abandonaría', 40), ('entrenado', 24), ('excéntrica', 8), ('salía', 96), ('pelado', 40), ('tratá', 16), ('montamos', 8), ('calentadores', 24), ('ensamblamos', 8), ('armamos', 16), ('desayunamos', 24), ('abandonarlos', 8), ('agradecerles', 32), ('podíamos', 144), ('brecha', 8), ('campanas', 32), ('aprendemos', 80), ('lleguemos', 104), ('ofrecimos', 16), ('pintado', 80), ('zambullimos', 8), ('despertamos', 16), ('abandonaremos', 8), ('separadas', 24), ('protegerles', 8), ('primeras', 56), ('dispuestos', 56), ('esperable', 8), ('alimentan', 40), ('cómica', 8), ('mascando', 8), ('tratas', 48), ('conclusiones', 32), ('atisbar', 8), ('pretende', 80), ('depara', 16), ('consiste', 88), ('recórcholis', 8), ('sostienes', 8), ('marchas', 16), ('marcháis', 8), ('últimas', 80), ('tardas', 24), ('preferido', 280), ('aterrizar', 48), ('visitaste', 40), ('desayunáis', 8), ('pretendes', 24), ('sobres', 8), ('aprendieron', 56), ('terminal', 24), ('cercana', 208), ('quedaréis', 16), ('escogerás', 8), ('central', 80), ('park', 96), ('alentando', 16), ('piense', 144), ('homicidio', 104), ('porción', 56), ('enviaría', 8), ('quienquiera', 96), ('cabreado', 8), ('cabreada', 8), ('cabreados', 8), ('cabreadas', 8), ('rompisteis', 8), ('creíste', 16), ('despertaste', 16), ('aceptas', 8), ('adelantas', 8), ('¿estará', 32), ('calmar', 24), ('frotarías', 8), ('despertarás', 16), ('envejecen', 8), ('¿estarías', 48), ('apetecería', 16), ('levantarías', 16), ('¿dirías', 8), ('anotá', 8), ('yoga', 24), ('distraes', 8), ('subestimando', 8), ('podrás', 136), ('ganarle', 8), ('ayuntamiento', 24), ('desprecias', 16), ('almorzaste', 40), ('escribiste', 32), ('ticket', 48), ('telefonearme', 8), ('envolverlo', 16), ('total', 40), ('llevarnos', 48), ('regularidad', 24), ('arriesgarte', 16), ('kimono', 16), ('tomasteis', 8), ('adecuada', 48), ('cometiste', 48), ('apretar', 48), ('entrenar', 24), ('ceremonia', 88), ('distraída', 8), ('vegetales', 128), ('vestir', 40), ('vestirte', 16), ('tomarse', 64), ('guardaespalda', 8), ('descanses', 16), ('entenderéis', 16), ('vean', 56), ('atentos', 8), ('contagiado', 16), ('vehículos', 48), ('vota', 16), ('intentos', 40), ('pobladores', 24), ('1864', 16), ('excavó', 16), ('vasija', 16), ('pasándola', 8), ('acostados', 8), ('duradera', 24), ('astronautas', 24), ('trajes', 24), ('espaciales', 16), ('libramos', 8), ('impedimento', 8), ('abren', 32), ('edificios', 88), ('boxeadores', 8), ('reflejos', 16), ('raros', 16), ('mama', 24), ('tijera', 16), ('gerente', 216), ('pequeñito', 8), ('enmarcar', 32), ('receta', 64), ('medir', 48), ('arrojar', 64), ('tomarnos', 24), ('cartón', 56), ('rajan', 8), ('caros', 80), ('emparentados', 24), ('aprenden', 32), ('25', 104), ('diciembre', 64), ('circunstancias', 96), ('retomarán', 8), ('¡vuelve', 16), ('¡volved', 16), ('¡vuelva', 16), ('¡vuelvan', 16), ('¡anda', 8), ('¡ea', 8), ('considere', 24), ('autógrafo', 24), ('destornillador', 24), ('enviarlo', 16), ('deletrearlo', 8), ('destruye', 24), ('¿trajiste', 16), ('secador', 48), ('¿trajeron', 8), ('telefoneaste', 16), ('trabajaste', 16), ('¿pasaste', 16), ('¿tuviste', 40), ('¿abriste', 8), ('solicitaste', 16), ('¿apagaste', 16), ('pronunciar', 88), ('¿aceptáis', 8), ('tarjetas', 104), ('créditos', 8), ('económica', 64), ('incendios', 88), ('ikea', 8), ('artístico', 8), ('practicar', 88), ('colegas', 64), ('marches', 8), ('depilas', 8), ('acordás', 24), ('continue', 8), ('odie', 16), ('matemos', 8), ('doctores', 96), ('extrajeron', 8), ('masticas', 8), ('masticás', 8), ('indicaciones', 32), ('andes', 32), ('ramas', 64), ('andéis', 16), ('ande', 24), ('anden', 16), ('directos', 16), ('creas', 168), ('mezcle', 8), ('juzgues', 40), ('severidad', 32), ('juzguéis', 8), ('juzgue', 16), ('juzguen', 8), ('distraiga', 16), ('fieis', 8), ('manipularme', 8), ('sécate', 16), ('eterno', 16), ('ancla', 32), ('admiraban', 32), ('ejercitarse', 8), ('beneficios', 40), ('exportaciones', 24), ('ralentizando', 8), ('adictiva', 8), ('fatiga', 24), ('cuestionario', 48), ('gay', 16), ('sobras', 104), ('griegos', 32), ('retrasó', 152), ('enamoradas', 48), ('sirvienta', 16), ('ordeñado', 8), ('koala', 32), ('granizar', 8), ('nominación', 16), ('apropió', 8), ('fumara', 32), ('furiosamente', 16), ('chocolates', 16), ('difunto', 24), ('noel', 72), ('noreste', 8), ('loncha', 8), ('castigo', 104), ('despilfarró', 8), ('amago', 8), ('cruda', 16), ('quilos', 32), ('insinuó', 16), ('nobleza', 8), ('pescando', 56), ('mejilla', 152), ('limpiara', 48), ('visitaba', 16), ('ocasiones', 96), ('paisajes', 32), ('jugará', 96), ('ganaría', 48), ('pedal', 16), ('arrepintió', 8), ('recortaría', 8), ('compartió', 72), ('fluidez', 56), ('hablarles', 16), ('lavara', 24), ('alertó', 8), ('atacado', 40), ('tiburón', 40), ('bautizado', 8), ('católico', 8), ('suiza', 104), ('atado', 32), ('notaba', 8), ('agotadísimo', 8), ('electores', 8), ('atropellaron', 16), ('reelección', 8), ('libras', 64), ('esperándote', 72), ('escrupuloso', 8), ('cómics', 16), ('visitaría', 24), ('llenaron', 24), ('expresaba', 24), ('deletreado', 8), ('deletrearon', 8), ('rebosaba', 8), ('ingenio', 40), ('vanidad', 8), ('halla', 40), ('dificultosa', 8), ('discursos', 40), ('conferencias', 40), ('antoja', 16), ('filtró', 8), ('supiste', 88), ('deletrea', 16), ('distinguirlos', 24), ('distinguirlas', 8), ('nilo', 40), ('muñecas', 104), ('horneaste', 24), ('cuartos', 32), ('ganaste', 32), ('suponía', 192), ('aconsejé', 40), ('calculando', 16), ('cuentos', 64), ('cubano', 8), ('argüí', 8), ('usual', 56), ('arreglaran', 16), ('tapujos', 8), ('vencí', 16), ('artimañas', 8), ('bronces', 40), ('microsoft', 16), ('hallarlo', 8), ('imaginarme', 56), ('contaros', 8), ('prestarle', 80), ('fallarle', 8), ('predecir', 112), ('tragaluz', 8), ('describirlo', 32), ('desafié', 8), ('reté', 8), ('comparé', 16), ('oía', 56), ('afeitaba', 8), ('alarmarte', 8), ('interrumpir', 56), ('preocupar', 24), ('celebrar', 96), ('freud', 8), ('comportamiento', 368), ('insultar', 24), ('tentar', 8), ('acordarías', 8), ('regalé', 48), ('sábados', 160), ('clavé', 8), ('espina', 24), ('picado', 16), ('lesioné', 24), ('curé', 8), ('minera', 8), ('supremamente', 8), ('conversación', 248), ('varicela', 24), ('llevara', 128), ('piedrita', 16), ('suspicaz', 16), ('úlcera', 8), ('ampollas', 16), ('labor', 24), ('medicación', 24), ('abotonarme', 8), ('mezquita', 16), ('ayuden', 80), ('fugaz', 32), ('llegaría', 184), ('linux', 16), ('akasaka', 8), ('pintara', 40), ('denante', 16), ('refrescar', 24), ('encargar', 24), ('renovarme', 8), ('carné', 56), ('sospeché', 8), ('conjuntivitis', 8), ('barrita', 8), ('granola', 8), ('poseo', 8), ('antiguos', 96), ('convencí', 64), ('planeo', 224), ('apoyarlo', 8), ('capacidad', 248), ('rasgué', 8), ('kilómetros', 192), ('ensillé', 8), ('niñito', 64), ('debí', 312), ('faltas', 16), ('desmayarme', 16), ('intencionado', 8), ('preocupas', 48), ('tocaras', 16), ('tocases', 8), ('rajó', 8), ('clavo', 56), ('criar', 64), ('posavasos', 8), ('lave', 32), ('soltarme', 8), ('celos', 40), ('analices', 8), ('conozcas', 88), ('queden', 8), ('laves', 16), ('cortaran', 16), ('dejaran', 72), ('enseñártelo', 8), ('mostrártelo', 8), ('humillada', 16), ('duchando', 32), ('sino', 600), ('limpiaré', 16), ('animarle', 8), ('impediré', 8), ('agencia', 48), ('turismo', 16), ('sentiría', 32), ('defraudar', 16), ('tónica', 8), ('colgante', 8), ('tocaré', 16), ('intercederé', 8), ('reconsideraré', 8), ('reformularé', 8), ('embarcaré', 8), ('obligaciones', 24), ('investigador', 16), ('amamantando', 8), ('claustrofóbica', 8), ('claustrofóbico', 8), ('reconsiderarlo', 8), ('hong', 48), ('kong', 48), ('rejas', 24), ('arrestarte', 32), ('crea', 56), ('achispado', 8), ('atasco', 80), ('quejará', 8), ('conmovido', 32), ('traduciendo', 16), ('estricta', 40), ('corregí', 8), ('labores', 16), ('cortarle', 8), ('tuba', 16), ('viajado', 48), ('islandia', 24), ('volcanes', 16), ('retar', 16), ('alegraré', 16), ('damos', 64), ('lograremos', 8), ('1917', 8), ('envío', 56), ('manómetro', 8), ('contrae', 8), ('sumamente', 72), ('¡cayó', 8), ('filmada', 16), ('precisamente', 40), ('tenerte', 40), ('acabar', 224), ('asa', 8), ('pequeñísimo', 16), ('angosto', 32), ('insular', 8), ('¡japón', 8), ('cantarte', 16), ('cante', 24), ('repose', 8), ('háznoslo', 8), ('¡brindemos', 8), ('terminémoslo', 8), ('burbuja', 24), ('relámpagos', 8), ('precede', 8), ('impactó', 8), ('polleras', 8), ('bota', 8), ('rebota', 16), ('marconi', 8), ('alice', 112), ('hijastra', 8), ('diseñadora', 16), ('trabajadora', 40), ('permitió', 112), ('protegió', 24), ('protegía', 16), ('extendido', 32), ('habérselo', 8), ('sepa', 496), ('varoniles', 8), ('verse', 72), ('masculinos', 16), ('oxidando', 8), ('aproxima', 40), ('noviembre', 64), ('cuñado', 48), ('madero', 16), ('convertirme', 80), ('malasia', 16), ('canoso', 8), ('natal', 80), ('laburo', 8), ('filo', 8), ('oriundos', 8), ('obsequió', 8), ('viviendas', 8), ('caverna', 16), ('gritos', 16), ('percató', 32), ('ausencia', 136), ('nube', 72), ('persuadía', 8), ('micrófonos', 8), ('abusar', 32), ('abrid', 8), ('86', 8), ('orgánica', 32), ('caldera', 32), ('taiwan', 16), ('perfectas', 16), ('pierce', 8), ('electo', 16), ('1852', 8), ('hamburguesa', 32), ('devolverme', 8), ('regrese', 144), ('catálogo', 56), ('lapicero', 8), ('medidas', 64), ('inmediatas', 16), ('coloque', 16), ('zamora', 8), ('recita', 16), ('alfabeto', 64), ('gritad', 8), ('asesinó', 56), ('casara', 56), ('entrara', 40), ('dedicó', 160), ('muriese', 8), ('monedero', 56), ('canas', 8), ('pañuelos', 40), ('atarse', 24), ('poetisa', 8), ('soprano', 8), ('reclinó', 24), ('llegara', 144), ('persuadió', 40), ('citó', 16), ('keats', 8), ('inquietud', 8), ('siguiera', 16), ('intentara', 40), ('cuidados', 32), ('fregando', 8), ('chicago', 200), ('fastidiosa', 8), ('remover', 8), ('eliminar', 64), ('suciedad', 8), ('civiles', 32), ('interrupción', 8), ('viaja', 88), ('espérale', 16), ('espérele', 8), ('espérenle', 8), ('esperadle', 8), ('desesperación', 32), ('estantería', 128), ('respire', 8), ('aclarármelo', 8), ('hospitalidad', 24), ('digiere', 16), ('amargado', 8), ('mata', 88), ('discapacitada', 8), ('arrollar', 8), ('ordinaria', 16), ('agradará', 16), ('británicos', 96), ('arquero', 8), ('acaloró', 8), ('ascendió', 48), ('batía', 8), ('ala', 16), ('construcción', 136), ('atravesó', 136), ('expira', 32), ('bailarines', 8), ('agotados', 16), ('bailarinas', 16), ('agotadas', 8), ('olisqueó', 8), ('desaguadero', 8), ('águila', 40), ('efectos', 88), ('reversibles', 8), ('pintada', 32), ('vuelos', 64), ('cancelados', 16), ('resbaloso', 16), ('animaron', 8), ('densa', 32), ('atrajo', 40), ('emoción', 48), ('capas', 8), ('reían', 24), ('aterrizó', 80), ('narita', 48), ('lesión', 16), ('ganancias', 24), ('proyector', 16), ('exige', 56), ('informes', 48), ('confusos', 40), ('revisada', 8), ('afiladas', 8), ('buque', 24), ('aceptación', 8), ('acogida', 24), ('inicio', 16), ('aclarará', 8), ('derretirse', 8), ('disponían', 8), ('artillería', 8), ('brillaban', 16), ('tumbó', 24), ('hoyos', 8), ('cabal', 8), ('grieta', 16), ('cortaron', 40), ('avances', 40), ('inquietante', 16), ('brisa', 24), ('nevera', 40), ('sencillas', 24), ('sirven', 40), ('idénticas', 16), ('felicitaron', 40), ('estatura', 8), ('tildaron', 16), ('masacre', 24), ('scalawags', 8), ('tocaron', 32), ('apuraron', 8), ('presidenta', 16), ('cazaron', 8), ('producir', 16), ('constante', 24), ('podrían', 104), ('rehusaron', 16), ('reclutados', 8), ('tennessee', 24), ('proveyeron', 16), ('suministraron', 16), ('miraban', 40), ('riegan', 8), ('frutales', 8), ('montaron', 16), ('comportaban', 8), ('nacieron', 72), ('elegidos', 8), ('conservadores', 32), ('irán', 40), ('contarán', 16), ('querrán', 16), ('castigarlo', 16), ('académicos', 8), ('cansadas', 16), ('ciencias', 24), ('típicos', 24), ('jovenzuelos', 8), ('pondrán', 24), ('desorientador', 8), ('desajustado', 16), ('tesis', 40), ('coleccionista', 8), ('herradura', 8), ('sumergible', 8), ('colmillo', 8), ('elefante', 112), ('insoluble', 8), ('pescó', 40), ('advertencia', 32), ('curarlo', 8), ('cuarentas', 24), ('furor', 16), ('piezas', 40), ('ignorada', 8), ('calefacción', 56), ('repetirse', 16), ('venenosa', 16), ('requirió', 8), ('raya', 16), ('chancho', 16), ('70000', 8), ('potable', 40), ('tolerará', 8), ('tolerar', 40), ('griego', 32), ('significados', 16), ('yogur', 32), ('miles', 176), ('hogares', 24), ('irreemplazable', 8), ('amanecí', 8), ('goce', 16), ('accidentalmente', 56), ('compartieron', 24), ('solicitó', 48), ('moderno', 64), ('pesados', 16), ('carretilla', 48), ('elevadora', 16), ('registró', 32), ('trepó', 24), ('convencer', 368), ('importara', 24), ('obligado', 144), ('averiada', 16), ('descompuesta', 16), ('goteaba', 16), ('instintos', 24), ('señales', 88), ('custodia', 32), ('bañera', 88), ('apuñalaron', 24), ('calambre', 16), ('sanguínea', 40), ('comprometido', 16), ('protegerse', 24), ('estrecho', 56), ('presencia', 112), ('exnovio', 16), ('costumbres', 56), ('diaria', 32), ('rutinario', 16), ('técnico', 32), ('basurero', 24), ('comunicador', 8), ('patológico', 8), ('retirado', 32), ('relojería', 8), ('obcecado', 8), ('testarudo', 16), ('decorando', 24), ('acongojado', 8), ('copiloto', 8), ('inflando', 8), ('javascript', 16), ('tirando', 24), ('recibiendo', 16), ('regando', 24), ('infringiendo', 8), ('sobrepasando', 8), ('asfixiarme', 8), ('visitarnos', 96), ('sami', 8), ('mosquitera', 24), ('sentara', 32), ('ensayó', 8), ('reinició', 8), ('apenado', 16), ('divirtiéndose', 24), ('afónico', 8), ('volcó', 48), ('barril', 8), ('cerrojos', 8), ('anabólicos', 8), ('aguardó', 40), ('animar', 24), ('meditarlo', 32), ('empapó', 24), ('profusamente', 16), ('amenazado', 24), ('malhumorado', 24), ('garage', 8), ('gatitos', 32), ('composición', 48), ('mecanografía', 16), ('reanuda', 8), ('explicarle', 32), ('vegetarianos', 88), ('viena', 40), ('grados', 168), ('disculpamos', 16), ('demora', 64), ('vengáis', 8), ('queramos', 8), ('lavavajillas', 32), ('lavatrastes', 8), ('trancar', 16), ('sobrantes', 8), ('inesperadas', 8), ('jabonera', 8), ('camas', 16), ('cabezas', 56), ('precavidos', 8), ('nivelar', 8), ('leña', 104), ('pintamos', 16), ('convencimos', 8), ('podremos', 96), ('llevaremos', 16), ('almorzaremos', 24), ('arreglárnoslas', 8), ('conscientes', 40), ('volvemos', 16), ('cometiendo', 64), ('acabando', 24), ('únicas', 48), ('resolvimos', 16), ('¿estuvieron', 8), ('invento', 48), ('rechinar', 8), ('carajo', 24), ('alboroto', 40), ('materna', 136), ('hacían', 80), ('pensarán', 8), ('mensual', 48), ('inició', 64), ('empezaste', 96), ('sueles', 184), ('fresas', 40), ('aparcaste', 8), ('aparcasteis', 8), ('aparcó', 40), ('aparcaron', 8), ('boletería', 16), ('venías', 32), ('conviene', 8), ('directorio', 16), ('organizó', 24), ('cuadros', 48), ('navegar', 96), ('prismáticos', 8), ('casasteis', 8), ('casaste', 8), ('odiáis', 8), ('rayas', 16), ('pones', 48), ('probás', 16), ('cojea', 8), ('solicitas', 8), ('quitas', 24), ('escucharte', 16), ('¿volverá', 16), ('ayudáis', 24), ('lobos', 136), ('deambulan', 8), ('¡las', 8), ('puños', 16), ('¿quisieras', 24), ('pasarías', 32), ('sanan', 8), ('joyas', 96), ('adivinarlo', 32), ('donante', 16), ('derrotar', 32), ('agradecernos', 24), ('pararse', 16), ('comés', 24), ('potencial', 24), ('harry', 8), ('potter', 8), ('completar', 56), ('fibra', 16), ('contáis', 16), ('deshacerte', 32), ('deshaceros', 16), ('girado', 8), ('arrestados', 16), ('seréis', 24), ('conseguirás', 24), ('haríais', 8), ('créeme', 16), ('talentosos', 8), ('talentosas', 16), ('enorgulleces', 8), ('derramado', 32), ('crías', 24), ('sanos', 32), ('echarán', 16), ('ilógica', 8), ('asustaron', 24), ('perforó', 24), ('estableció', 32), ('puerto', 104), ('haiku', 16), ('curar', 48), ('tercio', 48), ('tercia', 8), ('vasto', 16), ('extiende', 24), ('cucharadita', 8), ('pimiento', 8), ('mortales', 8), ('disfrutarón', 8), ('teléfonos', 40), ('trompa', 8), ('importuna', 8), ('aparentemente', 128), ('hábito', 216), ('cuestionando', 8), ('¿intentas', 8), ('ligar', 8), ('agradaba', 24), ('barack', 16), ('pekín', 24), ('fluía', 16), ('retirados', 16), ('impacto', 80), ('prepararos', 8), ('pelearse', 16), ('decirme', 632), ('¿admite', 8), ('rebaja', 16), ('describir', 40), ('bajarle', 40), ('limitar', 8), ('decidirte', 8), ('masticá', 8), ('bacalao', 8), ('emergente', 8), ('colón', 88), ('compara', 56), ('computadores', 136), ('dibujarme', 8), ('cocodrilos', 16), ('afilados', 16), ('damasco', 8), ('siria', 16), ('valen', 32), ('posteriormente', 8), ('determinación', 16), ('¿conseguiste', 16), ('¿plantaste', 8), ('¿anoche', 16), ('cerraste', 16), ('precauciones', 24), ('digamos', 24), ('universal', 80), ('¿comen', 24), ('salón', 128), ('playstation', 8), ('profesional', 128), ('étnico', 8), ('mitos', 8), ('indonesia', 16), ('renacentista', 8), ('alojarte', 8), ('alojaros', 8), ('preferís', 16), ('¿sinceramente', 8), ('¿lamentas', 8), ('¿sientes', 24), ('sobran', 16), ('cabrá', 16), ('¿comúnmente', 8), ('viajas', 24), ('demostración', 8), ('retrate', 8), ('complique', 8), ('expongas', 16), ('escribirnos', 16), ('afírmate', 8), ('enfríe', 56), ('distraigan', 8), ('preguntártelo', 16), ('tergiverses', 8), ('económicos', 32), ('ahorran', 8), ('eisenhower', 32), ('teclee', 8), ('desean', 32), ('amistosos', 16), ('discúlpame', 8), ('expertos', 56), ('familiaridad', 16), ('filiberto', 8), ('hablá', 8), ('cuerpos', 24), ('¡olvidate', 8), ('occidental', 48), ('¡salid', 8), ('déselo', 8), ('dénselo', 8), ('tizas', 32), ('avanza', 16), ('cuadras', 40), ('atraco', 8), ('1636', 16), ('hágales', 8), ('¿contaste', 8), ('horneado', 24), ('donado', 8), ('podado', 8), ('notición', 8), ('dominó', 16), ('leyera', 72), ('ceremonias', 8), ('enfurecido', 8), ('guardaba', 8), ('rencor', 24), ('influencias', 24), ('asegura', 48), ('bellos', 16), ('admirarla', 8), ('atrevió', 24), ('desveló', 8), ('suspendió', 48), ('villa', 176), ('formidable', 8), ('matemática', 24), ('rana', 88), ('artesanía', 8), ('contrincante', 8), ('noqueó', 8), ('desprotegida', 8), ('millonario', 104), ('abrupta', 16), ('rol', 40), ('aparentaba', 32), ('referencia', 24), ('rasgó', 8), ('reinó', 16), ('reino', 112), ('afeita', 8), ('guió', 32), ('cáscara', 24), ('iowa', 16), ('ciñe', 16), ('sufría', 16), ('reumatismo', 8), ('contara', 48), ('dejaría', 168), ('cobardía', 16), ('apuntaba', 8), ('expulsado', 24), ('ignoraba', 24), ('dudaba', 24), ('escribirá', 16), ('daría', 96), ('pensador', 8), ('unir', 40), ('disciplinado', 16), ('rabia', 80), ('rulos', 16), ('resumen', 32), ('acreedores', 24), ('posaron', 8), ('anegados', 8), ('complicó', 16), ('actuación', 56), ('basa', 32), ('footing', 48), ('recupero', 8), ('producido', 24), ('introdujiste', 24), ('conocerla', 48), ('explicas', 16), ('relajas', 32), ('bochorno', 24), ('bochornoso', 24), ('válida', 40), ('guitarras', 32), ('eiffel', 24), ('construidas', 8), ('pirámides', 16), ('crueldad', 16), ('perseverancia', 24), ('negligente', 8), ('admití', 24), ('ciento', 192), ('corrijo', 8), ('asumo', 216), ('supuse', 80), ('presumía', 16), ('formo', 8), ('kárate', 16), ('chomba', 40), ('controlarme', 8), ('gif', 8), ('imaginar', 176), ('fingir', 112), ('poker', 48), ('arrogancia', 8), ('satisfacer', 40), ('importas', 16), ('wifi', 16), ('contener', 168), ('bocado', 24), ('aguantarme', 8), ('sierra', 40), ('metales', 32), ('inscribirme', 8), ('adoptada', 16), ('invitada', 16), ('significaba', 32), ('planeé', 8), ('usarla', 16), ('acudir', 88), ('optimismo', 16), ('innecesarios', 16), ('hayan', 120), ('rinda', 16), ('envenenado', 8), ('alisté', 8), ('aéreas', 16), ('millón', 152), ('afeité', 8), ('mostrarle', 16), ('ducho', 24), ('regalito', 32), ('quinientas', 24), ('perdoné', 8), ('cortarlo', 8), ('culparme', 48), ('admitir', 168), ('desempacar', 8), ('enferme', 16), ('pretendo', 72), ('junté', 8), ('frutilla', 24), ('fresa', 16), ('midvale', 8), ('drive', 8), ('423', 8), ('tumbarme', 8), ('faltar', 16), ('compensar', 48), ('renovar', 16), ('reescribir', 24), ('pila', 48), ('librería', 136), ('estacioné', 32), ('lealtad', 32), ('natación', 56), ('productos', 240), ('lácteos', 24), ('duché', 24), ('agradecí', 32), ('herí', 24), ('recordarías', 24), ('aparecería', 16), ('arrojé', 24), ('volviera', 104), ('funcionaría', 8), ('flechazo', 8), ('reproductor', 72), ('minidisc', 8), ('trombón', 32), ('mandarle', 24), ('prestéis', 8), ('preste', 32), ('presten', 8), ('sobrecogido', 24), ('1980', 40), ('entrevistaron', 8), ('alpes', 48), ('tuviese', 64), ('rígido', 8), ('lastime', 16), ('persuadirte', 8), ('ocultado', 8), ('ignoraran', 8), ('abrirme', 24), ('proponer', 24), ('brindis', 8), ('cumpliré', 32), ('sustituiré', 8), ('suspendo', 16), ('cogiendo', 16), ('necesitarte', 8), ('intriga', 16), ('muevo', 8), ('charlatán', 8), ('parlanchín', 16), ('charlatana', 8), ('parlanchina', 8), ('habladora', 8), ('enorgullezco', 8), ('campus', 40), ('decepcionarte', 16), ('pensándomelo', 8), ('holgazaneando', 8), ('engordé', 8), ('destrabar', 8), ('muchísimos', 32), ('conciertos', 24), ('tramado', 16), ('dinamarca', 40), ('investigue', 16), ('méxico', 200), ('¿aquel', 8), ('viga', 8), ('sólida', 48), ('hueca', 8), ('automático', 48), ('visitarle', 56), ('traducción', 96), ('conmoción', 32), ('especie', 56), ('extinción', 24), ('acuchilló', 16), ('significativo', 8), ('agrícola', 8), ('dolían', 24), ('disfrazada', 8), ('asumir', 16), ('organismo', 8), ('unicelular', 8), ('almas', 24), ('apremiante', 8), ('tifones', 16), ('enfrentes', 8), ('sábana', 24), ('jamaica', 8), ('colonia', 32), ('inglesa', 72), ('quietas', 8), ('universidades', 24), ('caligrafía', 8), ('lenin', 8), ('rebelaran', 8), ('atravesemos', 16), ('variar', 8), ('reunámonos', 24), ('finjamos', 40), ('creamos', 8), ('pretendamos', 8), ('perdamos', 32), ('desperdiciemos', 16), ('ninjas', 16), ('pongamos', 56), ('baúl', 24), ('esclavos', 40), ('plutón', 16), ('afloje', 8), ('venda', 24), ('afloja', 8), ('cómodos', 72), ('presentables', 8), ('arreglaos', 8), ('culparon', 32), ('injustas', 8), ('mármol', 16), ('nieta', 16), ('cuñada', 8), ('bollywood', 8), ('decorar', 40), ('tartas', 24), ('minifalda', 72), ('crece', 48), ('penado', 8), ('oxidado', 24), ('patinador', 8), ('levantarlo', 8), ('payaso', 32), ('granjera', 8), ('encogieron', 8), ('meñique', 16), ('hinchado', 8), ('severamente', 48), ('recepcionista', 16), ('incompleto', 16), ('confundáis', 16), ('valerosos', 8), ('ogai', 8), ('lastimada', 24), ('texanos', 16), ('mantenía', 16), ('anfitrión', 24), ('gentes', 8), ('centenares', 16), ('peleaba', 8), ('perry', 8), ('uraga', 8), ('1853', 8), ('obligues', 8), ('sírveme', 8), ('absténganse', 8), ('enjuáguese', 8), ('mande', 16), ('cose', 16), ('botones', 48), ('sabiduría', 40), ('formado', 24), ('pus', 8), ('canasta', 88), ('frazadas', 8), ('¡manos', 8), ('registro', 80), ('recuerde', 32), ('previstos', 8), ('climas', 8), ('cálidos', 32), ('fértil', 8), ('construida', 40), ('llegáis', 8), ('corra', 16), ('sazonar', 8), ('reinician', 8), ('delegados', 112), ('discreparon', 8), ('¿esperamos', 8), ('psiquiatra', 48), ('decantó', 8), ('mecanógrafa', 16), ('palacio', 128), ('valiosos', 40), ('impecable', 32), ('aspira', 8), ('sosteniendo', 16), ('entusiasmada', 16), ('asombro', 16), ('reverencia', 24), ('comerciante', 8), ('muros', 16), ('muelle', 64), ('agitando', 16), ('quitarse', 72), ('divorciarse', 24), ('choca', 24), ('arreglándose', 8), ('polola', 32), ('juntarse', 32), ('hermosas', 120), ('pilchas', 64), ('julio', 104), ('esperarlo', 8), ('enseñe', 48), ('dividido', 24), ('decidirlo', 24), ('consúltelo', 8), ('rebana', 16), ('delgadito', 16), ('¡sonría', 8), ('habituados', 8), ('restricciones', 16), ('envenenar', 8), ('terminaba', 16), ('revolvé', 16), ('revuelve', 8), ('chinchar', 8), ('vacilar', 32), ('parezca', 88), ('basan', 8), ('técnicamente', 8), ('destruidas', 16), ('incendiaron', 24), ('traerme', 64), ('colaboración', 40), ('complicar', 8), ('pirado', 8), ('sintiese', 8), ('divertirá', 8), ('activo', 40), ('activa', 16), ('certeza', 40), ('educaron', 16), ('atacamos', 8), ('descansaron', 8), ('sáhara', 8), ('ácido', 8), ('corroyó', 8), ('bahía', 32), ('dotación', 24), ('bondadosa', 16), ('fondo', 312), ('ensució', 8), ('balanceado', 16), ('acantilado', 48), ('envuelta', 16), ('mueca', 8), ('alargan', 16), ('detectives', 24), ('persiguó', 8), ('justifica', 16), ('medios', 56), ('agotadora', 8), ('miseria', 32), ('guardabarros', 8), ('abollado', 8), ('festival', 72), ('salmón', 40), ('inundaciones', 24), ('cosecha', 152), ('soplando', 16), ('burbujas', 16), ('mercancías', 8), ('resquebrajó', 8), ('inhabilitada', 8), ('mordido', 32), ('preciosas', 24), ('escandalizó', 8), ('mio', 16), ('torcido', 8), ('víveres', 8), ('encarecido', 8), ('liberados', 40), ('conflicto', 48), ('amueblada', 16), ('limpiada', 16), ('plena', 64), ('floración', 8), ('sobrecogedora', 16), ('secretario', 24), ('cesado', 16), ('barrió', 16), ('estadio', 56), ('estadísticas', 56), ('alarmantes', 8), ('bandas', 32), ('horizontales', 8), ('intensamente', 16), ('raza', 32), ('aniquiladas', 8), ('comunican', 48), ('escayola', 8), ('oficialmente', 24), ('rendimiento', 24), ('escapado', 48), ('escarcha', 8), ('explicaciones', 16), ('oportunidades', 40), ('asistirnos', 8), ('concluyeron', 16), ('resistencia', 24), ('defendieron', 16), ('escuchaban', 24), ('exploraron', 16), ('antártida', 16), ('huyeron', 24), ('graduaron', 8), ('moliendo', 8), ('llegásemos', 8), ('alquilada', 8), ('bulla', 8), ('pintaron', 32), ('reemplazaron', 16), ('nadaron', 24), ('molestaron', 16), ('vestiduras', 8), ('solían', 104), ('modificar', 16), ('infraganti', 8), ('parados', 40), ('dirán', 24), ('divierten', 8), ('persigue', 32), ('incómoda', 40), ('extinguirse', 8), ('estorba', 16), ('tradición', 64), ('turca', 8), ('enfadase', 8), ('calentará', 8), ('excepciones', 40), ('avergonzaría', 8), ('incorrectas', 16), ('textuales', 8), ('precisas', 16), ('aprecian', 16), ('fundido', 8), ('bombillas', 8), ('conocerse', 24), ('tonificante', 8), ('pisa', 24), ('apreció', 56), ('cabecear', 8), ('escogió', 40), ('tratara', 24), ('gateó', 8), ('rastras', 24), ('desesperadamente', 24), ('perseguía', 8), ('sobredosis', 24), ('favores', 16), ('velludos', 8), ('pomelo', 8), ('desconfía', 8), ('herirnos', 8), ('chupito', 8), ('sucediera', 64), ('tierno', 16), ('orfanato', 32), ('añadir', 40), ('licenciatura', 8), ('licenciado', 32), ('trastorno', 8), ('aprendizaje', 48), ('vívida', 16), ('imaginario', 24), ('arterial', 16), ('consiga', 64), ('suegro', 16), ('empedernido', 16), ('and', 16), ('roll', 8), ('sagaz', 8), ('dotado', 16), ('adjunto', 24), ('capitalista', 8), ('mácula', 8), ('tirón', 16), ('inversiones', 40), ('revisando', 16), ('pegajosa', 8), ('bachillerato', 8), ('programación', 32), ('encendiendo', 8), ('todaviá', 8), ('ortopédico', 8), ('despecho', 8), ('olfato', 48), ('hornea', 32), ('riquísimas', 8), ('tramar', 8), ('enfrentarse', 24), ('pareciera', 64), ('chequea', 8), ('alquila', 16), ('cabalgó', 8), ('rusa', 16), ('eléctricas', 16), ('felicitado', 8), ('gastar', 72), ('cojera', 8), ('instó', 48), ('encaminó', 8), ('guardara', 16), ('confrontar', 8), ('bañarse', 16), ('apabullante', 8), ('magistral', 8), ('bordado', 8), ('intercambio', 48), ('trompeta', 32), ('ahogarse', 72), ('túnel', 80), ('juguetona', 8), ('recompensados', 32), ('engominado', 16), ('bondad', 48), ('paracaídas', 8), ('eliminada', 8), ('regresemos', 8), ('despiérteme', 8), ('avívate', 8), ('postpuesto', 8), ('percance', 8), ('gloria', 8), ('tocarnos', 8), ('subsistir', 8), ('descubierto', 144), ('patinando', 8), ('programada', 8), ('prevista', 16), ('prescindir', 16), ('aligerar', 8), ('prepararnos', 24), ('escondimos', 16), ('disfrutes', 32), ('apresuramos', 8), ('sepamos', 24), ('deseábamos', 8), ('método', 152), ('pruebaerror', 16), ('mediante', 32), ('peligros', 16), ('esforzarnos', 16), ('recibimos', 96), ('arrendamos', 8), ('romántica', 32), ('habernos', 48), ('posibles', 24), ('solemos', 24), ('habitualmente', 40), ('hablábamos', 24), ('forzados', 24), ('revisarlo', 8), ('otorgaremos', 8), ('ocuparemos', 8), ('conversaremos', 8), ('enseñaremos', 24), ('luchando', 64), ('avanzando', 24), ('enormemente', 48), ('comunistas', 24), ('sobrio', 24), ('aconsejar', 16), ('intentáis', 16), ('intentan', 32), ('cualidades', 16), ('aconsejás', 8), ('dedica', 16), ('decirnos', 56), ('capital', 368), ('realizás', 8), ('cenas', 24), ('pronóstico', 80), ('deshacerse', 48), ('crujido', 8), ('onda', 24), ('eslogan', 8), ('mudaste', 8), ('berlín', 64), ('confabular', 8), ('aparcado', 56), ('solicito', 8), ('turquía', 48), ('objetos', 96), ('navegador', 16), ('cartelera', 8), ('soñabas', 8), ('portas', 8), ('opones', 8), ('confesaron', 8), ('acusados', 24), ('permitiste', 16), ('arrancarte', 8), ('esquivando', 8), ('aguantas', 8), ('gruñón', 8), ('¿resultará', 8), ('¿estarás', 32), ('¿volverás', 16), ('olímpicos', 24), ('acompañarías', 8), ('intercambiemos', 8), ('ufff', 8), ('mayúsculas', 24), ('tiendes', 16), ('élite', 8), ('retirarte', 8), ('llamarnos', 8), ('quedártelo', 8), ('aferrarte', 8), ('ocultarte', 16), ('mezclar', 32), ('moviste', 8), ('delanteras', 16), ('aseguro', 112), ('juzgarlo', 8), ('preocupé', 16), ('ocupaste', 8), ('recordás', 16), ('devolvieran', 8), ('olvidarás', 32), ('problemática', 8), ('fallecido', 16), ('permitida', 16), ('cumpliendo', 24), ('dedicado', 48), ('enfadarme', 32), ('¡tenés', 8), ('¡tienen', 8), ('—hablas', 8), ('—dijo', 16), ('mexicano', 8), ('quemados', 8), ('ladrará', 8), ('tortuga', 16), ('helicóptero', 176), ('círculos', 8), ('asentimiento', 24), ('gesto', 40), ('cabeceo', 8), ('signo', 24), ('erupción', 40), ('rodaba', 8), ('comienzos', 16), ('aaron', 8), ('burr', 16), ('éxitos', 16), ('ambición', 48), ('asesinar', 8), ('audio', 16), ('chinos', 88), ('¿vuelves', 8), ('¿goza', 8), ('juntarte', 8), ('recogerás', 16), ('deseas', 48), ('humedo', 8), ('mendigar', 8), ('maestras', 8), ('profesoras', 8), ('sospechosos', 24), ('cepillaos', 8), ('devolverte', 40), ('ayudas', 40), ('casita', 8), ('límpiale', 8), ('climático', 24), ('patraña', 8), ('cobras', 8), ('enviarme', 48), ('saldo', 16), ('animando', 8), ('citas', 32), ('estresantes', 8), ('davis', 8), ('¿ocurrió', 16), ('¿invitaste', 16), ('novillos', 16), ('¿hicisteis', 8), ('¿leíste', 32), ('¿pensabas', 8), ('1955', 16), ('dividan', 8), ('¿cuidan', 8), ('anudar', 32), ('¿sueles', 8), ('obras', 56), ('¿suele', 8), ('¿soléis', 8), ('cumplidor', 8), ('¿tus', 48), ('avergüences', 16), ('excedas', 16), ('máxima', 16), ('insultes', 16), ('privacidad', 48), ('muralla', 88), ('apoyéis', 8), ('apoye', 24), ('apoyen', 8), ('muestre', 8), ('enseñes', 8), ('finjas', 8), ('compartas', 16), ('apaguen', 8), ('digestión', 8), ('santa', 48), ('europeos', 40), ('enviados', 40), ('apresuraron', 16), ('quejaron', 8), ('amados', 8), ('conforme', 40), ('concrete', 8), ('hambruna', 16), ('francamente', 64), ('alemanes', 56), ('guías', 8), ('cartero', 56), ('remesa', 8), ('¿vuestro', 16), ('¿desenterraste', 8), ('¿desenterraron', 8), ('desayunado', 112), ('reprobado', 8), ('montado', 24), ('nadado', 8), ('averiguado', 32), ('recetas', 24), ('refrenar', 8), ('recolectó', 8), ('operarse', 16), ('lecciones', 32), ('hiciese', 48), ('instruí', 8), ('cumplía', 8), ('estándares', 16), ('300000', 8), ('expresó', 8), ('tentación', 280), ('impulso', 40), ('licenció', 16), ('descaro', 16), ('osadía', 8), ('renuncia', 32), ('considerables', 8), ('constitución', 56), ('superioridad', 16), ('unido', 88), ('facciones', 16), ('percha', 8), ('profesión', 32), ('presunto', 8), ('experimentado', 16), ('especialista', 8), ('postular', 40), ('llevarse', 160), ('reposando', 8), ('laureles', 8), ('pionero', 24), ('aceptaba', 16), ('pintalabios', 16), ('palmada', 64), ('regalado', 56), ('contárnoslo', 16), ('recomendación', 24), ('soborno', 80), ('tachó', 24), ('campamento', 64), ('armada', 40), ('cruzadas', 32), ('fundado', 24), ('estudiaba', 16), ('nadara', 32), ('nadase', 8), ('fijarse', 8), ('hirieron', 16), ('corbatín', 8), ('pajarita', 32), ('casará', 40), ('alcanzará', 24), ('recolectando', 16), ('haití', 8), ('helena', 8), ('ajará', 8), ('escocia', 80), ('favorable', 32), ('finalizó', 16), ('palpitaba', 8), ('partirnos', 8), ('fracasando', 8), ('hitler', 24), ('1933', 16), ('acabaste', 24), ('accedo', 8), ('propaga', 8), ('aguantará', 16), ('debitaron', 16), ('gastas', 16), ('gastan', 16), ('gastáis', 16), ('creado', 16), ('viajarás', 8), ('descansara', 8), ('revolver', 24), ('aquéllas', 16), ('puntuación', 24), ('puntaje', 16), ('veterinaria', 24), ('familiarizada', 24), ('tokyo', 40), ('traicionarte', 8), ('tecnología', 104), ('taller', 8), ('empezara', 24), ('evité', 8), ('encarezco', 8), ('encarecidamente', 8), ('dijera', 192), ('mate', 32), ('ruidosos', 24), ('mirarla', 48), ('mandarín', 8), ('picazón', 8), ('recordé', 16), ('pasase', 8), ('odiaras', 16), ('tiendo', 24), ('farfullear', 8), ('testarudas', 8), ('tercas', 8), ('cabezadura', 8), ('broncear', 8), ('divorciar', 48), ('arriesgar', 32), ('toparme', 8), ('támesis', 32), ('pistas', 48), ('dejadas', 32), ('venado', 16), ('contemplé', 8), ('cosita', 40), ('ocuparme', 48), ('copias', 72), ('punzante', 8), ('bocha', 8), ('aseo', 8), ('averiguar', 400), ('desperfectos', 24), ('enseñaros', 8), ('esforzado', 32), ('periquitos', 8), ('reencontrarme', 8), ('sepan', 56), ('informé', 16), ('llegada', 120), ('decidirme', 24), ('firmes', 16), ('humillar', 16), ('callara', 16), ('arrodillé', 8), ('abrocharme', 8), ('besaría', 8), ('lidiando', 8), ('silvestres', 24), ('escucharlos', 8), ('flotar', 40), ('querré', 8), ('salvarla', 40), ('cursiva', 8), ('desván', 8), ('documentales', 24), ('transmití', 8), ('destrozando', 8), ('interpretado', 8), ('sonrío', 8), ('irresponsable', 56), ('arruinan', 8), ('helar', 8), ('bailarina', 32), ('divorciará', 16), ('recordaría', 8), ('hicieses', 8), ('balanceada', 16), ('pintes', 8), ('ingresar', 24), ('adondequiera', 104), ('envejecer', 16), ('contratos', 8), ('traigas', 32), ('consigas', 40), ('viera', 136), ('vigilado', 40), ('ofrecieras', 16), ('indignó', 24), ('distraerla', 8), ('kyuushuu', 8), ('levantaré', 8), ('pudiéramos', 72), ('nacido', 56), ('presentaré', 24), ('embutidos', 8), ('bautizaría', 8), ('perderme', 16), ('especular', 8), ('retorcerle', 16), ('rellenar', 64), ('entregaré', 8), ('prescripción', 8), ('procuraré', 8), ('pierda', 72), ('asombra', 8), ('aguardar', 16), ('ocupándome', 24), ('nene', 8), ('apropiado', 104), ('tentado', 24), ('lograrás', 16), ('triunfaréis', 8), ('lograréis', 8), ('quejas', 208), ('rían', 32), ('madrugar', 32), ('suicidarme', 8), ('aspectos', 64), ('morirás', 16), ('entendés', 16), ('preguntá', 8), ('inoue', 8), ('ordenadores', 80), ('forestal', 16), ('grueso', 40), ('apto', 32), ('intervención', 24), ('divina', 8), ('desconsoladora', 8), ('debate', 48), ('pesetas', 8), ('cliché', 8), ('democrático', 24), ('james', 16), ('madison', 8), ('aborreció', 8), ('apúntelo', 8), ('enciendas', 8), ('discutámoslo', 8), ('religión', 128), ('devolviera', 24), ('parecida', 48), ('románticas', 24), ('esmalte', 16), ('alisó', 8), ('guirnalda', 16), ('atareada', 8), ('suspendido', 48), ('caminan', 8), ('plancton', 16), ('polillas', 16), ('atraídas', 8), ('aso', 8), ('volcán', 56), ('ahogarme', 16), ('disco', 80), ('numismática', 8), ('filatelia', 8), ('ahorros', 144), ('acabarán', 16), ('confundas', 32), ('nixon', 32), ('california', 64), ('viejitos', 8), ('cuchillos', 48), ('originalmente', 16), ('ocuparon', 16), ('hierbas', 64), ('apoderando', 8), ('proviciones', 8), ('invicto', 8), ('puntos', 88), ('pandas', 40), ('parlamento', 16), ('madrid', 32), ('picaso', 8), ('crucéis', 8), ('cruce', 64), ('crucen', 8), ('pedírselo', 24), ('obedezca', 24), ('noventa', 88), ('94', 16), ('muéstranos', 8), ('estira', 32), ('cuídese', 8), ('indíqueme', 8), ('sobornos', 32), ('portugal', 48), ('permanecen', 8), ('estables', 8), ('seguirán', 8), ('elizabeth', 16), ('1603', 16), ('deprimen', 8), ('repórtelo', 8), ('emergencias', 40), ('comuníquelo', 8), ('ruleta', 16), ('romperlas', 8), ('ponemos', 16), ('¿vemos', 8), ('acompañó', 40), ('disfrazó', 88), ('adolescencia', 24), ('mostrado', 32), ('valentía', 24), ('autodidacta', 16), ('truenos', 24), ('imitándolo', 8), ('imitarlo', 16), ('especialmente', 168), ('deprime', 8), ('sugirió', 232), ('probara', 16), ('tribunales', 8), ('derramar', 32), ('tel', 8), ('aviv', 8), ('absorbió', 8), ('admitida', 8), ('reconocida', 24), ('smith', 32), ('sembrado', 8), ('desarrollado', 16), ('brillan', 24), ('firmamento', 8), ('indirectas', 8), ('liderazgo', 24), ('deslizaron', 8), ('contame', 24), ('rechoncho', 8), ('representa', 48), ('mínima', 40), ('creencias', 8), ('escrita', 104), ('cambiaría', 24), ('alarmarse', 8), ('escalaron', 8), ('tratados', 40), ('debían', 56), ('matados', 8), ('pote', 24), ('redondo', 24), ('desarmó', 8), ('encerado', 8), ('reluciente', 8), ('ladrillo', 16), ('vertical', 8), ('huellas', 80), ('forzosa', 8), ('examinó', 32), ('bruscamente', 24), ('olfateando', 8), ('automáticamente', 64), ('duque', 16), ('madruga', 24), ('embistió', 8), ('irrefutable', 16), ('irrebatible', 8), ('probador', 24), ('despegado', 32), ('frieguen', 8), ('fugitivo', 24), ('inundada', 8), ('quebrarlo', 8), ('esperándolo', 8), ('firmada', 8), ('relámpago', 24), ('alumbró', 8), ('válvula', 8), ('900', 32), ('am', 64), ('inscripción', 8), ('juzgando', 32), ('anuncio', 64), ('impreso', 16), ('demolieron', 16), ('demolida', 8), ('dehesa', 8), ('probaron', 8), ('despegar', 80), ('petroleo', 24), ('irresuelto', 8), ('resolverse', 8), ('sobresalientes', 24), ('espectaculares', 8), ('igualado', 8), ('paralelo', 16), ('invisibles', 16), ('gaviotas', 8), ('transición', 8), ('casos', 80), ('relacionados', 8), ('grosor', 8), ('amueblado', 16), ('participantes', 32), ('calvicie', 16), ('disculparse', 72), ('signos', 32), ('infección', 16), ('abrigan', 8), ('fabricados', 24), ('irrelevantes', 8), ('afortunadas', 16), ('cabros', 8), ('evadir', 24), ('cepos', 8), ('exigieron', 16), ('calabazas', 16), ('geometría', 8), ('camping', 24), ('veranos', 64), ('enseñaron', 24), ('maldecir', 8), ('parecidos', 64), ('sufrido', 16), ('rescataron', 24), ('firmaron', 32), ('declararon', 16), ('objeciones', 16), ('visitaban', 8), ('echados', 8), ('mantendrán', 24), ('tendrían', 24), ('debatirán', 8), ('abuso', 32), ('profesionales', 24), ('ladrones', 128), ('saquearon', 8), ('feas', 16), ('sillón', 64), ('terciopelo', 8), ('cargado', 16), ('requetecargado', 8), ('albergar', 32), ('domina', 24), ('baños', 32), ('1870', 16), ('colchón', 32), ('fundamentalmente', 16), ('mercadería', 8), ('acondicionado', 120), ('basada', 64), ('rodica', 8), ('famosas', 32), ('andado', 16), ('apuntaron', 16), ('abrazarse', 8), ('famosos', 112), ('hablara', 96), ('asignó', 24), ('puñado', 56), ('alegó', 40), ('concentró', 16), ('consideraba', 32), ('controlarse', 8), ('stop', 16), ('trabajase', 16), ('controversias', 8), ('retratos', 8), ('dentífrica', 16), ('dentífrico', 64), ('archivar', 32), ('trébol', 8), ('extraordinarias', 24), ('comporta', 40), ('concorde', 16), ('aguda', 16), ('divagar', 8), ('telepáticas', 16), ('programador', 8), ('juvenil', 24), ('liberal', 16), ('perceptivo', 8), ('eficaz', 48), ('establecido', 16), ('consolidado', 8), ('pecador', 8), ('impenitente', 8), ('inconsecuente', 8), ('manitas', 8), ('retirando', 16), ('superar', 112), ('pertenencias', 72), ('habitual', 144), ('contrariado', 8), ('apreciaba', 8), ('cosió', 16), ('disfrutarás', 8), ('pusieran', 8), ('dentadura', 16), ('postiza', 8), ('intimidar', 8), ('abusado', 8), ('devorado', 48), ('apoyado', 32), ('gruesos', 16), ('90', 48), ('borrachera', 8), ('impartirá', 8), ('alcohólico', 16), ('observación', 8), ('pelada', 8), ('engordan', 16), ('invaluable', 16), ('buren', 8), ('deteneros', 16), ('disfrutamos', 72), ('considerar', 120), ('destruir', 24), ('ventilar', 16), ('airear', 8), ('amarnos', 16), ('consideramos', 32), ('quitamos', 8), ('momia', 8), ('lejanía', 24), ('capturar', 24), ('organizarnos', 8), ('reanudar', 8), ('meditación', 24), ('paseamos', 16), ('permaneceremos', 24), ('sudamérica', 40), ('íbamos', 208), ('mirábamos', 8), ('nacimos', 8), ('devolvámonos', 8), ('aceptaremos', 24), ('vanidosos', 8), ('llantas', 8), ('repuesto', 32), ('salvos', 24), ('realizamos', 8), ('mostrarnos', 24), ('significan', 16), ('lamentas', 24), ('regalar', 72), ('placa', 8), ('terminas', 8), ('cenan', 24), ('bañas', 24), ('escala', 56), ('ingrediente', 16), ('materia', 88), ('asamblea', 8), ('nietos', 32), ('viviste', 8), ('mantel', 40), ('colectivos', 32), ('eligirías', 8), ('palomas', 72), ('blancas', 64), ('demandado', 8), ('presentaron', 40), ('cuidará', 80), ('llevárselo', 16), ('complicadas', 16), ('comprarlos', 8), ('verdura', 72), ('duermes', 32), ('secuestraría', 8), ('¿saldrá', 8), ('¿cenarías', 8), ('acompañarme', 24), ('venderás', 8), ('¿estarían', 8), ('disculparía', 8), ('¿si', 8), ('mudara', 8), ('refrescarte', 8), ('importaria', 8), ('elevada', 8), ('presentarse', 16), ('cómico', 8), ('presionar', 16), ('acuerdan', 8), ('cortarte', 16), ('caracoles', 16), ('crudos', 32), ('paisaje', 72), ('peones', 8), ('criticas', 8), ('fidedigno', 8), ('eficiente', 48), ('aparentas', 16), ('joderme', 8), ('condujeron', 8), ('«no', 56), ('dormir»', 8), ('«yo', 8), ('tampoco»', 8), ('sargento', 8), ('atropellado', 88), ('rodea', 24), ('uniciclo', 8), ('inventé', 8), ('cucharadas', 8), ('sume', 8), ('columna', 16), ('cifras', 24), ('enfocad', 8), ('reluce', 8), ('¿vendrán', 16), ('¿viajas', 8), ('distraerme', 8), ('¿normalmente', 16), ('deberás', 48), ('asista', 16), ('pídale', 8), ('gatean', 8), ('coméis', 8), ('allanaron', 8), ('traerle', 16), ('pinchazo', 8), ('imputaciones', 8), ('compleja', 40), ('malcriar', 8), ('acercas', 8), ('repetirme', 40), ('trozos', 120), ('describí', 8), ('¿derramó', 8), ('indios', 64), ('inventaron', 24), ('cigarros', 16), ('¿aceptaste', 16), ('¿cumpliste', 8), ('jugaste', 24), ('¿jugaste', 24), ('dormiste', 24), ('¿caminaste', 8), ('sandías', 24), ('comenzará', 40), ('extranjera', 216), ('¿conocéis', 24), ('literatura', 112), ('¿aceptan', 8), ('viajero', 48), ('¿piensa', 24), ('¿usas', 8), ('pensaron', 24), ('ocupan', 8), ('mentales', 16), ('respiras', 16), ('¿ayuda', 8), ('profundices', 8), ('imaginarios', 8), ('cuotas', 8), ('recaudadas', 8), ('elogiaban', 8), ('heroísmo', 8), ('abróchese', 8), ('gordas', 16), ('secuestrar', 8), ('sobreviven', 32), ('¡deshazte', 8), ('¡levantate', 8), ('¡mañana', 24), ('jirafas', 16), ('maduran', 8), ('reflexionar', 56), ('hábitos', 88), ('ausentes', 32), ('pásatelo', 8), ('alimentado', 16), ('canguro', 24), ('1990', 24), ('pedirnos', 32), ('quejaba', 48), ('admirablemente', 8), ('rescatarla', 24), ('castigaran', 8), ('setenta', 56), ('sarcasmo', 8), ('exploró', 24), ('selva', 40), ('amazónica', 8), ('romperse', 16), ('perdía', 8), ('contrajo', 32), ('bulto', 16), ('adaptado', 8), ('inferioridad', 24), ('comprárselo', 16), ('yen', 56), ('mecanografiando', 8), ('opone', 48), ('acosar', 8), ('hormiguero', 16), ('nocturno', 48), ('cometía', 8), ('funcionara', 24), ('superó', 16), ('restableció', 16), ('fielmente', 8), ('estrechó', 8), ('fumó', 8), ('candidato', 72), ('espionaje', 24), ('admitieron', 8), ('automovilístico', 88), ('olvidará', 24), ('heredará', 8), ('trono', 24), ('responderá', 16), ('atraen', 32), ('asiáticas', 8), ('esperándole', 8), ('favorecía', 8), ('llorado', 8), ('convertirse', 144), ('graves', 80), ('invadió', 24), ('¿salimos', 8), ('osáis', 8), ('entrasteis', 16), ('supisteis', 8), ('resolviste', 24), ('pretendéis', 8), ('casadas', 40), ('trabajás', 8), ('pasajeros', 256), ('huracanes', 24), ('violentas', 40), ('tormentas', 24), ('acompañé', 8), ('cerrase', 8), ('cerrara', 32), ('desayunaste', 16), ('batallas', 16), ('dijeras', 56), ('atrapé', 56), ('tranquilizarme', 8), ('captar', 32), ('descontento', 16), ('ningunas', 8), ('gimnasia', 8), ('oreja', 72), ('agradecértelo', 16), ('videocasetera', 8), ('controlada', 8), ('malcriados', 8), ('causar', 48), ('suspender', 32), ('reprobar', 32), ('examenes', 8), ('escucharos', 8), ('sorprenda', 8), ('borré', 16), ('volé', 16), ('náuseas', 16), ('predicador', 8), ('39', 8), ('ahorrado', 48), ('tribunal', 32), ('venderlas', 8), ('tornillos', 24), ('diana', 16), ('interrumpido', 32), ('olvidarte', 24), ('volverme', 40), ('vara', 8), ('palmo', 8), ('griega', 40), ('desaproveché', 8), ('cuadrar', 16), ('terminaría', 8), ('planté', 32), ('lamentar', 48), ('recomendé', 16), ('habéroslo', 8), ('anteriormente', 16), ('entenderá', 16), ('decentes', 8), ('necesitaremos', 40), ('alucinando', 8), ('oiría', 8), ('desconectados', 8), ('cuidé', 8), ('ejecutiva', 8), ('frustración', 8), ('google', 16), ('zambullirme', 8), ('comiences', 32), ('embotellamiento', 24), ('hubiese', 328), ('egipto', 64), ('toleraré', 8), ('anoté', 40), ('directora', 8), ('creeré', 8), ('demostrarte', 8), ('reconsideres', 16), ('reconsideréis', 8), ('reconsidere', 8), ('reconsideren', 8), ('celebro', 8), ('considerando', 48), ('enero', 120), ('ofrecieron', 48), ('eludir', 32), ('cuestionables', 8), ('quedaría', 40), ('¡si', 24), ('dejase', 72), ('lograrlo', 16), ('alicia', 48), ('¿ocurre', 8), ('adversa', 8), ('tarro', 24), ('¡acaso', 8), ('desventajas', 16), ('impresionó', 24), ('privilegio', 16), ('típica', 24), ('gótica', 8), ('señalar', 32), ('incumbe', 16), ('prendimos', 8), ('fogata', 32), ('convenzan', 8), ('plegarias', 16), ('caótica', 8), ('hundirá', 8), ('industrial', 24), ('industrializado', 8), ('johnson', 16), ('defendió', 8), ('kabuki', 8), ('pégate', 8), ('kuwait', 8), ('severos', 16), ('inusualmente', 16), ('comunícame', 8), ('averigües', 8), ('libera', 8), ('demos', 32), ('averigüemos', 16), ('paseíto', 8), ('retomemos', 8), ('ocultémonos', 8), ('hacernos', 24), ('sincronicemos', 8), ('¡mírame', 8), ('girar', 56), ('luxemburgo', 8), ('madeira', 8), ('sujetador', 16), ('respetada', 8), ('emparedados', 16), ('moño', 16), ('recogía', 16), ('secuestrada', 8), ('piratas', 40), ('vial', 8), ('cumplan', 16), ('regalaron', 24), ('raíz', 24), ('cesta', 64), ('camaradas', 16), ('envejecido', 8), ('lavarlo', 16), ('negociaciones', 40), ('duraron', 24), ('olvidéis', 16), ('detiene', 48), ('comentó', 16), ('vitamina', 88), ('oslo', 16), ('coincidencias', 16), ('pelá', 16), ('viajaba', 8), ('alimente', 24), ('acláreme', 8), ('¡ayúdame', 8), ('zapping', 8), ('canales', 24), ('¡sáquenme', 8), ('atice', 8), ('estante', 88), ('duplicarse', 8), ('necesaria', 56), ('seicho', 8), ('matumoto', 8), ('1992', 32), ('admite', 48), ('ahorrara', 8), ('presume', 32), ('jaguares', 8), ('cana', 8), ('suspiro', 32), ('harajuku', 8), ('otaru', 8), ('sonrosadas', 16), ('bailado', 40), ('comerse', 56), ('meditó', 16), ('sorda', 48), ('muda', 16), ('peluquería', 72), ('elaborando', 8), ('fugaces', 8), ('meteoritos', 8), ('¿deberías', 8), ('comunicarnos', 32), ('fumadores', 56), ('estrictamente', 56), ('gobernaba', 16), ('cuba', 24), ('pegue', 16), ('tantas', 144), ('calurosos', 16), ('músculos', 16), ('llévales', 8), ('cotidiana', 24), ('contadme', 32), ('cuéntenme', 16), ('mina', 56), ('rincón', 24), ('fama', 64), ('maniático', 8), ('chiqueado', 8), ('furgoneta', 16), ('fundo', 8), ('franceses', 64), ('almendros', 8), ('floridos', 8), ('recuperar', 56), ('peluqueros', 24), ('gays', 16), ('cargarla', 8), ('caballería', 8), ('corcho', 8), ('champán', 8), ('palos', 32), ('1173', 8), ('teñida', 8), ('expirará', 8), ('sustancial', 8), ('ladró', 24), ('requetebién', 16), ('progresaba', 8), ('porvenir', 8), ('huerta', 24), ('marchitó', 8), ('oprimió', 16), ('pegada', 40), ('demanda', 112), ('400', 24), ('defiende', 8), ('costas', 24), ('naufragaron', 8), ('expiró', 8), ('posibilidades', 72), ('infinitas', 8), ('arrastró', 40), ('retrovisor', 8), ('35', 32), ('satélite', 40), ('órbita', 16), ('sirvientes', 16), ('rocas', 24), ('encalló', 40), ('finlandia', 8), ('cortocircuito', 8), ('fundió', 16), ('fusible', 16), ('gemía', 8), ('plana', 56), ('interpretaron', 8), ('brillará', 8), ('repetidamente', 16), ('mellizos', 16), ('durado', 24), ('llegaba', 48), ('inundó', 32), ('apta', 24), ('beberse', 8), ('aparentes', 8), ('combinan', 48), ('amistosas', 24), ('sacarles', 8), ('corruptos', 8), ('ajustan', 8), ('patria', 24), ('confirmaron', 8), ('unanimidad', 8), ('universitarios', 32), ('parecieron', 8), ('aceptaban', 8), ('enfrentaron', 8), ('valerosamente', 8), ('forzaron', 16), ('momotarou', 16), ('caminos', 32), ('veneraban', 8), ('escribieron', 16), ('debatiendo', 16), ('aumentos', 8), ('sonriéndose', 8), ('aprieta', 16), ('1610', 8), ('repleta', 16), ('controvertido', 16), ('válido', 72), ('producto', 168), ('diseñado', 40), ('pocilga', 8), ('comerla', 32), ('previsible', 8), ('embriaga', 8), ('contrastan', 8), ('pasados', 24), ('primaveras', 8), ('añadió', 32), ('derrama', 8), ('charlamos', 24), ('crecieron', 16), ('unieron', 8), ('comprara', 96), ('rebanada', 24), ('oscureciese', 8), ('decidirse', 32), ('practicó', 8), ('madrugada', 24), ('existo', 16), ('irlandés', 24), ('crucigrama', 16), ('mesera', 24), ('fortaleza', 24), ('nerviosamente', 8), ('interesantes', 136), ('folletos', 8), ('dinámica', 8), ('orientación', 48), ('freído', 8), ('mojen', 8), ('guardería', 16), ('excepcionalmente', 64), ('apagando', 16), ('indisciplinado', 8), ('mudará', 16), ('multimillonario', 8), ('malnutrido', 8), ('arrancando', 16), ('hierbajos', 16), ('yoyo', 16), ('repitiendo', 8), ('ahuyentando', 8), ('cuervos', 16), ('indicado', 24), ('aportando', 8), ('ajustados', 8), ('frenéticamente', 8), ('espaguetis', 8), ('transfusión', 24), ('decorado', 16), ('negoció', 16), ('interesó', 40), ('tateti', 8), ('punk', 8), ('tris', 8), ('poquitico', 8), ('entreabierta', 8), ('colgador', 8), ('bronceadora', 8), ('escribiría', 32), ('besándose', 32), ('ballesta', 16), ('escabulló', 40), ('trasera', 64), ('cargara', 8), ('revólver', 24), ('esclava', 8), ('acera', 32), ('ame', 32), ('gravedad', 56), ('borde', 128), ('concentrarse', 64), ('diversiones', 16), ('cansará', 8), ('apetecerá', 8), ('amputar', 8), ('dumbo', 8), ('desconsolados', 8), ('deshechos', 8), ('deberé', 8), ('alunizará', 16), ('ausentaron', 8), ('ceniza', 8), ('volcánica', 16), ('cubrió', 40), ('despiertame', 8), ('mírale', 8), ('desesperábamos', 8), ('ponernos', 32), ('altibajos', 32), ('apreciados', 8), ('12000', 8), ('cabos', 16), ('sueltos', 16), ('cruzamos', 24), ('separen', 8), ('apoyara', 8), ('publicamos', 8), ('amarrado', 16), ('amordazado', 16), ('simulacro', 8), ('aplazar', 8), ('reunir', 32), ('rezamos', 8), ('debimos', 16), ('guardamos', 16), ('granero', 24), ('turnamos', 24), ('visitamos', 48), ('bajamos', 48), ('llevábamos', 16), ('inundados', 8), ('bajaremos', 8), ('gastando', 32), ('tenerlos', 8), ('galés', 8), ('extraordinaria', 32), ('apasiona', 8), ('convencerte', 24), ('merecer', 8), ('crias', 8), ('cultivas', 16), ('formularios', 32), ('instrumento', 56), ('practicas', 8), ('asignatura', 64), ('concluyó', 40), ('paseas', 8), ('embarque', 8), ('recojo', 16), ('especialización', 24), ('sinfonía', 24), ('telefónico', 72), ('domicilio', 32), ('vecindario', 160), ('háblale', 8), ('plantaron', 24), ('darán', 64), ('recogerá', 24), ('instrumentos', 40), ('tocas', 56), ('tocan', 24), ('enterró', 16), ('lingotes', 8), ('recibiste', 48), ('compositor', 48), ('darás', 48), ('cancelamos', 8), ('cierras', 8), ('ausentaste', 16), ('faltaste', 24), ('robaría', 16), ('miran', 64), ('¿tendré', 32), ('¿seguiré', 8), ('¿estaréis', 8), ('¿iréis', 8), ('¿cerrarías', 8), ('super', 40), ('bowl', 24), ('boba', 8), ('1914', 16), ('pidiéramos', 8), ('¿harías', 8), ('¿querría', 24), ('¿un', 8), ('¿apagarías', 8), ('destrozas', 8), ('coincidimos', 8), ('despertaras', 8), ('¿oh', 8), ('menester', 8), ('estrechar', 8), ('desorientada', 8), ('recibirlo', 24), ('prometerme', 16), ('tomaras', 8), ('atracones', 8), ('defensa', 64), ('alejarte', 8), ('quitarte', 16), ('reirte', 8), ('prejuzgar', 8), ('fumabas', 8), ('solías', 40), ('cerrés', 8), ('preferible', 16), ('comieses', 8), ('cegado', 8), ('mola', 40), ('estropear', 8), ('mocha', 8), ('desistir', 24), ('difiere', 16), ('censura', 16), ('irrazonables', 8), ('flechas', 32), ('impedida', 8), ('siglo', 88), ('flotó', 16), ('absolvió', 16), ('geografía', 24), ('molécula', 24), ('formada', 16), ('átomos', 40), ('actinio', 8), ('vaporiza', 8), ('3198ºc', 8), ('aprobamos', 8), ('movidas', 8), ('retiradas', 8), ('horda', 8), ('enfurecida', 16), ('disminuirá', 8), ('solicitudes', 8), ('vencen', 8), ('actualización', 8), ('actualizaciones', 8), ('¿aprenderás', 8), ('budismo', 24), ('olvidando', 32), ('picaduras', 32), ('dolorosas', 8), ('picadura', 16), ('dolorosa', 32), ('beethoven', 24), ('trascurrió', 16), ('apareciera', 32), ('agradecieron', 8), ('bratwurst', 8), ('salchicha', 24), ('portuguesa', 8), ('deletrear', 8), ('adivinas', 8), ('mantienen', 16), ('acompáñanos', 24), ('compare', 24), ('complejas', 16), ('llevarme', 144), ('grullas', 16), ('¿olvidé', 8), ('devuelto', 56), ('asombraron', 8), ('dominaban', 16), ('pingüinos', 24), ('ártico', 24), ('¿prevés', 8), ('¿prevéis', 8), ('¿prevé', 8), ('¿prevén', 8), ('mayonesa', 8), ('asocial', 8), ('peores', 40), ('¿significa', 24), ('caigas', 8), ('suenes', 8), ('arrojeis', 16), ('internes', 8), ('jungla', 104), ('internéis', 8), ('interne', 8), ('halar', 8), ('indagues', 8), ('menosprecies', 8), ('escabullas', 8), ('gastes', 24), ('quedéis', 8), ('conductores', 56), ('edison', 40), ('germánica', 8), ('concordaron', 16), ('marchaba', 16), ('dispénseme', 8), ('exponga', 8), ('resolverá', 16), ('torcer', 24), ('termínalo', 8), ('delicada', 40), ('alcanzado', 32), ('veredicto', 40), ('limpiaste', 32), ('cañón', 8), ('colorado', 16), ('¿resolviste', 8), ('acumuló', 24), ('lear', 8), ('hiciéramos', 56), ('recámara', 40), ('médicas', 24), ('comportaba', 8), ('obró', 8), ('inaudita', 8), ('copió', 16), ('concentraba', 8), ('meterse', 48), ('literato', 8), ('consagra', 8), ('maratón', 24), ('huella', 56), ('desprendido', 24), ('mensualmente', 16), ('hartarse', 8), ('precipitadamente', 8), ('escrúpulos', 8), ('lidiar', 48), ('reclamos', 8), ('presentado', 32), ('galán', 8), ('volará', 8), ('farmacéutico', 16), ('puntualidad', 32), ('sida', 40), ('maquetas', 16), ('aviones', 88), ('anonimato', 8), ('fantasía', 16), ('asignaturas', 8), ('prefirió', 8), ('robada', 40), ('arriesgó', 48), ('llamaría', 16), ('mariposa', 40), ('interiores', 8), ('pasea', 8), ('femenina', 8), ('fracasaría', 8), ('acompañado', 48), ('otorgó', 32), ('28', 24), ('1888', 16), ('crio', 16), ('denunciado', 24), ('asociación', 8), ('ilícita', 8), ('exiliado', 24), ('frutería', 8), ('notar', 32), ('libretos', 16), ('programas', 56), ('febrero', 72), ('ficción', 64), ('popularidad', 32), ('gratitud', 24), ('hideyo', 8), ('noguchi', 16), ('vehículo', 72), ('arreglaron', 24), ('retorcía', 8), ('adelgazó', 8), ('sienes', 8), ('recogerla', 8), ('digna', 24), ('leerse', 8), ('próximos', 32), ('profundas', 24), ('acertada', 16), ('predicciones', 24), ('bellas', 32), ('petulante', 8), ('repentina', 40), ('llegasteis', 16), ('interpretas', 8), ('pronuncias', 8), ('lleváis', 16), ('cuánta', 112), ('mountain', 16), ('bike', 16), ('adicional', 8), ('¿cuanto', 8), ('¡apurémonos', 8), ('convengo', 8), ('barbacoa', 24), ('financieras', 16), ('polaca', 8), ('perezosa', 24), ('abriera', 72), ('tocase', 8), ('consulté', 16), ('fotográfica', 16), ('inquieta', 16), ('acordaste', 40), ('espinaca', 16), ('librar', 24), ('sacarla', 16), ('burlarme', 16), ('costearme', 32), ('ardiente', 16), ('enderezar', 8), ('prestarte', 24), ('cené', 24), ('ocurriese', 8), ('bebiera', 32), ('malabarear', 16), ('facha', 8), ('preocupan', 16), ('atenerme', 8), ('ponerlos', 16), ('meterlas', 8), ('dijese', 56), ('líos', 16), ('perderlo', 16), ('trabajéis', 8), ('trabaje', 40), ('trabajen', 8), ('veracidad', 16), ('alenté', 24), ('presiento', 16), ('obligué', 24), ('devolví', 24), ('útiles', 80), ('aburrí', 8), ('superé', 8), ('muela', 24), ('crear', 40), ('ruiseñor', 8), ('patee', 16), ('falte', 8), ('practicado', 16), ('olvidarme', 24), ('impliques', 8), ('desearte', 24), ('aceptaras', 8), ('conocieras', 40), ('comprobar', 24), ('sucesivo', 8), ('ganadora', 8), ('abandonarías', 8), ('condicionada', 8), ('repetirá', 24), ('guardas', 8), ('mantienes', 8), ('evadiendo', 16), ('aah', 8), ('reído', 16), ('saltado', 16), ('fina', 64), ('pinturas', 88), ('tecno', 8), ('mandaste', 8), ('apañé', 24), ('desayunos', 8), ('estímulo', 8), ('asentí', 8), ('observaban', 8), ('caldero', 8), ('vertí', 16), ('autores', 16), ('cocidos', 16), ('encantas', 8), ('exactas', 8), ('angeles', 8), ('rigor', 8), ('resbalé', 16), ('mismísima', 8), ('dejarles', 8), ('mantengas', 40), ('margen', 32), ('dondequiera', 96), ('exageración', 16), ('alcanzaremos', 24), ('exagerando', 40), ('entendería', 56), ('rendiría', 32), ('entrené', 8), ('¡entendí', 8), ('ceno', 48), ('racimo', 8), ('despertaron', 8), ('aparecí', 8), ('percatado', 8), ('aguardara', 8), ('terminarlo', 64), ('sentaré', 8), ('fueran', 64), ('lujosamente', 8), ('escribía', 48), ('compacto', 8), ('leyeras', 16), ('preferiero', 8), ('herviré', 8), ('minuciosamente', 8), ('extrañarte', 8), ('revisar', 64), ('vigilaré', 8), ('semejante', 104), ('acostumbrando', 32), ('enfilar', 8), ('ilegalización', 24), ('hieren', 8), ('desesperarme', 8), ('benjamín', 16), ('cumplo', 16), ('animado', 16), ('trabajaría', 16), ('diligentemente', 8), ('tardaremos', 8), ('muerdes', 8), ('mordisco', 16), ('invitas', 16), ('confesamos', 8), ('bigamia', 8), ('ridge', 8), ('fracasara', 8), ('construirlo', 8), ('construirse', 8), ('tormentosa', 8), ('desdichado', 8), ('heladísimo', 8), ('comierais', 8), ('indigente', 16), ('comercio', 40), ('kuala', 8), ('lumpur', 8), ('kiev', 8), ('ucrania', 8), ('aprendámonos', 8), ('dejémoslo', 16), ('planeemos', 8), ('pospongámoslo', 8), ('washington', 120), ('mirate', 8), ('cegó', 8), ('luis', 24), ('bonfa', 8), ('disponga', 8), ('orbitan', 16), ('guapas', 56), ('defendiendo', 8), ('trillizos', 8), ('fenomenal', 8), ('bronceado', 16), ('besarla', 16), ('reembolsen', 8), ('niegan', 8), ('alemana', 32), ('limitó', 8), ('tragar', 40), ('adoptar', 80), ('nagoya', 24), ('trabajaron', 16), ('atrases', 8), ('impresos', 8), ('vendedores', 16), ('groseros', 8), ('valioso', 64), ('andarse', 8), ('delatado', 8), ('candado', 24), ('contestaste', 16), ('países', 416), ('0', 16), ('intensiva', 8), ('global', 32), ('pale', 8), ('ale', 8), ('graduación', 32), ('dispense', 8), ('exigen', 16), ('maltratar', 16), ('fichero', 8), ('camine', 16), ('obedezcan', 8), ('trocito', 24), ('sírvame', 16), ('prepárame', 8), ('batido', 8), ('sentíos', 8), ('señale', 8), ('pélame', 8), ('salúdale', 8), ('polares', 8), ('contaminación', 56), ('creciente', 8), ('cumplirlas', 8), ('pública', 80), ('brandy', 16), ('tenaza', 8), ('rebeldes', 16), ('prepararon', 8), ('preséntate', 8), ('requieras', 8), ('seattle', 8), ('mandadme', 16), ('mándenme', 8), ('fuente', 136), ('penas', 16), ('perdiera', 32), ('tomara', 56), ('minachan', 8), ('rescatarlo', 8), ('ginza', 8), ('amplia', 32), ('ansiosa', 24), ('tipeando', 8), ('capacitada', 24), ('religiosa', 8), ('estimuló', 8), ('laburar', 8), ('extenso', 16), ('picaporte', 8), ('hechizada', 8), ('aferraba', 16), ('reportará', 8), ('directamente', 120), ('correré', 8), ('llamándome', 16), ('golpean', 8), ('triunfarás', 8), ('golondrinas', 16), ('cielos', 24), ('suecia', 40), ('échate', 8), ('ocúpate', 16), ('afectaba', 8), ('aterra', 8), ('valiosa', 48), ('cuya', 48), ('almirante', 8), ('dormirse', 24), ('chupando', 32), ('inflada', 8), ('ascendía', 24), ('cuatrocientos', 16), ('publicó', 24), ('1689', 8), ('sándalo', 8), ('cofre', 8), ('lavaron', 16), ('humeaban', 8), ('dóciles', 8), ('sobresaltó', 8), ('chasquido', 8), ('originó', 16), ('abatido', 8), ('cazadores', 24), ('levántese', 8), ('buzos', 16), ('orbita', 8), ('irreversibles', 8), ('exhibición', 40), ('detonación', 8), ('estremeció', 16), ('reunida', 8), ('localizaron', 8), ('ubicaron', 8), ('hueco', 24), ('chisme', 8), ('doméstico', 8), ('aguó', 8), ('anchura', 16), ('colgaba', 16), ('ambigüedades', 16), ('destinada', 16), ('cifra', 16), ('lugareños', 16), ('hospitalarios', 8), ('nativos', 96), ('descontentos', 8), ('petrolífero', 8), ('contaminó', 8), ('resguardado', 8), ('entraba', 48), ('empellones', 8), ('cobró', 16), ('aterrizará', 8), ('dispersaron', 8), ('interrogarme', 8), ('prensa', 56), ('confirmó', 48), ('comprensión', 8), ('atascadas', 8), ('parará', 16), ('atracará', 8), ('tragando', 8), ('zapatillas', 32), ('marcando', 8), ('permanentemente', 8), ('amainado', 16), ('gradualmente', 40), ('narración', 8), ('conclusión', 72), ('respondieron', 8), ('horizonte', 64), ('colapsar', 24), ('erigía', 8), ('agujas', 8), ('continuará', 16), ('relatos', 16), ('coinciden', 24), ('visitante', 24), ('sopla', 32), ('despegará', 24), ('realizará', 40), ('celebrará', 16), ('urbano', 8), ('variedades', 16), ('parques', 72), ('barrios', 8), ('bajos', 64), ('amazonas', 16), ('patio', 160), ('raso', 16), ('antiguamente', 40), ('desviación', 8), ('monstruo', 56), ('carrete', 8), ('salero', 16), ('traducirlo', 8), ('complicados', 24), ('blusas', 8), ('cubos', 32), ('derretirán', 8), ('calmarán', 8), ('venenosas', 24), ('reglamento', 24), ('pileta', 32), ('colisionaron', 8), ('arrebataron', 8), ('soportado', 8), ('resistieron', 16), ('serie', 48), ('1989', 8), ('depredadores', 8), ('mataban', 16), ('inverosímil', 8), ('pelearían', 8), ('norteamérica', 40), ('colombia', 16), ('conversaron', 8), ('boicotearán', 8), ('fundarán', 8), ('preguntaban', 8), ('polera', 16), ('tomos', 16), ('tenue', 40), ('intersección', 24), ('dominé', 8), ('principales', 80), ('beneficiará', 8), ('agrava', 8), ('peculiar', 24), ('roble', 40), ('baterías', 24), ('parciales', 32), ('quinientos', 32), ('arrancado', 8), ('decimosexto', 8), ('alarmas', 16), ('fué', 16), ('reza', 16), ('íntimos', 40), ('locamente', 32), ('dardos', 8), ('arriesgaron', 8), ('cortara', 8), ('dejara', 280), ('bajase', 8), ('almejas', 24), ('panqueques', 16), ('trípode', 8), ('reacondicionado', 8), ('renovado', 8), ('remanufacturado', 8), ('restaurado', 8), ('acarreando', 8), ('trayendo', 16), ('pitando', 16), ('cooperó', 8), ('especializarse', 16), ('terremoto', 296), ('afiló', 8), ('chivato', 8), ('cebolla', 40), ('comprometerse', 8), ('tirar', 56), ('matrimonios', 8), ('fallidos', 8), ('comete', 104), ('realizado', 32), ('atletismo', 8), ('sesos', 32), ('psicológicos', 8), ('gritándole', 16), ('vestirse', 56), ('motociclista', 8), ('sofisticado', 16), ('mezclando', 8), ('recobrando', 8), ('evasivas', 8), ('baterista', 8), ('asustarse', 16), ('influenciable', 8), ('escultor', 8), ('concentrándose', 16), ('tonterías', 48), ('acomodarse', 8), ('besaba', 8), ('contará', 8), ('acampar', 32), ('encerró', 80), ('cambiara', 24), ('altiro', 16), ('armónica', 16), ('pedaleó', 16), ('conducción', 56), ('burlarse', 24), ('salpicó', 24), ('borda', 8), ('echara', 8), ('transporte', 32), ('cocinara', 16), ('trabajara', 16), ('copiarme', 8), ('lustrarse', 8), ('traslade', 8), ('mude', 32), ('parecerse', 8), ('shampoo', 16), ('postrado', 16), ('período', 32), ('hallado', 16), ('picahielos', 16), ('fusilado', 8), ('pelotón', 8), ('fusilamiento', 8), ('industria', 64), ('sellado', 8), ('lanzamiento', 16), ('currículum', 8), ('vitae', 8), ('tornados', 8), ('destructivos', 8), ('divisiones', 16), ('tifus', 8), ('dobla', 24), ('dudamos', 8), ('millionarias', 8), ('volamos', 16), ('cadáver', 64), ('estancia', 40), ('tortitas', 16), ('panquecillos', 8), ('hotcakes', 8), ('juntamos', 8), ('tropical', 32), ('cuidarnos', 16), ('herramienta', 48), ('abrirla', 64), ('pretendemos', 16), ('acampamos', 8), ('escabroso', 8), ('regresaremos', 16), ('placentero', 16), ('pensemos', 24), ('cumbre', 16), ('¿pudiste', 32), ('adhiere', 8), ('responsabilidades', 24), ('jubilación', 16), ('crímenes', 16), ('crimenes', 8), ('llamabas', 24), ('concluyes', 8), ('enorgullece', 8), ('pregunte', 8), ('dirigible', 8), ('tocáis', 8), ('recomienda', 16), ('almuerzas', 16), ('aconseja', 32), ('arreglados', 8), ('¿cual', 8), ('plantaste', 8), ('estrenará', 8), ('terminarás', 8), ('telefonear', 16), ('pillaste', 8), ('dormisteis', 8), ('despachar', 16), ('extintor', 8), ('retóricas', 8), ('telefonista', 8), ('encarga', 16), ('bond', 8), ('superhéroe', 8), ('evitas', 8), ('ocurriera', 40), ('consultás', 8), ('grulla', 16), ('eliges', 24), ('existir', 40), ('¿vendrías', 8), ('¿considerarías', 8), ('comerías', 16), ('cucaracha', 32), ('ración', 8), ('mayúscula', 16), ('abusando', 8), ('solicita', 8), ('usuaria', 32), ('obligar', 24), ('avergonzarte', 16), ('oigas', 32), ('prepararte', 32), ('inscribirte', 8), ('tragarte', 8), ('cesas', 8), ('starcraft', 8), ('entendías', 24), ('hincapié', 16), ('menospreciarlo', 8), ('ridículamente', 8), ('pusieras', 24), ('rastrillo', 16), ('verán', 16), ('despacho', 40), ('directas', 16), ('sacrificio', 24), ('amenazas', 16), ('notablemente', 8), ('«¿te', 8), ('tarta»', 8), ('«sí»', 24), ('agrupó', 8), ('camioneros', 8), ('hormigueros', 32), ('excelentes', 16), ('excavadores', 8), ('alejandro', 16), ('conquistador', 16), ('culminaron', 8), ('departamentos', 8), ('cajones', 8), ('yacía', 32), ('quemada', 16), ('suceso', 8), ('inolvidable', 16), ('desliz', 8), ('niñita', 56), ('pídanle', 8), ('exporta', 8), ('quemes', 16), ('quemar', 32), ('bandeja', 16), ('quebradas', 8), ('pronunciaciones', 8), ('fastidiosos', 8), ('piden', 8), ('estupideces', 56), ('brasilero', 8), ('corrige', 24), ('corregid', 8), ('contactarlo', 16), ('creacionismo', 8), ('¿llevaba', 8), ('¿leyó', 16), ('capítulo', 56), ('¿pensaste', 8), ('impera', 8), ('repartan', 8), ('gasoil', 8), ('mienta', 8), ('¿pretendes', 8), ('¿preferís', 8), ('¿prefieres', 32), ('oyen', 16), ('aprendiz', 24), ('¿queres', 8), ('estudiarlo', 8), ('¿contiene', 8), ('cafeína', 8), ('¿', 8), ('¿nieva', 16), ('dependas', 24), ('distraigas', 24), ('arrepentirte', 16), ('arrepentirías', 8), ('implique', 16), ('desatendido', 24), ('pulse', 40), ('acerque', 24), ('comprometan', 8), ('cuidan', 16), ('criaturas', 32), ('fabulosas', 8), ('juventud', 64), ('dure', 16), ('convencerá', 8), ('potencia', 40), ('vecindarios', 8), ('eterna', 16), ('enamorarse', 40), ('siembran', 8), ('asistieron', 80), ('galones', 40), ('derrotados', 24), ('cuneta', 8), ('gigantes', 24), ('shakespeare', 88), ('informó', 64), ('abrazaste', 8), ('dirigido', 24), ('desplomado', 8), ('cosido', 8), ('traducido', 32), ('tomaba', 40), ('600', 32), ('p', 8), ('m', 16), ('puño', 40), ('distingue', 56), ('cargaba', 24), ('sídney', 16), ('machacó', 8), ('tiras', 24), ('cómicas', 8), ('enseñanza', 48), ('karuizawa', 8), ('finca', 32), ('dominio', 56), ('colonos', 16), ('hacienda', 24), ('aflicción', 16), ('introdujo', 32), ('invirtió', 32), ('montarnos', 8), ('campeón', 48), ('comité', 152), ('talentos', 40), ('familiarizado', 72), ('secundario', 16), ('confunden', 24), ('impopular', 16), ('pidiéndome', 16), ('amablemente', 8), ('desplumar', 16), ('acogedora', 16), ('barriera', 16), ('ovaciones', 16), ('entrevista', 64), ('sorbos', 24), ('satisfactoriamente', 24), ('librarse', 16), ('xix', 24), ('sepultado', 8), ('cementerio', 64), ('contundente', 8), ('atropellarle', 8), ('romperá', 24), ('viajará', 8), ('neurocirujano', 8), ('recibirte', 24), ('desahuciado', 8), ('helen', 16), ('keller', 16), ('convencen', 8), ('elogio', 8), ('cubiertas', 32), ('pende', 8), ('superado', 16), ('decidiría', 16), ('estese', 8), ('evalúas', 8), ('gasolinera', 24), ('debiera', 48), ('¿durante', 40), ('lenguajes', 8), ('asciende', 8), ('describirías', 16), ('relaciones', 80), ('humanas', 24), ('tagalo', 8), ('huaso', 8), ('anticipé', 16), ('ocurriría', 40), ('enviara', 16), ('quesadillas', 8), ('champú', 64), ('kakuzen', 8), ('cucha', 8), ('razonablemente', 24), ('casaras', 8), ('conectarme', 8), ('sapo', 32), ('negarme', 8), ('distinguirla', 8), ('creerías', 8), ('creerían', 8), ('respondo', 16), ('artificiales', 64), ('vestirme', 16), ('aciertes', 8), ('sudo', 8), ('obligarte', 24), ('mojarme', 16), ('entregar', 104), ('malgastar', 40), ('suspendiera', 8), ('reprobara', 8), ('esperanzado', 8), ('sensato', 8), ('aspirar', 8), ('presidencia', 16), ('inviernos', 32), ('parten', 32), ('avispa', 8), ('pésimas', 8), ('semestre', 80), ('estimo', 16), ('escoger', 32), ('proporcionar', 8), ('morirme', 24), ('ganarme', 16), ('resolverlo', 40), ('tiquetes', 8), ('juntado', 24), ('cantada', 16), ('guisa', 8), ('presenté', 24), ('expulsar', 8), ('aspirinas', 16), ('enorgullecerte', 8), ('enorgullecerlos', 8), ('aprenderé', 8), ('almendras', 16), ('aroma', 24), ('despegando', 24), ('sanda', 8), ('city', 8), ('playas', 24), ('aprenderme', 16), ('inflar', 16), ('suelas', 8), ('entienda', 72), ('llevarle', 32), ('oírla', 16), ('pascuas', 8), ('ramos', 24), ('atlas', 8), ('emigrar', 24), ('rezo', 16), ('obedeciéndote', 8), ('descansé', 16), ('láptop', 8), ('hipopótamo', 16), ('giro', 16), ('desperdiciado', 16), ('creérmelo', 8), ('perseguir', 16), ('malísima', 8), ('fallos', 48), ('sobrevivirás', 8), ('espectacular', 16), ('desapercibido', 16), ('procuro', 16), ('destacar', 16), ('etiquetas', 8), ('limpie', 40), ('jalea', 8), ('oscuros', 16), ('contratarte', 8), ('observes', 8), ('invitaros', 8), ('asegurarme', 112), ('14', 32), ('ardido', 8), ('bajados', 8), ('expulsaron', 16), ('expresarme', 24), ('obihiro', 8), ('continuaré', 16), ('caeré', 8), ('presentar', 40), ('rositas', 8), ('rebajaré', 16), ('cantaras', 16), ('adivinado', 16), ('perdería', 32), ('resultaras', 8), ('salieras', 16), ('ronda', 16), ('reconfirmar', 8), ('capataz', 8), ('descubren', 8), ('graduaré', 8), ('reducida', 24), ('fingiré', 32), ('asueto', 8), ('malentendido', 160), ('ganase', 16), ('desocupar', 24), ('picotear', 16), ('desenvolver', 8), ('jornada', 32), ('discutirlo', 24), ('momentáneamente', 16), ('demorado', 8), ('arreglármelas', 24), ('querrá', 32), ('segurísimo', 16), ('hartado', 48), ('escusas', 16), ('mencionado', 40), ('volado', 40), ('estudiaría', 16), ('uniría', 16), ('arregles', 16), ('disminuye', 16), ('despídame', 8), ('hungría', 8), ('húngaro', 16), ('¿dan', 8), ('finalizado', 8), ('expectativas', 40), ('interpretación', 16), ('memorizar', 96), ('fechas', 16), ('junio', 176), ('1950', 40), ('perjudicará', 8), ('tomaría', 40), ('aprovechar', 72), ('adquirir', 72), ('innegablemente', 8), ('época', 160), ('italianos', 40), ('enteramos', 8), ('descubrimos', 32), ('karl', 8), ('valentin', 8), ('filósofo', 32), ('¡aleja', 8), ('avíseme', 24), ('avísenme', 8), ('avisadme', 8), ('bajemos', 8), ('circo', 40), ('dejémosle', 16), ('ensayar', 8), ('cuarta', 16), ('farol', 8), ('desplaza', 8), ('indispensables', 8), ('magnesio', 8), ('elemento', 8), ('químico', 32), ('imagina', 40), ('depila', 8), ('resultan', 16), ('convierta', 8), ('comba', 8), ('áreas', 16), ('urbanas', 16), ('aconsejo', 40), ('ceja', 16), ('llenado', 8), ('bombera', 16), ('bienes', 24), ('conversadora', 8), ('1920', 8), ('quinta', 40), ('rivalizar', 8), ('declinado', 8), ('inclina', 16), ('ottawa', 8), ('externo', 16), ('combustión', 24), ('teneme', 8), ('tubo', 48), ('enmendar', 8), ('saques', 40), ('saquéis', 8), ('expuestos', 16), ('envíale', 8), ('golpeá', 8), ('indique', 8), ('desee', 24), ('cojines', 16), ('disminuido', 16), ('saludad', 8), ('aguas', 32), ('residuales', 16), ('contaminan', 8), ('preparo', 8), ('excepcionales', 8), ('discutió', 56), ('ansiedad', 16), ('involucrarse', 32), ('tortazo', 8), ('bofetada', 24), ('cachete', 8), ('trucho', 8), ('vecina', 24), ('chantajeada', 8), ('chantajeando', 8), ('aprobar', 128), ('destaca', 24), ('manirrota', 8), ('desgana', 8), ('descontenta', 8), ('ametralladora', 16), ('solucionó', 24), ('diéramos', 8), ('despedazó', 8), ('tradujo', 136), ('complacerlo', 16), ('pionera', 8), ('asombrosamente', 8), ('caliéntate', 16), ('caliéntese', 8), ('calentaos', 16), ('caliéntense', 8), ('comportan', 32), ('sri', 8), ('lanka', 8), ('melbourne', 8), ('shounan', 16), ('encierra', 8), ('combina', 40), ('pelirrojo', 8), ('eventualmente', 48), ('puntillas', 40), ('sobrevivido', 32), ('ambiguos', 8), ('inapropiada', 16), ('morgue', 8), ('deseado', 16), ('935', 8), ('bambury', 8), ('ministro', 80), ('abdicó', 8), ('plástica', 24), ('arrulló', 8), ('rodó', 24), ('arroyo', 24), ('destruyó', 56), ('bat', 8), ('hocico', 16), ('puchero', 8), ('apertura', 16), ('pérdidas', 8), ('fundada', 32), ('1974', 16), ('estera', 8), ('aullaban', 8), ('sindicados', 8), ('cesó', 8), ('expreso', 24), ('toronja', 8), ('trotando', 16), ('abdicar', 8), ('borrego', 8), ('rugían', 8), ('2000000', 8), ('descripción', 104), ('redujo', 32), ('solidificó', 8), ('angustia', 8), ('limosnas', 8), ('estuche', 24), ('colgada', 24), ('4000', 8), ('volaba', 32), ('forzoso', 8), ('despega', 16), ('800', 48), ('instantes', 24), ('infelices', 24), ('abolió', 16), ('párroco', 16), ('sonda', 8), ('sony', 16), ('lluvias', 24), ('yardas', 16), ('tensarse', 8), ('navegando', 16), ('protegían', 8), ('levantase', 24), ('tercer', 80), ('jugoso', 8), ('empresas', 32), ('planean', 40), ('fusionarse', 8), ('finalizar', 16), ('mutar', 8), ('mesas', 32), ('peras', 32), ('atajos', 16), ('rocío', 24), ('despedirlos', 8), ('acostumbrados', 48), ('orientadas', 8), ('hundía', 32), ('cumplieron', 24), ('panorama', 32), ('dejarán', 16), ('anticiparon', 16), ('defenderse', 8), ('atlántico', 48), ('filmaron', 8), ('perdonaron', 8), ('delitos', 24), ('burlan', 8), ('permaneciera', 8), ('tratan', 24), ('visitan', 40), ('admiraron', 8), ('arrollados', 8), ('casen', 16), ('quilogramos', 8), ('1700', 8), ('precisos', 8), ('automatizada', 8), ('ambiente', 56), ('dirigida', 32), ('1650', 16), ('oración', 104), ('obvios', 8), ('principiantes', 72), ('aproximada', 16), ('retirara', 16), ('doblaron', 8), ('perguntó', 8), ('pensara', 24), ('perdonara', 16), ('camioneta', 8), ('contraseñas', 16), ('geología', 24), ('consideró', 64), ('reside', 8), ('tocara', 24), ('disgustaban', 8), ('bancaria', 40), ('críticas', 24), ('vegana', 8), ('energética', 24), ('nombrado', 16), ('viajando', 40), ('tum', 8), ('radicales', 24), ('valijas', 40), ('llenar', 48), ('diccionarios', 56), ('calendario', 56), ('inmobiliario', 16), ('posponiendo', 8), ('confidente', 8), ('inhabilitado', 8), ('computadoras', 56), ('manipular', 32), ('frontal', 8), ('actualizar', 8), ('turístico', 24), ('acariciar', 8), ('alojaba', 8), ('acercaba', 16), ('robándole', 8), ('acurrucó', 8), ('corral', 8), ('ajeno', 16), ('entierro', 8), ('pegaba', 8), ('almeja', 8), ('aguardáramos', 8), ('esperáramos', 8), ('confiara', 8), ('comportara', 8), ('jueza', 8), ('disolver', 8), ('ascensores', 16), ('hablase', 56), ('divirtamos', 8), ('callejero', 16), ('determinado', 16), ('escondía', 24), ('avalancha', 8), ('torso', 8), ('playera', 8), ('hipovolémico', 8), ('rompería', 32), ('entorno', 56), ('lamentablemente', 56), ('obsérvale', 8), ('devolverle', 40), ('atrapamos', 8), ('encaminamos', 8), ('publicidad', 24), ('ahuyentar', 16), ('arreglamos', 8), ('donamos', 16), ('venderte', 16), ('democrática', 32), ('buscábamos', 8), ('progresado', 8), ('vivamos', 16), ('rehacer', 8), ('tiendas', 104), ('ofrecerles', 8), ('desechar', 16), ('burlarnos', 8), ('hospedamos', 16), ('paramos', 16), ('caminábamos', 8), ('daremos', 32), ('ciudadanos', 112), ('anticipando', 8), ('¿ibas', 16), ('ventajas', 32), ('protestan', 8), ('castiga', 16), ('vieras', 40), ('basas', 8), ('contemporáneo', 16), ('inhalador', 8), ('marcas', 24), ('desayunas', 48), ('desayunan', 16), ('servirán', 8), ('culebrón', 8), ('¿cúal', 8), ('salís', 40), ('celebró', 24), ('cantaste', 32), ('nadaste', 8), ('galería', 32), ('editor', 16), ('difundido', 16), ('compraras', 8), ('dieras', 32), ('sección', 64), ('acierte', 8), ('gastaste', 32), ('seguiste', 8), ('¿porqué', 16), ('omiso', 8), ('querrían', 8), ('querríamos', 32), ('castigarte', 8), ('cambiarás', 8), ('ayudás', 24), ('atraparemos', 16), ('hablarás', 8), ('hablaráis', 8), ('hablarán', 8), ('incendian', 8), ('darías', 32), ('beicon', 8), ('salchichas', 8), ('¿bailas', 8), ('varas', 16), ('enamorarte', 32), ('ubicarme', 8), ('frances', 8), ('urgentemente', 56), ('recae', 16), ('desconocidos', 48), ('pelotudear', 8), ('boludear', 8), ('cediste', 32), ('cedisteis', 48), ('debías', 8), ('ajustarte', 8), ('ajustarse', 16), ('ajustaros', 8), ('expresar', 128), ('barbería', 16), ('abstenerte', 8), ('lanzadera', 8), ('contradiciendo', 8), ('ojeras', 8), ('currículo', 24), ('idéntica', 8), ('pronunciación', 80), ('antónimo', 8), ('anagrama', 8), ('cuna', 48), ('anclado', 8), ('ola', 24), ('saco', 40), ('incondicional', 8), ('sobrevolando', 16), ('ángulo', 24), ('valle', 56), ('ia', 8), ('agnès', 8), ('dispositivos', 8), ('olivo', 8), ('simboliza', 8), ('legales', 8), ('fuegos', 40), ('armenia', 8), ('montañoso', 8), ('arrastra', 8), ('pizarras', 8), ('modelos', 24), ('ofrecerle', 16), ('ofrecerte', 16), ('refresco', 16), ('chiquillos', 24), ('atar', 24), ('esperarnos', 8), ('vestíbulo', 24), ('péinate', 8), ('peinate', 8), ('¿pudo', 8), ('¿cambiarías', 8), ('despejar', 24), ('adn', 40), ('demostraron', 8), ('describa', 8), ('ofendiera', 8), ('¿hice', 8), ('enojarme', 8), ('¿aprendiste', 8), ('¿vieron', 8), ('¿votaste', 8), ('romney', 8), ('mustang', 16), ('ponían', 16), ('¿llevan', 8), ('caramelos', 8), ('menta', 16), ('ataques', 16), ('vértigo', 8), ('¿guardas', 8), ('sufra', 8), ('¿entendés', 8), ('prendidas', 8), ('venirte', 24), ('¿tanto', 8), ('encargarte', 8), ('estaciones', 96), ('¿escribe', 8), ('culpéis', 8), ('compares', 40), ('vaciles', 16), ('revuelvas', 8), ('pequeñeces', 16), ('escribas', 24), ('dublín', 8), ('irlanda', 8), ('invadida', 8), ('daneses', 8), ('epilepsia', 8), ('guardando', 24), ('trampero', 8), ('palillos', 64), ('desteñidos', 8), ('suda', 8), ('calcule', 8), ('48', 24), ('mutua', 8), ('metete', 16), ('esenciales', 16), ('¡agárrale', 8), ('pub', 32), ('copiado', 16), ('zanahoria', 16), ('pay', 8), ('orado', 8), ('paloma', 32), ('bucear', 16), ('¿encontró', 16), ('¿entregaste', 8), ('clásicos', 8), ('latinos', 8), ('hawking', 16), ('pedro', 8), ('calculó', 24), ('responderle', 16), ('evolución', 40), ('detalladamente', 32), ('sostener', 48), ('acordarse', 24), ('despertarse', 16), ('ankara', 16), ('invitan', 16), ('llovería', 24), ('escuchara', 24), ('reparos', 8), ('criticó', 32), ('edil', 8), ('asemeja', 56), ('perla', 8), ('clavó', 8), ('enseñaba', 24), ('venecia', 56), ('estuvieran', 64), ('imaginativo', 16), ('igualito', 24), ('desterrado', 16), ('multaron', 32), ('indebido', 8), ('falsamente', 8), ('resentido', 8), ('denegó', 8), ('manicomio', 24), ('rocknroll', 8), ('principalmente', 32), ('tratará', 32), ('acreditado', 16), ('¡oiga', 8), ('¡vosotros', 16), ('¡vosotras', 16), ('audiencia', 120), ('retribuida', 8), ('reaccionó', 8), ('hello', 8), ('aguantan', 8), ('¡dese', 8), ('180', 8), ('inclinaciones', 8), ('musicales', 24), ('judías', 8), ('alubias', 24), ('monótona', 16), ('saxofón', 88), ('rindiendo', 8), ('obedecerle', 8), ('admirar', 16), ('códico', 8), ('deciros', 16), ('retrasa', 24), ('explicarme', 24), ('escabullirse', 8), ('insultos', 24), ('realicé', 8), ('noté', 64), ('pusiera', 88), ('interponerme', 16), ('permito', 16), ('duerman', 8), ('exista', 8), ('mientan', 8), ('hacíamos', 16), ('género', 24), ('espiado', 8), ('detalladas', 16), ('vampiros', 24), ('barriga', 24), ('aparentar', 24), ('antojo', 16), ('castaños', 8), ('despedirte', 24), ('particular', 120), ('esquís', 16), ('enteras', 32), ('choque', 72), ('arrepentirme', 8), ('decepcione', 8), ('compensártelo', 8), ('deseados', 8), ('restaurantes', 64), ('aprenderán', 8), ('herirme', 8), ('paseos', 16), ('adopté', 8), ('juguetería', 16), ('escampa', 8), ('asalta', 8), ('intensa', 40), ('salieran', 24), ('planifiqué', 8), ('pinché', 8), ('pulgar', 24), ('aguja', 96), ('pifié', 8), ('mera', 16), ('viviría', 24), ('metáfora', 8), ('divertiríamos', 8), ('disfrutabas', 8), ('quisieran', 16), ('quisieras', 56), ('habíais', 16), ('echarnos', 8), ('persuadirle', 16), ('comprendía', 16), ('perspectiva', 32), ('individual', 32), ('anotar', 32), ('suspendas', 8), ('recurrieron', 8), ('esquiaba', 16), ('dándome', 16), ('arrugas', 32), ('fregué', 8), ('permitía', 24), ('zao', 8), ('bali', 24), ('violaré', 8), ('mirara', 16), ('colapsó', 40), ('duramente', 32), ('pudiese', 40), ('preguntara', 8), ('administrar', 8), ('explotación', 16), ('ganadera', 8), ('disculparas', 8), ('cargaré', 8), ('ratico', 8), ('recogerte', 8), ('repartiré', 8), ('realizar', 72), ('ensayos', 32), ('dejarle', 56), ('dejaros', 16), ('dejarlos', 32), ('dejarla', 8), ('sintética', 8), ('habituando', 8), ('saxo', 48), ('abriré', 8), ('ahorrarte', 16), ('hartísimo', 8), ('remediar', 8), ('confiaría', 8), ('vuelven', 48), ('abecedario', 32), ('invítalo', 8), ('recomiendes', 8), ('región', 96), ('despedirse', 56), ('pedirme', 72), ('quedársele', 8), ('fase', 32), ('nevada', 72), ('escandaloso', 8), ('graduar', 16), ('espoleta', 8), ('imborrable', 8), ('virtudes', 8), ('¡quédense', 8), ('kenia', 16), ('independencia', 16), ('1963', 8), ('diríjanos', 8), ('explicártelo', 8), ('diagrama', 16), ('explicárselo', 32), ('presentación', 48), ('contarles', 8), ('enhebre', 16), ('enhebrar', 8), ('cuiden', 8), ('comprémosle', 8), ('consideremos', 16), ('alterno', 8), ('centrémonos', 8), ('reacciona', 8), ('profesionalidad', 8), ('licor', 16), ('pizarrón', 16), ('¡mirad', 8), ('garzas', 8), ('pantano', 8), ('campaña', 112), ('escritas', 24), ('carecían', 8), ('concurrió', 8), ('gucci', 8), ('frustrada', 8), ('recordarte', 72), ('may', 8), ('conducen', 32), ('comieran', 24), ('muamar', 8), ('alqadaafi', 8), ('entretenimiento', 8), ('caca', 16), ('retozar', 8), ('decaer', 8), ('malgasta', 8), ('pescador', 8), ('barriendo', 8), ('lingüística', 16), ('posesiva', 8), ('¡santo', 8), ('templos', 16), ('100000', 16), ('dirigidos', 8), ('preparará', 8), ('atrasa', 16), ('nanako', 8), ('pueblos', 24), ('luchan', 16), ('vacilaciones', 8), ('titubees', 8), ('arriesga', 48), ('beneficio', 40), ('millones', 256), ('despegaron', 8), ('destape', 8), ('¡auch', 8), ('traedme', 8), ('comprame', 8), ('shakira', 8), ('perdónenme', 8), ('salude', 8), ('porfa', 8), ('213', 8), ('coloca', 16), ('reparaciones', 16), ('costarían', 8), ('arabia', 16), ('saudita', 16), ('intraescolar', 8), ('marinas', 24), ('longevas', 8), ('usara', 8), ('gustarle', 32), ('temblaban', 32), ('parió', 8), ('envidiable', 8), ('tostador', 16), ('tostadora', 16), ('alero', 16), ('limpiaran', 8), ('atropellada', 32), ('valentín', 56), ('envolvió', 8), ('exitosa', 24), ('extraigan', 8), ('tristemente', 8), ('perjudicial', 48), ('paneles', 8), ('solares', 8), ('infinitos', 8), ('melocotones', 16), ('botar', 16), ('llévale', 8), ('tarifas', 8), ('taxis', 56), ('subirán', 16), ('compitieron', 32), ('erigir', 8), ('seudónimo', 8), ('estrellita', 8), ('describe', 8), ('constructiva', 16), ('deletreas', 8), ('rotura', 8), ('rechazaron', 32), ('ancas', 8), ('limita', 40), ('virgen', 16), ('apéndice', 8), ('cm', 8), ('concurrida', 24), ('contaminada', 16), ('26', 24), ('rebotó', 8), ('deshecha', 8), ('volaban', 8), ('bandada', 8), ('fondeó', 8), ('equipado', 24), ('demolido', 16), ('arbustos', 8), ('revelados', 8), ('mordidota', 8), ('rieguen', 8), ('chuparse', 16), ('rechupete', 8), ('lijar', 8), ('zafarrancho', 8), ('inferior', 24), ('oliendo', 8), ('endurece', 8), ('arcilla', 8), ('aullidos', 8), ('despellejando', 8), ('implicaciones', 8), ('aterradoras', 8), ('condenó', 24), ('multó', 8), ('arada', 8), ('encienden', 8), ('repartido', 24), ('intranquilos', 8), ('desolador', 8), ('pensión', 8), ('calmarse', 8), ('pospuesta', 16), ('pañales', 16), ('serpentea', 8), ('colgaron', 8), ('aproximaba', 16), ('comparó', 24), ('cóctel', 16), ('gambas', 8), ('perspectivas', 16), ('halagüeñas', 8), ('satisfactorio', 32), ('aparecía', 16), ('desprovisto', 8), ('tiroteo', 8), ('fregadero', 64), ('loza', 8), ('numerosos', 16), ('pavimentada', 8), ('tenor', 8), ('sindicato', 24), ('salarial', 8), ('fluye', 32), ('culturas', 32), ('islas', 64), ('expectativa', 8), ('recupere', 48), ('apuremos', 8), ('tempestad', 8), ('freezer', 8), ('avergonzarse', 48), ('entonan', 8), ('resistentes', 8), ('rayones', 8), ('involuntario', 16), ('desafiaron', 8), ('continúan', 24), ('confundieron', 16), ('prestan', 16), ('herencia', 16), ('¡dicen', 8), ('opuestas', 8), ('criticando', 8), ('recibidos', 16), ('releer', 8), ('reproductores', 8), ('administrado', 16), ('municipio', 8), ('acomoda', 8), ('ajustada', 16), ('pese', 48), ('tequila', 32), ('¡tres', 8), ('indecisos', 8), ('congenian', 8), ('echan', 32), ('exhaustos', 8), ('comportase', 8), ('doblar', 48), ('aconsejara', 16), ('desayunó', 40), ('sobrenatural', 16), ('comiera', 56), ('escondite', 40), ('gallo', 24), ('amenazante', 8), ('extravagante', 8), ('anunciado', 40), ('hartas', 16), ('paralizante', 8), ('autoridades', 24), ('biromes', 16), ('tocador', 8), ('retratista', 8), ('metiendo', 32), ('paparazzi', 8), ('jugueteando', 8), ('asado', 40), ('interrogación', 24), ('postergó', 16), ('curita', 8), ('pulgas', 32), ('antipulgas', 8), ('ofrecimiento', 8), ('abducido', 80), ('mantenerse', 48), ('escepticismo', 8), ('buscase', 8), ('detallada', 48), ('planee', 8), ('pepperoni', 8), ('previo', 56), ('extraordinariamente', 16), ('respondiendo', 40), ('semáforos', 16), ('bufé', 8), ('diego', 16), ('pasajes', 8), ('utilizado', 40), ('hacha', 24), ('gordos', 16), ('angustiamos', 8), ('fiado', 8), ('situamos', 8), ('empujamos', 8), ('actividades', 48), ('repetimos', 8), ('vicios', 8), ('divulgue', 8), ('protestamos', 16), ('decimos', 16), ('tránsito', 200), ('alojamos', 8), ('residimos', 8), ('enamoraremos', 8), ('desunir', 8), ('alambres', 8), ('consideradas', 24), ('sujetarla', 8), ('tomarla', 8), ('oficiales', 24), ('halloween', 56), ('desearías', 24), ('étnica', 8), ('invernal', 8), ('volvernos', 16), ('abristeis', 8), ('convierte', 16), ('votaste', 8), ('podrán', 32), ('cosecharás', 8), ('publicará', 16), ('cáscaras', 8), ('preferirías', 24), ('baches', 16), ('compensará', 8), ('cínica', 16), ('viniéramos', 8), ('admites', 8), ('sufrimiento', 16), ('¿abrirías', 8), ('señorita', 32), ('atenderme', 8), ('mostrarías', 8), ('desolada', 8), ('prepare', 16), ('mumbai', 16), ('¿prefiere', 24), ('sacarme', 32), ('repites', 8), ('afirmando', 8), ('fundar', 16), ('parecías', 16), ('permitirte', 8), ('recortarte', 8), ('pasás', 24), ('¡sí', 8), ('aprenderá', 24), ('aprenderéis', 8), ('dispararan', 8), ('redacción', 80), ('apodo', 8), ('«¿cómo', 8), ('estás»', 8), ('quejar»', 16), ('«¿qué', 16), ('tal»', 8), ('tocará', 16), ('imitar', 40), ('fenómeno', 8), ('pétalos', 24), ('delicados', 16), ('surgen', 24), ('achille', 16), ('1908', 16), ('adaptación', 16), ('supervivencia', 24), ('adaptarse', 72), ('gases', 24), ('manzanos', 48), ('talados', 8), ('talaron', 8), ('f14', 8), ('anarquía', 16), ('sirvieron', 8), ('insatisfecho', 16), ('fagot', 24), ('desvanece', 24), ('gema', 8), ('auckland', 8), ('inflama', 8), ('hibernan', 8), ('belgrado', 16), ('serbia', 48), ('juntan', 16), ('calaña', 8), ('manada', 24), ('apaña', 16), ('pajarillos', 8), ('bradley', 8), ('literas', 8), ('enmarcarme', 8), ('destapar', 8), ('distinguirlo', 16), ('estaño', 40), ('descuidada', 8), ('provoca', 24), ('negligencia', 24), ('champagne', 8), ('incómodas', 16), ('incomodo', 40), ('cobre', 8), ('envolverlos', 16), ('atravesar', 64), ('cháchara', 8), ('integral', 16), ('¿entraste', 8), ('¿diste', 8), ('cairo', 8), ('alejandría', 8), ('¿visitaste', 8), ('atarte', 24), ('¿cenas', 16), ('audiolibros', 16), ('suscrito', 16), ('deshaga', 16), ('escondida', 24), ('canse', 8), ('equivocarte', 32), ('engañe', 16), ('semejantes', 8), ('nimiedades', 8), ('mortifiques', 8), ('pondrás', 40), ('finja', 8), ('déjala', 8), ('uséis', 8), ('diploma', 24), ('einstein', 32), ('calumnias', 24), ('fortran', 8), ('minando', 8), ('enfócate', 8), ('hazla', 8), ('opulencia', 8), ('otórgale', 8), ('déme', 32), ('equivalencia', 8), ('ensanchan', 8), ('horizontes', 8), ('greta', 8), ('sueca', 24), ('concreto', 8), ('pisado', 24), ('adaptó', 32), ('disimula', 16), ('intencionadamente', 16), ('montaje', 16), ('arrancó', 64), ('pesó', 8), ('pasaba', 160), ('hablaran', 8), ('triple', 56), ('finezas', 8), ('rasgos', 8), ('distintivos', 8), ('doscientas', 40), ('trayectoria', 8), ('susceptible', 8), ('posiciona', 8), ('violonchelo', 16), ('asomó', 16), ('lamentaba', 32), ('caló', 24), ('yale', 16), ('cronometró', 8), ('olimpiadas', 40), ('atraer', 32), ('utilizó', 16), ('liberemos', 8), ('rieran', 8), ('dispararas', 8), ('complot', 16), ('adoptiva', 8), ('notarme', 8), ('aconsejará', 8), ('lamentará', 16), ('gondolero', 8), ('arrojando', 8), ('abocado', 8), ('resaltar', 8), ('reunirse', 32), ('experiencias', 40), ('desdichadas', 8), ('asfixian', 8), ('crecimiento', 72), ('frenan', 8), ('hazaña', 16), ('agresivas', 8), ('impresionados', 16), ('habiendo', 40), ('accediste', 8), ('enteraste', 16), ('dominadas', 8), ('revisas', 8), ('dirigí', 16), ('regresaría', 48), ('flojera', 8), ('chabacanas', 8), ('contestado', 16), ('comprase', 40), ('smartphone', 16), ('televisores', 24), ('departamental', 32), ('almacenes', 16), ('use', 64), ('explico', 24), ('juraría', 16), ('afeitándome', 8), ('vinieses', 8), ('resultaba', 8), ('frágil', 8), ('nadaran', 8), ('importase', 8), ('disfracé', 8), ('existan', 16), ('ejercito', 32), ('tramando', 8), ('joyería', 48), ('costosa', 48), ('accedido', 8), ('debas', 32), ('sorbeteos', 8), ('avivar', 8), ('helé', 8), ('inviten', 24), ('peluquero', 40), ('dependerá', 8), ('recuperaría', 16), ('historial', 24), ('hepáticos', 8), ('asisto', 8), ('desarmar', 24), ('desmantelar', 8), ('reformé', 8), ('tatarear', 8), ('trecientos', 16), ('preguntarías', 16), ('decepciono', 16), ('manías', 8), ('planeando', 208), ('libreta', 16), ('batallitas', 8), ('anecdotas', 8), ('repararé', 16), ('dárselo', 32), ('cascada', 16), ('basándome', 8), ('extendí', 8), ('desplegué', 8), ('estudie', 40), ('divertidos', 24), ('apuramos', 8), ('marcaste', 8), ('opino', 8), ('callaría', 8), ('ocuparía', 8), ('grasienta', 8), ('amenacé', 8), ('mantuviera', 16), ('valoro', 24), ('rumania', 8), ('alejarme', 8), ('enfrentando', 32), ('recomendaron', 16), ('visitara', 32), ('llagara', 8), ('llagarais', 8), ('llagaran', 8), ('llagaras', 8), ('abolir', 16), ('terminaré', 56), ('sasayama', 16), ('estuvierais', 16), ('dejases', 8), ('dudar', 32), ('fumaras', 16), ('aburrir', 16), ('sentirá', 8), ('casaré', 16), ('contraeré', 8), ('tendrán', 40), ('honorable', 16), ('vistas', 16), ('testificaría', 8), ('necesiten', 8), ('llamarías', 8), ('pidieras', 24), ('acompañara', 24), ('cerillas', 16), ('reportaré', 8), ('clarinete', 24), ('serlo', 64), ('creías', 16), ('comparan', 16), ('económicas', 24), ('tragos', 32), ('pertenecer', 24), ('entendiese', 8), ('vencerlos', 8), ('úneteles', 16), ('ganarles', 8), ('escucharas', 8), ('110', 16), ('avise', 24), ('eufemismo', 8), ('exposición', 48), ('albergue', 8), ('¿trabaja', 8), ('golden', 16), ('gate', 16), ('probamos', 8), ('caímos', 8), ('ignorados', 16), ('peleado', 8), ('quijote', 8), ('culito', 8), ('huso', 8), ('holandés', 40), ('kyoto', 56), ('presentarle', 16), ('decoremos', 8), ('réescribamos', 8), ('resolvamos', 8), ('midamos', 8), ('elijan', 8), ('comparado', 96), ('abnegada', 8), ('marie', 24), ('ratera', 8), ('liso', 8), ('acompañaros', 8), ('consigáis', 8), ('deseáis', 8), ('má', 8), ('¡apúrate', 8), ('montgomery', 24), ('letreros', 16), ('escritos', 48), ('madres', 32), ('apreciadas', 8), ('bastó', 8), ('noventas', 8), ('podara', 8), ('anticuados', 8), ('máire', 8), ('desatendida', 16), ('mundanales', 8), ('cocidas', 8), ('pospuesto', 24), ('pintores', 24), ('satisfecha', 16), ('phoenix', 8), ('arizona', 8), ('apoyada', 8), ('go', 8), ('ajuste', 8), ('acomode', 16), ('explícame', 16), ('grand', 8), ('gírate', 8), ('polk', 16), ('cuadernos', 24), ('librero', 8), ('pronostica', 8), ('circulaban', 8), ('prioridad', 32), ('scott', 8), ('byron', 8), ('matrimonial', 8), ('mirarle', 16), ('recortó', 64), ('jugara', 24), ('cogieran', 8), ('autorizó', 16), ('acceder', 32), ('registros', 8), ('empleada', 24), ('blancanieves', 16), ('portando', 16), ('constantemente', 40), ('separada', 8), ('relacionada', 8), ('pinos', 8), ('cautivó', 16), ('contratada', 8), ('rígidos', 8), ('alérgicas', 8), ('vapor', 40), ('tallin', 8), ('estonia', 24), ('presenten', 8), ('prestarnos', 16), ('territorio', 40), ('máscara', 64), ('favorecido', 16), ('alicates', 8), ('desemboca', 40), ('pacífico', 88), ('discúlpate', 8), ('breeds', 8), ('emitió', 16), ('sonoro', 8), ('debido', 392), ('brotó', 8), ('aferra', 8), ('chapoteaba', 8), ('acampada', 24), ('comportando', 16), ('desconocía', 24), ('clínica', 24), ('1439', 8), ('reúne', 8), ('encarnizada', 8), ('compilados', 8), ('lecho', 8), ('examinarla', 8), ('pintarán', 8), ('gritaba', 16), ('internacional', 104), ('dinamita', 24), ('estruendo', 24), ('bosques', 32), ('buzo', 8), ('reinaba', 8), ('cachorros', 8), ('maś', 8), ('apagan', 16), ('perpetua', 8), ('refugió', 16), ('vaticinó', 8), ('diálogos', 8), ('escurrió', 16), ('encerrará', 8), ('meterá', 16), ('bajado', 8), ('disminuyendo', 24), ('impedido', 8), ('refugiados', 64), ('atraviesa', 40), ('esculturas', 16), ('colisionó', 8), ('iceberg', 32), ('desconocida', 48), ('abstracta', 8), ('arrestadas', 16), ('cadenas', 8), ('prolongó', 16), ('perduró', 16), ('grafitis', 8), ('anhela', 8), ('anuncios', 40), ('publicitarios', 8), ('urgencia', 40), ('mulas', 8), ('asesinatos', 32), ('base', 72), ('fatigas', 16), ('ingresaron', 16), ('acomodado', 8), ('repararon', 24), ('malamente', 8), ('pésimamente', 8), ('trajeron', 48), ('persiguieron', 16), ('sostuvieron', 8), ('jugaron', 40), ('regalan', 8), ('obsequios', 24), ('colocaron', 8), ('efímera', 8), ('planearon', 8), ('vergonzosamente', 8), ('camilla', 16), ('calentaron', 8), ('vestían', 8), ('necesitaban', 24), ('asoleándose', 8), ('solera', 8), ('solano', 8), ('hipotermia', 8), ('embalaje', 8), ('contactarla', 8), ('poderla', 8), ('portar', 40), ('¡esta', 8), ('cimientos', 24), ('duración', 16), ('secundarios', 24), ('curará', 16), ('50000', 8), ('une', 16), ('armados', 8), ('adecuados', 8), ('desear', 32), ('estudiaremos', 16), ('charles', 32), ('dickens', 16), ('ºc', 8), ('ladrona', 8), ('irrumpieron', 8), ('bombardeo', 8), ('suizo', 8), ('choza', 16), ('aplastó', 8), ('reclutarse', 8), ('especificó', 24), ('extrañas', 48), ('clavado', 24), ('microondas', 56), ('amarrar', 8), ('criticado', 16), ('decepcionar', 80), ('mari', 16), ('traviesa', 8), ('maliciosa', 16), ('cansó', 56), ('acostumbró', 32), ('rechina', 8), ('abrecartas', 24), ('hematoma', 8), ('umbral', 16), ('discernir', 8), ('lejano', 32), ('mordisqueando', 8), ('palito', 8), ('secretamente', 48), ('ocupadísimo', 8), ('pilotar', 24), ('helicópteros', 40), ('inventa', 8), ('cojeando', 8), ('titulares', 8), ('continuo', 16), ('ahogándose', 16), ('taburetes', 24), ('tristísimo', 8), ('exteriores', 48), ('pauta', 16), ('leño', 8), ('subía', 8), ('escalones', 16), ('nerviosismo', 8), ('pensaras', 16), ('asombró', 24), ('abdomen', 8), ('abrumado', 16), ('pintará', 8), ('atrasada', 8), ('babeó', 8), ('goza', 8), ('anunciaron', 32), ('inesperados', 24), ('despertame', 8), ('actividad', 48), ('pasiva', 8), ('entretuvimos', 8), ('indefinidamente', 16), ('atropello', 16), ('estimado', 16), ('alimentamos', 8), ('deshicimos', 8), ('contemplamos', 16), ('soleados', 16), ('minúsculo', 8), ('quejarnos', 8), ('barniz', 8), ('hoguera', 8), ('pastando', 8), ('pradera', 8), ('conmovidos', 8), ('agotará', 24), ('quedaremos', 24), ('escasear', 16), ('encargaremos', 8), ('despegaremos', 16), ('unieras', 8), ('trasnochar', 8), ('agradecidos', 32), ('¿ambos', 8), ('atuendo', 8), ('tenida', 8), ('superficie', 80), ('abreviatura', 24), ('tratamientos', 16), ('recibiré', 8), ('ejercicios', 48), ('desayunarás', 8), ('enterara', 8), ('balance', 8), ('lucecita', 8), ('intermitente', 8), ('acusa', 8), ('beatles', 24), ('reconfortante', 8), ('salvapantallas', 8), ('cremado', 8), ('fueres', 16), ('vieres', 16), ('romanos', 24), ('cocinaste', 8), ('bailaste', 8), ('ayunaste', 8), ('trotaste', 8), ('rezaste', 8), ('publica', 32), ('quitaste', 56), ('indicada', 8), ('villano', 8), ('pintaste', 24), ('avivas', 8), ('engrapadora', 8), ('muestras', 24), ('molestaría', 32), ('moviera', 8), ('soltarías', 8), ('porteña', 8), ('terraza', 8), ('imaginarte', 16), ('peinarte', 16), ('ingresaras', 8), ('habrás', 32), ('creativa', 24), ('acostarás', 8), ('literalmente', 8), ('mejorarás', 8), ('rebata', 8), ('humanidad', 104), ('caducado', 8), ('¿incluso', 8), ('«¡eres', 8), ('asesino»', 8), ('«¡no', 16), ('soy»', 8), ('acompañaba', 8), ('bloqueaba', 8), ('espejismo', 16), ('poderosa', 16), ('biombo', 8), ('dividía', 8), ('enjambre', 16), ('zancudos', 8), ('aquiles', 8), ('enfoca', 8), ('alexander', 16), ('hamilton', 8), ('álgebra', 16), ('inmigrantes', 64), ('comunidad', 40), ('organizada', 32), ('¿quedan', 24), ('sugiriendo', 8), ('ciempiés', 8), ('bacterias', 40), ('microorganismos', 8), ('bangkok', 16), ('críquet', 32), ('clava', 8), ('alfiler', 16), ('agachen', 8), ('berna', 8), ('bruselas', 16), ('búfalo', 8), ('entretener', 16), ('margarina', 48), ('traducirme', 16), ('contienen', 16), ('prefieras', 8), ('columnas', 8), ('confieren', 8), ('brújula', 64), ('abarrotes', 8), ('barras', 8), ('¿podrían', 16), ('¿disfrutaste', 8), ('rugido', 8), ('cascarrabias', 8), ('limpien', 8), ('circos', 8), ('shows', 16), ('fenómenos', 16), ('japonesas', 24), ('unesco', 8), ('colocó', 24), ('¿planeas', 8), ('traducciones', 16), ('distinga', 8), ('aceptes', 8), ('asteroides', 8), ('dilaten', 8), ('resolución', 24), ('stein', 8), ('atenderá', 8), ('íntimamente', 8), ('relacionado', 32), ('everett', 8), ('confortablemente', 8), ('botanas', 8), ('tímidos', 16), ('george', 24), ('1732', 8), ('regale', 16), ('paquetes', 32), ('padecido', 8), ('reprendió', 8), ('arqueó', 8), ('tirara', 16), ('planificación', 24), ('jactó', 8), ('distanció', 8), ('arrastrándose', 24), ('contradicen', 8), ('ganarse', 48), ('urgentes', 24), ('comunicarme', 24), ('decenas', 8), ('inconveniente', 24), ('manchas', 48), ('insiste', 56), ('interrogar', 16), ('sostenía', 72), ('municiones', 8), ('girasoles', 8), ('«tomémonos', 8), ('descanso»', 8), ('guita', 8), ('entrásemos', 8), ('enfureció', 8), ('tontas', 16), ('atrasar', 24), ('servite', 8), ('recitar', 16), ('proporcionado', 16), ('honshu', 24), ('sendai', 8), ('hollywood', 24), ('añadimos', 16), ('vivías', 16), ('ganabas', 8), ('concentrarte', 32), ('decidís', 8), ('concentraros', 8), ('decide', 16), ('deciden', 24), ('cuencos', 8), ('huerto', 16), ('cobrarás', 8), ('editas', 8), ('lavas', 24), ('responderías', 8), ('moderada', 8), ('hyogo', 16), ('siéndolo', 8), ('volverte', 24), ('tomándome', 8), ('felicito', 24), ('triunfo', 24), ('micro', 16), ('siguente', 16), ('infringido', 8), ('teorías', 24), ('fastidiar', 8), ('miro', 56), ('thai', 24), ('firmara', 24), ('coleccionabas', 8), ('mozo', 16), ('suplemento', 8), ('segundas', 8), ('15', 48), ('atrevido', 8), ('segar', 8), ('plancho', 8), ('lastimara', 8), ('sencillez', 16), ('probármela', 8), ('apaño', 8), ('estadía', 32), ('expresado', 16), ('clavar', 8), ('tablas', 16), ('persuadí', 32), ('manzano', 40), ('alcé', 8), ('apple', 24), ('marchemos', 8), ('revelé', 8), ('ví', 8), ('comestibles', 56), ('propongo', 16), ('jubilarse', 32), ('jubile', 16), ('prepararía', 8), ('alegraría', 16), ('alegrarías', 8), ('comprendería', 16), ('escucharle', 8), ('sembrar', 8), ('alojarme', 8), ('dolieron', 8), ('ciclismo', 24), ('molestaré', 8), ('permitirán', 40), ('cuestionaría', 16), ('disgustaría', 8), ('paradero', 48), ('sostendré', 16), ('cerámica', 8), ('oriental', 24), ('amarte', 24), ('posea', 32), ('antaño', 8), ('clasificando', 8), ('gestionar', 16), ('sirvo', 8), ('representar', 8), ('divertirías', 8), ('contéis', 8), ('discutí', 32), ('buscándolo', 16), ('horribles', 16), ('planteado', 16), ('volaría', 24), ('imagínate', 8), ('importación', 16), ('exportación', 24), ('vegetal', 8), ('trasladas', 8), ('¿cabe', 8), ('comunique', 8), ('retiré', 16), ('alaska', 24), ('regañaron', 8), ('consecutivos', 24), ('gratificante', 8), ('quemarropa', 16), ('juntó', 24), ('laika', 8), ('orbitó', 8), ('canillas', 8), ('agujereadas', 8), ('desperdician', 16), ('grifos', 8), ('agujereados', 8), ('préstale', 8), ('llevarte', 56), ('charle', 8), ('saquémonos', 8), ('reunirnos', 24), ('recojamos', 8), ('simulemos', 8), ('comparada', 56), ('¡míreme', 8), ('magda', 8), ('intolerancia', 8), ('obreros', 16), ('subiera', 8), ('revisó', 56), ('misteriosa', 56), ('sugerente', 8), ('artes', 8), ('marciales', 8), ('plumas', 40), ('desbordaba', 8), ('conexión', 48), ('preparadas', 16), ('floral', 8), ('\\u200b\\u200bfue', 8), ('caben', 32), ('visiones', 8), ('nacerá', 8), ('galaxia', 8), ('personales', 24), ('tráiganos', 8), ('mercancía', 24), ('cómetelo', 8), ('muévanse', 8), ('devuelve', 24), ('inversa', 8), ('vivirás', 16), ('dependen', 40), ('¡prométame', 8), ('termómetro', 24), ('axila', 8), ('colador', 8), ('evaluó', 8), ('quitarle', 16), ('aceptase', 8), ('hojeó', 16), ('recelo', 16), ('incertidumbre', 24), ('satisfizo', 16), ('andaba', 136), ('semblante', 8), ('considerada', 56), ('maquilla', 8), ('traspasó', 16), ('poniéndose', 8), ('inscribió', 8), ('anotó', 16), ('crónica', 8), ('atestiguó', 8), ('reescribiera', 8), ('aprovechó', 32), ('desesperarse', 8), ('jardinería', 16), ('acompañará', 24), ('esperarla', 16), ('individuos', 8), ('coleccionan', 8), ('cuestionaron', 16), ('dejarlas', 8), ('chanzas', 8), ('agarrá', 8), ('sacá', 16), ('caían', 8), ('solucionaste', 8), ('destruyen', 8), ('causada', 40), ('bacteria', 8), ('distinción', 16), ('merecida', 8), ('tambor', 8), ('¡deténganlo', 16), ('¡aquel', 8), ('¡paralo', 8), ('theodore', 8), ('lollipop', 8), ('ahorrará', 8), ('cuyo', 184), ('colonizadores', 16), ('unión', 24), ('bravura', 8), ('anunciador', 8), ('avanzado', 24), ('incendiario', 24), ('apresado', 16), ('apresaron', 16), ('pirómano', 24), ('auditorio', 16), ('710', 8), ('16', 32), ('canarios', 16), ('comportarse', 40), ('admitido', 32), ('reducido', 24), ('escombros', 16), ('enredó', 24), ('hilos', 8), ('desconoce', 8), ('quedarían', 8), ('cortadura', 8), ('colocado', 8), ('acercamos', 8), ('marcador', 16), ('comodidades', 16), ('rodeada', 24), ('bestias', 8), ('limpiará', 8), ('demonio', 16), ('difunden', 8), ('viejito', 8), ('retrato', 40), ('aterriza', 8), ('diámetro', 16), ('desobedecieron', 8), ('incierto', 8), ('alla', 24), ('triturados', 8), ('semilla', 8), ('germinar', 8), ('cádiz', 8), ('dificultaba', 8), ('aparecer', 40), ('submarinos', 8), ('pique', 16), ('rajadas', 8), ('completado', 16), ('compuesta', 24), ('cráteres', 8), ('incluyéndolo', 8), ('campos', 40), ('deshonra', 8), ('sociables', 8), ('buscaron', 16), ('trataron', 48), ('decepcionados', 16), ('generosos', 8), ('asilo', 16), ('recogían', 8), ('conchas', 16), ('canjear', 16), ('sufrieron', 24), ('sombras', 8), ('liderar', 8), ('ferretería', 16), ('averiguarán', 8), ('inspeccionarán', 8), ('blanda', 16), ('40000', 24), ('viudas', 8), ('confeccioné', 8), ('polémica', 8), ('exponer', 48), ('reliquia', 8), ('autóctona', 8), ('reciclar', 8), ('transcurrido', 8), ('divino', 8), ('aprenderemos', 8), ('quejándose', 32), ('solteros', 16), ('refregara', 8), ('retrete', 16), ('esquía', 8), ('poni', 8), ('alarmado', 8), ('comunicarse', 40), ('saliéramos', 24), ('apoyarse', 8), ('fiarse', 16), ('unirse', 48), ('costaría', 56), ('apostando', 8), ('libró', 16), ('cedido', 8), ('transladar', 8), ('llenando', 8), ('carmina', 8), ('burana', 8), ('encerrado', 48), ('olió', 24), ('alcanzaría', 8), ('pandilla', 24), ('patota', 8), ('fierro', 8), ('fino', 40), ('afinado', 16), ('presumida', 16), ('aceptara', 48), ('electricista', 8), ('shopping', 40), ('kamikaze', 16), ('escandalizado', 8), ('prestará', 24), ('pesaba', 16), ('proteínas', 24), ('deslizamiento', 8), ('subrayadas', 8), ('doscientos', 64), ('ultravioleta', 8), ('dañinos', 16), ('desgraciadamente', 40), ('celcius', 8), ('hervor', 8), ('evapora', 8), ('calienta', 8), ('acostumbramos', 8), ('nuclear', 72), ('pablo', 32), ('engañándonos', 8), ('sobrestimar', 8), ('prever', 32), ('negociamos', 8), ('escogimos', 16), ('unirnos', 16), ('olvidarnos', 16), ('dirigimos', 8), ('importando', 8), ('investigar', 64), ('medimos', 8), ('libertades', 8), ('individuales', 8), ('cojones', 8), ('acostamos', 8), ('panamá', 32), ('horrenda', 16), ('comprendíamos', 8), ('sorprendimos', 24), ('pernoctar', 8), ('comenzaremos', 24), ('acusando', 16), ('niñera', 48), ('importaciones', 16), ('traes', 24), ('oculto', 24), ('turbante', 8), ('rampa', 8), ('planeáis', 16), ('pillamos', 24), ('acostumbráis', 8), ('vestimenta', 16), ('meto', 8), ('ingeriste', 8), ('eua', 32), ('subscrito', 8), ('acostarte', 64), ('almorzarás', 8), ('insustancial', 8), ('especializado', 16), ('constelación', 16), ('reíste', 8), ('recargar', 8), ('cibercafé', 16), ('cabina', 24), ('luminosa', 16), ('dirigir', 16), ('hiphop', 8), ('encabezas', 8), ('pasándome', 8), ('bozal', 8), ('acuestas', 8), ('¿llegaremos', 16), ('avisás', 8), ('avisarás', 8), ('william', 8), ('mckinley', 8), ('atacar', 40), ('faltaron', 24), ('coserías', 8), ('cantarnos', 8), ('cantarías', 8), ('¿participarías', 8), ('recuperación', 8), ('probada', 16), ('afiliaste', 8), ('oportuno', 32), ('lamentarte', 8), ('cauto', 16), ('estándar', 8), ('¡podrías', 8), ('romperlo', 16), ('vinieran', 16), ('vinierais', 8), ('perdonaste', 8), ('contestación', 16), ('anticuadas', 24), ('quisiéramos', 8), ('cátedra', 8), ('caminata', 40), ('precisión', 8), ('símbolo', 72), ('estatus', 32), ('malestar', 8), ('¿dices', 24), ('burlarte', 8), ('australianas', 8), ('tosieron', 8), ('vietnam', 32), ('fallecieron', 24), ('agresivos', 8), ('desiertos', 8), ('jorobas', 8), ('recomendarme', 16), ('enseñas', 32), ('católicos', 16), ('natalidad', 24), ('carlomagno', 8), ('coronado', 8), ('exportador', 8), ('cenicienta', 24), ('hermanastras', 16), ('malvadas', 16), ('1492', 24), ('cristóbal', 24), ('domínese', 8), ('apartarte', 8), ('soja', 8), ('¡papá', 8), ('democracia', 56), ('¿dijo', 16), ('¿cogiste', 8), ('¿desayunaste', 8), ('¿pusiste', 8), ('¿presentó', 8), ('¿trataste', 16), ('reiniciar', 8), ('¿probaste', 8), ('cerraras', 8), ('psiquiatras', 8), ('hallas', 8), ('irrazonable', 8), ('baraje', 8), ('contármelo', 16), ('acondicionador', 24), ('comprometa', 8), ('desaproveches', 8), ('dañino', 8), ('comé', 8), ('ilusionados', 8), ('reposó', 16), ('posó', 16), ('refuerza', 8), ('tradiciones', 48), ('preservadas', 8), ('graham', 24), ('greene', 16), ('¿terminaron', 8), ('confunde', 16), ('atendió', 16), ('tentó', 8), ('interesarse', 8), ('destruyendo', 8), ('dictó', 16), ('jubilado', 8), ('trazó', 8), ('obstáculos', 16), ('imprevistos', 8), ('intercambió', 8), ('coquetea', 8), ('enronqueció', 8), ('incorporarse', 8), ('batallón', 16), ('maduro', 8), ('operaron', 8), ('chillona', 8), ('afecto', 24), ('nuca', 16), ('cogote', 8), ('corpulento', 8), ('inaccesible', 8), ('padeciendo', 16), ('inventando', 16), ('quitará', 24), ('ojal', 8), ('asegurara', 8), ('despojado', 16), ('sancionaron', 16), ('artística', 24), ('arrebató', 16), ('jeannot', 8), ('argumentación', 16), ('delataba', 8), ('lunares', 16), ('saludada', 8), ('holgazanería', 8), ('sospechan', 8), ('califica', 8), ('humillación', 8), ('energético', 8), ('celebrado', 16), ('estropeará', 8), ('good', 8), ('bye', 8), ('tsubasa', 8), ('flete', 8), ('analizarías', 8), ('nacionales', 56), ('cogerás', 8), ('himno', 24), ('hospedo', 8), ('haríamos', 64), ('25000', 8), ('35000', 8), ('enterré', 8), ('asegurar', 48), ('confirmarlo', 8), ('diferenciar', 56), ('reviso', 8), ('volteé', 8), ('militar', 48), ('diálogo', 8), ('anteayer', 56), ('presentaras', 8), ('drogadicto', 8), ('pamplina', 8), ('colada', 16), ('cuides', 8), ('desilusione', 8), ('gastarme', 24), ('permitiera', 8), ('matriculé', 8), ('asusté', 8), ('drenaje', 8), ('cuáles', 48), ('aconseje', 16), ('cupones', 16), ('plantar', 40), ('seros', 8), ('fructíferos', 8), ('planeabas', 8), ('anhelé', 8), ('ocuparlo', 16), ('sufro', 16), ('síndrome', 8), ('inquietas', 8), ('solucionará', 16), ('improvisado', 8), ('reconocerías', 8), ('decepcionaría', 8), ('calmantes', 8), ('continué', 16), ('arranqué', 8), ('dedicarle', 8), ('vayás', 8), ('hablaros', 8), ('evidentes', 8), ('obvias', 8), ('físicamente', 56), ('expediente', 8), ('importarme', 24), ('invitarte', 32), ('detallases', 8), ('costes', 8), ('echaras', 24), ('acostumbraré', 8), ('miso', 16), ('natto', 24), ('interna', 8), ('aburro', 8), ('alistándome', 8), ('dispongo', 24), ('desmentido', 8), ('atareado', 8), ('¡perdón', 8), ('disfrutaría', 16), ('urbana', 24), ('atolondrada', 8), ('casinos', 8), ('alcanzase', 8), ('aprendería', 24), ('corrígelos', 8), ('entenderemos', 8), ('venus', 8), ('florería', 8), ('adaptarnos', 16), ('rumorea', 32), ('cocinarlo', 8), ('navío', 8), ('encendimos', 8), ('llevaría', 72), ('viniésemos', 8), ('jacob', 8), ('coxey', 8), ('densidad', 8), ('kabul', 8), ('afganistán', 16), ('kimchi', 8), ('tradicional', 24), ('inventados', 8), ('conversémoslo', 8), ('volvámonos', 8), ('arrepentir', 16), ('saquemos', 16), ('precipitadas', 8), ('¿hacemos', 8), ('acabemos', 16), ('entendernos', 24), ('compararse', 16), ('lógicamente', 8), ('opuestos', 24), ('bombas', 48), ('maquillarse', 8), ('regado', 16), ('pintarse', 8), ('güero', 8), ('gotas', 32), ('aliviarse', 8), ('enterrada', 16), ('proteína', 8), ('procesa', 8), ('asfixiado', 8), ('peluda', 8), ('aspiración', 8), ('kylie', 8), ('minogue', 8), ('comparados', 40), ('padrino', 8), ('concertado', 8), ('recogieron', 8), ('prescindible', 8), ('distintos', 40), ('neumonitis', 8), ('apoyaron', 16), ('desventaja', 8), ('votantes', 16), ('escogieron', 24), ('construcciones', 16), ('varían', 56), ('inundan', 8), ('bombardeada', 16), ('pásenme', 8), ('pasadme', 8), ('pele', 8), ('gajo', 8), ('llenen', 16), ('llenad', 16), ('fastidiarme', 8), ('federal', 16), ('express', 16), ('acordonó', 16), ('mete', 56), ('22', 32), ('savlon', 8), ('hidratante', 8), ('robarle', 8), ('asesora', 8), ('técnicos', 16), ('milita', 8), ('cepilla', 16), ('cremó', 16), ('dedicaba', 8), ('soportó', 8), ('egoísmo', 8), ('casándose', 16), ('brindó', 24), ('repulsión', 8), ('desocupada', 32), ('denominan', 8), ('acostumbra', 8), ('auditivos', 8), ('hipotensión', 8), ('comandantes', 8), ('quitado', 8), ('leen', 32), ('conste', 8), ('acta', 8), ('retírese', 8), ('impidiendo', 8), ('steven', 8), ('spielberg', 8), ('pégale', 8), ('estudien', 8), ('aprobarás', 8), ('emana', 8), ('pereza', 16), ('sustituyó', 8), ('endulzante', 8), ('chubasquero', 64), ('llévense', 16), ('llévese', 16), ('llevaos', 16), ('llevad', 16), ('noveno', 8), ('navidades', 24), ('invitarnos', 8), ('casual', 8), ('inconvenientes', 16), ('suponer', 24), ('infundado', 8), ('encargarme', 8), ('séptimo', 24), ('causado', 40), ('muertes', 16), ('hidrógeno', 56), ('grabó', 32), ('salidas', 16), ('controla', 8), ('regazo', 24), ('bicicletas', 24), ('empapados', 8), ('bombardearon', 8), ('reunirá', 8), ('aduanas', 8), ('erró', 8), ('diagnóstico', 8), ('opera', 24), ('dragón', 16), ('criatura', 8), ('imaginaria', 8), ('recesión', 48), ('extremistas', 8), ('agricultor', 16), ('arando', 8), ('marchitas', 8), ('marchitado', 8), ('aplazado', 32), ('maduró', 16), ('titular', 16), ('movía', 8), ('innato', 8), ('establece', 8), ('cortadora', 24), ('conocimientos', 48), ('espulgan', 8), ('reflejaba', 8), ('alfabético', 16), ('lastimosa', 8), ('policia', 24), ('silbato', 32), ('abolido', 16), ('reclusos', 8), ('fugarse', 8), ('lidiaremos', 8), ('marionetas', 8), ('árbitro', 24), ('andaban', 8), ('calentarse', 8), ('vestidas', 8), ('inclinaron', 8), ('nace', 16), ('amputó', 8), ('operó', 8), ('bandos', 8), ('aborrecible', 8), ('activado', 8), ('maleza', 16), ('cubría', 16), ('caderas', 8), ('radiografía', 8), ('150', 48), ('kazakstán', 8), ('libélula', 8), ('honradez', 8), ('tamaños', 8), ('insípidos', 8), ('jueces', 8), ('competentes', 16), ('donaron', 16), ('pretenden', 16), ('guardan', 8), ('escalando', 24), ('instaron', 8), ('abandonadas', 16), ('grupos', 88), ('futurista', 8), ('grabada', 8), ('envejecimiento', 8), ('preferidos', 8), ('involucra', 8), ('políticamente', 8), ('actuaba', 16), ('entrenan', 8), ('hundir', 16), ('bádminton', 8), ('cuidarán', 8), ('cucharada', 40), ('malvaviscos', 8), ('unicornios', 8), ('regalársela', 8), ('hackear', 8), ('alfarería', 8), ('fía', 8), ('decepcionen', 8), ('desanimar', 8), ('rellenó', 8), ('helio', 8), ('emborracha', 16), ('tatuado', 8), ('bullying', 8), ('acosando', 8), ('instaló', 40), ('vigilancia', 16), ('gráfico', 16), ('impulsivo', 8), ('intimida', 16), ('activista', 8), ('diseñando', 8), ('montañismo', 16), ('defraudaría', 8), ('oscureciera', 40), ('quisiese', 8), ('caimán', 16), ('conseguirnos', 16), ('aterrorizaban', 8), ('cogidos', 8), ('sigilosamente', 56), ('generosidad', 8), ('convencerme', 24), ('ventilara', 8), ('relajara', 16), ('centroamérica', 8), ('deberá', 16), ('mostrará', 8), ('pegados', 8), ('torneo', 56), ('abrigos', 8), ('cómodas', 8), ('atribuimos', 8), ('incansable', 8), ('limpiamos', 24), ('gama', 8), ('enfrentamos', 24), ('utilizamos', 16), ('presionado', 24), ('capuccinos', 8), ('rememoramos', 8), ('boxeo', 16), ('1040h', 8), ('11h', 8), ('semanales', 8), ('traspatio', 8), ('transformamos', 8), ('idear', 24), ('remplazar', 8), ('asociamos', 24), ('planeamos', 64), ('colisión', 24), ('olfateamos', 8), ('desconfianza', 8), ('anocheció', 8), ('mantuvimos', 8), ('españolas', 8), ('ansiosos', 40), ('obligados', 48), ('casaremos', 8), ('cenaremos', 16), ('robos', 24), ('tranquilidad', 16), ('encontrarle', 24), ('dimensiones', 16), ('vejestorio', 16), ('presiono', 24), ('dylan', 16), ('navideña', 80), ('labial', 32), ('autoayuda', 16), ('trabalenguas', 16), ('crezca', 40), ('comenzaste', 32), ('empezasteis', 8), ('votarás', 8), ('pensaste', 16), ('quisiste', 24), ('¿caben', 8), ('cumplimentar', 8), ('echarás', 8), ('sirves', 8), ('¿vivirás', 8), ('¿dejarían', 8), ('estarse', 16), ('¿al', 16), ('considerarías', 24), ('consideraría', 32), ('puré', 16), ('¿hervirías', 8), ('complacido', 24), ('complacida', 16), ('complacidos', 16), ('complacidas', 16), ('desempolvar', 8), ('aprendan', 8), ('darlo', 8), ('enojas', 8), ('vergonzosa', 8), ('pálpito', 8), ('borrado', 8), ('fundamento', 8), ('dr', 16), ('«¿a', 16), ('música»', 8), ('«dormiré', 8), ('muerto»', 8), ('calamidad', 8), ('eludida', 8), ('delincuentes', 8), ('domésticos', 8), ('caña', 16), ('meneando', 8), ('vocabulario', 24), ('dieran', 24), ('invenciones', 16), ('callaron', 8), ('revelado', 16), ('pensáis', 8), ('gráficas', 16), ('cepillas', 8), ('¿sugiere', 8), ('comisaría', 24), ('faltaban', 16), ('básicamente', 16), ('engranajes', 8), ('pasarse', 8), ('orígenes', 24), ('copenhague', 8), ('servirme', 24), ('pepinos', 16), ('condominio', 24), ('prestaste', 24), ('tumbarnos', 8), ('prospecto', 8), ('desactivar', 24), ('mudarte', 8), ('electrónicos', 16), ('escampará', 8), ('condenarán', 8), ('espíe', 8), ('ajena', 16), ('enjabonadas', 8), ('fíe', 8), ('supervisados', 8), ('fallaremos', 8), ('tatu', 8), ('sonríen', 24), ('controversial', 8), ('cuales', 40), ('fatales', 8), ('admiten', 8), ('infórmese', 8), ('zonas', 40), ('99', 24), ('codicia', 8), ('buckingham', 16), ('palace', 8), ('dvorak', 8), ('administraba', 8), ('revisión', 24), ('promueve', 8), ('convida', 8), ('admisión', 32), ('hincar', 8), ('desempeñó', 8), ('afirma', 40), ('dimisión', 16), ('diarios', 24), ('consagró', 8), ('lució', 8), ('aldeanos', 16), ('policiacas', 8), ('tanteando', 8), ('halló', 8), ('incomoda', 16), ('chupar', 16), ('consentimiento', 16), ('aldea', 40), ('nagano', 32), ('situaciones', 24), ('distrito', 40), ('memorizaba', 8), ('recompensarme', 8), ('hawaii', 16), ('cruzaba', 24), ('cajetilla', 8), ('puchos', 8), ('computacional', 8), ('lona', 16), ('inglesas', 40), ('insultado', 24), ('incauto', 16), ('creerla', 96), ('incauta', 24), ('insensata', 32), ('futura', 8), ('financiera', 64), ('roncaba', 8), ('ruidosamente', 16), ('suplente', 8), ('asistirá', 24), ('granuja', 8), ('consejero', 8), ('recíprocos', 8), ('polución', 24), ('aeróbic', 8), ('elevar', 8), ('pedías', 8), ('tiembla', 16), ('satisfactoria', 48), ('incomprensible', 8), ('abarca', 8), ('cuadradas', 8), ('competencias', 16), ('capacitaron', 8), ('últimos', 208), ('tardado', 8), ('alpinismo', 24), ('ignorará', 8), ('concordar', 8), ('ofrecer', 32), ('concentré', 16), ('vestí', 8), ('venirme', 16), ('fijé', 16), ('esencia', 16), ('cocinaras', 8), ('supersticioso', 16), ('surja', 8), ('forzarte', 8), ('incluí', 8), ('convirtiéndome', 8), ('observara', 8), ('arrastrarse', 8), ('sacara', 16), ('llevaran', 24), ('convenciendo', 8), ('frigo', 8), ('acercado', 8), ('pescarme', 8), ('descalza', 16), ('andén', 32), ('japonésinglés', 16), ('favorcito', 8), ('aceptarían', 8), ('percaté', 16), ('entendiera', 56), ('toleré', 8), ('parquímetro', 16), ('banjo', 40), ('sonreírme', 8), ('jubilar', 8), ('aceptará', 24), ('recibiremos', 16), ('propuestas', 16), ('parecerá', 40), ('dormiría', 8), ('protesta', 32), ('1977', 8), ('ausentarme', 8), ('escribirte', 24), ('aportar', 16), ('desapareciesen', 8), ('tenerme', 8), ('consiento', 8), ('rendiré', 8), ('revelaran', 8), ('presentarlo', 16), ('saldría', 24), ('formaré', 8), ('afuerita', 8), ('maletines', 16), ('fijaré', 8), ('añadiendo', 8), ('finales', 88), ('extras', 8), ('bañador', 16), ('marqué', 16), ('ganaras', 16), ('depositado', 8), ('pedistes', 8), ('pintaría', 8), ('seguiría', 32), ('sepáis', 8), ('hágamelo', 16), ('acertadas', 8), ('tasas', 16), ('fijadas', 8), ('¿comer', 40), ('u', 104), ('¿visita', 8), ('¿algún', 8), ('imprudentemente', 24), ('islamabad', 8), ('pakistán', 8), ('simétrico', 8), ('limpiarla', 8), ('escribirlo', 40), ('tiritando', 8), ('beberlo', 16), ('divorcien', 16), ('79', 8), ('comercia', 8), ('towada', 8), ('comunicación', 72), ('repasemos', 8), ('mercadillo', 40), ('pintemos', 8), ('lidia', 16), ('aprendas', 24), ('urracas', 8), ('industriales', 16), ('portara', 16), ('portase', 8), ('biológica', 8), ('castigó', 8), ('estilográfica', 8), ('debíamos', 40), ('afeitándose', 8), ('afeitando', 8), ('controlando', 8), ('continuamente', 16), ('pesarse', 8), ('desastres', 16), ('devastadores', 8), ('invención', 64), ('feriados', 16), ('níquel', 8), ('plateado', 8), ('aliviar', 40), ('notará', 8), ('¡ahora', 8), ('presumiendo', 8), ('impares', 8), ('nones', 8), ('football', 8), ('usuarios', 8), ('tijerear', 8), ('foráneos', 16), ('insulte', 16), ('escribidme', 16), ('decaído', 24), ('encontrasteis', 24), ('poned', 8), ('utilizarla', 8), ('agita', 8), ('materias', 24), ('técnicas', 16), ('diera', 144), ('persuadir', 72), ('tamborileó', 8), ('molestó', 24), ('atrapada', 8), ('legalmente', 24), ('dispuesta', 32), ('mediados', 32), ('limpiase', 8), ('muchedumbre', 16), ('mezcló', 16), ('reemplazó', 8), ('viró', 8), ('acostarse', 16), ('trasladada', 16), ('dependiendo', 24), ('rascacielos', 40), ('estructuras', 8), ('comprarás', 8), ('atletas', 24), ('sudan', 8), ('transpiran', 8), ('atribuyen', 8), ('permaneced', 16), ('desplomaron', 8), ('histórico', 24), ('déjese', 8), ('maneje', 8), ('finas', 24), ('waterloo', 8), ('decreciendo', 8), ('capítulos', 32), ('cuidad', 16), ('abastecida', 8), ('involucrada', 40), ('evaporó', 8), ('acumulando', 16), ('adelgazara', 8), ('abrirán', 16), ('envidiosos', 16), ('prohibió', 16), ('consumió', 8), ('edifico', 8), ('mecían', 8), ('bagdad', 8), ('cráneo', 24), ('23', 24), ('grabados', 8), ('isabela', 8), ('náusea', 8), ('envejecemos', 16), ('rebeló', 16), ('flotando', 40), ('turba', 8), ('derramamiento', 16), ('revolución', 80), ('chapas', 8), ('metálicas', 8), ('floreciendo', 8), ('zarpa', 8), ('honolulu', 16), ('suez', 8), ('cargamento', 8), ('espacial', 48), ('amainar', 8), ('ponía', 32), ('embanderada', 8), ('repentino', 40), ('irregular', 8), ('panfletos', 8), ('templo', 64), ('migas', 16), ('disputaron', 16), ('estambul', 24), ('armazón', 24), ('dimitiese', 8), ('sabrosas', 8), ('ríos', 48), ('canchas', 8), ('calceta', 8), ('enormidad', 8), ('división', 16), ('aprietan', 8), ('tocarse', 16), ('solicitaron', 8), ('atravesara', 8), ('devolvieron', 16), ('atómica', 64), ('liberar', 40), ('visitaron', 24), ('nochebuena', 64), ('fatigosamente', 8), ('anunciaban', 8), ('jugarán', 16), ('agrandar', 8), ('tonelada', 8), ('apretada', 24), ('mulo', 8), ('mula', 8), ('atribuida', 8), ('monet', 8), ('navegarlo', 8), ('navegable', 8), ('expendedora', 24), ('raticida', 8), ('decían', 32), ('peleaban', 24), ('vigilara', 8), ('aseguraba', 16), ('casase', 16), ('concentrar', 24), ('depositó', 48), ('hallaba', 8), ('bartenders', 8), ('balsa', 8), ('francotirador', 8), ('batallando', 8), ('obsesionado', 16), ('untando', 8), ('pulgadas', 24), ('acercarse', 24), ('pescadores', 24), ('visual', 16), ('ordenes', 8), ('arrepentido', 8), ('reflejo', 32), ('pleno', 16), ('inflable', 8), ('bache', 8), ('riera', 8), ('estacionara', 8), ('encabezados', 16), ('verificó', 8), ('disculpara', 16), ('ebriedad', 48), ('entrevistado', 8), ('sopesó', 8), ('comerá', 16), ('truman', 24), ('niñitas', 8), ('pegadas', 8), ('servivios', 8), ('suministran', 8), ('waseda', 8), ('empató', 8), ('keio', 8), ('teneros', 8), ('olvidadizos', 8), ('acogerlo', 8), ('quejamos', 16), ('permitimos', 8), ('gozamos', 8), ('dictado', 16), ('elevador', 16), ('enteros', 8), ('inesperada', 24), ('deshacernos', 8), ('librarnos', 8), ('salpicando', 8), ('¿hablamos', 8), ('andada', 8), ('orilla', 48), ('tempura', 16), ('compraremos', 8), ('atravesaremos', 8), ('permanecido', 8), ('¿podías', 8), ('aspiras', 8), ('golfo', 16), ('ministros', 8), ('ingerir', 16), ('resides', 8), ('apagas', 8), ('villancico', 8), ('chispas', 16), ('afilaste', 16), ('emborrachaste', 8), ('expedición', 48), ('asumirá', 16), ('personaje', 64), ('panelista', 8), ('cnn', 8), ('pensabas', 16), ('contratas', 8), ('¿preferiría', 16), ('¿preferiríais', 24), ('cesaron', 8), ('censurar', 8), ('reinventar', 16), ('shibuya', 16), ('enfadarte', 8), ('despreciar', 40), ('tolerantes', 24), ('mismas', 88), ('asistido', 40), ('preocupás', 16), ('examines', 16), ('hermanita', 24), ('casan', 24), ('yukio', 8), ('mishima', 8), ('minutitos', 8), ('culpabilidad', 32), ('negociada', 8), ('ducharse', 24), ('infructuosos', 8), ('críticos', 8), ('elogiaron', 8), ('aprobarlo', 8), ('carpinteros', 24), ('1863', 8), ('secesión', 8), ('sugeriendo', 8), ('armenio', 8), ('indoeuropeo', 8), ('almorzaba', 8), ('¡como', 8), ('supimos', 24), ('gaitas', 8), ('producen', 40), ('botánica', 24), ('partid', 8), ('apuñala', 8), ('decirlas', 8), ('caracteres', 8), ('ahorrarán', 16), ('indicarme', 40), ('¿enterraste', 8), ('encerar', 16), ('¿miraste', 16), ('presidencial', 24), ('consola', 32), ('stevie', 8), ('wonder', 8), ('finde', 8), ('¿estudiáis', 8), ('¿sufre', 8), ('estacionales', 8), ('¿desearías', 8), ('aburrís', 16), ('abríguese', 8), ('enfriar', 16), ('fortalezas', 16), ('debilidades', 16), ('traerse', 8), ('entérese', 8), ('caminarlo', 8), ('enseñarla', 8), ('glaciares', 8), ('halley', 16), ('2061', 8), ('moderación', 16), ('antena', 24), ('iniciar', 16), ('higiene', 8), ('atribuye', 24), ('ciclomotor', 8), ('finanzas', 16), ('ingiriendo', 8), ('expresarse', 8), ('deshonró', 8), ('cuadrados', 8), ('palpó', 8), ('mechero', 16), ('empellón', 8), ('indispuso', 8), ('prejuicios', 40), ('valiosas', 16), ('tías', 8), ('rastreó', 8), ('explorar', 16), ('cavernas', 8), ('subterráneas', 8), ('morena', 8), ('nashville', 16), ('prefería', 8), ('retuvo', 8), ('privará', 8), ('hawai', 8), ('comunitarios', 8), ('procurarse', 8), ('destacada', 8), ('apunto', 16), ('dichos', 8), ('agudos', 8), ('autorizado', 16), ('racial', 24), ('superviviente', 16), ('eco', 16), ('elogiada', 8), ('afectada', 48), ('mediocres', 8), ('temerarias', 16), ('dignas', 16), ('publicada', 16), ('gastarías', 16), ('traducirías', 8), ('quejaré', 8), ('mohan', 8), ('cómic', 8), ('lavaba', 32), ('quedaran', 16), ('aplaudir', 8), ('recorté', 8), ('llegarías', 24), ('romperme', 8), ('existido', 16), ('verbos', 8), ('irregulares', 8), ('estropee', 8), ('particularmente', 32), ('escurriendo', 8), ('aspiradora', 40), ('morderme', 16), ('chelo', 8), ('conserve', 8), ('enviarte', 24), ('valoran', 8), ('tomarás', 8), ('risas', 8), ('reúno', 8), ('descifrar', 32), ('acabaríamos', 16), ('advertí', 16), ('mirabas', 8), ('astrofísico', 8), ('chapurreo', 8), ('lustré', 8), ('moment', 8), ('escogido', 16), ('edredones', 8), ('módico', 8), ('además', 160), ('largue', 8), ('pire', 8), ('reconocería', 8), ('preocuparíamos', 8), ('interesaría', 8), ('até', 16), ('amarré', 8), ('mandaran', 8), ('enviaran', 8), ('contaras', 8), ('aguardé', 16), ('consultarle', 8), ('sugerir', 24), ('1948', 8), ('1940', 8), ('comenzara', 16), ('enseñará', 16), ('tardarías', 8), ('actuaría', 8), ('reconquistarla', 8), ('liberen', 8), ('colaboraron', 8), ('pensártelo', 24), ('desarrollando', 8), ('android', 8), ('salirme', 8), ('björk', 8), ('improviso', 8), ('ordeno', 8), ('sheldon', 16), ('pillando', 8), ('tirria', 8), ('hartarme', 8), ('vóleibol', 16), ('entregara', 24), ('sarcásticas', 16), ('discriminado', 8), ('dormirme', 8), ('desangrado', 8), ('atrapaste', 8), ('escorpión', 16), ('contarnos', 8), ('soltaras', 8), ('ubica', 56), ('goteara', 16), ('llevaras', 24), ('133', 8), ('asomarse', 8), ('muñecos', 8), ('consiguieras', 8), ('básicos', 16), ('dañar', 16), ('costosas', 16), ('calcular', 16), ('bebamos', 8), ('tomémonoslo', 8), ('busque', 16), ('desamarraron', 16), ('campesinos', 16), ('sequía', 56), ('marika', 16), ('obsesionada', 8), ('adelanto', 16), ('adelantó', 16), ('masha', 8), ('descafeinado', 8), ('contenido', 64), ('empacadas', 8), ('comportándose', 8), ('cálidamente', 16), ('mejoraron', 16), ('significativamente', 16), ('modista', 24), ('porciento', 24), ('requesón', 8), ('bloque', 16), ('sabiendo', 16), ('veto', 8), ('integrado', 8), ('sobrevolaba', 8), ('racionalmente', 16), ('quebranta', 8), ('ping', 8), ('pong', 8), ('i', 8), ('sinónimo', 8), ('anunció', 24), ('bizcochuelos', 8), ('porciones', 16), ('solucionara', 8), ('pensativa', 8), ('derrochar', 8), ('fabricando', 16), ('apiló', 16), ('bandejas', 8), ('considerara', 24), ('educó', 16), ('convertirá', 64), ('obligatorio', 16), ('exóticos', 8), ('1975', 16), ('stephen', 8), ('king', 24), ('maligna', 8), ('sucedieron', 16), ('oscurecieron', 8), ('probad', 8), ('otorgado', 8), ('inmenso', 16), ('ridiculiza', 24), ('contribuyentes', 8), ('austeridad', 8), ('normandos', 16), ('conquistaron', 8), ('1066', 8), ('titanic', 32), ('atareados', 8), ('chapoteando', 16), ('concederme', 8), ('fundición', 8), ('arañar', 8), ('cerezos', 24), ('florecer', 16), ('pureza', 8), ('congregó', 16), ('abolida', 32), ('operar', 64), ('cerrarla', 24), ('maldita', 8), ('sembró', 24), ('saldó', 8), ('arrestos', 24), ('caerse', 32), ('relevancia', 8), ('subestimada', 8), ('joya', 16), ('abastece', 8), ('severa', 24), ('déficit', 8), ('eleva', 16), ('retuerce', 8), ('nombró', 16), ('caerá', 24), ('partirá', 24), ('coyotes', 8), ('volverán', 16), ('animaba', 8), ('decoradas', 8), ('banderas', 40), ('70', 24), ('inclinaba', 8), ('inclinada', 8), ('defendida', 8), ('negociaron', 8), ('expresan', 16), ('igualaron', 8), ('desbordara', 8), ('inmejorable', 8), ('tachados', 8), ('zombis', 8), ('liquidación', 8), ('taco', 16), ('autopista', 8), ('donaciones', 16), ('dorada', 8), ('concursantes', 8), ('desocupadas', 16), ('elegirle', 16), ('delhi', 16), ('creían', 8), ('cobraron', 24), ('nozowa', 8), ('poblaciones', 8), ('marcos', 8), ('aplicaron', 8), ('costos', 16), ('almacenamiento', 8), ('mostraron', 24), ('esparcidos', 8), ('desactivado', 8), ('réplica', 16), ('dinosaurio', 16), ('guárdatelo', 8), ('chiquita', 24), ('reducirá', 8), ('eliminará', 8), ('1999', 8), ('entregado', 16), ('vibraciones', 8), ('emplea', 16), ('ampliamente', 8), ('erigió', 40), ('thomas', 32), ('húngaras', 8), ('separarse', 24), ('azarosas', 8), ('entrarán', 8), ('mantendría', 16), ('soprendido', 8), ('romperle', 16), ('desempeñar', 8), ('meditara', 8), ('ramo', 24), ('pintaran', 8), ('inusuales', 16), ('deba', 56), ('influyentes', 8), ('recortada', 8), ('barbero', 24), ('contactando', 8), ('morderse', 16), ('quebrándose', 8), ('plantear', 8), ('viajante', 16), ('telerrealidad', 8), ('software', 24), ('jurar', 24), ('callejuela', 8), ('iluminada', 16), ('universitarias', 8), ('gol', 16), ('numerosas', 48), ('senado', 24), ('2008', 16), ('internado', 16), ('requerirá', 8), ('vibró', 8), ('corregir', 64), ('machacar', 8), ('chaquetas', 8), ('centígrados', 24), ('acusamos', 8), ('convencidos', 8), ('recuperes', 16), ('permitirnos', 24), ('embauquen', 16), ('comunicamos', 8), ('conducíamos', 8), ('decidirnos', 8), ('celebramos', 8), ('gastamos', 8), ('mudos', 16), ('estupor', 8), ('430', 8), ('meteremos', 8), ('pillan', 8), ('desayunaremos', 8), ('impaciencia', 8), ('buscándote', 8), ('regalaste', 8), ('queríais', 8), ('recordara', 8), ('broadway', 16), ('casera', 16), ('operativo', 8), ('quedasteis', 8), ('aeroportuarios', 8), ('heladería', 8), ('sostiene', 48), ('reemplazará', 8), ('glee', 8), ('guerras', 32), ('¿informarás', 8), ('juzga', 8), ('luchaban', 8), ('fábricas', 56), ('cerraban', 8), ('place', 8), ('quejás', 8), ('regresen', 8), ('contactarse', 24), ('consultado', 16), ('parabrisas', 24), ('sonetos', 8), ('colorida', 8), ('«¿dónde', 16), ('vives»', 8), ('«vivo', 8), ('tokio»', 8), ('comisión', 8), ('diputados', 8), ('avispas', 8), ('provisional', 8), ('exnovia', 8), ('instan', 8), ('lujosos', 8), ('públicas', 24), ('angola', 8), ('africanos', 16), ('bill', 16), ('gates', 8), ('fundador', 16), ('imaginas', 16), ('envolvérmelo', 24), ('sensibles', 8), ('combustibles', 16), ('1949', 8), ('cocer', 16), ('cámbiemelo', 8), ('degas', 8), ('aconsejaste', 8), ('florecen', 32), ('casualidades', 8), ('motosierra', 8), ('describen', 32), ('telégrafo', 8), ('¿permites', 24), ('¿consideras', 8), ('maltratado', 8), ('nucleares', 24), ('hagás', 8), ('especule', 8), ('desatendidas', 16), ('ajenas', 8), ('eleves', 8), ('susurro', 8), ('tirará', 8), ('salvará', 8), ('conferenciante', 8), ('asignados', 8), ('aspiran', 8), ('peinado', 32), ('taylor', 8), ('posicionamiento', 8), ('motors', 8), ('76000', 8), ('amortiguar', 8), ('nauseas', 8), ('resbalado', 8), ('sobrepasó', 8), ('telescopio', 56), ('utilidad', 40), ('propone', 24), ('tamaña', 8), ('cumplimiento', 16), ('devonshire', 8), ('instado', 8), ('balazo', 8), ('jeta', 8), ('nítida', 8), ('recobrado', 8), ('compradores', 16), ('logrando', 8), ('reprendan', 8), ('rezongó', 8), ('embarca', 8), ('imposibles', 32), ('inalcanzables', 8), ('tomáramos', 8), ('gentilmente', 16), ('secuestradores', 48), ('discute', 48), ('magnitud', 16), ('clinton', 8), ('subiría', 24), ('atrapo', 8), ('carterista', 24), ('dudarlo', 8), ('humildad', 8), ('atarme', 8), ('pirata', 40), ('financieramente', 8), ('colado', 8), ('preparándose', 48), ('best', 16), ('seller', 16), ('traducida', 32), ('callarse', 8), ('constantes', 24), ('intencionados', 8), ('enardecieron', 8), ('¿resulta', 8), ('mezquitas', 16), ('¿cuantas', 8), ('hábiles', 8), ('derramo', 24), ('finés', 8), ('soporta', 16), ('heredar', 24), ('postulé', 8), ('forastero', 8), ('hogaza', 8), ('resistirlo', 16), ('expresarte', 48), ('aclaré', 8), ('suscribirme', 8), ('causarte', 24), ('capto', 8), ('anuales', 16), ('peperoni', 8), ('calabresa', 8), ('subtituladas', 8), ('debamos', 48), ('atormentarte', 8), ('pagues', 8), ('dureza', 16), ('delegar', 8), ('domésticas', 32), ('apuré', 24), ('interpreté', 8), ('ausenta', 8), ('comisario', 16), ('permitirías', 8), ('sustituyera', 16), ('reconocía', 8), ('«esa', 8), ('idea»', 24), ('giraba', 8), ('sincerarme', 8), ('charlita', 8), ('intentases', 8), ('gratamente', 8), ('pararía', 16), ('encontráramos', 16), ('desayunaríamos', 16), ('traduje', 8), ('ducharme', 8), ('normalidad', 8), ('cambiarías', 16), ('suene', 64), ('terrones', 8), ('medido', 8), ('hablases', 16), ('apresarían', 8), ('detendrían', 8), ('resfriándome', 8), ('beca', 16), ('acabara', 24), ('romana', 8), ('excesivamente', 16), ('americana', 64), ('recibieras', 8), ('apreciado', 24), ('permanente', 16), ('propiedades', 8), ('circular', 16), ('pierdo', 32), ('entenderían', 8), ('dais', 16), ('alcanzaréis', 8), ('bombeas', 8), ('inflas', 8), ('selo', 8), ('equivocaba', 16), ('chelines', 16), ('cumplas', 8), ('entendimos', 8), ('desmayar', 32), ('prepararlo', 8), ('tabú', 8), ('sustancias', 8), ('alejados', 8), ('canguros', 16), ('biwa', 24), ('aguacero', 32), ('olvidémonos', 8), ('valoremos', 8), ('ladramos', 8), ('eclipses', 8), ('totales', 16), ('asegúrese', 40), ('ahogaron', 8), ('cultivan', 24), ('cajeros', 16), ('automáticos', 16), ('formula', 8), ('1', 24), ('atizador', 8), ('mencionan', 8), ('estatal', 16), ('minesota', 8), ('aplicados', 8), ('adams', 8), ('subirme', 8), ('consintió', 8), ('obtuviera', 8), ('naciera', 16), ('equilibrados', 8), ('materno', 16), ('prohibieron', 24), ('napoleón', 40), ('bonaparte', 16), ('córcega', 8), ('invistió', 8), ('reconocerá', 16), ('meteorológico', 16), ('visibles', 16), ('apóstoles', 8), ('islandés', 8), ('cuecen', 8), ('transcurso', 8), ('servilletas', 8), ('paraguay', 8), ('fíjese', 16), ('acepte', 24), ('condolencias', 8), ('reexpedirme', 8), ('ponele', 8), ('recordadme', 8), ('hudson', 8), ('alargadas', 8), ('colas', 8), ('firmarla', 8), ('siniestros', 8), ('mares', 8), ('senador', 16), ('kerry', 8), ('publicaron', 16), ('etc', 24), ('destrás', 8), ('desalentara', 8), ('acicaló', 8), ('tumbada', 8), ('temerosos', 8), ('respiratoria', 16), ('criticar', 32), ('diciéndole', 8), ('callaran', 8), ('callasen', 8), ('chatear', 8), ('indican', 32), ('propicia', 8), ('bañándose', 8), ('trecho', 16), ('gestionada', 8), ('encabezamiento', 8), ('estrenó', 8), ('acierto', 8), ('himalayas', 16), ('agitadores', 8), ('fomentaban', 8), ('rebelión', 8), ('ilustraciones', 8), ('aprontarle', 8), ('callejera', 16), ('2006', 8), ('percibido', 8), ('alborotando', 8), ('alarmada', 8), ('dividida', 16), ('coste', 56), ('pistolero', 8), ('haciéndose', 8), ('látigo', 8), ('abordaron', 16), ('condenas', 8), ('anteriores', 8), ('dodo', 8), ('extinta', 8), ('bombardeó', 16), ('atacando', 8), ('ralentí', 8), ('sencillos', 16), ('efectivos', 8), ('enfrentamientos', 8), ('prófugo', 16), ('progresó', 8), ('inutilizado', 8), ('destruido', 32), ('paralela', 8), ('pucho', 8), ('avergonzaba', 16), ('misioneros', 8), ('civilizaron', 8), ('indígenas', 24), ('enfangada', 8), ('distrajo', 16), ('crujió', 8), ('afiebrado', 8), ('patrullero', 8), ('detuviera', 8), ('robadas', 8), ('retrocedieran', 8), ('exorbitante', 8), ('manifestantes', 40), ('bloquearon', 8), ('ardía', 8), ('estrepitosa', 8), ('poderosas', 8), ('combatientes', 8), ('aguantaron', 8), ('embate', 8), ('marchaban', 8), ('basto', 8), ('emergió', 8), ('culparse', 8), ('norteamericano', 8), ('sospechosa', 32), ('tiroteos', 8), ('grabadora', 24), ('cintas', 8), ('eclipse', 24), ('lunar', 24), ('separar', 56), ('molestándome', 8), ('cepilladas', 8), ('facilitarán', 8), ('pescaron', 8), ('representante', 32), ('igualitario', 8), ('deshecho', 8), ('baúles', 16), ('interrumpieron', 16), ('prestaron', 8), ('espiaron', 8), ('bañaba', 24), ('separaron', 24), ('usaron', 24), ('terminarán', 8), ('olfatear', 16), ('¡este', 8), ('gramaticalmente', 16), ('ponérmela', 8), ('videograbadora', 8), ('mareas', 8), ('gíralo', 8), ('descifró', 16), ('esposos', 8), ('atravesaron', 8), ('cogiera', 8), ('cuidara', 32), ('despertara', 16), ('amansarlo', 8), ('domesticarlo', 8), ('apartar', 8), ('pisarle', 16), ('necesitara', 16), ('chocado', 8), ('rebuscó', 8), ('recogido', 16), ('íntima', 16), ('cantautor', 8), ('pingpong', 16), ('pimpón', 24), ('grasas', 16), ('tecladista', 8), ('acuáticos', 8), ('habituales', 8), ('chingón', 8), ('pagaría', 32), ('provocando', 16), ('hurga', 8), ('invierte', 16), ('agaché', 8), ('encerrona', 8), ('faenas', 8), ('prestara', 32), ('decepcionamos', 16), ('pegara', 8), ('disimular', 16), ('desayunará', 8), ('incluyen', 24), ('rastrillar', 16), ('salmonella', 8), ('bisabuelo', 16), ('tornado', 8), ('ubuntu', 8), ('distribución', 8), ('ulán', 8), ('bator', 8), ('mongolia', 8), ('ultravioletas', 16), ('dábamos', 8), ('variables', 24), ('case', 32), ('sensitive', 8), ('distinguen', 16), ('32', 8), ('fahrenheit', 16), ('recurso', 16), ('beneficiar', 8), ('fracasamos', 16), ('preparación', 32), ('ratos', 24), ('recortar', 8), ('cueste', 72), ('regulación', 8), ('yoyogi', 8), ('telefonearemos', 8), ('combinación', 16), ('¿¡qué', 8), ('solés', 16), ('alquilaré', 8), ('colocas', 8), ('arrancan', 8), ('eructan', 8), ('traemos', 8), ('sentáis', 8), ('fall', 8), ('dirías', 48), ('maridos', 16), ('traerías', 8), ('hablándome', 8), ('pachucho', 8), ('conquistar', 24), ('seres', 24), ('queridos', 8), ('sentiros', 8), ('indulgente', 16), ('distraernos', 8), ('agraviando', 8), ('considerablemente', 16), ('pagos', 16), ('trataras', 8), ('inadvertido', 8), ('«¿sabes', 8), ('guitarra»', 8), ('golpeteo', 8), ('rescatada', 8), ('naufragio', 8), ('tapaba', 8), ('coartadas', 8), ('recibirán', 8), ('tópico', 8), ('marroquíes', 8), ('grabar', 32), ('escapé', 16), ('pegé', 8), ('quiebra', 16), ('cultivar', 16), ('¿cobró', 8), ('¿esperabas', 24), ('¿practicaste', 8), ('¿escribiste', 8), ('extinguieron', 24), ('disuelva', 8), ('enviarle', 56), ('cuide', 16), ('recomiendan', 8), ('realizan', 8), ('reunirte', 8), ('drásticos', 8), ('drásticas', 16), ('prestadas', 8), ('introduzca', 8), ('gabinete', 24), ('contamina', 8), ('explíquenme', 8), ('exprésate', 8), ('operado', 8), ('visite', 16), ('pasajero', 40), ('fósiles', 8), ('descubrís', 16), ('averiguas', 8), ('arruguen', 8), ('¿dieron', 8), ('quejado', 24), ('petiso', 8), ('cambridge', 16), ('atrevimiento', 8), ('rascarse', 24), ('codea', 8), ('andante', 8), ('aparatos', 8), ('eléctricos', 32), ('wikipedia', 16), ('pospone', 8), ('divisar', 8), ('lamentó', 24), ('notificó', 16), ('bajara', 16), ('lesiones', 16), ('inmerso', 8), ('abría', 8), ('contratará', 8), ('sernos', 8), ('anual', 24), ('alteró', 8), ('asentó', 8), ('chulesca', 8), ('elaboradas', 8), ('investigaciones', 16), ('acompaña', 8), ('permaneciste', 8), ('prefecturas', 8), ('eternamente', 16), ('enviando', 16), ('chocara', 8), ('escoges', 8), ('cerrojo', 16), ('sollozar', 8), ('reconozca', 8), ('deliberé', 8), ('llegases', 8), ('llegaras', 24), ('esquío', 8), ('comic', 16), ('educativa', 8), ('deprimo', 8), ('insignificantes', 8), ('estirón', 8), ('parienta', 8), ('plática', 8), ('juntando', 8), ('portado', 8), ('decidas', 8), ('adornar', 8), ('perseguí', 8), ('lanzallamas', 16), ('exprimí', 8), ('alterar', 8), ('despida', 8), ('recortases', 8), ('vería', 32), ('medité', 16), ('kyushu', 16), ('imperial', 16), ('sustituí', 8), ('desilucionó', 8), ('fuí', 8), ('pospondré', 40), ('despertaré', 16), ('clonar', 32), ('explicara', 8), ('copón', 8), ('proveedor', 8), ('atravesado', 24), ('cayera', 48), ('matasen', 8), ('supervisa', 8), ('¿educación', 8), ('requerida', 8), ('menearlo', 8), ('revolverlo', 8), ('hiere', 8), ('ignoran', 16), ('fertilizantes', 8), ('químicos', 8), ('estudies', 16), ('derribada', 8), ('tardaron', 24), ('taj', 16), ('mahal', 16), ('extinguir', 8), ('armarlo', 8), ('distinguirte', 16), ('comparta', 16), ('sobrepasa', 8), ('felicitarte', 16), ('felicitarla', 8), ('¡seamos', 8), ('larguémonos', 16), ('todoloquepuedascomer', 8), ('escuchadme', 8), ('finesa', 8), ('celeste', 8), ('méjico', 24), ('inofensivas', 8), ('musulmanes', 32), ('oran', 8), ('meca', 16), ('rezan', 8), ('leerme', 8), ('shinji', 8), ('ono', 8), ('late', 16), ('acelera', 8), ('reconciliar', 8), ('aprobaron', 8), ('mecánica', 8), ('cordón', 8), ('cotitulares', 8), ('ejércitos', 8), ('enojándose', 8), ('arreglará', 8), ('críos', 16), ('métodos', 24), ('compórtese', 8), ('terrón', 8), ('halagar', 8), ('pelirrojos', 8), ('tienden', 32), ('¡quítate', 8), ('vacíate', 8), ('repetición', 8), ('entornos', 8), ('rurales', 8), ('abrochara', 8), ('cuántas', 144), ('atribuyó', 8), ('depender', 16), ('tranquillo', 8), ('compleaños', 16), ('juguetón', 8), ('escogío', 8), ('reprendio', 8), ('cesped', 8), ('enfatizó', 8), ('manteles', 8), ('lavandería', 8), ('envidiaba', 8), ('arrollada', 8), ('recatear', 8), ('avergüence', 8), ('vivienda', 16), ('embajadora', 8), ('gritarle', 8), ('siameses', 8), ('digale', 8), ('meticulosa', 16), ('sinónimos', 16), ('belgas', 8), ('arcos', 8), ('desfile', 32), ('cantinero', 24), ('destello', 8), ('enceguecedor', 8), ('órganos', 48), ('catedral', 32), ('h2o', 8), ('suministró', 8), ('premió', 8), ('bloquea', 8), ('costurera', 8), ('generalizados', 8), ('ponencia', 8), ('fachada', 8), ('compuesto', 16), ('rugir', 8), ('aproximamos', 8), ('masajeó', 8), ('¡peligro', 8), ('voltios', 8), ('20000', 24), ('fallecer', 8), ('pingüino', 8), ('invasores', 48), ('desolado', 8), ('sobrepasar', 8), ('reo', 24), ('trinchera', 16), ('equipados', 16), ('cascos', 16), ('agruparon', 8), ('vitrinearon', 8), ('intervalos', 8), ('regulares', 8), ('nulo', 16), ('comparecieron', 8), ('aliaron', 16), ('antepasado', 8), ('cervecerías', 8), ('baviera', 8), ('galaxias', 32), ('continentes', 8), ('centenar', 8), ('cerro', 16), ('comprobaron', 8), ('víctimas', 64), ('comenzarán', 16), ('periodo', 64), ('edo', 8), ('crie', 8), ('grabado', 8), ('montañosa', 8), ('opulento', 8), ('fugaron', 8), ('mánager', 8), ('mudaron', 16), ('metiera', 8), ('irrisorio', 8), ('sobreponerse', 24), ('comerciales', 40), ('reclamó', 16), ('excitación', 8), ('experimentos', 24), ('enteraran', 8), ('bares', 32), ('ensuciarse', 8), ('desenfundada', 8), ('meticulosamente', 8), ('socializar', 8), ('incomodidad', 8), ('secuestro', 16), ('sustentarse', 8), ('conservó', 16), ('aparearlos', 8), ('confundiéndose', 8), ('murmuró', 8), ('carnes', 24), ('magras', 16), ('limpiaría', 16), ('separó', 56), ('preocupáramos', 8), ('repararan', 8), ('cabecera', 8), ('hinchó', 8), ('compañera', 8), ('aprendieran', 24), ('vengar', 8), ('colguemos', 16), ('poquitín', 8), ('hurtadillas', 16), ('mataran', 8), ('sonreírle', 8), ('binoculares', 16), ('charcos', 16), ('escasez', 80), ('decidimos', 48), ('ocultos', 16), ('respaldar', 8), ('minorías', 24), ('partícipe', 8), ('carpas', 8), ('trasladar', 8), ('comprendimos', 8), ('percatarnos', 8), ('abuelito', 16), ('abuelita', 8), ('representan', 32), ('sumarle', 8), ('relativismo', 8), ('crezcas', 32), ('ruge', 8), ('tiemblan', 8), ('alimentaste', 8), ('freíste', 8), ('ordeñaste', 8), ('montaste', 8), ('tocaste', 16), ('notebook', 24), ('víspera', 8), ('trasbordo', 16), ('¿cambiaríais', 8), ('pudiérais', 8), ('yidis', 8), ('hebreas', 8), ('vetado', 16), ('sujetando', 8), ('contrapartida', 8), ('bolis', 8), ('procesión', 8), ('chiflar', 8), ('pinole', 8), ('votando', 8), ('cuán', 88), ('angustiada', 8), ('ayudita', 8), ('chapa', 16), ('mencionaste', 16), ('honra', 8), ('avergonzados', 16), ('resfriarte', 8), ('energías', 24), ('señoras', 8), ('«¿crees', 8), ('vendrá»', 8), ('«espero', 8), ('no»', 8), ('—tengo', 8), ('«¿y', 16), ('pasa»', 8), ('«ni', 8), ('qué»', 8), ('sé»', 8), ('israel', 8), ('pulga', 16), ('instaurado', 8), ('tribu', 40), ('retomó', 8), ('colonias', 8), ('admiran', 24), ('apreciar', 8), ('usada', 32), ('cataratas', 8), ('niágara', 8), ('portugueses', 8), ('consecuencia', 64), ('polo', 40), ('habitantes', 48), ('argentina', 24), ('1825', 8), ('aires', 40), ('¿reconoce', 8), ('plancharme', 8), ('¿distingue', 8), ('nombrar', 8), ('compruebe', 8), ('gallos', 16), ('prohibidas', 16), ('305', 8), ('asegurarte', 56), ('aparezca', 24), ('desarrolló', 16), ('determinó', 16), ('¿tenías', 16), ('¿confundiste', 8), ('popularizando', 8), ('¿almuerzas', 8), ('inflamada', 16), ('jesucristo', 16), ('desconoces', 8), ('soluciona', 16), ('desengáñate', 8), ('arrimes', 8), ('hideo', 8), ('1928', 8), ('pasándoselo', 8), ('restringida', 8), ('norteamericanos', 16), ('acostumbraste', 8), ('costillas', 24), ('ganaba', 40), ('fracturó', 16), ('lectores', 8), ('mensuales', 8), ('paros', 8), ('cardíacos', 24), ('franca', 8), ('gusten', 24), ('yació', 16), ('agonizante', 8), ('traba', 8), ('promovió', 8), ('jugásemos', 8), ('proporcionó', 24), ('aeropuesto', 8), ('coronel', 24), ('independizarse', 8), ('personalizada', 8), ('buscabas', 8), ('pesimismo', 8), ('marcaba', 8), ('cilindro', 8), ('perdurará', 8), ('asesinadas', 8), ('bañás', 8), ('tractores', 8), ('pierre', 16), ('cobrará', 8), ('anunciarte', 8), ('sentirías', 16), ('abandonase', 8), ('huracán', 64), ('katrina', 8), ('devastó', 8), ('orleans', 8), ('acudo', 8), ('ardo', 16), ('catering', 8), ('averiguarías', 8), ('inmortalidad', 8), ('reconocerlo', 24), ('conseguirías', 8), ('intentándolo', 8), ('temido', 8), ('notara', 24), ('reprobé', 8), ('aretes', 8), ('apareciese', 8), ('labura', 8), ('opté', 8), ('completas', 16), ('jugadora', 8), ('honestamente', 24), ('prepa', 32), ('término', 48), ('cultivo', 32), ('bibicleta', 8), ('shikoku', 16), ('recé', 8), ('condimenté', 8), ('traduzco', 8), ('abrelatas', 8), ('dedicación', 8), ('ahínco', 8), ('pondrías', 8), ('esforzara', 8), ('lograría', 8), ('afilar', 16), ('ampliación', 8), ('ionescu', 8), ('examinar', 32), ('recibas', 8), ('devuelvas', 16), ('atacaron', 48), ('disgusto', 8), ('planetas', 24), ('janeiro', 40), ('apreciaría', 16), ('certificado', 8), ('filtra', 8), ('avisaré', 16), ('admitirá', 24), ('lograra', 8), ('añadirte', 8), ('devanando', 8), ('chato', 8), ('divorciaste', 8), ('memorizado', 8), ('consideración', 40), ('postularía', 8), ('contrataré', 8), ('sumas', 24), ('matas', 8), ('porái', 8), ('cítara', 8), ('persuadirlo', 8), ('ridiculizarlo', 8), ('hubieran', 32), ('registrado', 8), ('sostengas', 8), ('akagawa', 8), ('jiro', 8), ('480', 8), ('kumi', 8), ('sujetas', 8), ('excusarme', 8), ('calmémonos', 8), ('vivirla', 8), ('¿bueno', 8), ('progresivamente', 8), ('rizó', 8), ('tenacillas', 16), ('rizaba', 8), ('alegraba', 8), ('soñaba', 8), ('monasterios', 8), ('mailer', 8), ('célebre', 16), ('ceño', 16), ('separa', 24), ('disuadieron', 8), ('especies', 8), ('uniendo', 8), ('98', 8), ('deberán', 24), ('honestas', 8), ('neumonía', 24), ('respiratorias', 8), ('grant', 8), ('chirriando', 16), ('placeres', 16), ('¡recordad', 8), ('roger', 56), ('miller', 56), ('cole', 16), ('apagaba', 8), ('lloriqueando', 16), ('agradecimiento', 64), ('traerás', 8), ('participa', 8), ('escolares', 32), ('avanzados', 8), ('absorta', 8), ('arrebatada', 8), ('deliberada', 8), ('ojeando', 8), ('discuten', 32), ('abandonará', 8), ('marcado', 8), ('discúlpeme', 32), ('gobernada', 24), ('dictador', 24), ('estereotipos', 8), ('engañosos', 16), ('protegen', 8), ('d', 8), ('dimensión', 8), ('modernas', 8), ('naufragó', 8), ('sobrevive', 8), ('bajita', 16), ('1789', 8), ('armonía', 16), ('suizos', 24), ('navegó', 8), ('serrucho', 8), ('peatón', 24), ('cemento', 16), ('fraguará', 8), ('transcurrió', 8), ('jarabe', 24), ('regaliz', 16), ('congregaron', 8), ('laborables', 8), ('comparamos', 8), ('niñitos', 16), ('transmitido', 16), ('lijado', 8), ('barnizado', 8), ('listones', 8), ('diminutos', 8), ('sociales', 32), ('set', 8), ('bulliciosa', 8), ('baratos', 32), ('locutora', 8), ('apogeo', 24), ('introducido', 16), ('firmará', 8), ('disturbio', 8), ('restringió', 8), ('disputa', 32), ('golpeaba', 8), ('costarán', 8), ('ahumado', 8), ('caudal', 8), ('adornado', 8), ('plateadas', 8), ('empeoraba', 8), ('inmensidad', 8), ('inimaginable', 8), ('alumbran', 8), ('llamará', 16), ('olvidada', 8), ('participan', 8), ('pronosticó', 8), ('incremento', 16), ('subida', 24), ('chusmas', 8), ('incompetentes', 8), ('kawasaki', 8), ('ceros', 8), ('donadores', 8), ('grupales', 8), ('juegue', 24), ('propaganda', 8), ('desprenden', 8), ('reclaman', 8), ('reducción', 8), ('laboral', 8), ('arrojaron', 40), ('hiroshima', 32), ('bromearon', 8), ('informaron', 8), ('agitaron', 8), ('charlaban', 8), ('comunicado', 8), ('chips', 8), ('condado', 8), ('despide', 8), ('equipamiento', 24), ('capturan', 8), ('locales', 32), ('fisher', 8), ('blake', 8), ('familiarizados', 8), ('resultará', 8), ('parejas', 40), ('temporalmente', 8), ('recorre', 16), ('hanata', 8), ('requisitos', 8), ('arréglate', 8), ('consternación', 8), ('responsables', 8), ('incapaces', 16), ('calculada', 8), ('sintonía', 8), ('armó', 16), ('calentara', 8), ('tin', 8), ('whistle', 8), ('clavicordio', 8), ('oficinas', 32), ('ahorcándose', 8), ('ocultarle', 8), ('piensen', 40), ('demostrarme', 8), ('groseras', 16), ('emocione', 8), ('enteren', 16), ('agradó', 16), ('aros', 16), ('decidiendo', 16), ('inscrito', 8), ('aullando', 16), ('compromisos', 16), ('mitsvah', 8), ('montura', 8), ('situado', 40), ('compraba', 16), ('direccional', 8), ('velador', 8), ('permitiría', 16), ('olvidarse', 8), ('escribiera', 24), ('entristecedora', 8), ('entrenó', 8), ('ladrase', 8), ('triplicó', 8), ('bikini', 32), ('tataratatarabuelo', 8), ('alegas', 8), ('hubiéramos', 40), ('oms', 8), ('dañe', 16), ('obligamos', 8), ('graduamos', 8), ('preparatoria', 8), ('probabilidades', 16), ('abastecido', 8), ('exclusivo', 8), ('encargarnos', 8), ('alzamos', 8), ('encarnizado', 8), ('impactados', 8), ('escampe', 16), ('repartiremos', 8), ('aterrizaremos', 8), ('analizando', 8), ('restantes', 8), ('partiré', 16), ('programado', 24), ('aterrice', 8), ('contestarlo', 8), ('amaine', 8), ('jugasteis', 8), ('introdujeron', 8), ('prefieren', 56), ('finges', 8), ('sacas', 8), ('conflictos', 16), ('¿cuidarás', 16), ('¿examinarás', 8), ('explicarías', 24), ('aprendéis', 8), ('interese', 16), ('ahogarás', 8), ('acostumbrar', 8), ('perturbando', 8), ('protegerlos', 24), ('¡igualmente', 8), ('apostarlo', 8), ('ocurrieron', 16), ('automovilísticos', 24), ('toyama', 8), ('localidades', 8), ('talar', 16), ('enloqueció', 8), ('depresiva', 8), ('consumo', 48), ('borracheras', 8), ('nocivas', 8), ('538', 8), ('cornamusa', 8), ('sagrados', 8), ('erigieron', 16), ('iglesias', 16), ('indicar', 48), ('demócratas', 16), ('desarrollar', 32), ('desarrollo', 56), ('¿consiguió', 8), ('preparativos', 24), ('diligencia', 8), ('¡trabaja', 8), ('transacción', 8), ('critiques', 8), ('abandonarte', 8), ('emperador', 16), ('nerón', 16), ('tirano', 8), ('empleadores', 8), ('explotan', 8), ('latas', 8), ('esparcidas', 8), ('impresiones', 8), ('contratamos', 24), ('constipada', 16), ('jacta', 16), ('sobornó', 8), ('impune', 8), ('divisó', 8), ('expiar', 8), ('profirió', 8), ('innumerables', 16), ('saltando', 24), ('alimentaba', 48), ('ojeaba', 8), ('aparcamiento', 32), ('conocidos', 32), ('molestias', 8), ('logros', 16), ('perú', 32), ('evitan', 16), ('existió', 8), ('boicot', 32), ('ramillete', 8), ('estiró', 16), ('ingenieros', 48), ('conservas', 16), ('sometido', 40), ('torturas', 8), ('emigró', 16), ('ameritó', 8), ('academia', 8), ('conectar', 16), ('ipod', 32), ('estéreo', 8), ('celebraste', 8), ('sinfonías', 8), ('alimentas', 16), ('nobles', 8), ('aplaudo', 8), ('arañando', 8), ('sobornarme', 8), ('comprendiera', 16), ('alerté', 8), ('circulación', 16), ('nadará', 16), ('reconocimiento', 16), ('aceptada', 8), ('maizal', 8), ('distraje', 16), ('muelo', 8), ('granos', 8), ('apaciguar', 8), ('irritante', 32), ('interurbana', 8), ('abordar', 24), ('comprendieras', 8), ('teneís', 8), ('responderte', 8), ('entregarle', 24), ('encontraría', 48), ('seguirla', 8), ('contengan', 8), ('rondé', 8), ('agotamiento', 8), ('cucurucho', 8), ('moralmente', 16), ('devorar', 8), ('atrasando', 8), ('banyo', 8), ('desilusionaría', 8), ('habrías', 24), ('admirarle', 8), ('chabola', 16), ('camarote', 8), ('barcelona', 8), ('claus', 40), ('comería', 16), ('prestados', 32), ('mamas', 8), ('revisaras', 8), ('seguís', 24), ('cucarachas', 56), ('comportaste', 8), ('excusarse', 8), ('hieres', 8), ('extracción', 8), ('conversado', 8), ('necesitaron', 8), ('aparente', 8), ('imprudencia', 24), ('pueblecito', 16), ('devolverse', 8), ('enseñarle', 32), ('dialecto', 24), ('cruelmente', 8), ('freír', 8), ('machaque', 8), ('derrochadores', 8), ('avísanos', 8), ('hacenos', 8), ('hagámonos', 8), ('parando', 8), ('enviémosle', 8), ('estiramos', 8), ('provienen', 16), ('economistas', 8), ('desempleados', 8), ('monja', 32), ('ingredientes', 32), ('foso', 8), ('rodeándolos', 8), ('agricultores', 8), ('everest', 64), ('qomolangma', 8), ('acomodar', 8), ('excelentemente', 8), ('fotografiar', 16), ('diagnosticado', 16), ('leucemia', 8), ('engordo', 8), ('compartían', 8), ('wilson', 16), ('considerados', 32), ('provocas', 8), ('aficiones', 24), ('camisetas', 8), ('traspasar', 8), ('defensas', 8), ('ilógicas', 8), ('montara', 8), ('deliberadamente', 16), ('transfirió', 8), ('querida', 8), ('sexo', 16), ('presos', 16), ('ahogará', 8), ('pegajoso', 8), ('taiwanesa', 8), ('tailandés', 16), ('cubrir', 16), ('qutab', 8), ('minar', 8), ('rin', 24), ('formados', 8), ('hipoteca', 32), ('entregarles', 8), ('arenero', 16), ('cobranza', 8), ('ladraron', 8), ('intruso', 8), ('floristería', 8), ('caídas', 16), ('difunta', 16), ('transportados', 8), ('óxido', 16), ('extenderá', 8), ('lector', 16), ('ambiguo', 8), ('pospuso', 40), ('aburría', 16), ('explotar', 16), ('trabajadoras', 8), ('especia', 8), ('inaugural', 8), ('tranquilizarlo', 8), ('rimas', 8), ('duelo', 8), ('demandaban', 16), ('locutor', 24), ('masculina', 8), ('varonil', 16), ('transcurre', 8), ('aterradora', 16), ('rindan', 16), ('aspiraban', 8), ('temático', 8), ('soya', 16), ('hechizo', 24), ('parecidas', 24), ('trópicos', 8), ('centenas', 8), ('meramente', 8), ('desagradables', 16), ('cafetera', 8), ('moviéndose', 8), ('discutían', 8), ('declinaron', 8), ('notaron', 16), ('gandhi', 8), ('amueblaron', 8), ('noten', 8), ('cortesía', 24), ('apaciguaron', 8), ('manantial', 16), ('metérmelo', 8), ('liviana', 8), ('seiscientos', 8), ('1964', 24), ('litros', 8), ('conjunta', 8), ('sílaba', 16), ('escaparate', 8), ('acertó', 16), ('compinches', 8), ('decoraron', 8), ('almuerzan', 16), ('enamoraron', 16), ('escabulléndose', 8), ('organizando', 8), ('causarle', 16), ('ejecución', 8), ('comprobando', 8), ('redecorar', 8), ('molió', 8), ('modorra', 8), ('sumergió', 8), ('halagó', 8), ('creerse', 24), ('poste', 16), ('sofocó', 8), ('profesionalmente', 16), ('fluído', 8), ('celebración', 24), ('radical', 8), ('acurrucado', 16), ('rechinaban', 8), ('intercambiar', 8), ('planeaba', 80), ('walt', 8), ('whitman', 8), ('bienestar', 24), ('pedidos', 16), ('eeuu', 56), ('alteraciones', 8), ('disuadirla', 8), ('aplazamos', 8), ('detuvimos', 16), ('avanzamos', 8), ('primordial', 8), ('toquemos', 16), ('frenar', 24), ('hakata', 8), ('rolling', 16), ('stones', 16), ('lluviosa', 8), ('arrendaste', 8), ('retiraste', 8), ('retiraron', 40), ('pesan', 16), ('bocadillos', 16), ('onigiris', 8), ('escribieras', 16), ('zurda', 8), ('heavy', 16), ('actúas', 8), ('ocupas', 16), ('enciendo', 16), ('¿hariás', 8), ('titubeos', 8), ('concedí', 8), ('pedirías', 16), ('estrofas', 16), ('protegerlas', 16), ('echarte', 16), ('sofa', 8), ('doblez', 8), ('adaptarte', 8), ('invadir', 16), ('entregarte', 8), ('interrogado', 32), ('¿entendido', 8), ('persa', 16), ('cepo', 8), ('esfuerzas', 8), ('importados', 16), ('traiciona', 8), ('dormíais', 8), ('alain', 8), ('rodeaba', 8), ('protestaron', 16), ('descubierta', 24), ('reposaba', 8), ('generar', 8), ('magnetismo', 16), ('inducir', 8), ('infinitamente', 16), ('revela', 8), ('¿tratas', 8), ('confundirme', 8), ('actuemos', 8), ('sollozos', 8), ('corporal', 48), ('¿identificas', 8), ('ilustración', 8), ('¿identifican', 8), ('venenos', 8), ('adecuadamente', 32), ('despiertan', 8), ('esconden', 8), ('plano', 24), ('explicarnos', 8), ('craps', 8), ('dentistas', 8), ('moraleja', 16), ('chapuzas', 8), ('judas', 8), ('¿recuerda', 8), ('menean', 8), ('balancean', 8), ('pedírmelo', 16), ('bazar', 8), ('afeminado', 8), ('fábula', 8), ('desprendimiento', 8), ('alpinistas', 8), ('asegúrense', 8), ('telefonazo', 8), ('¿decidiste', 8), ('residencia', 8), ('antialergénica', 8), ('somnolencia', 8), ('volverse', 32), ('infelicidad', 16), ('absorto', 8), ('ejecutivo', 24), ('aseguradora', 8), ('líderes', 24), ('paladín', 8), ('mencionar', 24), ('ideó', 8), ('falla', 8), ('seguirlo', 24), ('propuesto', 8), ('cristales', 16), ('despilfarrar', 16), ('públicos', 32), ('melancolía', 8), ('tratarme', 8), ('tardenoche', 8), ('ceremonioso', 8), ('presentan', 8), ('esqueleto', 16), ('jovencita', 8), ('empeorado', 8), ('resultando', 8), ('atoré', 8), ('expresarle', 8), ('insatisfacción', 8), ('localicé', 8), ('granito', 8), ('acechándome', 8), ('recrimino', 8), ('pospusieras', 8), ('florezcan', 8), ('rosales', 16), ('agarrarla', 8), ('limpiarme', 8), ('temblor', 24), ('shizuoka', 8), ('triunfe', 8), ('cancele', 16), ('vombátidos', 16), ('imaginado', 16), ('rememoro', 16), ('abrieras', 8), ('capó', 8), ('aproveché', 16), ('ocasionó', 16), ('acercases', 8), ('releyendo', 8), ('enviaste', 16), ('pudiésemos', 8), ('décadas', 24), ('enderezaran', 8), ('pagaras', 8), ('suicidaría', 8), ('tintorería', 16), ('tradujeras', 16), ('815', 8), ('renunciaré', 8), ('recordases', 8), ('lleguen', 16), ('invitás', 8), ('hillside', 8), ('hamster', 8), ('deseará', 8), ('sitúo', 8), ('fmi', 8), ('monetario', 8), ('atajaremos', 8), ('esfuérzate', 8), ('oprimes', 8), ('caduca', 16), ('emigran', 8), ('conectada', 24), ('asahi', 16), ('shinbun', 8), ('entendiendo', 8), ('llamarle', 48), ('ensamblar', 16), ('célebres', 8), ('forzar', 24), ('imponer', 16), ('bañarte', 8), ('1905', 8), ('kansai', 8), ('abordémoslo', 8), ('procedamos', 8), ('tratarnos', 8), ('tradicionales', 24), ('trataban', 16), ('cumplen', 24), ('pierden', 24), ('incentivó', 16), ('fukuoka', 8), ('liceo', 16), ('alfa', 8), ('romero', 8), ('convertible', 16), ('enseñara', 16), ('opuesta', 8), ('distraer', 24), ('mejoro', 8), ('enfermado', 8), ('terrestre', 16), ('desgracias', 16), ('posesión', 24), ('adicionales', 8), ('95', 16), ('titán', 8), ('nitrógeno', 48), ('paralelas', 16), ('cruzan', 8), ('buscarme', 16), ('recogedor', 8), ('escobas', 8), ('sustituya', 8), ('cartucho', 16), ('liliuokalani', 8), ('recientes', 16), ('notables', 24), ('jabones', 8), ('aromáticos', 8), ('provocarle', 8), ('picor', 8), ('personajes', 24), ('confrontó', 8), ('mimara', 8), ('subrayó', 16), ('dió', 8), ('bebería', 8), ('aprovecha', 16), ('términos', 40), ('bajarse', 16), ('preferencia', 8), ('dirían', 16), ('maquinaria', 16), ('acostumbrarás', 32), ('acordaba', 16), ('gobernó', 8), ('filipinas', 16), ('¿coleccionas', 8), ('contestes', 8), ('hacinadas', 8), ('retransmite', 8), ('sastre', 8), ('géneros', 8), ('sesentas', 8), ('protestas', 24), ('reformas', 16), ('murai', 8), ('lazos', 8), ('indignados', 8), ('atraganta', 8), ('aparcada', 8), ('entusiasmaron', 8), ('estacionado', 8), ('rescatado', 16), ('pasmada', 8), ('colapsarse', 8), ('consultas', 8), ('consultorio', 8), ('escoltado', 8), ('fugado', 8), ('fugitivos', 8), ('prófugos', 8), ('produciendo', 16), ('extinguido', 24), ('tornara', 8), ('arrojada', 8), ('bombear', 16), ('funeraria', 8), ('escalemos', 8), ('magníficas', 8), ('mostraban', 16), ('íntegro', 8), ('deteriorado', 8), ('embarrada', 16), ('duraznero', 8), ('florece', 8), ('melocotonero', 16), ('jfk', 8), ('cia', 16), ('entregarse', 24), ('cuartada', 8), ('perseguirá', 8), ('muhammad', 8), ('medina', 8), ('632', 8), ('crecía', 24), ('alfombrado', 8), ('recortes', 48), ('pasarela', 8), ('embarcar', 8), ('lateral', 16), ('hiedra', 8), ('patinadores', 8), ('deslizaban', 8), ('marchan', 16), ('uniformes', 40), ('camuflaje', 8), ('1876', 8), ('enturbió', 8), ('asakusa', 8), ('salas', 16), ('primaria', 16), ('paradas', 16), ('casino', 8), ('registradoras', 16), ('panorámica', 8), ('cantarán', 8), ('derribar', 16), ('desenterraron', 8), ('graneros', 8), ('descuidadamente', 8), ('inconscientes', 8), ('intrincado', 8), ('pasen', 24), ('camiones', 16), ('icono', 56), ('serte', 16), ('expulsados', 8), ('volarán', 8), ('husmeando', 8), ('rasguñando', 8), ('enamorar', 16), ('hermética', 8), ('ocasionalmente', 16), ('sostenidamente', 8), ('malabares', 8), ('características', 8), ('afeitado', 16), ('ascendieran', 8), ('tecla', 8), ('groserías', 8), ('bridge', 8), ('bronceándose', 8), ('kerosén', 8), ('arrestar', 8), ('tatarabuelo', 16), ('indisposición', 8), ('certera', 8), ('ladrillos', 8), ('proveedores', 8), ('langostas', 8), ('impedirle', 8), ('limitaciones', 8), ('corroborar', 8), ('refugiamos', 8), ('contrataremos', 8), ('cederemos', 8), ('proporcionaremos', 24), ('necesitéis', 8), ('fotocopiadora', 16), ('guiña', 8), ('peniques', 8), ('¿tendrás', 32), ('entere', 32), ('cruzaste', 8), ('consiguen', 8), ('contás', 16), ('prometerías', 8), ('adivines', 8), ('combinar', 24), ('etcétera', 8), ('pedirles', 8), ('asociar', 24), ('adivinarás', 8), ('mimar', 8), ('consienten', 8), ('«¿sigues', 8), ('conmigo»', 16), ('nada»', 8), ('mundo»', 8), ('«en', 8), ('reuniones»', 8), ('lidya', 8), ('juanita', 8), ('materiales', 24), ('mediador', 8), ('expone', 8), ('validez', 8), ('elástica', 8), ('perreras', 8), ('inseguridad', 8), ('composiciones', 16), ('debatirlo', 8), ('desapareciendo', 8), ('agradecidamente', 8), ('postulantes', 8), ('dedicándoles', 8), ('¿ni', 8), ('acordada', 8), ('probártelos', 8), ('biodiversidad', 8), ('¡ánimo', 16), ('engreido', 8), ('tataree', 8), ('¿planeáis', 8), ('preguntad', 8), ('polluelos', 16), ('tesoros', 24), ('buscá', 8), ('acabás', 16), ('llénala', 8), ('abetos', 8), ('utilizan', 24), ('aftosa', 8), ('franklin', 16), ('genes', 24), ('consisten', 8), ('secuencia', 8), ('escritores', 24), ('agregado', 16), ('tahití', 24), ('equitación', 8), ('supremo', 8), ('monumentos', 8), ('parangón', 8), ('electrónica', 8), ('encuentros', 16), ('dejándola', 8), ('seguirle', 16), ('olímpico', 8), ('levantamiento', 8), ('caudillos', 8), ('cercanías', 8), ('acuesta', 24), ('catedrático', 8), ('combine', 48), ('vendida', 24), ('81', 16), ('enfadaron', 8), ('mexicanos', 8), ('causaron', 16), ('amargura', 8), ('suscripción', 8), ('cónyuge', 24), ('admiradores', 8), ('comentarle', 8), ('ocasionado', 40), ('informarte', 16), ('encontrara', 16), ('calculé', 8), ('porrista', 8), ('búho', 8), ('ululando', 8), ('pagara', 16), ('acusas', 8), ('guisado', 8), ('agobiarlo', 8), ('apruebe', 16), ('procastina', 8), ('reenvié', 8), ('closet', 8), ('claveles', 8), ('ahorro', 24), ('hablantes', 48), ('cambiarle', 16), ('insistí', 8), ('modificáramos', 8), ('explícita', 16), ('alitas', 8), ('hot', 24), ('cakes', 8), ('volviéndome', 8), ('entro', 24), ('monté', 8), ('sugerí', 24), ('quedáramos', 8), ('sientan', 8), ('husmea', 8), ('cotillea', 16), ('intuyo', 8), ('querríais', 16), ('ciudadanía', 8), ('entregaron', 24), ('picando', 8), ('sentías', 24), ('riego', 8), ('encontrármelo', 8), ('asistas', 8), ('hicieran', 56), ('trance', 8), ('observaré', 8), ('yerba', 8), ('gandul', 8), ('distingo', 8), ('morfar', 8), ('disfrazarme', 8), ('contactarte', 24), ('esperándoos', 8), ('trataría', 16), ('tocaría', 16), ('ponela', 8), ('pídeme', 8), ('colmena', 8), ('embarazo', 24), ('orate', 8), ('adaptar', 8), ('guardes', 8), ('generaciones', 16), ('futuras', 24), ('llevemos', 16), ('considerasen', 8), ('venirse', 8), ('desaparezca', 16), ('sarpullido', 8), ('complazcas', 8), ('derry', 8), ('aplastar', 8), ('llovizna', 8), ('establecer', 16), ('borrarse', 16), ('borrarlo', 32), ('texas', 24), ('sitúa', 8), ('hemisferio', 16), ('kublai', 16), ('khan', 16), ('genghis', 8), ('kunihiko', 8), ('comparemos', 8), ('jerseys', 8), ('conformados', 8), ('fibras', 8), ('matemático', 16), ('ronronea', 8), ('rascas', 8), ('oscurece', 8), ('lumbre', 8), ('permitieron', 8), ('abundan', 8), ('reclutando', 8), ('determinadas', 8), ('pavlov', 8), ('exageran', 8), ('tráigale', 16), ('devuélvame', 8), ('abstenerse', 16), ('tejidos', 8), ('ánimos', 8), ('pidiera', 56), ('incalculable', 8), ('obliga', 8), ('poseída', 8), ('maligno', 8), ('esguinzó', 8), ('astrología', 16), ('discutía', 16), ('indignada', 8), ('amante', 8), ('idolatra', 8), ('sólidos', 8), ('imprimieron', 8), ('proviene', 32), ('minas', 16), ('necesitando', 8), ('desodorante', 16), ('radiador', 8), ('profesar', 8), ('escénica', 8), ('manejada', 8), ('balanza', 8), ('bastión', 8), ('dominación', 8), ('maori', 8), ('demuestre', 8), ('fans', 16), ('debieron', 16), ('tornó', 16), ('sangrienta', 16), ('rema', 8), ('físicos', 8), ('inspección', 16), ('metes', 16), ('colorido', 8), ('mandos', 8), ('irreversible', 8), ('1873', 8), ('sacudir', 8), ('anotaciones', 8), ('contenedor', 8), ('iglú', 8), ('escalas', 8), ('sentenció', 16), ('macho', 16), ('coloridas', 8), ('lituania', 8), ('pinocho', 8), ('indescriptible', 16), ('pastor', 16), ('arder', 8), ('infierno', 8), ('ahogase', 8), ('ferrovias', 8), ('llegáramos', 24), ('telaraña', 8), ('chirrido', 32), ('dentera', 8), ('quicio', 8), ('exaspera', 8), ('formales', 8), ('sintaxis', 8), ('scripts', 8), ('python', 8), ('falsearon', 8), ('alojamiento', 16), ('químicas', 8), ('raíces', 8), ('volvían', 16), ('santuario', 8), ('espectadores', 16), ('dc', 8), ('kuchiwa', 8), ('aconsejaron', 24), ('cese', 8), ('afligieron', 8), ('volara', 8), ('apañan', 8), ('contrabandistas', 16), ('supieran', 16), ('bambú', 8), ('transportarla', 8), ('cubriendo', 8), ('velo', 8), ('bebérmelo', 8), ('circuito', 8), ('solucionado', 8), ('monumento', 40), ('1985', 8), ('dejada', 16), ('intencionalmente', 24), ('rembrandt', 16), ('comerlas', 24), ('insultan', 8), ('pelarla', 8), ('creados', 8), ('ocurría', 40), ('venderle', 8), ('desobedecer', 8), ('entendio', 8), ('descubra', 24), ('espárragos', 8), ('enamora', 16), ('encabronó', 8), ('gustase', 8), ('tararear', 16), ('tarugo', 8), ('lerdo', 8), ('frisbee', 8), ('palmera', 8), ('mitología', 16), ('convincente', 8), ('melodias', 8), ('irlandesas', 8), ('vibráfono', 8), ('imaginarse', 8), ('garabateó', 8), ('alimenticio', 8), ('alba', 8), ('alejara', 8), ('sonriera', 8), ('misionero', 8), ('admitirlo', 24), ('calcula', 16), ('circunstancia', 16), ('vice', 8), ('buffalo', 8), ('lejanos', 24), ('confiarle', 8), ('coleccionamos', 16), ('debatido', 16), ('pronta', 8), ('evaluación', 8), ('turbulencia', 8), ('acabábamos', 8), ('aprovecharnos', 8), ('incrementar', 16), ('telefónicas', 16), ('chinas', 8), ('sumergidas', 8), ('concha', 8), ('endurecida', 8), ('comías', 8), ('asentaron', 8), ('creerán', 32), ('creeremos', 8), ('saborear', 16), ('peinaste', 8), ('descargar', 24), ('united', 16), ('airlines', 8), ('tranvía', 8), ('pronosticas', 8), ('detras', 8), ('pedos', 8), ('reportaron', 8), ('¿llegará', 8), ('astucia', 8), ('considerase', 8), ('voluntaria', 32), ('creando', 24), ('¨¿viste', 8), ('pasada¨', 8), ('¨no', 8), ('vi¨', 8), ('eslabones', 8), ('reunieron', 32), ('enunciado', 8), ('verbo', 8), ('paréntesis', 16), ('abofetear', 8), ('arruinada', 8), ('suelos', 8), ('edición', 32), ('respecta', 8), ('impredecibles', 8), ('acabes', 16), ('leerla', 48), ('acabéis', 8), ('acaben', 8), ('¿podes', 8), ('simular', 16), ('religiones', 48), ('describirle', 8), ('enamoraste', 16), ('tolerarán', 8), ('garabatos', 8), ('respiran', 8), ('añadas', 8), ('drogodependencia', 8), ('adicción', 24), ('proporcional', 8), ('difieren', 16), ('esquimales', 8), ('ejercer', 8), ('florencia', 8), ('tragarla', 8), ('cavado', 8), ('comunicara', 16), ('nikko', 16), ('comprimió', 8), ('privó', 8), ('compostura', 8), ('achacar', 8), ('fracasos', 8), ('pana', 16), ('empujo', 8), ('comprendido', 16), ('vulgares', 8), ('cualificado', 16), ('reconocerle', 16), ('jugás', 8), ('quererte', 8), ('complicaciones', 8), ('detienes', 16), ('prepararse', 24), ('calorías', 16), ('suscriptores', 8), ('afeitándote', 8), ('decepciona', 16), ('encaje', 8), ('cocinados', 8), ('recluido', 8), ('anticipar', 8), ('alojabas', 8), ('navideños', 48), ('convertí', 8), ('reemplazar', 24), ('examinara', 16), ('organice', 8), ('podridos', 8), ('arreglarán', 8), ('alimenticios', 32), ('ofrecerme', 8), ('utilizaran', 8), ('corchetes', 8), ('unirías', 8), ('disponía', 8), ('regalarlo', 16), ('esforzar', 8), ('hartando', 16), ('enamorarme', 16), ('gritas', 8), ('resfriases', 8), ('acatarrases', 8), ('comprendes', 8), ('fragmento', 8), ('despedirán', 8), ('corrígelo', 8), ('correa', 16), ('martin', 16), ('luther', 16), ('nobel', 24), ('educar', 8), ('tardé', 24), ('conciliar', 8), ('ingrese', 8), ('decido', 8), ('vigilados', 8), ('maliciosos', 16), ('klava', 8), ('apresurarnos', 8), ('asegurémonos', 8), ('garantiza', 24), ('manchester', 8), ('fallan', 8), ('buscan', 8), ('pretendiera', 8), ('teresa', 48), ('yugoslavia', 8), ('1910', 8), ('académico', 8), ('dejaban', 8), ('alimentara', 16), ('saldrás', 8), ('sorprenderé', 8), ('noruego', 8), ('estropeada', 8), ('peige', 8), ('resérveme', 8), ('guárdate', 8), ('cínicos', 8), ('atorado', 8), ('apegada', 8), ('defecto', 8), ('insistía', 8), ('encontrando', 8), ('inventándose', 8), ('pudieran', 40), ('rosada', 16), ('cajita', 24), ('nebuloso', 8), ('consolarlo', 8), ('provocadas', 8), ('gen', 8), ('minerales', 56), ('corredores', 16), ('masculinas', 8), ('femeninas', 8), ('despojó', 8), ('cubren', 8), ('admitiría', 8), ('administración', 32), ('llevada', 8), ('suministro', 16), ('merendando', 8), ('controlara', 8), ('perjudicó', 8), ('fractura', 8), ('pisemos', 8), ('pedacito', 8), ('maravillaba', 8), ('apiladas', 8), ('lamentando', 8), ('causo', 8), ('privadas', 16), ('devuelven', 8), ('séquito', 8), ('pastelería', 8), ('funestas', 8), ('soga', 16), ('indescriptiblemente', 8), ('realizando', 24), ('acogieron', 8), ('cristiana', 8), ('diezmaron', 8), ('acabaremos', 8), ('estaca', 8), ('sobresale', 8), ('machacada', 8), ('estudiantil', 8), ('vacuna', 24), ('tétano', 8), ('dolió', 8), ('reclamaron', 8), ('vendieron', 16), ('amenazaba', 16), ('derechas', 8), ('retrasar', 8), ('nuera', 8), ('reciben', 8), ('atentado', 16), ('sobrero', 8), ('gramatical', 8), ('recaída', 8), ('compran', 8), ('consideraban', 16), ('llevaste', 8), ('laborales', 8), ('apartamentos', 8), ('interpretada', 8), ('rosquillas', 8), ('editar', 8), ('escabulleron', 8), ('caminaban', 8), ('enseñaría', 16), ('regresara', 24), ('sobrestima', 8), ('reaccionara', 8), ('admiradora', 8), ('esposado', 8), ('frasco', 24), ('pinchado', 8), ('modesta', 8), ('graduarse', 56), ('culpe', 8), ('marino', 8), ('echarse', 16), ('tumbarse', 8), ('amenazar', 8), ('necesitase', 16), ('conseguirme', 8), ('trajera', 16), ('contrataron', 8), ('murmuraba', 16), ('hijastros', 8), ('apoderan', 8), ('chubascos', 8), ('desenchufa', 8), ('vacunación', 8), ('infantiles', 16), ('legado', 8), ('tendemos', 16), ('muerden', 8), ('reciclado', 8), ('felicitamos', 8), ('aullar', 16), ('coloquio', 8), ('invertir', 32), ('renovable', 8), ('activación', 16), ('enviamos', 8), ('históricos', 8), ('ordenaron', 16), ('marcháramos', 8), ('largáramos', 8), ('cera', 8), ('mercaderías', 8), ('vendes', 16), ('desplumaste', 8), ('aplastaste', 8), ('tradujiste', 8), ('ponéis', 8), ('recibirá', 8), ('obtendrá', 8), ('admitís', 8), ('portarte', 8), ('¿harás', 8), ('lacena', 8), ('trabajólicos', 8), ('envíar', 8), ('defenderte', 8), ('insaciable', 8), ('bañes', 16), ('confiscar', 8), ('aprovecharte', 16), ('descubres', 16), ('flacas', 8), ('tachar', 8), ('resignarte', 8), ('lubricada', 8), ('ganás', 8), ('quedáis', 16), ('lluviosos', 8), ('preguntarán', 8), ('contrabajo', 8), ('influirá', 8), ('calificación', 8), ('trimestre', 32), ('¿dejará', 8), ('pilar', 8), ('obstruye', 8), ('trasladaba', 8), ('definiciones', 8), ('adición', 8), ('código', 16), ('constituido', 16), ('pensaban', 16), ('hormiga', 16), ('involuntaria', 16), ('estrenando', 8), ('armstrong', 16), ('incorporó', 8), ('asumiendo', 8), ('biólogos', 8), ('mejunje', 8), ('encarcelados', 8), ('repuestos', 8), ('croacia', 32), ('sudeste', 32), ('colocación', 8), ('cuidemos', 8), ('ancha', 8), ('claves', 8), ('inventada', 24), ('alfred', 8), ('1857', 8), ('despista', 8), ('reconocidos', 8), ('bajarme', 8), ('hipster', 8), ('toallero', 8), ('generales', 8), ('levantate', 8), ('civilización', 40), ('huérfanos', 32), ('habituó', 8), ('proclamó', 8), ('surf', 8), ('gubernamental', 8), ('desahogó', 8), ('oficinista', 8), ('económicamente', 8), ('ausentó', 8), ('1050', 8), ('faz', 8), ('traición', 16), ('encubierto', 8), ('incógnito', 8), ('próximas', 24), ('nevazón', 8), ('partiera', 8), ('debut', 16), ('alardeo', 8), ('lanzador', 16), ('extraer', 8), ('videoclip', 8), ('avena', 8), ('licorería', 8), ('rumanos', 16), ('agrade', 8), ('originando', 8), ('felicitaciones', 24), ('campanadas', 8), ('critiquen', 8), ('supusiera', 8), ('acosté', 8), ('vietnamita', 16), ('tiên', 8), ('asociado', 8), ('traducidas', 8), ('pollos', 16), ('sabrías', 8), ('confirme', 8), ('arcén', 16), ('enseñándome', 8), ('flirtear', 16), ('representé', 8), ('tesorero', 8), ('centremos', 8), ('dediquemos', 8), ('abandone', 16), ('evitado', 24), ('oir', 16), ('traería', 16), ('jugaran', 8), ('acaparar', 8), ('expliques', 8), ('razonamiento', 8), ('saltarme', 8), ('retractar', 8), ('alimentaría', 8), ('respondiese', 8), ('respondiera', 16), ('recordarle', 8), ('directa', 32), ('advirtieras', 8), ('street', 40), ('colapsarás', 8), ('evitarás', 8), ('vivas', 16), ('mezclás', 8), ('estudiaras', 8), ('pensarías', 8), ('retorcido', 8), ('cláusula', 8), ('arrendamiento', 8), ('transmitir', 8), ('elijamos', 8), ('pajar', 8), ('pensarse', 8), ('recuperarme', 16), ('ingresarlo', 8), ('j', 8), ('f', 8), ('arlington', 8), ('josh', 8), ('nacimientos', 8), ('defunciones', 8), ('ejercita', 8), ('malnutridos', 8), ('atraviesan', 16), ('marilyn', 32), ('experimentan', 8), ('invertebrados', 8), ('suruga', 8), ('temprana', 40), ('elevalunas', 8), ('centralizado', 16), ('levantavidrios', 8), ('generación', 72), ('contaba', 8), ('encargarse', 8), ('parterre', 8), ('elba', 8), ('exilio', 8), ('electrones', 24), ('negativos', 16), ('justificarlo', 8), ('participación', 8), ('cometen', 32), ('duden', 16), ('recójame', 8), ('alcanzarlo', 24), ('escríbame', 8), ('retrase', 16), ('regulados', 8), ('prometeme', 8), ('humos', 8), ('punzantes', 16), ('surgieron', 24), ('convirtiendo', 8), ('propósitos', 16), ('malvados', 8), ('encendía', 8), ('elegancia', 8), ('lucrativos', 8), ('repetía', 8), ('simpatizó', 8), ('desafortunadas', 8), ('difundiera', 8), ('notarlo', 8), ('asistiera', 8), ('preparaste', 8), ('fregaré', 8), ('sirius', 16), ('escaqueó', 8), ('sustituidos', 8), ('oriente', 16), ('sahara', 8), ('naciones', 56), ('unidas', 48), ('1952', 16), ('llevarlos', 32), ('bauru', 8), ('masiva', 32), ('volada', 8), ('sinuosa', 8), ('reunieran', 8), ('narcotraficante', 8), ('durarán', 24), ('alumbrado', 8), ('chavalin', 8), ('mediado', 8), ('monarca', 8), ('peregrinos', 8), ('remotas', 8), ('flagrante', 8), ('amaneció', 8), ('quemaba', 16), ('bufón', 8), ('indicaba', 16), ('arrodillado', 24), ('enriquecen', 8), ('empobrecen', 8), ('vendedora', 8), ('desabrochando', 8), ('ambientada', 8), ('imaginábamos', 8), ('proporcionarnos', 8), ('necesitemos', 8), ('voluntades', 8), ('timados', 8), ('forasteros', 8), ('recelosos', 8), ('llegados', 16), ('procesador', 16), ('trasfondo', 8), ('posturas', 8), ('científica', 8), ('ferrocarril', 40), ('ferrocarriles', 8), ('celebraron', 8), ('reprobaron', 8), ('desmantelaron', 8), ('atrancada', 8), ('sacrificaron', 8), ('montarlo', 16), ('manso', 8), ('básicas', 24), ('abonar', 8), ('recordártelo', 8), ('farmacias', 8), ('altitud', 8), ('integridad', 8), ('peatones', 8), ('residentes', 8), ('fingieron', 16), ('parecieran', 8), ('casarán', 8), ('velitas', 24), ('pillar', 40), ('suicidió', 8), ('tirándose', 16), ('manipula', 8), ('gangas', 8), ('asesina', 16), ('tendiendo', 8), ('desarrollarán', 8), ('alienígenas', 8), ('operaran', 8), ('veintes', 16), ('xilófono', 8), ('ayudásemos', 8), ('quinceañera', 8), ('mechón', 8), ('optar', 8), ('condicional', 24), ('aumentan', 8), ('envuelvas', 8), ('ingrata', 8), ('amargas', 8), ('tendrémos', 8), ('¡tenemos', 8), ('ocuparnos', 8), ('ingeridos', 16), ('matara', 8), ('renunciarías', 8), ('¿ante', 8), ('requieres', 8), ('disteis', 8), ('escalaste', 8), ('fumaste', 8), ('deriva', 8), ('desembarcamos', 8), ('estábais', 8), ('aquélla', 8), ('protestando', 16), ('manifestando', 16), ('egipcios', 8), ('¿llegaré', 8), ('¿causaría', 8), ('agregarme', 8), ('contactos', 16), ('goteo', 8), ('tubería', 32), ('cociéndola', 8), ('autorización', 16), ('cauteloso', 8), ('seriedad', 16), ('aprendieras', 8), ('cometes', 8), ('señalada', 8), ('anochezca', 8), ('adaptarás', 8), ('huyes', 8), ('rodante', 16), ('junta', 32), ('musgo', 8), ('«¿quiere', 8), ('mensaje»', 8), ('gracias»', 8), ('tania', 8), ('pupilos', 8), ('polen', 8), ('hepatitis', 8), ('tsunami', 16), ('plantara', 8), ('restablecido', 8), ('república', 16), ('exmujeres', 8), ('potasio', 8), ('contales', 8), ('cuéntales', 8), ('clark', 8), ('kent', 8), ('supermán', 8), ('ético', 40), ('dilemas', 8), ('éticos', 8), ('choclo', 8), ('debatieron', 8), ('manifestación', 32), ('¿escribió', 8), ('cubiertos', 24), ('¿debemos', 8), ('disfrutarías', 8), ('¿gana', 8), ('muerda', 24), ('ganso', 8), ('vistes', 8), ('terrestres', 16), ('elegible', 8), ('independientemente', 8), ('falto', 16), ('generalizando', 8), ('inquietarse', 8), ('ingresó', 32), ('gruñía', 16), ('pagaban', 8), ('padeció', 8), ('1823', 8), ('tejas', 16), ('arriesgando', 16), ('levantaba', 16), ('baquetas', 8), ('marche', 8), ('formó', 16), ('amarradas', 16), ('atendido', 8), ('suicidará', 8), ('someterse', 16), ('necesarios', 16), ('causaba', 8), ('cómodamente', 8), ('dejasen', 8), ('verías', 8), ('lucirías', 8), ('registré', 8), ('confirmé', 8), ('especializarme', 8), ('aceptarla', 8), ('escale', 8), ('candidatos', 40), ('tilín', 8), ('dañada', 8), ('mordidas', 8), ('lanchas', 8), ('motoras', 8), ('tiki', 8), ('gurú', 8), ('sirvan', 8), ('estorbarte', 8), ('christie', 8), ('concluir', 8), ('recosté', 8), ('descortezando', 8), ('australiano', 32), ('matarían', 8), ('remolque', 8), ('mencionaras', 8), ('regalarte', 16), ('cocines', 8), ('retires', 8), ('llevasen', 8), ('obligaré', 8), ('póngame', 16), ('usaría', 8), ('prefirieras', 8), ('prefirieran', 8), ('apagaras', 24), ('fuerais', 16), ('bajas', 8), ('lavás', 8), ('halago', 8), ('teclados', 16), ('trascurso', 8), ('maltratas', 8), ('pídeles', 16), ('marchen', 8), ('cúlpanos', 8), ('pedírmela', 8), ('mejoras', 32), ('percibirse', 8), ('sorprenderse', 8), ('constantinopla', 8), ('hubiésemos', 24), ('grava', 8), ('contratiempos', 16), ('jonas', 8), ('salk', 8), ('polio', 8), ('lemán', 8), ('enseñártela', 8), ('empeore', 16), ('encontrémonos', 8), ('desearían', 8), ('moderado', 24), ('imbebible', 8), ('horrores', 8), ('flirtea', 8), ('gordita', 8), ('infecciosas', 8), ('contagiosas', 8), ('extingue', 8), ('desaparece', 8), ('plegaria', 8), ('comértela', 8), ('oprime', 8), ('hoar', 8), ('amarró', 8), ('narró', 8), ('entregada', 8), ('exprimir', 16), ('peinando', 8), ('alentarme', 8), ('tensión', 16), ('enjaulados', 16), ('generosa', 16), ('contribuido', 8), ('divulgar', 16), ('estacionarlo', 8), ('encoger', 8), ('editorial', 16), ('especializada', 8), ('distribuyó', 8), ('cantarle', 8), ('atraso', 16), ('presumió', 8), ('integrada', 8), ('xvii', 8), ('moscú', 16), ('cochecomedor', 8), ('abrochemos', 8), ('electoral', 16), ('1880', 8), ('altar', 8), ('rifles', 8), ('comiéndose', 8), ('avería', 8), ('erguido', 8), ('rectángulo', 16), ('paralelos', 16), ('evacuados', 8), ('evacuada', 8), ('flotaban', 8), ('soltara', 16), ('expuso', 8), ('varía', 16), ('triunfé', 8), ('gramaticales', 40), ('costosos', 16), ('accesorios', 8), ('construído', 8), ('alargar', 16), ('reformar', 8), ('cuestiones', 16), ('inventos', 16), ('vistieron', 16), ('traficantes', 24), ('asolear', 8), ('forestales', 16), ('cualificados', 8), ('pasarle', 8), ('hackeo', 8), ('enmarcadas', 8), ('akagi', 8), ('agrias', 8), ('avisaron', 8), ('comentar', 24), ('mezclan', 8), ('asaltaron', 8), ('desilusionados', 8), ('apenados', 16), ('evitará', 24), ('gérmenes', 24), ('reproduzcan', 8), ('sujetar', 8), ('peluche', 8), ('satélites', 24), ('igualdad', 8), ('apoyase', 8), ('timado', 8), ('cadáveres', 8), ('aguantando', 24), ('sabé', 16), ('voltear', 8), ('convirtiéndose', 8), ('entregárselo', 8), ('machete', 8), ('boletas', 8), ('ausentado', 8), ('contestadora', 8), ('contestador', 8), ('plazca', 8), ('vagos', 8), ('invitara', 8), ('aparecido', 8), ('tonteando', 8), ('cocinaba', 8), ('estornuda', 8), ('migrañas', 16), ('prenupcial', 8), ('regresaste', 8), ('quejara', 8), ('afinar', 8), ('pianos', 8), ('morreo', 8), ('bifurque', 8), ('aceptaríamos', 16), ('ofreciera', 16), ('peligrosamente', 8), ('morirnos', 8), ('congelados', 8), ('estimamos', 16), ('ganaremos', 8), ('atmosférica', 8), ('oasis', 8), ('aclaremos', 8), ('lucharemos', 8), ('habremos', 24), ('tuvieses', 8), ('empire', 8), ('state', 8), ('acompañarla', 8), ('recuperé', 16), ('independizó', 8), ('arreglase', 8), ('planchaste', 8), ('sonreíste', 8), ('ozono', 8), ('encargarías', 8), ('alimentados', 8), ('estenopeica', 8), ('asomando', 8), ('pedile', 8), ('quebrar', 24), ('copiar', 16), ('fascinarse', 16), ('zoología', 8), ('«¿cuántas', 8), ('acertaste»', 8), ('«ninguna»', 8), ('oxida', 8), ('batidora', 8), ('vacilación', 16), ('imprimió', 8), ('seguidor', 8), ('islam', 48), ('cuarteto', 8), ('ensayando', 16), ('contiguo', 16), ('andábamos', 8), ('¿más', 8), ('marearon', 8), ('lanzada', 8), ('¿visitará', 8), ('benjamin', 8), ('harrison', 16), ('racismo', 8), ('bok', 8), ('choy', 8), ('pavimento', 8), ('marcadas', 8), ('costeras', 8), ('sufrirán', 8), ('comunismo', 8), ('colcha', 8), ('avanzar', 16), ('compendiar', 8), ('pertinentes', 8), ('¿creó', 8), ('¿invitaron', 8), ('contase', 8), ('ofendastom', 8), ('desafíes', 8), ('plantees', 8), ('chucks', 8), ('dinner', 8), ('educacionales', 8), ('hervidos', 8), ('elvis', 16), ('presley', 16), ('comprenderá', 8), ('infecta', 8), ('corrompe', 8), ('óptima', 8), ('demorará', 8), ('pastores', 16), ('hackers', 16), ('ingresan', 8), ('penetran', 8), ('pretexto', 8), ('tuvieran', 8), ('asistentes', 8), ('trasmitió', 8), ('enteró', 24), ('productiva', 8), ('impasivo', 8), ('cosaco', 8), ('roncó', 8), ('homero', 8), ('sentaría', 8), ('asiduidad', 8), ('cantinas', 8), ('bajaba', 8), ('emocionaron', 8), ('oposición', 32), ('ofrecéis', 8), ('acampé', 8), ('atada', 16), ('vaticinar', 8), ('seguirles', 8), ('encontraros', 8), ('encontrarles', 8), ('sumergiéndose', 8), ('acostado', 8), ('despidiéndome', 8), ('inconclusos', 16), ('chabón', 8), ('ocupaba', 16), ('muestres', 8), ('ssh', 8), ('informándome', 16), ('antelación', 16), ('suburbios', 8), ('llegarían', 8), ('refugié', 8), ('felpudo', 8), ('metieran', 8), ('deducir', 16), ('dogs', 16), ('mostaza', 32), ('industrias', 16), ('cago', 8), ('volvieras', 8), ('decímelo', 8), ('decídmelo', 16), ('1958', 16), ('puntualmente', 8), ('quejaste', 8), ('acostumbrarse', 144), ('verbalizar', 8), ('exiguas', 8), ('cerciórate', 16), ('básico', 8), ('adquisición', 16), ('lustro', 8), ('mehmed', 8), ('talat', 8), ('1921', 8), ('diseñada', 16), ('industiales', 8), ('arranque', 8), ('estornudos', 8), ('costuras', 8), ('robinson', 8), ('selena', 24), ('gomez', 24), ('ascendencia', 8), ('dañados', 16), ('destruidos', 24), ('acoso', 8), ('sexual', 8), ('caminara', 8), ('discapacitados', 16), ('visitarlo', 16), ('amuebló', 8), ('soltarle', 8), ('entenderla', 16), ('territorios', 8), ('superstición', 8), ('agridulce', 8), ('realidades', 8), ('actuales', 8), ('recubierta', 8), ('bueyes', 8), ('tatoeba', 8), ('shinano', 32), ('decimotercera', 8), ('enmienda', 8), ('llevarla', 16), ('mortalidad', 8), ('ronroneó', 8), ('acariciando', 8), ('transferencia', 8), ('lacrimógenas', 8), ('arrecife', 8), ('coral', 16), ('atracción', 8), ('delegaciones', 8), ('asquearon', 8), ('enterrando', 8), ('civilizaciones', 8), ('mesopotamia', 8), ('exploradores', 24), ('lienzo', 8), ('payasos', 8), ('tropezar', 16), ('corrían', 8), ('vigor', 8), ('afligió', 8), ('recuperan', 8), ('esposó', 8), ('rocosas', 8), ('serían', 24), ('lavásemos', 8), ('clavel', 16), ('solapa', 16), ('escalarlo', 8), ('descendió', 8), ('reconstruido', 8), ('conocerás', 24), ('birmingham', 8), ('atómicas', 8), ('indistinguibles', 8), ('repetidas', 8), ('esquema', 8), ('ponzi', 8), ('fanáticos', 8), ('comenzaba', 8), ('guardaron', 16), ('encontrados', 32), ('chocaban', 16), ('comprármela', 8), ('kushikatsu', 8), ('dijimos', 8), ('lavados', 8), ('gramáticamente', 8), ('niveles', 24), ('tiger', 8), ('woods', 8), ('lámina', 8), ('padecer', 8), ('cuidase', 8), ('percataron', 8), ('respetarse', 8), ('candidatura', 8), ('vigésimo', 8), ('podadora', 8), ('¿cara', 8), ('chófer', 8), ('reemplace', 24), ('emborracharse', 8), ('hablándole', 8), ('subestimar', 16), ('invitase', 8), ('conseguiría', 8), ('uniera', 16), ('descubriera', 8), ('sacrificar', 16), ('dióxido', 32), ('carbono', 72), ('valencia', 8), ('celsius', 16), ('nombramos', 8), ('medioambientales', 8), ('acordarnos', 16), ('dejándole', 8), ('felicitarles', 8), ('chaparrón', 40), ('aparezcas', 8), ('compensaba', 8), ('solteras', 16), ('¿serías', 8), ('casaros', 8), ('kohei', 8), ('tanaka', 8), ('pensaréis', 8), ('darían', 8), ('dierais', 8), ('acordarte', 8), ('acordarás', 8), ('¡dijiste', 8), ('levantáis»«a', 8), ('ocho»', 8), ('estallido', 16), ('escénico', 8), ('deleznable', 8), ('fallecidos', 16), ('adulterio', 8), ('bandido', 8), ('carnero', 8), ('desollarlo', 8), ('devorados', 8), ('bilingües', 16), ('invertirlo', 8), ('contribuye', 16), ('perpetró', 8), ('planificado', 8), ('metieras', 8), ('procedió', 8), ('1600', 8), ('superiores', 24), ('escarabajos', 8), ('arreglártelas', 8), ('tápese', 16), ('tosa', 16), ('estornude', 16), ('bostece', 16), ('¿sabrás', 8), ('cazarlo', 8), ('interponga', 8), ('monopolicen', 8), ('asientes', 8), ('electrodomésticos', 8), ('recreación', 8), ('viceversa', 8), ('enmendarse', 8), ('digiera', 8), ('galileo', 8), ('acude', 16), ('cruzado', 8), ('ilustrada', 8), ('distraerse', 8), ('literal', 8), ('atraía', 8), ('atractivas', 8), ('bregando', 8), ('boquiabierto', 8), ('encargó', 8), ('noqueado', 8), ('asalto', 24), ('evaporaron', 8), ('entretenerte', 8), ('avanzada', 16), ('impide', 16), ('coincide', 8), ('christmas', 8), ('trazos', 8), ('michi', 8), ('armaste', 8), ('llenarse', 8), ('llenará', 8), ('recordaran', 8), ('hull', 8), ('trapear', 8), ('telefoneé', 8), ('encenderlo', 8), ('felicité', 8), ('retirarme', 8), ('consolarte', 8), ('adecuadas', 8), ('castiguen', 16), ('130', 8), ('despertadores', 8), ('bikinis', 8), ('caimanes', 8), ('operaban', 8), ('desorienté', 8), ('cargando', 8), ('manteniendo', 16), ('celebre', 8), ('compulsivamente', 8), ('visitaríamos', 8), ('casáramos', 8), ('ausenté', 16), ('matrícula', 8), ('proveeré', 16), ('tocaran', 8), ('determinar', 16), ('redescubrir', 8), ('agradaría', 24), ('finalice', 8), ('pasantía', 8), ('compilar', 8), ('daos', 8), ('antibióticos', 24), ('retrasara', 8), ('conectarse', 16), ('aliadas', 8), ('adjetivo', 8), ('cursos', 8), ('intensivos', 8), ('agotadores', 8), ('presentame', 8), ('construiste', 8), ('socialmente', 8), ('necesidades', 56), ('energéticas', 8), ('requerí', 8), ('completarlo', 8), ('crucial', 16), ('kan', 8), ('dinastía', 8), ('yuan', 8), ('1271', 8), ('confiemos', 16), ('desquito', 8), ('aseguraos', 8), ('manteneros', 8), ('coleta', 16), ('diagnosticaron', 8), ('consumiendo', 8), ('mireille', 8), ('mathieu', 8), ('75', 16), ('puercos', 8), ('lecheras', 8), ('holandeses', 8), ('amsterdam', 16), ('ambiciones', 8), ('neptuno', 16), ('érase', 16), ('mantenerla', 16), ('destitución', 8), ('ancestros', 16), ('energéticos', 24), ('incumplen', 8), ('específicas', 8), ('embarazadas', 16), ('sufren', 8), ('matutinas', 8), ('entregados', 8), ('quito', 8), ('gilipollas', 8), ('proveyó', 8), ('perseguirle', 8), ('convenciera', 16), ('cacerola', 16), ('sordas', 8), ('salvador', 8), ('desmerecida', 8), ('influenció', 16), ('5500', 24), ('obispo', 16), ('desesperados', 8), ('mandan', 8), ('obligada', 16), ('desaparecidos', 8), ('humedad', 32), ('psicológico', 8), ('112', 8), ('doblegarse', 8), ('denso', 16), ('transistor', 8), ('ondulaba', 8), ('equitativamente', 8), ('herederos', 8), ('baratísima', 8), ('sena', 16), ('riachuelo', 8), ('subes', 8), ('hervirá', 8), ('consumía', 8), ('operario', 8), ('renuncie', 16), ('reflexionó', 8), ('vínculo', 8), ('genialidad', 16), ('refuerzos', 8), ('resolverán', 8), ('aportaciones', 8), ('aportes', 8), ('tomaban', 8), ('sacrificios', 8), ('repone', 8), ('bebían', 8), ('turnos', 16), ('turnaban', 8), ('jure', 16), ('tiqué', 8), ('interrogara', 8), ('filosofías', 8), ('asegurarse', 48), ('cocinándose', 8), ('matriculó', 8), ('nocturnas', 8), ('contestarle', 8), ('pagarle', 8), ('sendero', 16), ('subtítulos', 24), ('australiana', 8), ('afeitarse', 24), ('digital', 8), ('comunitario', 8), ('estable', 8), ('exhibiciones', 8), ('aferramos', 8), ('cumplimos', 8), ('informarles', 8), ('directivos', 8), ('alquilábamos', 8), ('vivíamos', 8), ('permitiremos', 8), ('ayudéis', 16), ('secuestrara', 16), ('almacenas', 8), ('pitido', 8), ('discutiste', 8), ('asististe', 8), ('guardarme', 8), ('escurra', 8), ('tenderla', 8), ('cuan', 24), ('cuidarías', 8), ('averiguan', 8), ('luchas', 8), ('zúrich', 16), ('metrópoli', 16), ('«¿cuánto', 8), ('reunión»', 8), ('«dos', 8), ('horas»', 8), ('¿tocarás', 8), ('durrante', 8), ('filial', 8), ('generalizaciones', 16), ('incluyendo', 40), ('involucrarte', 16), ('mareó', 16), ('sonreímos', 8), ('amputarle', 8), ('garras', 8), ('done', 8), ('dwight', 8), ('orar', 16), ('descubro', 16), ('masculino', 16), ('permítanme', 16), ('regional', 8), ('camboya', 8), ('funerales', 8), ('celebrarán', 8), ('occidentales', 24), ('jefes', 24), ('patrones', 8), ('notre', 8), ('enmarcó', 16), ('antropología', 8), ('presidenciales', 16), ('memorizó', 8), ('comenté', 8), ('internas', 8), ('colérico', 8), ('premiado', 8), ('paño', 8), ('secara', 8), ('indefensión', 8), ('apela', 8), ('maternal', 8), ('demoro', 8), ('ato', 8), ('rechazara', 16), ('llamarás', 8), ('estabamos', 8), ('resfriarme', 8), ('pudin', 8), ('natillas', 8), ('merienda', 8), ('quisquillosos', 8), ('chiqueones', 8), ('pdf', 8), ('¡espero', 8), ('alistarme', 8), ('cité', 8), ('aérea', 24), ('afronte', 8), ('sentáramos', 8), ('definición', 8), ('presupuestarios', 24), ('pidieran', 16), ('súper', 8), ('leería', 8), ('componer', 8), ('traduzcas', 16), ('olvidaría', 8), ('pronunciando', 8), ('liberaría', 8), ('informen', 8), ('nacer', 24), ('opondré', 8), ('votaré', 8), ('despediré', 8), ('suspenderás', 8), ('equivalía', 8), ('altitudes', 8), ('visten', 8), ('aparición', 8), ('heladas', 8), ('asistimos', 8), ('acupuntura', 8), ('defunción', 8), ('metadona', 8), ('prescribe', 8), ('aconsejado', 24), ('compusivo', 8), ('samuráis', 8), ('tour', 8), ('luzco', 8), ('dosis', 16), ('recreativas', 8), ('leyendas', 8), ('revoluciones', 8), ('fracasan', 8), ('olvidadas', 8), ('hámster', 8), ('selectividad', 8), ('trenzaba', 8), ('tender', 8), ('jugasen', 16), ('tratada', 8), ('hospedará', 8), ('royal', 16), ('dominada', 8), ('dividir', 8), ('emisión', 8), ('difundida', 8), ('desórdenes', 24), ('transilvania', 8), ('ilustrado', 8), ('abrumadora', 8), ('púas', 8), ('kochi', 8), ('clonaciones', 8), ('embriones', 8), ('rústica', 8), ('explotarlos', 8), ('protestaba', 8), ('hechizó', 8), ('renacimiento', 8), ('disminuir', 8), ('creará', 8), ('llana', 8), ('colibrí', 16), ('alimentador', 8), ('aguantaría', 8), ('ilusiona', 8), ('shanghái', 16), ('engordarás', 8), ('diseños', 8), ('pillará', 8), ('estrangulada', 8), ('garantizan', 8), ('editores', 8), ('liberales', 8), ('dividieron', 8), ('llenaba', 8), ('soportaban', 8), ('indisputables', 8), ('infecciones', 8), ('causadas', 8), ('juntaban', 8), ('combatieron', 8), ('libia', 8), ('espiritualmente', 8), ('insistieron', 8), ('aprovechara', 8), ('variados', 8), ('alimentación', 16), ('devolverán', 8), ('ahogo', 8), ('hablarse', 16), ('skype', 8), ('congelador', 16), ('rosados', 8), ('corrupción', 8), ('fusibles', 8), ('eric', 8), ('clapton', 8), ('pueblito', 8), ('ensaladas', 8), ('trazaría', 8), ('manejado', 16), ('nevaría', 8), ('practicara', 8), ('mesita', 8), ('banquete', 8), ('contuviera', 8), ('desconcertó', 8), ('mendel', 8), ('imaginamos', 16), ('envenenara', 8), ('descartar', 56), ('frescura', 8), ('distribuir', 16), ('opondría', 8), ('fdp', 8), ('bosteces', 16), ('saludarle', 8), ('maldice', 8), ('maldiga', 8), ('legítimo', 16), ('rechazaste', 8), ('amadas', 8), ('comprendidas', 8), ('paris', 8), ('alistarte', 8), ('teología', 8), ('servirte', 8), ('servirle', 8), ('preparas', 8), ('cuyos', 16), ('prolongado', 8), ('marioneta', 8), ('manipulada', 8), ('proseguimos', 8), ('divorciarte', 8), ('digerir', 8), ('subsidiado', 16), ('subvencionado', 8), ('¿obtuviste', 8), ('dividen', 8), ('square', 8), ('relatividad', 24), ('ii', 8), ('gestos', 16), ('magallanes', 8), ('cacahuete', 24), ('entablillárselo', 8), ('informarse', 8), ('interrumpía', 8), ('ponente', 16), ('continuas', 8), ('desatarlos', 8), ('terminaran', 8), ('quedábamos', 8), ('88', 16), ('bigotes', 8), ('postizos', 8), ('despegarse', 8), ('cenara', 8), ('aparecen', 8), ('diciéndome', 8), ('peligrar', 8), ('involucrar', 8), ('dentado', 8), ('publicar', 8), ('flickr', 8), ('intranquila', 8), ('calderilla', 8), ('dron', 16), ('biológicos', 8), ('importen', 8), ('apagaran', 8), ('constelaciones', 16), ('esperandolo', 8), ('coñazo', 8), ('carajazo', 8), ('vergajazo', 8), ('sonará', 8), ('adoptarlos', 8), ('enseñás', 8), ('amanece', 8), ('anormal', 8), ('rechazaría', 8), ('asimilar', 8), ('curarme', 8), ('invasión', 8), ('devuelva', 16), ('sobrevaluados', 8), ('sectas', 8), ('rituales', 8), ('iniciación', 8), ('rellenos', 8), ('sanitarios', 8), ('suegras', 8), ('localidad', 8), ('situada', 8), ('elijáis', 8), ('reportar', 8), ('observe', 8), ('echará', 8), ('ernesto', 8), ('exponerse', 8), ('operador', 8), ('devolverá', 8), ('considérelo', 8), ('drásticamente', 24), ('respondé', 8), ('abrochados', 8), ('satoru', 8), ('trancada', 8), ('wripple', 8), ('deal', 8), ('rigidez', 16), ('llamáramos', 8), ('ejercitaba', 8), ('permanecía', 8), ('bañan', 8), ('supón', 16), ('caminante', 8), ('elogiaste', 8), ('ds', 8), ('abundante', 16), ('inventándolo', 8), ('mansos', 8), ('alarmados', 8), ('descendiendo', 8), ('vagamente', 8), ('afectados', 8), ('parpadearon', 8), ('disturbios', 8), ('indicios', 8), ('apaciguarse', 8), ('articulación', 8), ('antebrazo', 8), ('hemisferios', 24), ('alcoba', 8), ('apeló', 8), ('volvíamos', 8), ('calendárico', 8), ('transportado', 8), ('paralelogramo', 8), ('envueltos', 8), ('comportaran', 8), ('posters', 8), ('escurridiza', 8), ('deslizó', 8), ('incentivar', 8), ('diplomáticas', 8), ('marquita', 8), ('añicos', 8), ('mamuts', 8), ('sutil', 24), ('bodega', 8), ('sostenían', 8), ('eligen', 16), ('representantes', 8), ('oruga', 24), ('lavarla', 8), ('cubitos', 8), ('discutiera', 16), ('averiguara', 8), ('tostado', 8), ('franelear', 8), ('tramo', 8), ('infantes', 8), ('acudirá', 8), ('untó', 8), ('abandonarlo', 8), ('uranio', 8), ('tememos', 16), ('diseccionamos', 8), ('internos', 16), ('enfrentarnos', 8), ('botánico', 8), ('exóticas', 8), ('tradujimos', 8), ('cuestionar', 24), ('ataca', 8), ('grizzly', 8), ('azaró', 8), ('paul', 16), ('bunyan', 16), ('tómelo', 8), ('disfrútalo', 8), ('minoría', 8), ('adoptan', 8), ('«ven', 8), ('«creía', 8), ('nunca»', 8), ('grillo', 16), ('enjaulado', 8), ('sistemas', 16), ('soporte', 16), ('bisabuelos', 16), ('naciese', 8), ('votan', 8), ('inválida', 8), ('pacíficos', 16), ('adjunte', 8), ('curiosamente', 8), ('floreció', 8), ('marchito', 8), ('¿sabía', 8), ('¿genera', 8), ('inflación', 16), ('depreciación', 8), ('lustrar', 8), ('distraídas', 16), ('interferían', 8), ('¡centra', 8), ('escocés', 16), ('ajustes', 8), ('embolillando', 8), ('guaro', 8), ('pulió', 8), ('conseguía', 16), ('matorrales', 8), ('vieran', 8), ('estafando', 8), ('descalzos', 8), ('incapacidad', 16), ('impacienta', 8), ('evito', 40), ('postear', 16), ('sustituirla', 8), ('comiéramos', 16), ('remota', 8), ('arreglos', 8), ('responden', 8), ('ahorré', 8), ('malgastado', 8), ('introducir', 16), ('compensado', 8), ('reunieras', 8), ('invitarle', 16), ('encontrármela', 8), ('penicilina', 32), ('sulfamidas', 32), ('calzar', 8), ('furigana', 8), ('descansaría', 8), ('sometiéndote', 16), ('atropelle', 8), ('touchdown', 8), ('anotación', 8), ('calificada', 8), ('dañan', 8), ('hayáis', 8), ('predicamento', 16), ('recuperarse', 16), ('cancelara', 8), ('servirlo', 8), ('¿prendo', 8), ('observarla', 8), ('acomódense', 8), ('desvistiera', 8), ('extracorpórea', 8), ('meditaba', 8), ('21', 32), ('1983', 16), ('esfuerza', 8), ('160', 16), ('educativo', 8), ('reformado', 8), ('permita', 32), ('poyang', 16), ('apropiadas', 8), ('arrastradas', 8), ('postrada', 8), ('dependencia', 16), ('27', 8), ('oiremos', 8), ('corrector', 8), ('ortográfico', 8), ('imprescindible', 16), ('básica', 8), ('misisipi', 8), ('zulu', 8), ('acentuación', 8), ('vá', 8), ('little', 8), ('bighorn', 8), ('fluctuaciones', 8), ('misteriosos', 8), ('aptas', 8), ('mohammed', 8), ('muestreados', 8), ('aleatoriamente', 16), ('seleccionados', 8), ('habrán', 8), ('delictuales', 8), ('cómplices', 8), ('saltara', 16), ('fieles', 8), ('danubio', 8), ('rotonda', 8), ('alentar', 16), ('zapatero', 8), ('repararlos', 8), ('remarcó', 8), ('retrasé', 8), ('divulgado', 8), ('800000', 8), ('euskera', 8), ('continuaban', 8), ('sacármela', 8), ('significó', 8), ('confusiones', 8), ('fijarte', 8), ('conmocionados', 8), ('desayunaba', 8), ('pastelitos', 8), ('comprobó', 8), ('cuentakilómetros', 8), ('impresionarle', 8), ('decimoséptimo', 16), ('grafiti', 8), ('hurgó', 8), ('contingencia', 8), ('ganchos', 8), ('trazando', 8), ('desaliñado', 8), ('metería', 8), ('permitirle', 16), ('decidiera', 24), ('iraníes', 8), ('provenía', 8), ('proveniente', 16), ('70º', 8), ('recibíamos', 8), ('oliste', 8), ('encendiste', 8), ('consigna', 8), ('ropero', 8), ('comprendías', 16), ('psicólogo', 16), ('identificarás', 8), ('satisfacerte', 8), ('anduvieras', 8), ('localizarme', 16), ('daryrecibir', 8), ('familiarizarte', 8), ('moderar', 16), ('«¿vas', 24), ('tom»', 40), ('«todavía', 16), ('seguro»', 8), ('segura»', 8), ('arraigado', 8), ('participaron', 24), ('cobran', 8), ('pedacitos', 8), ('desarrollada', 8), ('sufrirá', 8), ('desata', 8), ('abarrotadas', 8), ('anticipándonos', 8), ('cacharro', 8), ('desiertas', 32), ('contactaremos', 16), ('descubramos', 8), ('auguste', 8), ('comte', 8), ('barómetro', 8), ('sólidas', 8), ('restringe', 8), ('rodajas', 16), ('cortá', 8), ('¿creías', 8), ('arrollado', 16), ('rollitos', 16), ('gaita', 8), ('estadística', 16), ('101', 8), ('caminado', 16), ('burlado', 16), ('simultáneo', 8), ('capten', 8), ('prolongadas', 8), ('ausencias', 8), ('comenzaban', 8), ('parecería', 16), ('registra', 8), ('impedía', 8), ('moverme', 8), ('afectara', 8), ('balda', 8), ('contraventanas', 8), ('golpeara', 8), ('velar', 8), ('enfrentarme', 8), ('fontaneros', 8), ('federer', 8), ('pellizqué', 8), ('garabateé', 8), ('dorso', 8), ('¡le', 8), ('jerséis', 8), ('penúltima', 8), ('reservación', 8), ('pediría', 24), ('acarrea', 8), ('graduarte', 8), ('circulan', 16), ('remuneración', 8), ('percibir', 8), ('injusticia', 16), ('meteorito', 8), ('italo', 16), ('calvino', 16), ('1923', 8), ('josé', 8), ('creatividad', 24), ('inversionistas', 16), ('privados', 24), ('imprevisión', 8), ('peruanos', 8), ('coca', 8), ('memorización', 8), ('fórmulas', 8), ('formulas', 8), ('minería', 8), ('servilleta', 8), ('emborrachaba', 8), ('alunizaje', 8), ('arbitrariamente', 8), ('libertador', 8), ('osamu', 8), ('dazai', 8), ('feudales', 8), ('discapacidades', 8), ('físicas', 8), ('aborrecen', 8), ('divierta', 8), ('mándenoslo', 8), ('monitoreado', 8), ('almacenado', 8), ('inflamación', 8), ('rasputin', 8), ('peinar', 8), ('agradaban', 8), ('gusanillo', 8), ('bordando', 8), ('instructora', 8), ('aeróbicos', 8), ('sudamericanos', 8), ('inmiscuir', 8), ('repíteme', 8), ('alejen', 8), ('expresamente', 8), ('británicas', 8), ('incautar', 8), ('abruptamente', 16), ('decorada', 8), ('carísimo', 8), ('relampagueaba', 8), ('imprenta', 8), ('gutenberg', 8), ('escaladores', 8), ('revivió', 8), ('interrogados', 8), ('«¿es', 8), ('coche»', 8), ('decirse', 8), ('describirla', 8), ('manifestado', 8), ('manifestaron', 8), ('1844', 8), ('gerentes', 8), ('parálisis', 8), ('electa', 8), ('aburriré', 8), ('reunirían', 8), ('vendiera', 8), ('utilicen', 8), ('indio', 16), ('disfrutarán', 8), ('oceanógrafo', 8), ('consentido', 8), ('afirman', 8), ('saliese', 16), ('desdén', 8), ('apropiadamente', 16), ('proponga', 8), ('cello', 8), ('orquestas', 8), ('chocar', 8), ('gastara', 8), ('involucre', 8), ('lloramos', 8), ('repicar', 8), ('aprovechamos', 8), ('desamparo', 16), ('perdura', 8), ('implacable', 8), ('gigantescos', 8), ('obtenido', 16), ('percibí', 8), ('secan', 8), ('probaste', 8), ('comodidad', 24), ('emails', 16), ('retrasarás', 8), ('yukichi', 8), ('fukuzawa', 8), ('dominarse', 8), ('normativo', 8), ('filtrado', 8), ('curva', 16), ('fiduciario', 8), ('ensuciado', 8), ('ebay', 8), ('enviaremos', 16), ('cogerme', 8), ('alberga', 8), ('sordomuda', 8), ('malhumores', 8), ('humildemente', 8), ('depilan', 8), ('gringos', 16), ('cúlpame', 8), ('chichón', 8), ('matsuyama', 8), ('fumarse', 8), ('delegó', 8), ('decencia', 8), ('sermoneó', 8), ('deslizándose', 8), ('siguiéndole', 8), ('parpadea', 8), ('gaélico', 8), ('chusmeara', 8), ('informante', 8), ('marihuana', 16), ('corrigió', 16), ('taxistas', 8), ('murmurándose', 8), ('defraudaré', 8), ('habrían', 32), ('apacible', 8), ('traversa', 8), ('anderson', 8), ('enviarnos', 8), ('divertiría', 8), ('sorprenderías', 24), ('comieras', 8), ('resfriar', 64), ('desabrigado', 16), ('desabrigada', 16), ('visitarías', 8), ('enviársela', 8), ('bese', 8), ('cortez', 8), ('galerías', 8), ('precipitada', 8), ('consultémoslo', 8), ('maruyama', 8), ('reune', 8), ('identificador', 8), ('filtrarlas', 8), ('pacíficamente', 16), ('espérese', 8), ('sega', 8), ('fabricar', 8), ('consolas', 8), ('videojuego', 8), ('mora', 8), ('alumna', 8), ('plantada', 8), ('pulgada', 8), ('regiones', 16), ('recinto', 8), ('confortable', 8), ('catapulta', 8), ('fieras', 8), ('enmendada', 8), ('secuestrador', 8), ('450', 8), ('000', 8), ('desconocemos', 8), ('duraría', 8), ('septentrional', 8), ('laberinto', 16), ('callejones', 16), ('sexta', 8), ('hembras', 16), ('fontanero', 24), ('avergonzaban', 8), ('prosperidad', 24), ('descuentos', 8), ('contesto', 8), ('limpiaventanas', 16), ('asidero', 8), ('abismo', 8), ('oirá', 8), ('tácito', 16), ('descenso', 8), ('propagación', 16), ('aproximaron', 8), ('insatisfechos', 8), ('salarios', 16), ('resultaban', 8), ('satisfactorios', 8), ('edimburgo', 8), ('potente', 8), ('verificación', 8), ('desadoptar', 8), ('navideño', 8), ('cuclillas', 8), ('escabullir', 8), ('previendo', 8), ('banquillo', 8), ('remitió', 8), ('correoe', 8), ('consiguiera', 16), ('piquen', 8), ('inclinado', 8), ('piruleta', 8), ('decepcionará', 8), ('tátaratátaratátaraabuela', 8), ('desfavorables', 8), ('impidieron', 8), ('aumente', 8), ('camináramos', 8), ('antimateria', 8), ('enterarnos', 8), ('instalado', 8), ('aulas', 8), ('triunfado', 24), ('tomaros', 8), ('ocultas', 16), ('contenga', 8), ('tumbaras', 8), ('quitaros', 8), ('empeoran', 8), ('realices', 8), ('llardas', 8), ('condenada', 8), ('bajaran', 8), ('logaritmos', 8), ('obtendremos', 8), ('escalofrío', 8), ('recorrió', 8), ('compuestos', 16), ('protones', 8), ('neutrones', 8), ('mandarnos', 8), ('atrape', 8), ('cook', 8), ('alimentarse', 8), ('arrecifes', 8), ('cardíacas', 8), ('imprescindibles', 8), ('equilibrada', 8), ('copiando', 32), ('contradijo', 8), ('procurando', 8), ('secretaría', 8), ('remo', 8), ('adorno', 8), ('instrucción', 8), ('toshima', 16), ('hallar', 8), ('muletas', 8), ('explícitas', 8), ('encontraras', 8), ('reflejado', 8), ('tangibles', 8), ('querrás', 32), ('aventé', 8), ('enseñen', 8), ('muestren', 8), ('relajando', 8), ('temple', 8), ('pintaúñas', 8), ('acabarme', 8), ('entendáis', 8), ('lagartija', 8), ('convertirte', 16), ('1683', 8), ('turcos', 8), ('asediaron', 8), ('amenazada', 8), ('2012', 8), ('voladores', 8), ('doquier', 8), ('165', 8), ('orbitar', 8), ('obedecieras', 8), ('visitáramos', 8), ('lag', 8), ('baikal', 8), ('lindbergh', 16), ('sobrevolar', 8), ('caballa', 8), ('asas', 8), ('excéntricos', 8), ('saboreó', 8), ('aurora', 8), ('boreal', 8), ('invierta', 8), ('refugios', 8), ('ranchería', 8), ('dakota', 8), ('sanitarias', 8), ('campamentos', 8), ('multitudes', 8), ('casaran', 24), ('servirse', 8), ('cenará', 8), ('absorbidas', 8), ('responderla', 8), ('pearl', 8), ('harbor', 8), ('1941', 16), ('soviéticas', 16), ('afganistan', 8), ('estetoscopio', 8), ('redujera', 8), ('belga', 8), ('absorbidos', 8), ('nombra', 8), ('pastora', 8), ('samurai', 8), ('decapitó', 8), ('semifinales', 8), ('abstinencia', 16), ('canarias', 8), ('mangle', 8), ('piñas', 8), ('oleada', 8), ('alcanzaba', 8), ('surgido', 8), ('indiferencia', 8), ('cogerle', 8), ('realizaron', 16), ('dna', 8), ('detuvieron', 8), ('arrodillaron', 8), ('rezaron', 8), ('acabase', 8), ('obtuvieron', 8), ('adaptaron', 8), ('amenazaron', 8), ('pomada', 8), ('protectora', 8), ('jefferson', 8), ('1809', 8), ('examinaron', 8), ('francésinglés', 8), ('checar', 8), ('treparse', 8), ('s', 8), ('departamentito', 8), ('levantarla', 8), ('bloqueo', 8), ('exhibió', 8), ('infortunadamente', 8), ('abstenernos', 8), ('asomamos', 8), ('insistimos', 8), ('ensuciar', 8), ('medioambiente', 8), ('distanciando', 8), ('resignar', 8), ('resentimiento', 8), ('acusar', 8), ('omitido', 8), ('palanca', 24), ('arruinará', 8), ('soprenderías', 8), ('400000', 24), ('derramaron', 16), ('oleoducto', 16), ('abrazarme', 8), ('«¿en', 16), ('pensando»', 8), ('«estoy', 8), ('ti»', 8), ('apreciable', 8), ('corresponsal', 8), ('ergomaníaca', 8), ('lapsus', 16), ('linguae', 8), ('brilló', 8), ('tomándolo', 24), ('reemplazado', 8), ('limpiá', 8), ('galpón', 8), ('tirá', 8), ('admitan', 8), ('dudéis', 8), ('federico', 8), ('conversarlo', 8), ('hospeda', 8), ('aprenderlo', 8), ('dibujáramos', 8), ('consagrado', 8), ('preservación', 8), ('grabación', 8), ('correría', 16), ('fragmentos', 8), ('extasiado', 8), ('empleador', 8), ('anualmente', 8), ('confundo', 8), ('babor', 8), ('estribor', 8), ('anhelo', 8), ('carnicero', 8), ('transferir', 16), ('gentío', 8), ('alardear', 8), ('clarinetista', 8), ('deshonesta', 8), ('angustiados', 8), ('sofocar', 8), ('teníais', 8), ('acudirías', 8), ('amen', 8), ('arreglan', 8), ('arrastrarme', 8), ('caño', 8), ('cumples', 8), ('mirará', 8), ('dejarás', 8), ('llenas', 16), ('herméticas', 8), ('filtrar', 8), ('kebab', 8), ('contradice', 8), ('asombrarse', 8), ('tapó', 8), ('mantuvieses', 8), ('diseñar', 16), ('agarrarle', 8), ('compiten', 8), ('agradeciéndoles', 8), ('2001', 16), ('veintiún', 16), ('merezca', 8), ('molinos', 8), ('halagos', 8), ('guardadas', 8), ('selle', 8), ('hermético', 8), ('santos', 8), ('representados', 8), ('aureola', 8), ('ondeando', 8), ('huérfana', 8), ('dolida', 8), ('desgaste', 8), ('conecta', 8), ('comisiones', 8), ('clandestinas', 8), ('firmarlo', 8), ('inválido', 16), ('abstuviera', 8), ('corresponden', 8), ('terrorismo', 8), ('financiación', 8), ('amordazaron', 8), ('encerraron', 16), ('shangai', 8), ('decisiva', 8), ('omitió', 8), ('dividamos', 16), ('fascinados', 8), ('bandita', 8), ('dolerle', 8), ('tirita', 8), ('actualicen', 8), ('construyeran', 8), ('limusina', 8), ('echaban', 8), ('violación', 8), ('textos', 16), ('marisquería', 8), ('partí', 8), ('añadieses', 8), ('primogénito', 8), ('alegabas', 8), ('apañarnos', 16), ('apañárnoslas', 16), ('padrastros', 8), ('rallado', 8), ('carrito', 16), ('volarle', 8), ('amuleto', 24), ('protegería', 24), ('llegase', 8), ('ocasional', 8), ('perdiéramos', 8), ('recorrimos', 8), ('retrasamos', 8), ('chárter', 8), ('akita', 16), ('refresca', 8), ('antirrobo', 8), ('guam', 8), ('entregará', 8), ('comporte', 8), ('mocoso', 8), ('salirse', 24), ('«¿odias', 16), ('raro»', 16), ('imc', 8), ('29', 8), ('reflexión', 8), ('descienden', 8), ('ancestro', 16), ('174', 8), ('ac', 8), ('empresarios', 16), ('devolverles', 8), ('tradicionalmente', 8), ('cuzco', 8), ('adversidad', 8), ('castigarían', 8), ('pasarnos', 8), ('consumidos', 8), ('abducida', 16), ('escribirles', 8), ('étnicas', 16), ('combaten', 8), ('prejuicio', 16), ('fealdad', 8), ('sustantivo', 8), ('femenino', 8), ('tramabas', 8), ('concedido', 8), ('desalentará', 8), ('emplearlo', 8), ('municipalidad', 8), ('operaciones', 8), ('mida', 8), ('felicitarlo', 8), ('sortear', 8), ('normativas', 8), ('regulaciones', 8), ('enterramos', 16), ('corrobore', 8), ('alegaciones', 8), ('defraudarle', 8), ('naden', 8), ('acudiría', 8), ('golpes', 16), ('ilustrar', 8), ('obtenga', 16), ('mantendrás', 8), ('desatara', 8), ('perecería', 8), ('morirían', 8), ('habríamos', 16), ('háganmelo', 8), ('dispone', 8), ('descargarlo', 8), ('burlarán', 8), ('suspendes', 8), ('informa', 8), ('hipar', 8), ('1994', 8), ('encarcelamiento', 16), ('industrialización', 16), ('acompañada', 8), ('inglésjaponés', 8), ('taparse', 8), ('brasilera', 8), ('cumplida', 8), ('capturas', 8), ('malcrían', 8), ('maharashtra', 8), ('sudamericanas', 8), ('1100', 8), ('apa', 8), ('fabricación', 8), ('indiscreciones', 8), ('derrotaron', 8), ('1763', 8), ('embudo', 8), ('alimentarios', 8), ('mascarillas', 8), ('suspenda', 8), ('centauri', 8), ('deambula', 8), ('contestara', 8), ('persiste', 8), ('contaminado', 24), ('desperdicios', 8), ('ritual', 8), ('sacrificó', 8), ('atribuidos', 8), ('ahorrativo', 8), ('planeaban', 8), ('marcharán', 8), ('pagarían', 16), ('perdérsela', 8), ('lleguó', 8), ('seguidas', 8), ('antropólogo', 8), ('índice', 8), ('pronosticando', 8), ('autoinfligida', 16), ('esquinas', 8), ('suela', 16), ('amainara', 8), ('tendedero', 8), ('intuir', 8), ('barría', 8), ('culpara', 8), ('doblado', 8), ('soltando', 8), ('poblados', 8), ('exportamos', 8), ('terminados', 8), ('perdernos', 8), ('preferiblemente', 8), ('tendencias', 8), ('alistarse', 8), ('críen', 8), ('usás', 16), ('terminéis', 8), ('devolvedlo', 8), ('madurez', 8), ('vinagre', 8), ('reconocerte', 8), ('planear', 8), ('difuntos', 8), ('traerá', 8), ('destrucción', 8), ('amistades', 16), ('detención', 8), ('antonio', 8), ('guzmás', 8), ('venezuela', 8), ('jugarme', 8), ('apeó', 8), ('inventor', 8), ('güeras', 8), ('oficinistas', 8), ('obstaculizan', 8), ('apegarse', 16), ('mordedura', 8), ('arteria', 8), ('gulliver', 8), ('ultimarse', 8), ('temeraria', 8), ('pidiéndonos', 8), ('resulten', 8), ('aceptables', 8), ('arrullar', 8), ('arrullo', 8), ('enfrentaras', 8), ('logre', 8), ('entrometido', 8), ('encerrada', 8), ('timidez', 8), ('viviera', 8), ('contrajera', 8), ('disfrutara', 8), ('patinetas', 8), ('plantaría', 8), ('gritaría', 8), ('mostrara', 8), ('durara', 8), ('existiera', 8), ('pospondría', 8), ('cocinale', 8), ('transmítele', 8), ('azotarlos', 8), ('tobogán', 8), ('chirristra', 8), ('australianos', 8), ('milenios', 8), ('preocupando', 16), ('online', 8), ('juntaras', 8), ('orientarse', 8), ('vegas', 8), ('potencias', 8), ('superaron', 8), ('778', 8), ('billones', 8), ('cagarla', 8), ('mali', 8), ('subsahariana', 8), ('marcada', 8), ('chapuza', 8), ('entumecida', 8), ('elijas', 8), ('prometedores', 8), ('elevan', 8), ('externa', 16), ('vibrar', 8), ('rímel', 8), ('desilusionada', 8), ('disuadida', 8), ('préstamos', 8), ('machacaron', 8), ('productor', 16), ('inoportuno', 16), ('louvre', 8), ('quitan', 8), ('rebosó', 8), ('amueblar', 8), ('frotemos', 8), ('calentarán', 8), ('acabarse', 8), ('pospondrá', 8), ('incautó', 8), ('enredadas', 8), ('usen', 8), ('encuesta', 8), ('botín', 8), ('dijeran', 8), ('mejoraba', 8), ('conteo', 8), ('sílabas', 8), ('macintosh', 16), ('meten', 16), ('desenvolvía', 8), ('audacia', 8), ('menesteres', 8), ('bloquear', 8), ('incumplir', 8), ('acordado', 16), ('regalarle', 16), ('diagnosticó', 8), ('reumatoide', 8), ('pedales', 8), ('vió', 8), ('exnovias', 8), ('acostumbraran', 8), ('tercios', 16), ('tenerlas', 8), ('agresiones', 8), ('olvidaremos', 8), ('abrígate', 8), ('viajaban', 8), ('colesterol', 24), ('proporcionaron', 8), ('agresor', 8), ('moteros', 8), ('regalarme', 8), ('enamoras', 8), ('cerrarlas', 8), ('divirtiéndote', 8), ('«ha', 8), ('enfermo»', 8), ('grave»', 8), ('céntimos', 8), ('paralizó', 8), ('reanimó', 8), ('ocasiona', 8), ('alejaran', 8), ('valdrán', 8), ('destrozados', 32), ('co₂', 8), ('invernadero', 24), ('co2', 8), ('efp', 8), ('pacífica', 8), ('ocupacional', 8), ('incrementado', 8), ('influye', 8), ('satisfago', 8), ('genuino', 8), ('descansaba', 8), ('atrocidades', 8), ('entrenaste', 8), ('fogatas', 8), ('escapo', 8), ('mantendrías', 8), ('chapurreado', 8), ('entretuve', 8), ('legítima', 8), ('limpiaras', 8), ('clonado', 8), ('hjo', 8), ('hazmelo', 8), ('censo', 8), ('etendió', 8), ('asegurados', 8), ('inacabado', 8), ('figuras', 8), ('aislado', 8), ('comunidades', 8), ('nativoamericanas', 8), ('opinan', 8), ('apagase', 8), ('preparase', 16), ('afectadas', 8), ('neil', 8), ('requerían', 8), ('encenderá', 8), ('reporteros', 16), ('titubean', 8), ('entrometerse', 8), ('nutrias', 16), ('efectiva', 16), ('sudoración', 8), ('rodaron', 8), ('dicha', 8), ('apolo', 8), ('sioux', 8), ('cumpliera', 8), ('steve', 8), ('band', 8), ('ambulancias', 8), ('defensor', 16), ('deformado', 8), ('majestuosamente', 16), ('cumbres', 8), ('plantean', 16), ('colgaste', 8), ('chueca', 8), ('cerda', 8), ('hozaba', 8), ('trufas', 8), ('congregación', 8), ('provenientes', 16), ('espantaron', 8), ('contarlas', 8), ('mogollón', 16), ('recital', 8), ('gustaron', 16), ('vegetación', 8), ('pagados', 8), ('sonaron', 8), ('acercándose', 8), ('óptica', 8), ('balcón', 8), ('estaciona', 8), ('neoyorquino', 8), ('menús', 8), ('contrabando', 8), ('desafiar', 8), ('descendemos', 8), ('prenderse', 8), ('elocuente', 8), ('expositor', 8), ('carisma', 8), ('recostaré', 8), ('azotes', 8), ('escondería', 8), ('chimeneas', 8), ('´´es', 8), ('«este', 8), ('agradable»', 8), ('«hábleme', 8), ('ello»', 8), ('requerido', 8), ('aprendiera', 8), ('contribuyente', 8), ('tubos', 24), ('¿llegan', 8), ('irresponsables', 8), ('retenidas', 8), ('licencias', 8), ('entregarlo', 8), ('dinámico', 8), ('trigésimo', 8), ('paterna', 8), ('productores', 8), ('fascinantes', 8), ('holmes', 8), ('copié', 8), ('estanterías', 16), ('presionando', 8), ('favoreciéndonos', 8), ('infiltrarme', 8), ('replantee', 8), ('convivencia', 8), ('animarla', 8), ('traducirla', 8), ('enfoque', 8), ('atemorizado', 8), ('competitivos', 16), ('inicialmente', 8), ('sonidos', 24), ('mecánicos', 8), ('despedirnos', 16), ('sucumbieron', 8), ('confortaba', 8), ('terminándolo', 8), ('pestañear', 8), ('desdeñó', 8), ('despectivo', 8), ('sacándonos', 8), ('dialectos', 8), ('plegable', 24), ('veteranos', 8), ('descansaran', 8), ('intervenir', 8), ('crearlo', 8), ('proliferación', 8), ('1968', 8), ('sillones', 8), ('flash', 40), ('resistido', 8), ('tortura', 24), ('inimaginables', 8), ('redada', 8), ('rastros', 8), ('prevención', 8), ('prominente', 16), ('negociarán', 8), ('vereda', 8), ('compradas', 8), ('implicados', 8), ('hospitalizados', 8), ('rastrear', 8), ('intercambian', 16), ('cuarzo', 8), ('poderes', 8), ('curativos', 8), ('pirañas', 8), ('impenetrable', 8), ('comprenda', 8), ('preocupándose', 16), ('repúblicas', 8), ('socialistas', 8), ('compartiendo', 8), ('ateos', 8), ('aprecias', 8), ('proporción', 8), ('debates', 8), ('competidores', 16), ('bombarderos', 8), ('napalm', 8), ('acostumbrándose', 8), ('dada', 8), ('posterior', 8), ('genéticamente', 16), ('bulldog', 8), ('esclerosis', 8), ('amiotrófica', 8), ('perdonaría', 8), ('enojaron', 8), ('repitiéndose', 8), ('3500', 16), ('ediciones', 16), ('suicidios', 8), ('ambiental', 8), ('preveo', 8), ('gusano', 16), ('tapar', 8), ('afeitar', 8), ('groseramente', 8), ('interrumpiste', 8), ('cansar', 8), ('meterte', 16), ('surte', 8), ('justas', 8), ('1978', 8), ('adelantarle', 8), ('1912', 8), ('titicaca', 8), ('estimulado', 8), ('despenalizado', 16), ('tápate', 8), ('tosas', 8), ('estornudes', 8), ('parks', 8), ('wall', 8), ('desencadenaron', 8), ('compulsiva', 8), ('hebreo', 8), ('penó', 8), ('lanzaba', 8), ('agarrarlas', 8), ('hospitalizada', 8), ('apretarse', 8), ('publicitario', 8), ('crecerá', 8), ('beneficia', 8), ('1929', 16), ('1930', 8), ('jordán', 8), ('resalta', 8), ('ñu', 8), ('endebles', 8), ('compartimentos', 8), ('aseos', 8), ('ofrecen', 16), ('rosal', 16), ('transportó', 8), ('agendada', 8), ('seguíamos', 16), ('diluvio', 8), ('frecuentes', 24), ('inasistencias', 16), ('conjeturas', 8), ('zurdos', 16), ('diestros', 8), ('lupa', 8), ('imperio', 8), ('disfrazaron', 8), ('vikingos', 32), ('procedieron', 8), ('transportar', 8), ('superventas', 8), ('descarga', 8), ('estå', 8), ('costando', 8), ('teñir', 8), ('cooperativa', 8), ('comeríamos', 8), ('fumigador', 8), ('agüita', 8), ('nessie', 8), ('dedicar', 16), ('reiniciará', 8), ('instalación', 8), ('«por', 8), ('sí»', 8), ('desvanecieron', 8), ('erigido', 8), ('noble', 8), ('merendábamos', 8), ('bibliotecas', 16), ('burj', 16), ('khalifa', 16), ('rascacielo', 8), ('graduaste', 8), ('tibia', 8), ('encontráis', 8), ('interesen', 8), ('podréis', 8), ('llevaros', 8), ('transpiración', 16), ('alemanas', 8), ('cansador', 8), ('desaprobar', 8), ('trasladarse', 8), ('carísimas', 8), ('tomármelo', 16), ('cerciorarme', 8), ('campista', 8), ('sudamericano', 8), ('anaconda', 8), ('atenga', 8), ('¡simplemente', 8), ('plazos', 8), ('comunicarle', 8), ('subsidio', 8), ('domino', 8), ('enfadaría', 8), ('amenazando', 8), ('aminora', 8), ('intermitentes', 8), ('anglosajones', 8), ('romanas', 8), ('ness', 16), ('elaborado', 16), ('vii', 8), ('equivocándose', 8), ('culturales', 24), ('étnicos', 8), ('3776', 8), ('fundamentales', 8), ('respetados', 8), ('recurría', 8), ('caminaría', 8), ('beisbolistas', 8), ('helsinki', 8), ('empezás', 8), ('cubrirán', 24), ('consuman', 8), ('alcohólicas', 8), ('figuraba', 8), ('mentimos', 16), ('aparten', 8), ('recordarme', 16), ('antecedentes', 8), ('pisaron', 8), ('movían', 8), ('abrían', 8), ('acontecimiento', 16), ('berlin', 8), ('trascendental', 8), ('desearon', 8), ('próspera', 8), ('drástico', 8), ('despidas', 8), ('buscarían', 8), ('quemaduras', 16), ('suministra', 8), ('observándolo', 8), ('varita', 8), ('mágica', 8), ('despareció', 8), ('supermercados', 8), ('significativas', 8), ('reinas', 8), ('pizzería', 8), ('plegó', 8), ('guantera', 8), ('trofeos', 8), ('interactuar', 8), ('encerraran', 8), ('tirasen', 8), ('cabría', 16), ('saltan', 8), ('internacionales', 16), ('policiales', 8), ('espiras', 8), ('visites', 8), ('frena', 8), ('innovación', 8), ('dispararla', 8), ('verticalmente', 8), ('estacionadas', 8), ('ilegalmente', 8), ('sonaban', 8), ('astrónomos', 16), ('aproximaban', 8), ('preguntábamos', 8), ('acercaban', 8), ('comerían', 8), ('esparces', 8), ('concesionario', 24), ('estafarán', 8), ('robarán', 16), ('descaradamente', 8), ('pagadas', 16), ('prohiben', 8), ('aprendérselo', 8), ('opresores', 8), ('despertarla', 8), ('convencerla', 8), ('planeara', 8), ('recurran', 8), ('consideres', 16), ('programé', 8), ('añades', 8), ('importaste', 8), ('desvié', 16), ('tradujera', 8), ('viviéramos', 8), ('obtienes', 8), ('exhalas', 8), ('mejorarte', 8), ('realizarlo', 8), ('asesinada', 8), ('provocado', 16), ('cableado', 16), ('escuchasen', 8), ('perímetro', 8), ('adquieras', 16), ('destruído', 8), ('arriesguen', 8), ('prados', 8), ('orientada', 8), ('síntoma', 8), ('cardiovascular', 8), ('especializa', 8), ('trastornos', 8), ('islandesa', 8), ('automovilística', 8), ('ramita', 8), ('aplastada', 8), ('traslado', 8), ('contenidos', 24), ('esparcieron', 8), ('camaleón', 8), ('clínicos', 8), ('incluía', 8), ('casero', 8), ('proximidad', 8), ('redadas', 8), ('gnp', 8), ('debilidad', 24), ('asimila', 8), ('girando', 8), ('snowboarding', 8), ('rehusaba', 8), ('noruegos', 8), ('llevándose', 8), ('capilla', 24), ('establecerse', 8), ('selvas', 8), ('tropicales', 16), ('bife', 8), ('recorrer', 8), ('bajón', 8), ('invitaciones', 8), ('primitiva', 8), ('rasgaste', 8), ('cortarla', 8), ('¿impedir', 8), ('almacenar', 8), ('joroba', 8), ('retrasados', 8), ('inmóvil', 8), ('somnolienta', 16), ('sospechosamente', 8), ('ibusuki', 8), ('inventario', 8), ('amara', 8), ('hallazgos', 8), ('leves', 8), ('nutrientes', 8), ('boggle', 8), ('mezclo', 8), ('hazmerreír', 8), ('alejaba', 8), ('emprende', 8), ('importunándola', 8), ('protegerla', 8), ('promocionas', 8), ('asciendes', 8), ('seleccionando', 8), ('comerás', 8), ('hipotéticamente', 8), ('pecar', 8), ('cacareo', 8), ('necesitaría', 8), ('expire', 8), ('matones', 8), ('beneficioso', 8), ('circunferencia', 8), ('on', 8), ('arroje', 8), ('visitaras', 8), ('contaminados', 8), ('pinchada', 8), ('sufrimos', 8), ('629313', 8), ('aclararse', 8), ('especialistas', 8), ('¡protesto', 8), ('disminuyera', 8), ('endulzar', 8), ('nakameguro', 8), ('progresa', 8), ('añoran', 8), ('alabó', 8), ('saludado', 8), ('separatista', 8), ('expresiones', 8), ('anticipado', 8), ('evacuarlo', 8), ('nativa', 40), ('recuperaba', 8), ('iluminaban', 8), ('coristas', 8), ('escaneó', 8), ('fallezca', 8), ('estimando', 8), ('preguntándose', 8), ('comenzaran', 8), ('ajenos', 8), ('november', 8), ('rain', 8), ('pudrir', 8), ('podrir', 8), ('casucha', 8), ('culparla', 8), ('difamar', 8), ('destrezas', 8), ('superficiales', 8), ('apoyas', 8), ('viandante', 8), ('animalito', 8), ('puntiagudos', 8), ('exportadas', 8), ('igualados', 8), ('limitarte', 8), ('limitaros', 8), ('cargarme', 8), ('productoras', 8), ('encasquetó', 8), ('gomas', 8), ('aumentaron', 8), ('admitiera', 8), ('anonadada', 8), ('aburriese', 8), ('citado', 8), ('pensando¿si', 8), ('entregues', 8), ('josef', 8), ('patočka', 8), ('hunda', 8), ('farola', 16), ('chepa', 8), ('regresas', 8), ('consideras', 8), ('tartaletas', 8), ('retrasos', 8), ('corán', 8), ('barítono', 16), ('atlético', 8), ('quimioterapia', 8), ('minoritarios', 8), ('discriminados', 8), ('expermientos', 8), ('avatar', 8), ('depilarse', 8), ('sra', 8), ('takada', 8), ('pioneros', 8), ('colonizadoras', 8), ('procura', 8), ('arqueólogos', 8), ('polacos', 8), ('científicas', 8), ('sudán', 8), ('cuántica', 8), ('supersticiosa', 8), ('monstruos', 8), ('corporación', 8), ('rigurosos', 8), ('acuerdos', 16), ('g7', 8), ('robin', 8), ('hood', 8), ('respondidas', 8), ('93', 8), ('propagado', 8), ('malabarista', 8), ('bungee', 8), ('rajaran', 8), ('trimestral', 8), ('hundimos', 8), ('trayecto', 8), ('sombrerería', 8), ('souvenir', 8), ('ingeniería', 24), ('genética', 8), ('pesticidas', 8), ('rendija', 8), ('producirse', 8), ('fricciones', 8), ('obligaba', 8), ('sacudes', 8), ('grabaciones', 8), ('derretir', 8), ('riñones', 8), ('descifre', 8), ('reelecto', 8), ('componentes', 8), ('limpiados', 8), ('isopropílico', 8), ('flamean', 8), ('cuartel', 8), ('ondean', 8), ('caídos', 8), ('distinguidos', 8), ('avanzadas', 8), ('aceptadas', 8), ('proporcione', 8), ('sacarse', 24), ('recetado', 8), ('asesinos', 8), ('hawaiano', 8), ('alistado', 8), ('preocupará', 8), ('pulsas', 8), ('comprarían', 8), ('catilina', 8), ('repentinos', 8), ('invitarlo', 8), ('atribuido', 8), ('publicados', 16), ('leídos', 8), ('maníes', 8), ('quererle', 8), ('vigilaba', 8), ('manufacturero', 8), ('frenético', 8), ('monetaria', 16), ('fortificada', 8), ('suicidado', 16), ('vitoreaba', 8), ('cónyuges', 8), ('enciclopedias', 8), ('esbelto', 8), ('apegues', 8), ('continúes', 8), ('colocada', 8), ('dona', 8), ('caníbales', 8), ('postergado', 8), ('chaleco', 8), ('antibalas', 8), ('graduara', 8), ('socios', 8), ('apoyan', 8), ('clarificar', 8), ('acojonados', 8), ('dispersa', 8), ('tocaban', 8), ('juzgas', 8), ('tentadora', 8), ('pensárnoslo', 8), ('dependienta', 8), ('aplicaciones', 8), ('informáticas', 8), ('presentaciones', 8), ('multimedia', 8), ('sucumbió', 16), ('mantillas', 8), ('debieran', 8), ('montan', 8), ('tratos', 8), ('plymouth', 8), ('exportar', 8), ('visados', 8), ('túneles', 16), ('moriré', 8), ('ubicarte', 8), ('telefónicamente', 8), ('defenderé', 8), ('libélulas', 8), ('matapiojos', 8), ('restante', 8), ('anestésico', 8), ('depósitos', 8), ('sócrates', 8), ('ateísmo', 8), ('zeus', 8), ('ebria', 8), ('transbordador', 8), ('penetró', 8), ('dejándolo', 8), ('agentes', 8), ('aeroplano', 16), ('turística', 8), ('chirría', 8), ('malvada', 8), ('gallinero', 8), ('clausurar', 8), ('ferry', 16), ('propagara', 8), ('preguntarse', 8), ('moretón', 8), ('interrumpiéndolo', 8), ('indispuesto', 16), ('fregaba', 8), ('parroquial', 8), ('poderse', 16), ('escrupulosa', 8), ('contradecirme', 8), ('zurich', 8), ('conferenciar', 8), ('eminente', 8), ('erudito', 16), ('cinematográfico', 8), ('creyendo', 16), ('alimentarlos', 8), ('acumular', 8), ('mejoraras', 8), ('retrasase', 8), ('nocivos', 8), ('búscala', 8), ('pelarlas', 8), ('sonara', 8), ('vivaldi', 8), ('cambiante', 8), ('analicemos', 8), ('mencionas', 8), ('deprimirme', 8), ('cupiese', 8), ('posada', 8), ('desahogarse', 8), ('world', 8), ('trade', 8), ('enterrar', 16), ('criticada', 8), ('perdiese', 8), ('boxear', 16), ('bastidores', 8), ('deshaces', 8), ('fronteriza', 8), ('maya', 8), ('melodías', 8), ('avergüenzas', 8), ('escritora', 8), ('categorías', 8), ('rítmicos', 8), ('totalizó', 8), ('rascado', 8), ('rascaespalda', 8), ('retomar', 8), ('enteramente', 8), ('vendieras', 8), ('guindo', 8), ('documental', 8), ('decidirían', 8), ('contarlo', 8), ('quim', 8), ('monzó', 8), ('coincidido', 8), ('excluye', 8), ('escribieses', 8), ('provocados', 8), ('mark', 8), ('twain', 8), ('permanecerá', 8), ('mantenimiento', 8), ('borrosa', 8), ('cuestionado', 8), ('vagas', 8), ('escucharía', 8), ('encontraran', 8), ('sostienen', 8), ('controvertidos', 8), ('obsoletas', 8), ('aleros', 8), ('directores', 8), ('discutirá', 8), ('catastróficas', 16), ('circula', 8), ('big', 8), ('bang', 8), ('1927', 16), ('ampliada', 8), ('empezases', 8), ('apretarnos', 8), ('rememoraron', 8), ('dungeons', 8), ('dragons', 8), ('traficante', 8), ('cátodo', 8), ('ánodo', 8), ('seríamos', 8), ('ruega', 8), ('arrodillarte', 16), ('¡pon', 8), ('opresión', 8), ('modificado', 8), ('tardaría', 8), ('obturador', 8), ('cuanta', 8), ('reveles', 8), ('bonjour', 8), ('ivy', 8), ('league', 8), ('enseñarlas', 8), ('democráticas', 8), ('estipulado', 8), ('sable', 8), ('sobreprotectores', 8), ('tararea', 8), ('localizados', 8), ('desamparados', 8), ('transmitidas', 8), ('asuma', 8), ('correteando', 8), ('paranormales', 16), ('atracciones', 8), ('turísticas', 8), ('registrada', 8), ('mordía', 8), ('comunicarte', 8), ('barreras', 8), ('empezarán', 8), ('fracciones', 8), ('dude', 16), ('secuestrados', 8), ('ee', 8), ('uu', 8), ('declarase', 8), ('dedujiste', 8), ('averiguaría', 8), ('satisfechas', 8), ('regalarles', 8), ('caminatas', 8), ('complace', 8), ('participaras', 8), ('massachusetts', 8), ('relacionarse', 8), ('jactaban', 8), ('retire', 8), ('pizarro', 8), ('inca', 8), ('anticuada', 8), ('sentimental', 8), ('infrarrojos', 8), ('identificarse', 8), ('viajeros', 8), ('dirigían', 8), ('dactilares', 8), ('5ª', 8), ('digitales', 16), ('turísticos', 8), ('donen', 8), ('fluorescente', 8), ('parpadear', 8), ('toparon', 8), ('genuinamente', 8), ('acomodamos', 8), ('deslizarme', 8), ('baranda', 8), ('provisión', 8), ('escaseó', 8), ('cuidaron', 16), ('«¡comprémosle', 8), ('graduación»', 8), ('«es', 8), ('constituía', 8), ('multiplicación', 8), ('innecesarias', 8), ('limites', 8), ('tranquilizantes', 8), ('fugó', 8), ('aficionados', 8), ('maceta', 16), ('firmaría', 8), ('infiltró', 8), ('las\\xa0', 8), ('licuadora', 8), ('desconfiar', 8), ('comprendan', 8), ('stairway', 8), ('to', 8), ('heaven', 8), ('permanecieran', 8), ('acepten', 8), ('wright', 8), ('impulsado', 8), ('costara', 16), ('robles', 8), ('policial', 16), ('imperiosa', 8), ('aproximación', 8), ('doméstica', 8), ('agregó', 8), ('tratasen', 8), ('reuniendo', 8), ('duren', 8), ('sintieras', 8), ('confrontado', 8), ('devenir', 8), ('entiendan', 16), ('rolls', 8), ('royce', 8), ('sobrado', 8), ('discapacidad', 8), ('psíquica', 8), ('chanta', 8), ('cabrito', 8), ('esperados', 8), ('acababan', 8), ('aferré', 8), ('termo', 8), ('pagarles', 8), ('oyeras', 8), ('tomarías', 8), ('académicas', 8), ('calcuta', 16), ('nublados', 8), ('satéilte', 8), ('sputnik', 8), ('lanzado', 8), ('1957', 8), ('desatarse', 8), ('monoteístas', 24), ('judaísmo', 24), ('ratoncito', 8), ('pérez', 8), ('renovaron', 8), ('fastidia', 8), ('alzheimer', 8), ('renunciaría', 8), ('etiopía', 8), ('consistente', 8), ('buscarlas', 8), ('retrasada', 8), ('nevadas', 8), ('comida»', 8), ('«me', 8), ('ahí»', 8), ('desvinculó', 8), ('prefectura', 16), ('racimos', 8), ('cuidaras', 8), ('ímpetu', 8), ('hallaban', 8), ('estacionas', 8), ('incrementando', 8), ('ahorrarnos', 8), ('prescribió', 16), ('alejamiento', 8), ('acosándole', 8), ('cometiera', 8), ('rebanadas', 8), ('demandamos', 8), ('póliza', 8), ('acurrucados', 24), ('parecerte', 8), ('videos', 8), ('grabamos', 8), ('tímidas', 8), ('encriptación', 8), ('evaporación', 8), ('lagos', 16), ('cuestionaro', 8), ('ínfimas', 8), ('hablarlo', 8), ('razonada', 8), ('entierren', 8), ('prominentes', 8), ('pensadores', 8), ('embrague', 8), ('aceleras', 8), ('devolvérselo', 8), ('especializan', 16), ('porcentaje', 8), ('carbohidratos', 8), ('célula', 8), ('amenazaran', 8), ('bongos', 8), ('snorkel', 8), ('snorkeling', 8), ('acordes', 8), ('talle', 8), ('ocupará', 16), ('manejaban', 8), ('sacaría', 8), ('sacaba', 8), ('enmarcada', 16), ('confundir', 8), ('aislamiento', 8), ('mediterráneo', 16), ('admitidos', 8), ('repasando', 8), ('mantengámonos', 8), ('dedicarías', 8), ('¿merece', 8), ('gruñir', 8), ('magnético', 8), ('sandwiches', 8), ('recurren', 8), ('escasas', 8), ('racionada', 8), ('conquista', 8), ('sixtina', 8), ('construída', 8), ('vaticano', 8), ('1473', 8), ('camarotes', 8), ('fraganti', 8), ('irrumpiendo', 8), ('yomiuri', 8), ('hanshin', 8), ('piletas', 8), ('evanescente', 8), ('sugería', 24), ('toefl', 8), ('centras', 8), ('constructivo', 8), ('temporales', 8), ('elementos', 16), ('alzar', 8), ('anotarlo', 8), ('exigencias', 8), ('huelguistas', 8), ('utilizarlo', 8), ('disparándoles', 8), ('calado', 8), ('consultarme', 8), ('rodajita', 8), ('lima', 8), ('conocería', 8), ('casaría', 8), ('casarían', 8), ('60º', 8), ('requiera', 8), ('hacérmelo', 16), ('requieran', 8), ('entenderse', 16), ('complejos', 8), ('maleducados', 8), ('cuña', 8), ('polea', 8), ('válidos', 8), ('comprados', 8), ('lady', 16), ('gaga', 16), ('extrapicante', 8), ('envase', 8), ('degustar', 8), ('lujoso', 16), ('cuidarse', 8), ('exigir', 8), ('acostumbramiento', 8), ('espinada', 8), ('almidonados', 8), ('discrimines', 8), ('basándote', 8), ('almacenada', 8), ('jorge', 8), ('borges', 8), ('realizable', 8), ('paterno', 8), ('figurar', 8), ('mahoma', 16), ('requerir', 8), ('desplazamiento', 8), ('horizontal', 8), ('empleó', 8), ('aclamaciones', 8), ('disgustados', 8), ('interminable', 8), ('inaguantable', 8), ('cometería', 8), ('garra', 8), ('adjuntos', 8), ('guinness', 8), ('récords', 8), ('aproxime', 8), ('albert', 8), ('travesía', 8), ('aplastado', 8), ('preocupándote', 8), ('seguidores', 24), ('doctoral', 8), ('enviada', 8), ('atrincherado', 8), ('invertido', 8), ('hacerlos', 8), ('cepillado', 16), ('tecnologías', 8), ('mejoradas', 8), ('cace', 8), ('calentamiento', 8), ('emisiones', 8), ('ineficaces', 8), ('virales', 8), ('mineral', 8), ('idearán', 8), ('cargándose', 8), ('conmovida', 8), ('operadora', 8), ('estableciera', 8), ('tributo', 8), ('rellenarla', 8), ('confesás', 8), ('despedirla', 8), ('pose', 8), ('despedirlo', 16), ('¡guau', 8), ('poseas', 8), ('veintisiete', 8), ('acres', 8), ('figaro', 8), ('ruptura', 16), ('lamentándote', 8), ('proyectos', 8), ('keosuvanh', 8), ('psiquiátrico', 8), ('eviten', 8), ('evites', 8), ('especuladores', 8), ('aprovechan', 8), ('transferidas', 8), ('fortalecer', 8), ('definitivo', 8), ('transferido', 8), ('corporales', 8), ('anticonstitutionnellement', 8), ('sobreviviendo', 8), ('compadecer', 8), ('resonancia', 8), ('encontrarlas', 16), ('trigonométricas', 8), ('escuchases', 8), ('prohibiendo', 8), ('30000', 8), ('soportaron', 8), ('apelación', 8), ('afirmó', 8), ('coaccionada', 8), ('sumergirme', 8), ('incidentes', 8), ('equivalían', 8), ('provocación', 8), ('disminuyen', 8), ('amenazan', 8), ('34000', 8), ('despeinado', 8), ('zarrapastroso', 8), ('asustaba', 8), ('frecuente', 8), ('hallara', 8), ('calificar', 8), ('patrocinadores', 8), ('desaceleración', 8), ('sandy', 8), ('inodoro', 8), ('peticiones', 8), ('tratarse', 8), ('descartarse', 8), ('reclutado', 8), ('retenido', 8), ('captores', 8), ('juzgarse', 8), ('videocámara', 8), ('vídeos', 8), ('distantes', 8), ('cobayas', 8), ('declaran', 8), ('vencidario', 8), ('responsabilizar', 8), ('torturar', 8), ('ejerció', 8), ('insecticidas', 8), ('agroquímicos', 8), ('exterminan', 8), ('recuerden', 8), ('cometidos', 16), ('dárselas', 8), ('protecciones', 8), ('climáticos', 8), ('afectarán', 8), ('ambiguas', 8), ('golpetear', 8), ('ollas', 8), ('cacerolas', 8), ('trajese', 8), ('bajásemos', 8), ('exclusión', 8), ('añoranza', 8), ('sinó', 8), ('resfriarse', 8), ('significativos', 8), ('manutención', 8), ('impida', 8), ('angustiado', 8), ('complaciente', 8), ('victorias', 8), ('consecutivas', 8), ('gestión', 8), ('reunidas', 8), ('instituciones', 8), ('embarazosos', 8), ('aguantó', 8), ('revoloteaba', 8), ('avisó', 8), ('vivan', 8), ('dignificada', 8), ('irritables', 8), ('retrasará', 8), ('agotan', 8), ('v', 8), ('aerolínea', 8), ('española', 8), ('corno', 8), ('eligiera', 8), ('confundirá', 8), ('asombrará', 8), ('¿sí', 8), ('hundiéndose', 8), ('agarrados', 8), ('incursión', 8), ('incautado', 8), ('explíquelo', 8), ('contrabandeando', 16), ('describiría', 8), ('muchossi', 8), ('traductores', 24), ('traducen', 8), ('opositores', 8), ('modificadas', 8), ('polinizar', 8), ('observen', 8), ('proporciona', 8), ('frenando', 8), ('bases', 8), ('apañó', 8), ('cortarse', 8), ('delantero', 8), ('proclamado', 8), ('soberanía', 8), ('incrementándose', 8), ('gobiernos', 16), ('ciruelo', 8), ('llamarlos', 8), ('pundonoroso', 8), ('tardo', 8), ('cercanamente', 8), ('aclaración', 8), ('puramente', 8), ('experimental', 8), ('interprete', 8), ('sucedía', 8), ('ovacionó', 8), ('amnistía', 8), ('hibernaban', 8), ('retrospectiva', 8), ('aldous', 8), ('huxley', 8), ('abraham', 8), ('deportaran', 8), ('caribe', 8), ('entendimiento', 24), ('intercomunicador', 8), ('babuinos', 8), ('merodeadores', 8), ('calentaba', 8), ('destilada', 16), ('imposición', 8), ('louis', 8), ('braille', 8), ('cercanas', 8), ('buscaban', 8), ('tíbet', 8), ('orificio', 8), ('suicidar', 8), ('renové', 8), ('floritura', 8), ('retórica', 8), ('mapeadas', 8), ('oceánico', 8), ('didgeridoo', 8), ('aborigen', 8), ('eucaliptos', 8), ('imprevistas', 8), ('bullicio', 8), ('vals', 8), ('sometan', 8), ('frondosos', 8), ('esparcen', 8), ('455', 8), ('vigésima', 8), ('enpezaron', 8), ('creencia', 16), ('pacíficas', 8), ('boletín', 8), ('malentendidos', 8), ('obesos', 8), ('¿juras', 8), ('interlingua', 16), ('klingon', 16), ('lojban', 8), ('navi', 8), ('volapük', 8), ('concentras', 8), ('dominarás', 8), ('catorceavo', 8), ('justificable', 8), ('diseñadores', 8), ('desposeídos', 8), ('sarcásticos', 8), ('sugerirle', 8), ('enredaderas', 8), ('compararé', 8), ('somerset', 8), ('rehuir', 8), ('equivalentes', 8), ('contenían', 8), ('lavaje', 8), ('tóxico', 8), ('disimuladas', 8), ('impecablemente', 8), ('mecedora', 8), ('elástico', 8), ('difamas', 8), ('elegís', 8), ('distorsionadas', 8), ('mantenemos', 8), ('cabrearse', 8), ('mejoraría', 8), ('brille', 8), ('tendríamos', 8), ('bocas', 8), ('quemara', 8), ('confieses', 8), ('pecados', 8), ('repetirlos', 8), ('maserati', 8), ('debatir', 8), ('escanee', 8), ('subiré', 8), ('buscada', 16), ('desconectarlo', 8), ('ámbito', 8), ('especulativa', 8), ('ondas', 8), ('expansivas', 8), ('grandiosa', 8), ('retorcer', 8), ('adecuarlos', 8), ('echen', 8), ('refrigerados', 8), ('bol', 8), ('dominante', 8), ('cesar', 8), ('chavez', 8), ('1993', 8), ('intimidante', 8), ('experimentada', 8), ('característica', 8), ('igualmente', 8), ('paran', 8), ('monóxido', 8), ('sustancia', 8), ('incompleta', 8), ('cereales', 8), ('integrales', 8), ('alimentarás', 16), ('enséñale', 8), ('novedosas', 8), ('impronunciables', 8), ('rebuscando', 8), ('inauguración', 8), ('cumplidos', 8), ('olores', 8), ('fritanga', 8), ('flamante', 8), ('descubriendo', 8), ('caciques', 8), ('materialice', 8), ('juicios', 8), ('protector', 16), ('recurrí', 8), ('consumidores', 8), ('proclamamos', 8), ('titulada', 8), ('matanza', 8), ('situa', 8), ('resoluciones', 8), ('jovencito', 8), ('devolvértelos', 8), ('africano', 16), ('aguardará', 8), ('devolverla', 8), ('desconecte', 8), ('modem', 8), ('escudriño', 8), ('trescientas', 8), ('enviadas', 8), ('posoperatorios', 8), ('causados', 8), ('quirúrgico', 8), ('entrados', 8), ('demandan', 8), ('dispuestas', 8), ('supersticiosas', 8), ('bostecé', 8), ('legañas', 8), ('sugieran', 8), ('maremotos', 8), ('6000', 8), ('aprovechando', 8), ('albores', 8), ('evitarte', 8), ('imprecaciones', 8), ('oírse', 8), ('estuviésemos', 16), ('atributos', 16), ('vistos', 16), ('femeninos', 8), ('gráfica', 8), ('averigüe', 8), ('rodeaban', 8), ('abducidos', 8), ('reemplazados', 8), ('concejo', 8), ('magno', 8), ('ilesa', 8), ('invalidez', 8), ('deshidratar', 8), ('balnearios', 8), ('termales', 8), ('himalaya', 8), ('placas', 8), ('tectónicas', 8), ('eurasia', 8), ('residuos', 8), ('buscadora', 8), ('represa', 8), ('belo', 8), ('irritan', 8), ('ignorarlo', 8), ('jerga', 8), ('rimado', 8), ('cockney', 8), ('partículas', 16), ('bombardean', 16), ('desapercibida', 8), ('inadvertida', 8), ('tirarlo', 8), ('tirándolo', 8), ('imperfecciones', 8), ('zamenhof', 8), ('instruccciones', 8), ('anglofobiaasí', 8), ('programadores', 8), ('emoticones', 8), ('previamente', 8), ('¡regocijad', 16), ('pastorcillos', 8), ('pesebre', 8), ('sacan', 8), ('atlanta', 8), ('georgia', 8), ('delegación', 8), ('homólogos', 8), ('dependa', 8), ('escrutadora', 8), ('chávez', 8), ('mantuvieran', 8), ('usaran', 8), ('preocupándonos', 8), ('cosméticos', 8), ('luciérnaga', 8), ('constructor', 8), ('gale', 8), ('ferris', 8), ('jr', 8), ('apps', 8), ('app', 8), ('store', 8), ('jingle', 16), ('bells', 16), ('mención', 8), ('animé', 8), ('primordialmente', 8), ('barney', 8), ('registrarlos', 8), ('desearás', 8), ('colillas', 16), ('liar', 8), ('liarse', 8), ('índico', 8), ('flotantes', 8), ('saludo', 8), ('aisladamente', 8), ('maldíceme', 8), ('afirme', 8), ('estancada', 8), ('apatía', 8), ('planchas', 8), ('provocará', 8), ('acumulación', 8), ('olvidan', 8), ('escaramuza', 8), ('canutas', 8), ('enviarse', 16), ('descargarlas', 8), ('url', 8), ('urls', 8), ('subestiman', 8), ('sobrestiman', 8), ('aprenderlas', 8), ('insistas', 8), ('convenzas', 8), ('relacionadas', 8), ('cirrosis', 8), ('circulatorio', 8), ('producimos', 8), ('retroceso', 8), ('emergentes', 8), ('encontrada', 8), ('fraseo', 8), ('corpus', 8), ('animamos', 8), ('minimizar', 8)])\n"
     ]
    }
   ],
   "source": [
    "print(spa_tokenizer.word_counts)"
   ]
  },
  {
   "cell_type": "markdown",
   "metadata": {
    "colab_type": "text",
    "id": "YX2IY0fWpVQ8"
   },
   "source": [
    "La siguiente función prepara las frases de la forma que se ha especificado anteriormente.\n"
   ]
  },
  {
   "cell_type": "code",
   "execution_count": 0,
   "metadata": {
    "colab": {},
    "colab_type": "code",
    "id": "mFICqWWHpVQ9"
   },
   "outputs": [],
   "source": [
    "# encode and pad sequences\n",
    "def encode_sequences(tokenizer, length, lines):\n",
    "    # integer encode sequences\n",
    "    seq = tokenizer.texts_to_sequences(lines)\n",
    "    # pad sequences with 0 values\n",
    "    seq = pad_sequences(seq, maxlen=length, padding='post')\n",
    "    print(seq)\n",
    "    print(len(seq))\n",
    "    return seq"
   ]
  },
  {
   "cell_type": "markdown",
   "metadata": {
    "colab_type": "text",
    "id": "NFeNEIUjpVRA"
   },
   "source": [
    "## Primer modelo\n",
    "Cabe destacar que, este modelo posee la misma estructura que utilizaba el modelo que realiza la tradución de inglés a alemán. \n",
    "\n",
    "Sin embargo, en este caso se ha hecho uso de todas las frases existentes en el fichero de datos inicial, mientras que en el otro modelo se hizo una selección de únicamente las primeras 50000 frases.\n"
   ]
  },
  {
   "cell_type": "markdown",
   "metadata": {
    "colab_type": "text",
    "id": "Oj2q7abuYBVG"
   },
   "source": [
    "### Preparar conjuntos entrenamiento y test\n",
    "\n",
    "En primer lugar se separan los datos en conjunto de entrenamiento y conjunto de test para entrenar y evaluar el modelo."
   ]
  },
  {
   "cell_type": "code",
   "execution_count": 0,
   "metadata": {
    "colab": {},
    "colab_type": "code",
    "id": "7bUD1zJqpVRB"
   },
   "outputs": [],
   "source": [
    "from sklearn.model_selection import train_test_split\n",
    "train, test = train_test_split(spa_eng, test_size=0.2, random_state = 12)"
   ]
  },
  {
   "cell_type": "markdown",
   "metadata": {
    "colab_type": "text",
    "id": "GQNZmyM7pVRD"
   },
   "source": [
    "A continuación, se codifican las frases. Se codifican las frases en español como las entradas al modelo y las frases en inglés como las secuencias objetivo/meta del modelo. De esta forma se está creando un traductor de español a inglés.\n",
    "\n",
    "Este proceso se realiza tanto para el conjunto de entrenamiento como el de test.\n"
   ]
  },
  {
   "cell_type": "code",
   "execution_count": 54,
   "metadata": {
    "colab": {
     "base_uri": "https://localhost:8080/",
     "height": 301
    },
    "colab_type": "code",
    "id": "KdDwswCdpVRD",
    "outputId": "56fe95ab-a356-4615-9d45-1a5b13ef4d56"
   },
   "outputs": [
    {
     "name": "stdout",
     "output_type": "stream",
     "text": [
      "[[  19  243  576 ...    6  361    0]\n",
      " [4771   90    8 ...    0    0    0]\n",
      " [  17 1354 2673 ...   25 7668    0]\n",
      " ...\n",
      " [  23    4   22 ... 1032   30 1302]\n",
      " [  51    7  188 ... 1027    0    0]\n",
      " [   7 5665   11 ...    0    0    0]]\n",
      "885139\n",
      "[[  17  166  292 ...  373    0    0]\n",
      " [  73    4  741 ...    9  214    0]\n",
      " [   1 1211  221 ...    3  858    0]\n",
      " ...\n",
      " [  21   56   35 ...   37  197    0]\n",
      " [ 147  153   42 ...    0    0    0]\n",
      " [   1  166  255 ...    3   16    0]]\n",
      "885139\n"
     ]
    }
   ],
   "source": [
    "# prepare training data\n",
    "trainX = encode_sequences(spa_tokenizer, spa_length, train[:, 1])\n",
    "trainY = encode_sequences(eng_tokenizer, eng_length, train[:, 0])"
   ]
  },
  {
   "cell_type": "code",
   "execution_count": 28,
   "metadata": {
    "colab": {
     "base_uri": "https://localhost:8080/",
     "height": 52
    },
    "colab_type": "code",
    "id": "KJXXYEo3pVRF",
    "outputId": "fe385556-239c-48c8-c4a8-95163545f773"
   },
   "outputs": [
    {
     "name": "stdout",
     "output_type": "stream",
     "text": [
      "(786790, 8)\n",
      "(786790, 8)\n"
     ]
    }
   ],
   "source": [
    "print(trainX.shape)\n",
    "print(trainY.shape)"
   ]
  },
  {
   "cell_type": "code",
   "execution_count": 55,
   "metadata": {
    "colab": {
     "base_uri": "https://localhost:8080/",
     "height": 301
    },
    "colab_type": "code",
    "id": "M9j8Vvu8pVRI",
    "outputId": "02e19976-1172-4dad-b3c3-d3343fe6ba1d"
   },
   "outputs": [
    {
     "name": "stdout",
     "output_type": "stream",
     "text": [
      "[[  23   74 1146 ...    0    0    0]\n",
      " [   6  607   21 ...    0    0    0]\n",
      " [3807 2611    0 ...    0    0    0]\n",
      " ...\n",
      " [   4 1017  172 ...    0    0    0]\n",
      " [ 290  961   66 ...    0    0    0]\n",
      " [ 908    7  728 ...    0    0    0]]\n",
      "221285\n",
      "[[ 21 981  92 ...   0   0   0]\n",
      " [  1 364   7 ...   0   0   0]\n",
      " [  4  22 436 ...   0   0   0]\n",
      " ...\n",
      " [  2  56  82 ...  11 143 228]\n",
      " [ 22   4 396 ...   0   0   0]\n",
      " [ 22   4 140 ...   0   0   0]]\n",
      "221285\n"
     ]
    }
   ],
   "source": [
    "# prepare validation data\n",
    "testX = encode_sequences(spa_tokenizer, spa_length, test[:, 1])\n",
    "testY = encode_sequences(eng_tokenizer, eng_length, test[:, 0])"
   ]
  },
  {
   "cell_type": "code",
   "execution_count": 30,
   "metadata": {
    "colab": {
     "base_uri": "https://localhost:8080/",
     "height": 52
    },
    "colab_type": "code",
    "id": "sMz9j2DEpVRK",
    "outputId": "ffae497c-1602-41e3-953a-4218bc3139cb"
   },
   "outputs": [
    {
     "name": "stdout",
     "output_type": "stream",
     "text": [
      "(196698, 8)\n",
      "(196698, 8)\n"
     ]
    }
   ],
   "source": [
    "print(testX.shape)\n",
    "print(testY.shape)"
   ]
  },
  {
   "cell_type": "markdown",
   "metadata": {
    "colab_type": "text",
    "id": "_Lzu9UiV7ZNU"
   },
   "source": [
    "### Construir y entrenar el modelo"
   ]
  },
  {
   "cell_type": "markdown",
   "metadata": {
    "colab_type": "text",
    "id": "MHMb3SvoywqN"
   },
   "source": [
    "Para construir la arquitectura Seq2Seq se necesitan dos partes: por un lado el codificador, que en este caso estará compuesto de una capa de embedding y una capa LSTM y, por otro lado, el decodifcador que está formado por una capa LSTM y una capa densamente conectada."
   ]
  },
  {
   "cell_type": "code",
   "execution_count": 0,
   "metadata": {
    "colab": {},
    "colab_type": "code",
    "id": "vxlWay9jpVRN"
   },
   "outputs": [],
   "source": [
    "# build NMT model\n",
    "def build_model(in_vocab, out_vocab, in_timesteps, out_timesteps, units):\n",
    "    model = Sequential()\n",
    "    model.add(Embedding(in_vocab, units, input_length=in_timesteps, mask_zero=True))\n",
    "    model.add(LSTM(units))\n",
    "    model.add(RepeatVector(out_timesteps))    \n",
    "    model.add(LSTM(units, return_sequences=True))\n",
    "    model.add(Dense(out_vocab, activation='softmax'))\n",
    "    return model"
   ]
  },
  {
   "cell_type": "markdown",
   "metadata": {
    "colab_type": "text",
    "id": "CpyvNYPopVRP"
   },
   "source": [
    "La capa de *RepeatVector* tiene la función de añadir una dimensión extra al dataset, con el fin de que se adapte a la siguiente capa del modelo que necesita una tercera dimensión   (https://campus.datacamp.com/courses/machine-translation-in-python/implementing-an-encoder-decoder-model-with-keras?ex=6)."
   ]
  },
  {
   "cell_type": "markdown",
   "metadata": {
    "colab_type": "text",
    "id": "lB9yD4GnpVRP"
   },
   "source": [
    "Se utiliza el optimizador RMSprop en este modelo ya que normalmente es una buena elección para redes neuronales recurrentes (RNN)."
   ]
  },
  {
   "cell_type": "code",
   "execution_count": 30,
   "metadata": {
    "colab": {
     "base_uri": "https://localhost:8080/",
     "height": 88
    },
    "colab_type": "code",
    "id": "kX3fMOlPpVRP",
    "outputId": "09ccb15f-fb73-4831-9abe-e10eee5ed752"
   },
   "outputs": [
    {
     "name": "stdout",
     "output_type": "stream",
     "text": [
      "27431\n",
      "13731\n",
      "8\n",
      "8\n"
     ]
    }
   ],
   "source": [
    "print(spa_vocab_size)\n",
    "print(eng_vocab_size)\n",
    "print(spa_length)\n",
    "print(eng_length)"
   ]
  },
  {
   "cell_type": "code",
   "execution_count": 0,
   "metadata": {
    "colab": {},
    "colab_type": "code",
    "id": "40QE-iIjpVRT"
   },
   "outputs": [],
   "source": [
    "model = build_model(spa_vocab_size, eng_vocab_size, spa_length, eng_length, 512)\n",
    "rms = optimizers.RMSprop(lr=0.001)\n",
    "model.compile(optimizer=rms, loss='sparse_categorical_crossentropy', metrics=['accuracy'])"
   ]
  },
  {
   "cell_type": "markdown",
   "metadata": {
    "colab_type": "text",
    "id": "LF2m8-n-1gyc"
   },
   "source": [
    "Se hace uso de **'sparse_categorical_crossentropy'** como la función de pérdida ya que permite usa la secuencia meta tal cual se le pasa al modelo, en lugar de tener que usar codificación one hot, la cual ocuparía un gran espacio de memoria con un vocabulario de la magnitud tan elevada como el que se está empleando.\n",
    "\n",
    "Ahora se procede al entrenamiento de modelo durante 30 épocas con un tamaño de batch de 512. También se usa la función **ModelCheckpoint()** para guardar el mejor modelo con la menor pérdida en validación, o lo que es lo mismo, la mayor precisión sobre el conjunto de test.\n"
   ]
  },
  {
   "cell_type": "code",
   "execution_count": 32,
   "metadata": {
    "colab": {
     "base_uri": "https://localhost:8080/",
     "height": 1000
    },
    "colab_type": "code",
    "id": "TZ8BVJnmpVRW",
    "outputId": "e2ca3b12-635b-42fe-afb5-03d76b055b41",
    "scrolled": true
   },
   "outputs": [
    {
     "name": "stderr",
     "output_type": "stream",
     "text": [
      "/usr/local/lib/python3.6/dist-packages/tensorflow/python/framework/indexed_slices.py:434: UserWarning: Converting sparse IndexedSlices to a dense Tensor of unknown shape. This may consume a large amount of memory.\n",
      "  \"Converting sparse IndexedSlices to a dense Tensor of unknown shape. \"\n"
     ]
    },
    {
     "name": "stdout",
     "output_type": "stream",
     "text": [
      "Train on 550752 samples, validate on 137689 samples\n",
      "Epoch 1/30\n",
      "550752/550752 [==============================] - 403s 732us/step - loss: 3.9949 - accuracy: 0.3763 - val_loss: 3.0502 - val_accuracy: 0.4672\n",
      "\n",
      "Epoch 00001: val_loss improved from inf to 3.05020, saving model to model.h1.26_apr_20\n",
      "Epoch 2/30\n",
      "550752/550752 [==============================] - 401s 729us/step - loss: 2.4434 - accuracy: 0.5377 - val_loss: 2.0032 - val_accuracy: 0.5975\n",
      "\n",
      "Epoch 00002: val_loss improved from 3.05020 to 2.00317, saving model to model.h1.26_apr_20\n",
      "Epoch 3/30\n",
      "550752/550752 [==============================] - 402s 729us/step - loss: 1.6713 - accuracy: 0.6487 - val_loss: 1.4855 - val_accuracy: 0.6824\n",
      "\n",
      "Epoch 00003: val_loss improved from 2.00317 to 1.48549, saving model to model.h1.26_apr_20\n",
      "Epoch 4/30\n",
      "550752/550752 [==============================] - 401s 728us/step - loss: 1.2001 - accuracy: 0.7375 - val_loss: 1.1250 - val_accuracy: 0.7550\n",
      "\n",
      "Epoch 00004: val_loss improved from 1.48549 to 1.12504, saving model to model.h1.26_apr_20\n",
      "Epoch 5/30\n",
      "550752/550752 [==============================] - 401s 728us/step - loss: 0.8664 - accuracy: 0.8086 - val_loss: 0.8464 - val_accuracy: 0.8164\n",
      "\n",
      "Epoch 00005: val_loss improved from 1.12504 to 0.84641, saving model to model.h1.26_apr_20\n",
      "Epoch 6/30\n",
      "550752/550752 [==============================] - 401s 728us/step - loss: 0.6267 - accuracy: 0.8621 - val_loss: 0.6756 - val_accuracy: 0.8518\n",
      "\n",
      "Epoch 00006: val_loss improved from 0.84641 to 0.67564, saving model to model.h1.26_apr_20\n",
      "Epoch 7/30\n",
      "550752/550752 [==============================] - 401s 728us/step - loss: 0.4613 - accuracy: 0.9002 - val_loss: 0.5098 - val_accuracy: 0.8911\n",
      "\n",
      "Epoch 00007: val_loss improved from 0.67564 to 0.50977, saving model to model.h1.26_apr_20\n",
      "Epoch 8/30\n",
      "550752/550752 [==============================] - 401s 728us/step - loss: 0.3470 - accuracy: 0.9254 - val_loss: 0.4021 - val_accuracy: 0.9142\n",
      "\n",
      "Epoch 00008: val_loss improved from 0.50977 to 0.40213, saving model to model.h1.26_apr_20\n",
      "Epoch 9/30\n",
      "550752/550752 [==============================] - 401s 728us/step - loss: 0.2675 - accuracy: 0.9427 - val_loss: 0.3223 - val_accuracy: 0.9312\n",
      "\n",
      "Epoch 00009: val_loss improved from 0.40213 to 0.32233, saving model to model.h1.26_apr_20\n",
      "Epoch 10/30\n",
      "550752/550752 [==============================] - 401s 728us/step - loss: 0.2141 - accuracy: 0.9539 - val_loss: 0.2682 - val_accuracy: 0.9428\n",
      "\n",
      "Epoch 00010: val_loss improved from 0.32233 to 0.26821, saving model to model.h1.26_apr_20\n",
      "Epoch 11/30\n",
      "550752/550752 [==============================] - 400s 726us/step - loss: 0.1765 - accuracy: 0.9612 - val_loss: 0.2259 - val_accuracy: 0.9508\n",
      "\n",
      "Epoch 00011: val_loss improved from 0.26821 to 0.22590, saving model to model.h1.26_apr_20\n",
      "Epoch 12/30\n",
      "550752/550752 [==============================] - 400s 726us/step - loss: 0.1502 - accuracy: 0.9661 - val_loss: 0.1949 - val_accuracy: 0.9573\n",
      "\n",
      "Epoch 00012: val_loss improved from 0.22590 to 0.19487, saving model to model.h1.26_apr_20\n",
      "Epoch 13/30\n",
      "550752/550752 [==============================] - 400s 727us/step - loss: 0.1313 - accuracy: 0.9694 - val_loss: 0.1715 - val_accuracy: 0.9614\n",
      "\n",
      "Epoch 00013: val_loss improved from 0.19487 to 0.17152, saving model to model.h1.26_apr_20\n",
      "Epoch 14/30\n",
      "550752/550752 [==============================] - 401s 727us/step - loss: 0.1179 - accuracy: 0.9716 - val_loss: 0.1546 - val_accuracy: 0.9642\n",
      "\n",
      "Epoch 00014: val_loss improved from 0.17152 to 0.15465, saving model to model.h1.26_apr_20\n",
      "Epoch 15/30\n",
      "550752/550752 [==============================] - 400s 726us/step - loss: 0.1077 - accuracy: 0.9732 - val_loss: 0.1416 - val_accuracy: 0.9670\n",
      "\n",
      "Epoch 00015: val_loss improved from 0.15465 to 0.14156, saving model to model.h1.26_apr_20\n",
      "Epoch 16/30\n",
      "550752/550752 [==============================] - 400s 727us/step - loss: 0.1003 - accuracy: 0.9743 - val_loss: 0.1316 - val_accuracy: 0.9684\n",
      "\n",
      "Epoch 00016: val_loss improved from 0.14156 to 0.13157, saving model to model.h1.26_apr_20\n",
      "Epoch 17/30\n",
      "550752/550752 [==============================] - 400s 727us/step - loss: 0.0945 - accuracy: 0.9752 - val_loss: 0.1226 - val_accuracy: 0.9699\n",
      "\n",
      "Epoch 00017: val_loss improved from 0.13157 to 0.12263, saving model to model.h1.26_apr_20\n",
      "Epoch 18/30\n",
      "550752/550752 [==============================] - 401s 727us/step - loss: 0.0901 - accuracy: 0.9758 - val_loss: 0.1173 - val_accuracy: 0.9707\n",
      "\n",
      "Epoch 00018: val_loss improved from 0.12263 to 0.11729, saving model to model.h1.26_apr_20\n",
      "Epoch 19/30\n",
      "550752/550752 [==============================] - 401s 728us/step - loss: 0.0865 - accuracy: 0.9763 - val_loss: 0.1126 - val_accuracy: 0.9718\n",
      "\n",
      "Epoch 00019: val_loss improved from 0.11729 to 0.11258, saving model to model.h1.26_apr_20\n",
      "Epoch 20/30\n",
      "550752/550752 [==============================] - 401s 729us/step - loss: 0.0839 - accuracy: 0.9766 - val_loss: 0.1078 - val_accuracy: 0.9722\n",
      "\n",
      "Epoch 00020: val_loss improved from 0.11258 to 0.10780, saving model to model.h1.26_apr_20\n",
      "Epoch 21/30\n",
      "550752/550752 [==============================] - 399s 725us/step - loss: 0.0814 - accuracy: 0.9769 - val_loss: 0.1035 - val_accuracy: 0.9732\n",
      "\n",
      "Epoch 00021: val_loss improved from 0.10780 to 0.10353, saving model to model.h1.26_apr_20\n",
      "Epoch 22/30\n",
      "550752/550752 [==============================] - 399s 725us/step - loss: 0.0796 - accuracy: 0.9771 - val_loss: 0.1010 - val_accuracy: 0.9735\n",
      "\n",
      "Epoch 00022: val_loss improved from 0.10353 to 0.10097, saving model to model.h1.26_apr_20\n",
      "Epoch 23/30\n",
      "550752/550752 [==============================] - 400s 727us/step - loss: 0.0779 - accuracy: 0.9773 - val_loss: 0.0973 - val_accuracy: 0.9740\n",
      "\n",
      "Epoch 00023: val_loss improved from 0.10097 to 0.09729, saving model to model.h1.26_apr_20\n",
      "Epoch 24/30\n",
      "550752/550752 [==============================] - 400s 727us/step - loss: 0.0763 - accuracy: 0.9776 - val_loss: 0.0955 - val_accuracy: 0.9743\n",
      "\n",
      "Epoch 00024: val_loss improved from 0.09729 to 0.09555, saving model to model.h1.26_apr_20\n",
      "Epoch 25/30\n",
      "550752/550752 [==============================] - 400s 726us/step - loss: 0.0753 - accuracy: 0.9776 - val_loss: 0.0935 - val_accuracy: 0.9748\n",
      "\n",
      "Epoch 00025: val_loss improved from 0.09555 to 0.09351, saving model to model.h1.26_apr_20\n",
      "Epoch 26/30\n",
      "550752/550752 [==============================] - 400s 726us/step - loss: 0.0740 - accuracy: 0.9778 - val_loss: 0.0930 - val_accuracy: 0.9748\n",
      "\n",
      "Epoch 00026: val_loss improved from 0.09351 to 0.09299, saving model to model.h1.26_apr_20\n",
      "Epoch 27/30\n",
      "550752/550752 [==============================] - 400s 726us/step - loss: 0.0728 - accuracy: 0.9780 - val_loss: 0.0914 - val_accuracy: 0.9749\n",
      "\n",
      "Epoch 00027: val_loss improved from 0.09299 to 0.09142, saving model to model.h1.26_apr_20\n",
      "Epoch 28/30\n",
      "550752/550752 [==============================] - 400s 726us/step - loss: 0.0720 - accuracy: 0.9780 - val_loss: 0.0898 - val_accuracy: 0.9749\n",
      "\n",
      "Epoch 00028: val_loss improved from 0.09142 to 0.08981, saving model to model.h1.26_apr_20\n",
      "Epoch 29/30\n",
      "550752/550752 [==============================] - 400s 726us/step - loss: 0.0711 - accuracy: 0.9781 - val_loss: 0.0893 - val_accuracy: 0.9753\n",
      "\n",
      "Epoch 00029: val_loss improved from 0.08981 to 0.08927, saving model to model.h1.26_apr_20\n",
      "Epoch 30/30\n",
      "550752/550752 [==============================] - 400s 726us/step - loss: 0.0704 - accuracy: 0.9781 - val_loss: 0.0872 - val_accuracy: 0.9754\n",
      "\n",
      "Epoch 00030: val_loss improved from 0.08927 to 0.08718, saving model to model.h1.26_apr_20\n"
     ]
    }
   ],
   "source": [
    "filename = 'model.h1.26_apr_20'\n",
    "checkpoint = ModelCheckpoint(filename, monitor='val_loss', verbose=1, save_best_only=True, mode='min')\n",
    "\n",
    "history = model.fit(trainX, trainY.reshape(trainY.shape[0], trainY.shape[1], 1), \n",
    "          epochs=30, batch_size=512, \n",
    "          validation_split = 0.2,\n",
    "          callbacks=[checkpoint], verbose=1)"
   ]
  },
  {
   "cell_type": "markdown",
   "metadata": {
    "colab_type": "text",
    "id": "MwK-GPvRszp_"
   },
   "source": [
    "Cabe destacar que el modelo anterior emplea aproximadamente 6 minutos para realizar cada epoch, lo cual es un tiempo bastante elevado y a tener en cuenta para el entrenamiento de los modelos posteriores.\n",
    "\n",
    "Simplemente observando la salida obtenida del entrenamiento del modelo puede apreciarse que los resultados obtenidos de precisión son muy elevados y los de pérdida bastante bajos, como es deseable. A continuación se muestran las salidas dadas por cada época del modelo de tal forma que pueda observase su evoución sin tener que volver a ejecutar la celda de entrenamiento, en el caso de que se pierda la salida:\n",
    "\n",
    "```\n",
    "Train on 550752 samples, validate on 137689 samples\n",
    "Epoch 1/30\n",
    "550752/550752 [==============================] - 403s 732us/step - loss: 3.9949 - accuracy: 0.3763 - val_loss: 3.0502 - val_accuracy: 0.4672\n",
    "\n",
    "Epoch 00001: val_loss improved from inf to 3.05020, saving model to model.h1.26_apr_20\n",
    "Epoch 2/30\n",
    "550752/550752 [==============================] - 401s 729us/step - loss: 2.4434 - accuracy: 0.5377 - val_loss: 2.0032 - val_accuracy: 0.5975\n",
    "\n",
    "Epoch 00002: val_loss improved from 3.05020 to 2.00317, saving model to model.h1.26_apr_20\n",
    "Epoch 3/30\n",
    "550752/550752 [==============================] - 402s 729us/step - loss: 1.6713 - accuracy: 0.6487 - val_loss: 1.4855 - val_accuracy: 0.6824\n",
    "\n",
    "Epoch 00003: val_loss improved from 2.00317 to 1.48549, saving model to model.h1.26_apr_20\n",
    "Epoch 4/30\n",
    "550752/550752 [==============================] - 401s 728us/step - loss: 1.2001 - accuracy: 0.7375 - val_loss: 1.1250 - val_accuracy: 0.7550\n",
    "\n",
    "Epoch 00004: val_loss improved from 1.48549 to 1.12504, saving model to model.h1.26_apr_20\n",
    "Epoch 5/30\n",
    "550752/550752 [==============================] - 401s 728us/step - loss: 0.8664 - accuracy: 0.8086 - val_loss: 0.8464 - val_accuracy: 0.8164\n",
    "\n",
    "Epoch 00005: val_loss improved from 1.12504 to 0.84641, saving model to model.h1.26_apr_20\n",
    "Epoch 6/30\n",
    "550752/550752 [==============================] - 401s 728us/step - loss: 0.6267 - accuracy: 0.8621 - val_loss: 0.6756 - val_accuracy: 0.8518\n",
    "\n",
    "Epoch 00006: val_loss improved from 0.84641 to 0.67564, saving model to model.h1.26_apr_20\n",
    "Epoch 7/30\n",
    "550752/550752 [==============================] - 401s 728us/step - loss: 0.4613 - accuracy: 0.9002 - val_loss: 0.5098 - val_accuracy: 0.8911\n",
    "\n",
    "Epoch 00007: val_loss improved from 0.67564 to 0.50977, saving model to model.h1.26_apr_20\n",
    "Epoch 8/30\n",
    "550752/550752 [==============================] - 401s 728us/step - loss: 0.3470 - accuracy: 0.9254 - val_loss: 0.4021 - val_accuracy: 0.9142\n",
    "\n",
    "Epoch 00008: val_loss improved from 0.50977 to 0.40213, saving model to model.h1.26_apr_20\n",
    "Epoch 9/30\n",
    "550752/550752 [==============================] - 401s 728us/step - loss: 0.2675 - accuracy: 0.9427 - val_loss: 0.3223 - val_accuracy: 0.9312\n",
    "\n",
    "Epoch 00009: val_loss improved from 0.40213 to 0.32233, saving model to model.h1.26_apr_20\n",
    "Epoch 10/30\n",
    "550752/550752 [==============================] - 401s 728us/step - loss: 0.2141 - accuracy: 0.9539 - val_loss: 0.2682 - val_accuracy: 0.9428\n",
    "\n",
    "Epoch 00010: val_loss improved from 0.32233 to 0.26821, saving model to model.h1.26_apr_20\n",
    "Epoch 11/30\n",
    "550752/550752 [==============================] - 400s 726us/step - loss: 0.1765 - accuracy: 0.9612 - val_loss: 0.2259 - val_accuracy: 0.9508\n",
    "\n",
    "Epoch 00011: val_loss improved from 0.26821 to 0.22590, saving model to model.h1.26_apr_20\n",
    "Epoch 12/30\n",
    "550752/550752 [==============================] - 400s 726us/step - loss: 0.1502 - accuracy: 0.9661 - val_loss: 0.1949 - val_accuracy: 0.9573\n",
    "\n",
    "Epoch 00012: val_loss improved from 0.22590 to 0.19487, saving model to model.h1.26_apr_20\n",
    "Epoch 13/30\n",
    "550752/550752 [==============================] - 400s 727us/step - loss: 0.1313 - accuracy: 0.9694 - val_loss: 0.1715 - val_accuracy: 0.9614\n",
    "\n",
    "Epoch 00013: val_loss improved from 0.19487 to 0.17152, saving model to model.h1.26_apr_20\n",
    "Epoch 14/30\n",
    "550752/550752 [==============================] - 401s 727us/step - loss: 0.1179 - accuracy: 0.9716 - val_loss: 0.1546 - val_accuracy: 0.9642\n",
    "\n",
    "Epoch 00014: val_loss improved from 0.17152 to 0.15465, saving model to model.h1.26_apr_20\n",
    "Epoch 15/30\n",
    "550752/550752 [==============================] - 400s 726us/step - loss: 0.1077 - accuracy: 0.9732 - val_loss: 0.1416 - val_accuracy: 0.9670\n",
    "\n",
    "Epoch 00015: val_loss improved from 0.15465 to 0.14156, saving model to model.h1.26_apr_20\n",
    "Epoch 16/30\n",
    "550752/550752 [==============================] - 400s 727us/step - loss: 0.1003 - accuracy: 0.9743 - val_loss: 0.1316 - val_accuracy: 0.9684\n",
    "\n",
    "Epoch 00016: val_loss improved from 0.14156 to 0.13157, saving model to model.h1.26_apr_20\n",
    "Epoch 17/30\n",
    "550752/550752 [==============================] - 400s 727us/step - loss: 0.0945 - accuracy: 0.9752 - val_loss: 0.1226 - val_accuracy: 0.9699\n",
    "\n",
    "Epoch 00017: val_loss improved from 0.13157 to 0.12263, saving model to model.h1.26_apr_20\n",
    "Epoch 18/30\n",
    "550752/550752 [==============================] - 401s 727us/step - loss: 0.0901 - accuracy: 0.9758 - val_loss: 0.1173 - val_accuracy: 0.9707\n",
    "\n",
    "Epoch 00018: val_loss improved from 0.12263 to 0.11729, saving model to model.h1.26_apr_20\n",
    "Epoch 19/30\n",
    "550752/550752 [==============================] - 401s 728us/step - loss: 0.0865 - accuracy: 0.9763 - val_loss: 0.1126 - val_accuracy: 0.9718\n",
    "\n",
    "Epoch 00019: val_loss improved from 0.11729 to 0.11258, saving model to model.h1.26_apr_20\n",
    "Epoch 20/30\n",
    "550752/550752 [==============================] - 401s 729us/step - loss: 0.0839 - accuracy: 0.9766 - val_loss: 0.1078 - val_accuracy: 0.9722\n",
    "\n",
    "Epoch 00020: val_loss improved from 0.11258 to 0.10780, saving model to model.h1.26_apr_20\n",
    "Epoch 21/30\n",
    "550752/550752 [==============================] - 399s 725us/step - loss: 0.0814 - accuracy: 0.9769 - val_loss: 0.1035 - val_accuracy: 0.9732\n",
    "\n",
    "Epoch 00021: val_loss improved from 0.10780 to 0.10353, saving model to model.h1.26_apr_20\n",
    "Epoch 22/30\n",
    "550752/550752 [==============================] - 399s 725us/step - loss: 0.0796 - accuracy: 0.9771 - val_loss: 0.1010 - val_accuracy: 0.9735\n",
    "\n",
    "Epoch 00022: val_loss improved from 0.10353 to 0.10097, saving model to model.h1.26_apr_20\n",
    "Epoch 23/30\n",
    "550752/550752 [==============================] - 400s 727us/step - loss: 0.0779 - accuracy: 0.9773 - val_loss: 0.0973 - val_accuracy: 0.9740\n",
    "\n",
    "Epoch 00023: val_loss improved from 0.10097 to 0.09729, saving model to model.h1.26_apr_20\n",
    "Epoch 24/30\n",
    "550752/550752 [==============================] - 400s 727us/step - loss: 0.0763 - accuracy: 0.9776 - val_loss: 0.0955 - val_accuracy: 0.9743\n",
    "\n",
    "Epoch 00024: val_loss improved from 0.09729 to 0.09555, saving model to model.h1.26_apr_20\n",
    "Epoch 25/30\n",
    "550752/550752 [==============================] - 400s 726us/step - loss: 0.0753 - accuracy: 0.9776 - val_loss: 0.0935 - val_accuracy: 0.9748\n",
    "\n",
    "Epoch 00025: val_loss improved from 0.09555 to 0.09351, saving model to model.h1.26_apr_20\n",
    "Epoch 26/30\n",
    "550752/550752 [==============================] - 400s 726us/step - loss: 0.0740 - accuracy: 0.9778 - val_loss: 0.0930 - val_accuracy: 0.9748\n",
    "\n",
    "Epoch 00026: val_loss improved from 0.09351 to 0.09299, saving model to model.h1.26_apr_20\n",
    "Epoch 27/30\n",
    "550752/550752 [==============================] - 400s 726us/step - loss: 0.0728 - accuracy: 0.9780 - val_loss: 0.0914 - val_accuracy: 0.9749\n",
    "\n",
    "Epoch 00027: val_loss improved from 0.09299 to 0.09142, saving model to model.h1.26_apr_20\n",
    "Epoch 28/30\n",
    "550752/550752 [==============================] - 400s 726us/step - loss: 0.0720 - accuracy: 0.9780 - val_loss: 0.0898 - val_accuracy: 0.9749\n",
    "\n",
    "Epoch 00028: val_loss improved from 0.09142 to 0.08981, saving model to model.h1.26_apr_20\n",
    "Epoch 29/30\n",
    "550752/550752 [==============================] - 400s 726us/step - loss: 0.0711 - accuracy: 0.9781 - val_loss: 0.0893 - val_accuracy: 0.9753\n",
    "\n",
    "Epoch 00029: val_loss improved from 0.08981 to 0.08927, saving model to model.h1.26_apr_20\n",
    "Epoch 30/30\n",
    "550752/550752 [==============================] - 400s 726us/step - loss: 0.0704 - accuracy: 0.9781 - val_loss: 0.0872 - val_accuracy: 0.9754\n",
    "\n",
    "```\n",
    "\n",
    "\n",
    "\n"
   ]
  },
  {
   "cell_type": "markdown",
   "metadata": {
    "colab_type": "text",
    "id": "zZenGyGh--b2"
   },
   "source": [
    "Tal y como se puede observar en la salida, el modelo consigue al canzar una precisión por encima del 97% y con pérdidas inferiores a 0.08.\n",
    "\n",
    "En la siguiente tabla se muestra su arquitectura más en detalle. Puede apreciarse que el modelo es bastante complejo puesto que consta de 25 millones de parámetros para entrenar.\n"
   ]
  },
  {
   "cell_type": "code",
   "execution_count": 34,
   "metadata": {
    "colab": {
     "base_uri": "https://localhost:8080/",
     "height": 337
    },
    "colab_type": "code",
    "id": "V_GNBKxI6rlX",
    "outputId": "79b7670c-ea06-45c0-a35e-b936c3fded80"
   },
   "outputs": [
    {
     "name": "stdout",
     "output_type": "stream",
     "text": [
      "Model: \"sequential_1\"\n",
      "_________________________________________________________________\n",
      "Layer (type)                 Output Shape              Param #   \n",
      "=================================================================\n",
      "embedding_1 (Embedding)      (None, 8, 512)            14044672  \n",
      "_________________________________________________________________\n",
      "lstm_1 (LSTM)                (None, 512)               2099200   \n",
      "_________________________________________________________________\n",
      "repeat_vector_1 (RepeatVecto (None, 8, 512)            0         \n",
      "_________________________________________________________________\n",
      "lstm_2 (LSTM)                (None, 8, 512)            2099200   \n",
      "_________________________________________________________________\n",
      "dense_1 (Dense)              (None, 8, 13731)          7044003   \n",
      "=================================================================\n",
      "Total params: 25,287,075\n",
      "Trainable params: 25,287,075\n",
      "Non-trainable params: 0\n",
      "_________________________________________________________________\n"
     ]
    }
   ],
   "source": [
    "model.summary()"
   ]
  },
  {
   "cell_type": "markdown",
   "metadata": {
    "colab_type": "text",
    "id": "xnODkaRB3qo1"
   },
   "source": [
    "\n",
    "Se representa y se compara tanto la presisión como la pérdida obtenida en entrenamiento y test de tal forma que pueda apreciarse su evolución de manera visual.\n",
    "\n",
    "Como ya ha podido comprobarse con los resultados numéricos de la salida del entrenamiento, el modelo alcanza unos niveles de precisión muy elevados, en torno a 0.97 y unos niveles de pérdidas muy bajos, por debajo de 0.1. Además, las forma de las curvas es la deseable puesto que a medida que aumenta el número de épocas, el modelo va mejorando sus resultados. Tanto las curvas de entrenamiento como las de validación se encuentran muy próximas.\n",
    "\n",
    "Cabe destacar que a partir de la época 15 el modelo no consigue mejorar sus resultados de manera significativa, es por ello que en el segundo modelo se va a realizar el entrenamiento con 15 épocas. Además, de esta forma se reduce considerablemente el tiempo de ejecución."
   ]
  },
  {
   "cell_type": "code",
   "execution_count": 37,
   "metadata": {
    "colab": {
     "base_uri": "https://localhost:8080/",
     "height": 295
    },
    "colab_type": "code",
    "id": "cO9OcgvrnD50",
    "outputId": "653eae4a-a976-4033-b1f5-3e875f671631"
   },
   "outputs": [
    {
     "data": {
      "image/png": "[encoded data removed]",
      "text/plain": [
       "<Figure size 432x288 with 1 Axes>"
      ]
     },
     "metadata": {
      "needs_background": "light",
      "tags": []
     },
     "output_type": "display_data"
    }
   ],
   "source": [
    "plt.plot(history.history['accuracy'])\n",
    "plt.plot(history.history['val_accuracy'])\n",
    "plt.title('model accuracy')\n",
    "plt.ylabel('accuracy')\n",
    "plt.xlabel('epoch')\n",
    "plt.legend(['train','validation'])\n",
    "plt.show()"
   ]
  },
  {
   "cell_type": "code",
   "execution_count": 38,
   "metadata": {
    "colab": {
     "base_uri": "https://localhost:8080/",
     "height": 295
    },
    "colab_type": "code",
    "id": "jcm3MmwZpVRY",
    "outputId": "151545b6-f11b-4de0-8efa-f262558f7996"
   },
   "outputs": [
    {
     "data": {
      "image/png": "[encoded data removed]",
      "text/plain": [
       "<Figure size 432x288 with 1 Axes>"
      ]
     },
     "metadata": {
      "needs_background": "light",
      "tags": []
     },
     "output_type": "display_data"
    }
   ],
   "source": [
    "plt.plot(history.history['loss'])\n",
    "plt.plot(history.history['val_loss'])\n",
    "plt.title('model loss')\n",
    "plt.ylabel('loss')\n",
    "plt.xlabel('epoch')\n",
    "plt.legend(['train','validation'])\n",
    "plt.show()"
   ]
  },
  {
   "cell_type": "markdown",
   "metadata": {
    "colab_type": "text",
    "id": "S1K8orrEpVRa"
   },
   "source": [
    "### Hacer predicciones\n"
   ]
  },
  {
   "cell_type": "markdown",
   "metadata": {
    "colab_type": "text",
    "id": "6RgFVU9dpVRa"
   },
   "source": [
    "Se carga el modelo guardado y se ejecutan algunas predicciones para comprobar qué tal se ralizan las traducciones de español a inglés, además de comprobar si las frases predichas con el modelo en inglés se corresponden con las reales.\n",
    "\n",
    "Cabe destacar que tan solo se van a hacer predicciones para las 50000 primeras frases ya que no se dispone de memoria RAM suficiente para cargar el conjunto de datos completo además del modelo."
   ]
  },
  {
   "cell_type": "code",
   "execution_count": 20,
   "metadata": {
    "colab": {
     "base_uri": "https://localhost:8080/",
     "height": 72
    },
    "colab_type": "code",
    "id": "3A_HwaBcpVRb",
    "outputId": "cb2ffa6f-cf20-4a84-81a1-7cb0c9bd70b4"
   },
   "outputs": [
    {
     "name": "stderr",
     "output_type": "stream",
     "text": [
      "/usr/local/lib/python3.6/dist-packages/tensorflow/python/framework/indexed_slices.py:434: UserWarning: Converting sparse IndexedSlices to a dense Tensor of unknown shape. This may consume a large amount of memory.\n",
      "  \"Converting sparse IndexedSlices to a dense Tensor of unknown shape. \"\n"
     ]
    }
   ],
   "source": [
    "model = load_model('model.h1.26_apr_20')\n",
    "preds = model.predict_classes(testX[:50000,:].reshape((testX[:50000,:].shape[0],testX[:50000,:].shape[1])))"
   ]
  },
  {
   "cell_type": "code",
   "execution_count": 0,
   "metadata": {
    "colab": {},
    "colab_type": "code",
    "id": "g092V67UpVRd"
   },
   "outputs": [],
   "source": [
    "def get_word(n, tokenizer):\n",
    "    for word, index in tokenizer.word_index.items():\n",
    "        if index == n:\n",
    "            return word\n",
    "    return None"
   ]
  },
  {
   "cell_type": "code",
   "execution_count": 0,
   "metadata": {
    "colab": {},
    "colab_type": "code",
    "id": "bx-zw_iupVRf"
   },
   "outputs": [],
   "source": [
    "# convert predictions into text (English)\n",
    "preds_text = []\n",
    "for i in preds:\n",
    "    temp = []\n",
    "    for j in range(len(i)):\n",
    "        t = get_word(i[j], eng_tokenizer)\n",
    "        if j > 0:\n",
    "            if (t == get_word(i[j-1], eng_tokenizer)) or (t == None):\n",
    "                temp.append('')\n",
    "            else:\n",
    "                temp.append(t)\n",
    "             \n",
    "        else:\n",
    "            if(t == None):\n",
    "                temp.append('')\n",
    "            else:\n",
    "                temp.append(t)            \n",
    "        \n",
    "    preds_text.append(' '.join(temp))"
   ]
  },
  {
   "cell_type": "code",
   "execution_count": 35,
   "metadata": {
    "colab": {
     "base_uri": "https://localhost:8080/",
     "height": 35
    },
    "colab_type": "code",
    "id": "JvzLtqCmcKjs",
    "outputId": "b802b04f-ecfb-45fb-a92f-3e08a19cd467"
   },
   "outputs": [
    {
     "data": {
      "text/plain": [
       "50000"
      ]
     },
     "execution_count": 35,
     "metadata": {
      "tags": []
     },
     "output_type": "execute_result"
    }
   ],
   "source": [
    "len(preds_text)\n"
   ]
  },
  {
   "cell_type": "code",
   "execution_count": 0,
   "metadata": {
    "colab": {},
    "colab_type": "code",
    "id": "qq5KQlkSpVRi"
   },
   "outputs": [],
   "source": [
    "pred_df = pd.DataFrame({'actual' : test[:50000,1], 'predicted' : preds_text})"
   ]
  },
  {
   "cell_type": "code",
   "execution_count": 0,
   "metadata": {
    "colab": {},
    "colab_type": "code",
    "id": "V77_nuK4pVRk"
   },
   "outputs": [],
   "source": [
    "pd.set_option('display.max_colwidth', 200)"
   ]
  },
  {
   "cell_type": "markdown",
   "metadata": {
    "colab_type": "text",
    "id": "VjfVw9ZvDg6r"
   },
   "source": [
    "Si se muestran las parejas de frases reales-frases predichas por el modelo, se puede observar que el traductor automático es bastante potente, obteniendo las mismas salidas salvo para la fras número 3 en la que se produce un error puesto que omite el sujeto."
   ]
  },
  {
   "cell_type": "code",
   "execution_count": 54,
   "metadata": {
    "colab": {
     "base_uri": "https://localhost:8080/",
     "height": 504
    },
    "colab_type": "code",
    "id": "8ss0RGpjpVRn",
    "outputId": "adcf2fb7-018f-413a-f918-bf900538ae25"
   },
   "outputs": [
    {
     "data": {
      "text/html": [
       "<div>\n",
       "<style scoped>\n",
       "    .dataframe tbody tr th:only-of-type {\n",
       "        vertical-align: middle;\n",
       "    }\n",
       "\n",
       "    .dataframe tbody tr th {\n",
       "        vertical-align: top;\n",
       "    }\n",
       "\n",
       "    .dataframe thead th {\n",
       "        text-align: right;\n",
       "    }\n",
       "</style>\n",
       "<table border=\"1\" class=\"dataframe\">\n",
       "  <thead>\n",
       "    <tr style=\"text-align: right;\">\n",
       "      <th></th>\n",
       "      <th>actual</th>\n",
       "      <th>predicted</th>\n",
       "    </tr>\n",
       "  </thead>\n",
       "  <tbody>\n",
       "    <tr>\n",
       "      <th>0</th>\n",
       "      <td>were in no hurry</td>\n",
       "      <td>were in no hurry</td>\n",
       "    </tr>\n",
       "    <tr>\n",
       "      <th>1</th>\n",
       "      <td>i lost the watch that my father gave me</td>\n",
       "      <td>lost the watch that my father gave me</td>\n",
       "    </tr>\n",
       "    <tr>\n",
       "      <th>2</th>\n",
       "      <td>i was happy then</td>\n",
       "      <td>i was happy then</td>\n",
       "    </tr>\n",
       "    <tr>\n",
       "      <th>3</th>\n",
       "      <td>i regarded him as the best doctor in town</td>\n",
       "      <td>regarded him as the best doctor in town</td>\n",
       "    </tr>\n",
       "    <tr>\n",
       "      <th>4</th>\n",
       "      <td>could you help me with that</td>\n",
       "      <td>could you help me with that</td>\n",
       "    </tr>\n",
       "    <tr>\n",
       "      <th>5</th>\n",
       "      <td>can anybody else answer</td>\n",
       "      <td>can anybody else answer</td>\n",
       "    </tr>\n",
       "    <tr>\n",
       "      <th>6</th>\n",
       "      <td>we may not win tomorrow</td>\n",
       "      <td>we may not win tomorrow</td>\n",
       "    </tr>\n",
       "    <tr>\n",
       "      <th>7</th>\n",
       "      <td>she called me many terrible things</td>\n",
       "      <td>she called me many terrible things</td>\n",
       "    </tr>\n",
       "    <tr>\n",
       "      <th>8</th>\n",
       "      <td>mary is interested in politics</td>\n",
       "      <td>mary is interested in politics</td>\n",
       "    </tr>\n",
       "    <tr>\n",
       "      <th>9</th>\n",
       "      <td>how did you get this money</td>\n",
       "      <td>how did you get by this money</td>\n",
       "    </tr>\n",
       "    <tr>\n",
       "      <th>10</th>\n",
       "      <td>ive done this kind of thing before</td>\n",
       "      <td>ive done this kind of kind before</td>\n",
       "    </tr>\n",
       "    <tr>\n",
       "      <th>11</th>\n",
       "      <td>we agreed to refrain from smoking while we are at work</td>\n",
       "      <td>refrain from smoking while we are at work</td>\n",
       "    </tr>\n",
       "    <tr>\n",
       "      <th>12</th>\n",
       "      <td>i came last</td>\n",
       "      <td>i came last</td>\n",
       "    </tr>\n",
       "    <tr>\n",
       "      <th>13</th>\n",
       "      <td>there was a sudden change in the weather</td>\n",
       "      <td>there was a sudden change in the weather</td>\n",
       "    </tr>\n",
       "    <tr>\n",
       "      <th>14</th>\n",
       "      <td>what time do you wake up</td>\n",
       "      <td>what time do you wake up</td>\n",
       "    </tr>\n",
       "  </tbody>\n",
       "</table>\n",
       "</div>"
      ],
      "text/plain": [
       "                                                    actual                                  predicted\n",
       "0                                         were in no hurry                       were in no hurry    \n",
       "1                  i lost the watch that my father gave me      lost the watch that my father gave me\n",
       "2                                         i was happy then                       i was happy then    \n",
       "3                i regarded him as the best doctor in town    regarded him as the best doctor in town\n",
       "4                              could you help me with that              could you help me with that  \n",
       "5                                  can anybody else answer                can anybody else answer    \n",
       "6                                  we may not win tomorrow                 we may not win tomorrow   \n",
       "7                       she called me many terrible things       she called me many terrible things  \n",
       "8                           mary is interested in politics          mary is interested in politics   \n",
       "9                               how did you get this money             how did you get by this money \n",
       "10                      ive done this kind of thing before         ive done this kind of kind before \n",
       "11  we agreed to refrain from smoking while we are at work  refrain from smoking while we are at work\n",
       "12                                             i came last                           i came last     \n",
       "13                there was a sudden change in the weather   there was a sudden change in the weather\n",
       "14                                what time do you wake up                 what time do you wake up  "
      ]
     },
     "execution_count": 54,
     "metadata": {
      "tags": []
     },
     "output_type": "execute_result"
    }
   ],
   "source": [
    "pred_df.head(15)"
   ]
  },
  {
   "cell_type": "markdown",
   "metadata": {
    "colab_type": "text",
    "id": "HgfAUEG6EHMm"
   },
   "source": [
    "Similar ocurre con la siguiente muestra de las últimas frases, el modelo consigue una traducción perfecta."
   ]
  },
  {
   "cell_type": "code",
   "execution_count": 55,
   "metadata": {
    "colab": {
     "base_uri": "https://localhost:8080/",
     "height": 504
    },
    "colab_type": "code",
    "id": "XHsi46AapVRp",
    "outputId": "2e9002e5-e9e9-42c9-ea56-61bba951489d"
   },
   "outputs": [
    {
     "data": {
      "text/html": [
       "<div>\n",
       "<style scoped>\n",
       "    .dataframe tbody tr th:only-of-type {\n",
       "        vertical-align: middle;\n",
       "    }\n",
       "\n",
       "    .dataframe tbody tr th {\n",
       "        vertical-align: top;\n",
       "    }\n",
       "\n",
       "    .dataframe thead th {\n",
       "        text-align: right;\n",
       "    }\n",
       "</style>\n",
       "<table border=\"1\" class=\"dataframe\">\n",
       "  <thead>\n",
       "    <tr style=\"text-align: right;\">\n",
       "      <th></th>\n",
       "      <th>actual</th>\n",
       "      <th>predicted</th>\n",
       "    </tr>\n",
       "  </thead>\n",
       "  <tbody>\n",
       "    <tr>\n",
       "      <th>49985</th>\n",
       "      <td>that worked well</td>\n",
       "      <td>that worked well</td>\n",
       "    </tr>\n",
       "    <tr>\n",
       "      <th>49986</th>\n",
       "      <td>i found the new magazine very interesting</td>\n",
       "      <td>i found the new magazine very interesting</td>\n",
       "    </tr>\n",
       "    <tr>\n",
       "      <th>49987</th>\n",
       "      <td>i made it myself</td>\n",
       "      <td>i made it myself</td>\n",
       "    </tr>\n",
       "    <tr>\n",
       "      <th>49988</th>\n",
       "      <td>this is not my specialty</td>\n",
       "      <td>this is not my specialty</td>\n",
       "    </tr>\n",
       "    <tr>\n",
       "      <th>49989</th>\n",
       "      <td>i thought you werent interested in politics</td>\n",
       "      <td>i thought you werent interested in politics</td>\n",
       "    </tr>\n",
       "    <tr>\n",
       "      <th>49990</th>\n",
       "      <td>where are your sons toys</td>\n",
       "      <td>where are your sons toys</td>\n",
       "    </tr>\n",
       "    <tr>\n",
       "      <th>49991</th>\n",
       "      <td>we have only one chance</td>\n",
       "      <td>we have only one chance</td>\n",
       "    </tr>\n",
       "    <tr>\n",
       "      <th>49992</th>\n",
       "      <td>could you do me a favor</td>\n",
       "      <td>could you do me a favor</td>\n",
       "    </tr>\n",
       "    <tr>\n",
       "      <th>49993</th>\n",
       "      <td>it happened while i wasnt looking</td>\n",
       "      <td>it happened while i wasnt looking</td>\n",
       "    </tr>\n",
       "    <tr>\n",
       "      <th>49994</th>\n",
       "      <td>can i eat this</td>\n",
       "      <td>may i eat this</td>\n",
       "    </tr>\n",
       "    <tr>\n",
       "      <th>49995</th>\n",
       "      <td>tom is dead isnt he</td>\n",
       "      <td>tom is dead isnt he</td>\n",
       "    </tr>\n",
       "    <tr>\n",
       "      <th>49996</th>\n",
       "      <td>the prize went to him</td>\n",
       "      <td>the prize went to him</td>\n",
       "    </tr>\n",
       "    <tr>\n",
       "      <th>49997</th>\n",
       "      <td>tom goes to school by bus and train</td>\n",
       "      <td>tom goes to school by bus and train</td>\n",
       "    </tr>\n",
       "    <tr>\n",
       "      <th>49998</th>\n",
       "      <td>were ready to go</td>\n",
       "      <td>were ready to leave</td>\n",
       "    </tr>\n",
       "    <tr>\n",
       "      <th>49999</th>\n",
       "      <td>do you think this is stupid</td>\n",
       "      <td>do you think this is stupid</td>\n",
       "    </tr>\n",
       "  </tbody>\n",
       "</table>\n",
       "</div>"
      ],
      "text/plain": [
       "                                            actual                                     predicted\n",
       "49985                             that worked well                         that worked well     \n",
       "49986    i found the new magazine very interesting    i found the new magazine very interesting \n",
       "49987                             i made it myself                          i made it myself    \n",
       "49988                     this is not my specialty                   this is not my specialty   \n",
       "49989  i thought you werent interested in politics  i thought you werent interested in politics \n",
       "49990                     where are your sons toys                   where are your sons toys   \n",
       "49991                      we have only one chance                    we have only one chance   \n",
       "49992                      could you do me a favor                     could you do me a favor  \n",
       "49993            it happened while i wasnt looking           it happened while i wasnt looking  \n",
       "49994                               can i eat this                            may i eat this    \n",
       "49995                          tom is dead isnt he                        tom is dead isnt he   \n",
       "49996                        the prize went to him                      the prize went to him   \n",
       "49997          tom goes to school by bus and train           tom goes to school by bus and train\n",
       "49998                             were ready to go                       were ready to leave    \n",
       "49999                  do you think this is stupid                 do you think this is stupid  "
      ]
     },
     "execution_count": 55,
     "metadata": {
      "tags": []
     },
     "output_type": "execute_result"
    }
   ],
   "source": [
    "pred_df.tail(15)"
   ]
  },
  {
   "cell_type": "markdown",
   "metadata": {
    "colab_type": "text",
    "id": "BCxBZ--gB2q1"
   },
   "source": [
    "Ahora, se ejecuta la tradución de 15 muestras aleatorias del texto. Puede observarse que en la muestra 45418 el modelo comete un error de traducción, traduciendo una orden como una sugerencia. Salvo esto, el resto de traducciones son correctas."
   ]
  },
  {
   "cell_type": "code",
   "execution_count": 56,
   "metadata": {
    "colab": {
     "base_uri": "https://localhost:8080/",
     "height": 504
    },
    "colab_type": "code",
    "id": "geP4FOmBpVRu",
    "outputId": "af0eef2f-f8a1-466f-cad3-b8d8d62c632c"
   },
   "outputs": [
    {
     "data": {
      "text/html": [
       "<div>\n",
       "<style scoped>\n",
       "    .dataframe tbody tr th:only-of-type {\n",
       "        vertical-align: middle;\n",
       "    }\n",
       "\n",
       "    .dataframe tbody tr th {\n",
       "        vertical-align: top;\n",
       "    }\n",
       "\n",
       "    .dataframe thead th {\n",
       "        text-align: right;\n",
       "    }\n",
       "</style>\n",
       "<table border=\"1\" class=\"dataframe\">\n",
       "  <thead>\n",
       "    <tr style=\"text-align: right;\">\n",
       "      <th></th>\n",
       "      <th>actual</th>\n",
       "      <th>predicted</th>\n",
       "    </tr>\n",
       "  </thead>\n",
       "  <tbody>\n",
       "    <tr>\n",
       "      <th>23926</th>\n",
       "      <td>i want to see him</td>\n",
       "      <td>i want to see it</td>\n",
       "    </tr>\n",
       "    <tr>\n",
       "      <th>44004</th>\n",
       "      <td>well girls its time to go</td>\n",
       "      <td>well girls its time to go</td>\n",
       "    </tr>\n",
       "    <tr>\n",
       "      <th>14518</th>\n",
       "      <td>check around</td>\n",
       "      <td>check around</td>\n",
       "    </tr>\n",
       "    <tr>\n",
       "      <th>10860</th>\n",
       "      <td>come this way</td>\n",
       "      <td>come this way</td>\n",
       "    </tr>\n",
       "    <tr>\n",
       "      <th>4182</th>\n",
       "      <td>theres only one way to find out</td>\n",
       "      <td>theres only one way to find out</td>\n",
       "    </tr>\n",
       "    <tr>\n",
       "      <th>29304</th>\n",
       "      <td>thats what tom said</td>\n",
       "      <td>thats what tom said</td>\n",
       "    </tr>\n",
       "    <tr>\n",
       "      <th>23042</th>\n",
       "      <td>what tom really wanted was enough money to buy a house</td>\n",
       "      <td>wanted was enough money to buy a house</td>\n",
       "    </tr>\n",
       "    <tr>\n",
       "      <th>47593</th>\n",
       "      <td>get used to it tom</td>\n",
       "      <td>get used to it tom</td>\n",
       "    </tr>\n",
       "    <tr>\n",
       "      <th>48890</th>\n",
       "      <td>tom isnt able to drive yet</td>\n",
       "      <td>tom isnt able to drive yet</td>\n",
       "    </tr>\n",
       "    <tr>\n",
       "      <th>34966</th>\n",
       "      <td>it seems hes still alive</td>\n",
       "      <td>it seems hes still alive</td>\n",
       "    </tr>\n",
       "    <tr>\n",
       "      <th>13160</th>\n",
       "      <td>a big crowd gathered at the scene of the fire</td>\n",
       "      <td>crowd gathered at the scene of the fire</td>\n",
       "    </tr>\n",
       "    <tr>\n",
       "      <th>45418</th>\n",
       "      <td>go away</td>\n",
       "      <td>lets go</td>\n",
       "    </tr>\n",
       "    <tr>\n",
       "      <th>26989</th>\n",
       "      <td>many lost their homes in the earthquake</td>\n",
       "      <td>many lost their homes in the earthquake</td>\n",
       "    </tr>\n",
       "    <tr>\n",
       "      <th>12515</th>\n",
       "      <td>i didnt see the sign</td>\n",
       "      <td>i didnt see the sign</td>\n",
       "    </tr>\n",
       "    <tr>\n",
       "      <th>6885</th>\n",
       "      <td>mary makes her living by sewing</td>\n",
       "      <td>mary makes her living by sewing</td>\n",
       "    </tr>\n",
       "  </tbody>\n",
       "</table>\n",
       "</div>"
      ],
      "text/plain": [
       "                                                       actual                                 predicted\n",
       "23926                                       i want to see him                       i want to see it   \n",
       "44004                               well girls its time to go               well girls its time to go  \n",
       "14518                                            check around                        check around      \n",
       "10860                                           come this way                        come this way     \n",
       "4182                          theres only one way to find out          theres only one way to find out \n",
       "29304                                     thats what tom said                   thats what tom said    \n",
       "23042  what tom really wanted was enough money to buy a house    wanted was enough money to buy a house\n",
       "47593                                      get used to it tom                     get used to it tom   \n",
       "48890                              tom isnt able to drive yet              tom isnt able to drive yet  \n",
       "34966                                it seems hes still alive               it seems hes still alive   \n",
       "13160           a big crowd gathered at the scene of the fire   crowd gathered at the scene of the fire\n",
       "45418                                                 go away                             lets go      \n",
       "26989                 many lost their homes in the earthquake  many lost their homes in the earthquake \n",
       "12515                                    i didnt see the sign                   i didnt see the sign   \n",
       "6885                          mary makes her living by sewing         mary makes her living by sewing  "
      ]
     },
     "execution_count": 56,
     "metadata": {
      "tags": []
     },
     "output_type": "execute_result"
    }
   ],
   "source": [
    "pred_df.sample(15)"
   ]
  },
  {
   "cell_type": "markdown",
   "metadata": {
    "colab_type": "text",
    "id": "WO3aOqSXFejG"
   },
   "source": [
    "Finalmente, para que puedda apreciarse de una manera más clara, se muestran una serie de frases en español con su traducción en inglés calculada por el modelo.\n",
    "\n",
    "En general, todas las traducciones son correctas salvo en la frase 12549 que el modelo no es capaz de traducir una frase hecha española como es \"fue tonto de mi parte\", la cual es sustituida directamente por el pronombre *me*. Igualmente en la frase 32159, la locución \"tratar de\" en inglés podría traducirse como *try to* pero el modelo omite el verbo *try*.\n",
    "\n",
    "Es por estos pequeños errores por los que la precisión no alcanza el 99% pero, como puede observarse, el modelo generado es muy potente."
   ]
  },
  {
   "cell_type": "code",
   "execution_count": 0,
   "metadata": {
    "colab": {},
    "colab_type": "code",
    "id": "0L0YG3gcc_cw"
   },
   "outputs": [],
   "source": [
    "pred_df_spa = pd.DataFrame({'actual' : test[:50000,1], 'predicted' : preds_text})"
   ]
  },
  {
   "cell_type": "code",
   "execution_count": 60,
   "metadata": {
    "colab": {
     "base_uri": "https://localhost:8080/",
     "height": 504
    },
    "colab_type": "code",
    "id": "OfTsOpSVdFMk",
    "outputId": "3f2beb86-f459-44f2-adc5-d70b311ae996"
   },
   "outputs": [
    {
     "data": {
      "text/html": [
       "<div>\n",
       "<style scoped>\n",
       "    .dataframe tbody tr th:only-of-type {\n",
       "        vertical-align: middle;\n",
       "    }\n",
       "\n",
       "    .dataframe tbody tr th {\n",
       "        vertical-align: top;\n",
       "    }\n",
       "\n",
       "    .dataframe thead th {\n",
       "        text-align: right;\n",
       "    }\n",
       "</style>\n",
       "<table border=\"1\" class=\"dataframe\">\n",
       "  <thead>\n",
       "    <tr style=\"text-align: right;\">\n",
       "      <th></th>\n",
       "      <th>actual</th>\n",
       "      <th>predicted</th>\n",
       "    </tr>\n",
       "  </thead>\n",
       "  <tbody>\n",
       "    <tr>\n",
       "      <th>29027</th>\n",
       "      <td>el presidente johnson rechazó el acuerdo</td>\n",
       "      <td>president johnson rejected the agreement</td>\n",
       "    </tr>\n",
       "    <tr>\n",
       "      <th>44316</th>\n",
       "      <td>este perro muerde</td>\n",
       "      <td>this dog bites</td>\n",
       "    </tr>\n",
       "    <tr>\n",
       "      <th>17477</th>\n",
       "      <td>los niños necesitan jugar</td>\n",
       "      <td>children need to play</td>\n",
       "    </tr>\n",
       "    <tr>\n",
       "      <th>29565</th>\n",
       "      <td>tienes que responder a esta carta</td>\n",
       "      <td>you have to reply to the letter</td>\n",
       "    </tr>\n",
       "    <tr>\n",
       "      <th>12874</th>\n",
       "      <td>dale un beso a tom</td>\n",
       "      <td>give tom a kiss</td>\n",
       "    </tr>\n",
       "    <tr>\n",
       "      <th>12549</th>\n",
       "      <td>fue tonto de mi parte haber cometido dos veces el mismo error</td>\n",
       "      <td>me to have made the same mistake twice</td>\n",
       "    </tr>\n",
       "    <tr>\n",
       "      <th>48380</th>\n",
       "      <td>al final se tuvieron que reconocer sus derechos</td>\n",
       "      <td>eventually his rights had to be acknowledged</td>\n",
       "    </tr>\n",
       "    <tr>\n",
       "      <th>36450</th>\n",
       "      <td>averigua más sobre tom</td>\n",
       "      <td>find out more about tom</td>\n",
       "    </tr>\n",
       "    <tr>\n",
       "      <th>12627</th>\n",
       "      <td>¿dónde está tu madre</td>\n",
       "      <td>wheres your mother</td>\n",
       "    </tr>\n",
       "    <tr>\n",
       "      <th>26586</th>\n",
       "      <td>tom estaba llorando</td>\n",
       "      <td>tom was crying</td>\n",
       "    </tr>\n",
       "    <tr>\n",
       "      <th>32159</th>\n",
       "      <td>trata de cortar la carne con otro un cuchillo diferente</td>\n",
       "      <td>to slice the meat with a different knife</td>\n",
       "    </tr>\n",
       "    <tr>\n",
       "      <th>1318</th>\n",
       "      <td>estamos listos para continuar</td>\n",
       "      <td>were ready to move on</td>\n",
       "    </tr>\n",
       "    <tr>\n",
       "      <th>39244</th>\n",
       "      <td>llena el cubo de arena por favor</td>\n",
       "      <td>please fill the bucket up with sand</td>\n",
       "    </tr>\n",
       "    <tr>\n",
       "      <th>15431</th>\n",
       "      <td>mi novia es china</td>\n",
       "      <td>my girlfriend is chinese</td>\n",
       "    </tr>\n",
       "    <tr>\n",
       "      <th>25575</th>\n",
       "      <td>¿no duermes bien por la noche</td>\n",
       "      <td>dont you sleep well at night</td>\n",
       "    </tr>\n",
       "  </tbody>\n",
       "</table>\n",
       "</div>"
      ],
      "text/plain": [
       "                                                              actual                                      predicted\n",
       "29027                       el presidente johnson rechazó el acuerdo    president johnson rejected the agreement   \n",
       "44316                                              este perro muerde                            this dog bites     \n",
       "17477                                      los niños necesitan jugar                      children need to play    \n",
       "29565                              tienes que responder a esta carta               you have to reply to the letter \n",
       "12874                                             dale un beso a tom                            give tom a kiss    \n",
       "12549  fue tonto de mi parte haber cometido dos veces el mismo error         me to have made the same mistake twice\n",
       "48380                al final se tuvieron que reconocer sus derechos  eventually his rights had to be acknowledged \n",
       "36450                                         averigua más sobre tom                     find out more about tom   \n",
       "12627                                           ¿dónde está tu madre                        wheres your mother     \n",
       "26586                                            tom estaba llorando                            tom was crying     \n",
       "32159        trata de cortar la carne con otro un cuchillo diferente       to slice the meat with a different knife\n",
       "1318                                   estamos listos para continuar                       were ready to move on   \n",
       "39244                               llena el cubo de arena por favor           please fill the bucket up with sand \n",
       "15431                                              mi novia es china                   my girlfriend is chinese    \n",
       "25575                                  ¿no duermes bien por la noche                 dont you sleep well at night  "
      ]
     },
     "execution_count": 60,
     "metadata": {
      "tags": []
     },
     "output_type": "execute_result"
    }
   ],
   "source": [
    "pred_df_spa.sample(15)"
   ]
  },
  {
   "cell_type": "markdown",
   "metadata": {
    "colab_type": "text",
    "id": "q1x2xpCXp6s0"
   },
   "source": [
    "## Segundo modelo\n",
    "\n",
    "Con el primer modelo se obtenían unos resultados de precisión muy elevados pero su entrenamiento implicaba también un gran coste computacional, es por ello que ahora se va a implementar un modelo más sencillo. De esta manera se pretende comprobar si con un modelo de menor complejidad pueden alcanzarse resultados aceptables de precisión. Se intenta alcanzar un equilibrio en el compromiso complejidad-precisión.\n"
   ]
  },
  {
   "cell_type": "markdown",
   "metadata": {
    "colab_type": "text",
    "id": "QVAJqviH7hlk"
   },
   "source": [
    "### Construir y entrenar el modelo\n",
    "\n",
    "Con el fin de lograr lo especificado anteriormente la arquitectura anterior sequence-to-sequence se va a sustituir por un RNN simple. De tal forma que ahora el modelo cuenta con una capa de Embedding, una SimpleRNN, una capa de RepeatVector para adaptar la dimiensionalidad y una capa densamente conectada."
   ]
  },
  {
   "cell_type": "code",
   "execution_count": 0,
   "metadata": {
    "colab": {},
    "colab_type": "code",
    "id": "1TRZCBDysh0J"
   },
   "outputs": [],
   "source": [
    "# build NMT model\n",
    "def build_model(in_vocab, out_vocab, in_timesteps, out_timesteps, units):\n",
    "    model = Sequential()\n",
    "    model.add(Embedding(in_vocab, units, input_length=in_timesteps, mask_zero=True))\n",
    "    model.add(SimpleRNN(units))\n",
    "    #model.add(LSTM(units))\n",
    "    model.add(RepeatVector(out_timesteps))\n",
    "    #model.add(LSTM(units, return_sequences=True))\n",
    "    model.add(Dense(out_vocab, activation='softmax'))\n",
    "  \n",
    "    return model"
   ]
  },
  {
   "cell_type": "markdown",
   "metadata": {
    "colab_type": "text",
    "id": "RzXJ1ZJR9MVB"
   },
   "source": [
    "La siguiente tabla muestra con mayor detalle la arquitectura del modelo creado así como el número de parámetros total a entrenar. Se observa que, al contrario de lo que ocurría con el modelo anterior, en este caso el número de parámetros se ve reducido considerablemente, en torno a 1.7 millones."
   ]
  },
  {
   "cell_type": "code",
   "execution_count": 26,
   "metadata": {
    "colab": {
     "base_uri": "https://localhost:8080/",
     "height": 301
    },
    "colab_type": "code",
    "id": "SAcEKxr1p-Gy",
    "outputId": "5722f431-9707-4a81-939b-81d05f6b0c0d"
   },
   "outputs": [
    {
     "name": "stdout",
     "output_type": "stream",
     "text": [
      "Model: \"sequential_4\"\n",
      "_________________________________________________________________\n",
      "Layer (type)                 Output Shape              Param #   \n",
      "=================================================================\n",
      "embedding_4 (Embedding)      (None, 8, 32)             877792    \n",
      "_________________________________________________________________\n",
      "simple_rnn_4 (SimpleRNN)     (None, 32)                2080      \n",
      "_________________________________________________________________\n",
      "repeat_vector_4 (RepeatVecto (None, 8, 32)             0         \n",
      "_________________________________________________________________\n",
      "dense_4 (Dense)              (None, 8, 27431)          905223    \n",
      "=================================================================\n",
      "Total params: 1,785,095\n",
      "Trainable params: 1,785,095\n",
      "Non-trainable params: 0\n",
      "_________________________________________________________________\n"
     ]
    }
   ],
   "source": [
    "model = build_model(spa_vocab_size, spa_vocab_size, spa_length, eng_length, 32)\n",
    "model.summary()"
   ]
  },
  {
   "cell_type": "code",
   "execution_count": 0,
   "metadata": {
    "colab": {},
    "colab_type": "code",
    "id": "PQ7tKLcV9Jr9"
   },
   "outputs": [],
   "source": [
    "rms = optimizers.RMSprop(lr=0.001)\n",
    "model.compile(optimizer=rms, loss='sparse_categorical_crossentropy', metrics=['accuracy'])"
   ]
  },
  {
   "cell_type": "markdown",
   "metadata": {
    "colab_type": "text",
    "id": "JzDYfAbe9wuL"
   },
   "source": [
    "Se van a modificar algunos hipérparámetros del modelo como son el número de epochs, reduciéndolo a la mitad y el tamaño del batch, igualándolo a 1024."
   ]
  },
  {
   "cell_type": "code",
   "execution_count": 29,
   "metadata": {
    "colab": {
     "base_uri": "https://localhost:8080/",
     "height": 1000
    },
    "colab_type": "code",
    "id": "jd0jQZ0LshqB",
    "outputId": "803963ae-9903-4166-dd36-0960cdd2a4d8"
   },
   "outputs": [
    {
     "name": "stdout",
     "output_type": "stream",
     "text": [
      "Train on 629432 samples, validate on 157358 samples\n",
      "Epoch 1/15\n",
      "629432/629432 [==============================] - 401s 637us/step - loss: 5.3793 - accuracy: 0.2683 - val_loss: 5.3600 - val_accuracy: 0.2680\n",
      "\n",
      "Epoch 00001: val_loss improved from inf to 5.35998, saving model to model.h1.27_apr_20_m2\n",
      "Epoch 2/15\n",
      "629432/629432 [==============================] - 401s 637us/step - loss: 5.3121 - accuracy: 0.2683 - val_loss: 5.2804 - val_accuracy: 0.2680\n",
      "\n",
      "Epoch 00002: val_loss improved from 5.35998 to 5.28039, saving model to model.h1.27_apr_20_m2\n",
      "Epoch 3/15\n",
      "629432/629432 [==============================] - 401s 636us/step - loss: 5.2729 - accuracy: 0.2683 - val_loss: 5.2740 - val_accuracy: 0.2680\n",
      "\n",
      "Epoch 00003: val_loss improved from 5.28039 to 5.27397, saving model to model.h1.27_apr_20_m2\n",
      "Epoch 4/15\n",
      "629432/629432 [==============================] - 400s 636us/step - loss: 5.2706 - accuracy: 0.2683 - val_loss: 5.2735 - val_accuracy: 0.2680\n",
      "\n",
      "Epoch 00004: val_loss improved from 5.27397 to 5.27349, saving model to model.h1.27_apr_20_m2\n",
      "Epoch 5/15\n",
      "629432/629432 [==============================] - 401s 637us/step - loss: 5.2705 - accuracy: 0.2683 - val_loss: 5.2728 - val_accuracy: 0.2680\n",
      "\n",
      "Epoch 00005: val_loss improved from 5.27349 to 5.27276, saving model to model.h1.27_apr_20_m2\n",
      "Epoch 6/15\n",
      "629432/629432 [==============================] - 401s 637us/step - loss: 5.2702 - accuracy: 0.2683 - val_loss: 5.2732 - val_accuracy: 0.2680\n",
      "\n",
      "Epoch 00006: val_loss did not improve from 5.27276\n",
      "Epoch 7/15\n",
      "629432/629432 [==============================] - 400s 635us/step - loss: 5.2703 - accuracy: 0.2683 - val_loss: 5.2727 - val_accuracy: 0.2680\n",
      "\n",
      "Epoch 00007: val_loss improved from 5.27276 to 5.27267, saving model to model.h1.27_apr_20_m2\n",
      "Epoch 8/15\n",
      "629432/629432 [==============================] - 400s 636us/step - loss: 5.2703 - accuracy: 0.2683 - val_loss: 5.2727 - val_accuracy: 0.2680\n",
      "\n",
      "Epoch 00008: val_loss did not improve from 5.27267\n",
      "Epoch 9/15\n",
      "629432/629432 [==============================] - 400s 635us/step - loss: 5.2701 - accuracy: 0.2683 - val_loss: 5.2731 - val_accuracy: 0.2680\n",
      "\n",
      "Epoch 00009: val_loss did not improve from 5.27267\n",
      "Epoch 10/15\n",
      "629432/629432 [==============================] - 400s 635us/step - loss: 5.2704 - accuracy: 0.2683 - val_loss: 5.2731 - val_accuracy: 0.2680\n",
      "\n",
      "Epoch 00010: val_loss did not improve from 5.27267\n",
      "Epoch 11/15\n",
      "629432/629432 [==============================] - 399s 634us/step - loss: 5.2704 - accuracy: 0.2683 - val_loss: 5.2729 - val_accuracy: 0.2680\n",
      "\n",
      "Epoch 00011: val_loss did not improve from 5.27267\n",
      "Epoch 12/15\n",
      "629432/629432 [==============================] - 400s 635us/step - loss: 5.2703 - accuracy: 0.2683 - val_loss: 5.2727 - val_accuracy: 0.2680\n",
      "\n",
      "Epoch 00012: val_loss did not improve from 5.27267\n",
      "Epoch 13/15\n",
      "629432/629432 [==============================] - 400s 636us/step - loss: 5.2703 - accuracy: 0.2683 - val_loss: 5.2728 - val_accuracy: 0.2680\n",
      "\n",
      "Epoch 00013: val_loss did not improve from 5.27267\n",
      "Epoch 14/15\n",
      "629432/629432 [==============================] - 399s 634us/step - loss: 5.2703 - accuracy: 0.2683 - val_loss: 5.2733 - val_accuracy: 0.2680\n",
      "\n",
      "Epoch 00014: val_loss did not improve from 5.27267\n",
      "Epoch 15/15\n",
      "629432/629432 [==============================] - 399s 634us/step - loss: 5.2702 - accuracy: 0.2683 - val_loss: 5.2730 - val_accuracy: 0.2680\n",
      "\n",
      "Epoch 00015: val_loss did not improve from 5.27267\n"
     ]
    }
   ],
   "source": [
    "filename = 'model.h1.27_apr_20_m2'\n",
    "checkpoint = ModelCheckpoint(filename, monitor='val_loss', verbose=1, save_best_only=True, mode='min')\n",
    "\n",
    "history = model.fit(trainX, trainY.reshape(trainY.shape[0], trainY.shape[1], 1), \n",
    "          epochs=15, batch_size=1024, \n",
    "          validation_split = 0.2,\n",
    "          callbacks=[checkpoint], verbose=1)"
   ]
  },
  {
   "cell_type": "markdown",
   "metadata": {
    "colab_type": "text",
    "id": "VcKkXV3IOweD"
   },
   "source": [
    "La salida obtenida tras el entrenamiento del segundo modelo se muestra a continuación y en ella puede observarse que en este caso los niveles de precisión alcanzados rondan el 26% mientras que las pérdidas son aproximadamente de 5.2:\n",
    "\n",
    "```\n",
    "Train on 629432 samples, validate on 157358 samples\n",
    "Epoch 1/15\n",
    "629432/629432 [==============================] - 401s 637us/step - loss: 5.3793 - accuracy: 0.2683 - val_loss: 5.3600 - val_accuracy: 0.2680\n",
    "\n",
    "Epoch 00001: val_loss improved from inf to 5.35998, saving model to model.h1.27_apr_20_m2\n",
    "Epoch 2/15\n",
    "629432/629432 [==============================] - 401s 637us/step - loss: 5.3121 - accuracy: 0.2683 - val_loss: 5.2804 - val_accuracy: 0.2680\n",
    "\n",
    "Epoch 00002: val_loss improved from 5.35998 to 5.28039, saving model to model.h1.27_apr_20_m2\n",
    "Epoch 3/15\n",
    "629432/629432 [==============================] - 401s 636us/step - loss: 5.2729 - accuracy: 0.2683 - val_loss: 5.2740 - val_accuracy: 0.2680\n",
    "\n",
    "Epoch 00003: val_loss improved from 5.28039 to 5.27397, saving model to model.h1.27_apr_20_m2\n",
    "Epoch 4/15\n",
    "629432/629432 [==============================] - 400s 636us/step - loss: 5.2706 - accuracy: 0.2683 - val_loss: 5.2735 - val_accuracy: 0.2680\n",
    "\n",
    "Epoch 00004: val_loss improved from 5.27397 to 5.27349, saving model to model.h1.27_apr_20_m2\n",
    "Epoch 5/15\n",
    "629432/629432 [==============================] - 401s 637us/step - loss: 5.2705 - accuracy: 0.2683 - val_loss: 5.2728 - val_accuracy: 0.2680\n",
    "\n",
    "Epoch 00005: val_loss improved from 5.27349 to 5.27276, saving model to model.h1.27_apr_20_m2\n",
    "Epoch 6/15\n",
    "629432/629432 [==============================] - 401s 637us/step - loss: 5.2702 - accuracy: 0.2683 - val_loss: 5.2732 - val_accuracy: 0.2680\n",
    "\n",
    "Epoch 00006: val_loss did not improve from 5.27276\n",
    "Epoch 7/15\n",
    "629432/629432 [==============================] - 400s 635us/step - loss: 5.2703 - accuracy: 0.2683 - val_loss: 5.2727 - val_accuracy: 0.2680\n",
    "\n",
    "Epoch 00007: val_loss improved from 5.27276 to 5.27267, saving model to model.h1.27_apr_20_m2\n",
    "Epoch 8/15\n",
    "629432/629432 [==============================] - 400s 636us/step - loss: 5.2703 - accuracy: 0.2683 - val_loss: 5.2727 - val_accuracy: 0.2680\n",
    "\n",
    "Epoch 00008: val_loss did not improve from 5.27267\n",
    "Epoch 9/15\n",
    "629432/629432 [==============================] - 400s 635us/step - loss: 5.2701 - accuracy: 0.2683 - val_loss: 5.2731 - val_accuracy: 0.2680\n",
    "\n",
    "Epoch 00009: val_loss did not improve from 5.27267\n",
    "Epoch 10/15\n",
    "629432/629432 [==============================] - 400s 635us/step - loss: 5.2704 - accuracy: 0.2683 - val_loss: 5.2731 - val_accuracy: 0.2680\n",
    "\n",
    "Epoch 00010: val_loss did not improve from 5.27267\n",
    "Epoch 11/15\n",
    "629432/629432 [==============================] - 399s 634us/step - loss: 5.2704 - accuracy: 0.2683 - val_loss: 5.2729 - val_accuracy: 0.2680\n",
    "\n",
    "Epoch 00011: val_loss did not improve from 5.27267\n",
    "Epoch 12/15\n",
    "629432/629432 [==============================] - 400s 635us/step - loss: 5.2703 - accuracy: 0.2683 - val_loss: 5.2727 - val_accuracy: 0.2680\n",
    "\n",
    "Epoch 00012: val_loss did not improve from 5.27267\n",
    "Epoch 13/15\n",
    "629432/629432 [==============================] - 400s 636us/step - loss: 5.2703 - accuracy: 0.2683 - val_loss: 5.2728 - val_accuracy: 0.2680\n",
    "\n",
    "Epoch 00013: val_loss did not improve from 5.27267\n",
    "Epoch 14/15\n",
    "629432/629432 [==============================] - 399s 634us/step - loss: 5.2703 - accuracy: 0.2683 - val_loss: 5.2733 - val_accuracy: 0.2680\n",
    "\n",
    "Epoch 00014: val_loss did not improve from 5.27267\n",
    "Epoch 15/15\n",
    "629432/629432 [==============================] - 399s 634us/step - loss: 5.2702 - accuracy: 0.2683 - val_loss: 5.2730 - val_accuracy: 0.2680\n",
    "\n",
    "Epoch 00015: val_loss did not improve from 5.27267\n",
    "```"
   ]
  },
  {
   "cell_type": "markdown",
   "metadata": {
    "colab_type": "text",
    "id": "l3_DmqfPSjWF"
   },
   "source": [
    "Los resultados obtenidos con el segundo modelo son significativamente peores que los obtenidos por el primer modelo. De hecho, como puede observarse en las gráficas inferiores, el modelo no consigue incrementar su precisión con el paso de las distintas épocas. Esto puede deberse a que se queda atascado en un mínimo local del que no es capaz de salir.\n",
    "\n",
    "Las pérdidas disminuyen con el paso de las épocas pero no de manera considerable, tan solo consiguen bajar un 0.1 tras 15 épocas."
   ]
  },
  {
   "cell_type": "code",
   "execution_count": 30,
   "metadata": {
    "colab": {
     "base_uri": "https://localhost:8080/",
     "height": 295
    },
    "colab_type": "code",
    "id": "qJCdfl0xsiFS",
    "outputId": "c11ba83d-cdbe-4e8d-b207-0f1f77eca345"
   },
   "outputs": [
    {
     "data": {
      "image/png": "[encoded data removed]",
      "text/plain": [
       "<Figure size 432x288 with 1 Axes>"
      ]
     },
     "metadata": {
      "needs_background": "light",
      "tags": []
     },
     "output_type": "display_data"
    }
   ],
   "source": [
    "plt.plot(history.history['accuracy'])\n",
    "plt.plot(history.history['val_accuracy'])\n",
    "plt.title('model accuracy')\n",
    "plt.ylabel('accuracy')\n",
    "plt.xlabel('epoch')\n",
    "plt.legend(['train','validation'])\n",
    "plt.show()"
   ]
  },
  {
   "cell_type": "code",
   "execution_count": 31,
   "metadata": {
    "colab": {
     "base_uri": "https://localhost:8080/",
     "height": 295
    },
    "colab_type": "code",
    "id": "PvGU8LFWshXm",
    "outputId": "1ca1b9cb-fb45-42d6-d88f-296709d8bd30"
   },
   "outputs": [
    {
     "data": {
      "image/png": "[encoded data removed]",
      "text/plain": [
       "<Figure size 432x288 with 1 Axes>"
      ]
     },
     "metadata": {
      "needs_background": "light",
      "tags": []
     },
     "output_type": "display_data"
    }
   ],
   "source": [
    "plt.plot(history.history['loss'])\n",
    "plt.plot(history.history['val_loss'])\n",
    "plt.title('model loss')\n",
    "plt.ylabel('loss')\n",
    "plt.xlabel('epoch')\n",
    "plt.legend(['train','validation'])\n",
    "plt.show()"
   ]
  },
  {
   "cell_type": "markdown",
   "metadata": {
    "colab_type": "text",
    "id": "uppMp0NgDPBu"
   },
   "source": [
    "### Hacer predicciones\n",
    "\n",
    "Se van a realizar las mismas predicciones que con el primer modelo, solo que en este caso se va a truncar a las 20000 primeras frases (igualmente por problemas de RAM), de tal forma que puedan compararse los resultados obtenidos por ambas arquitecturas."
   ]
  },
  {
   "cell_type": "code",
   "execution_count": 21,
   "metadata": {
    "colab": {
     "base_uri": "https://localhost:8080/",
     "height": 72
    },
    "colab_type": "code",
    "id": "R39YV2myDGHL",
    "outputId": "627ec22f-cb42-423e-9848-8058dad3af50"
   },
   "outputs": [
    {
     "name": "stderr",
     "output_type": "stream",
     "text": [
      "/usr/local/lib/python3.6/dist-packages/tensorflow/python/framework/indexed_slices.py:434: UserWarning: Converting sparse IndexedSlices to a dense Tensor of unknown shape. This may consume a large amount of memory.\n",
      "  \"Converting sparse IndexedSlices to a dense Tensor of unknown shape. \"\n"
     ]
    }
   ],
   "source": [
    "model = load_model('model.h1.27_apr_20_m2')\n",
    "preds = model.predict_classes(testX[:20000,:].reshape((testX[:20000,:].shape[0],testX[:20000,:].shape[1])))"
   ]
  },
  {
   "cell_type": "code",
   "execution_count": 0,
   "metadata": {
    "colab": {},
    "colab_type": "code",
    "id": "1CIp4SA1DF-l"
   },
   "outputs": [],
   "source": [
    "def get_word(n, tokenizer):\n",
    "    for word, index in tokenizer.word_index.items():\n",
    "        if index == n:\n",
    "            return word\n",
    "    return None"
   ]
  },
  {
   "cell_type": "code",
   "execution_count": 0,
   "metadata": {
    "colab": {},
    "colab_type": "code",
    "id": "yrbhaKj5DF17"
   },
   "outputs": [],
   "source": [
    "# convert predictions into text (English)\n",
    "preds_text = []\n",
    "for i in preds:\n",
    "    temp = []\n",
    "    for j in range(len(i)):\n",
    "        t = get_word(i[j], eng_tokenizer)\n",
    "        if j > 0:\n",
    "            if (t == get_word(i[j-1], eng_tokenizer)) or (t == None):\n",
    "                temp.append('')\n",
    "            else:\n",
    "                temp.append(t)\n",
    "             \n",
    "        else:\n",
    "            if(t == None):\n",
    "                temp.append('')\n",
    "            else:\n",
    "                temp.append(t)            \n",
    "        \n",
    "    preds_text.append(' '.join(temp))"
   ]
  },
  {
   "cell_type": "code",
   "execution_count": 32,
   "metadata": {
    "colab": {
     "base_uri": "https://localhost:8080/",
     "height": 35
    },
    "colab_type": "code",
    "id": "GJStsn43MIz1",
    "outputId": "4d9c642b-b068-435d-a6cf-638944768f57"
   },
   "outputs": [
    {
     "data": {
      "text/plain": [
       "20000"
      ]
     },
     "execution_count": 32,
     "metadata": {
      "tags": []
     },
     "output_type": "execute_result"
    }
   ],
   "source": [
    "len(preds_text)"
   ]
  },
  {
   "cell_type": "code",
   "execution_count": 0,
   "metadata": {
    "colab": {},
    "colab_type": "code",
    "id": "S03vqHViDFsu"
   },
   "outputs": [],
   "source": [
    "pred_df = pd.DataFrame({'actual' : test[:20000,0], 'predicted' : preds_text})"
   ]
  },
  {
   "cell_type": "code",
   "execution_count": 0,
   "metadata": {
    "colab": {},
    "colab_type": "code",
    "id": "YKPM19a8Edpn"
   },
   "outputs": [],
   "source": [
    "pd.set_option('display.max_colwidth', 200)"
   ]
  },
  {
   "cell_type": "markdown",
   "metadata": {
    "colab_type": "text",
    "id": "e_el-p6ZUC8H"
   },
   "source": [
    "De hecho, el modelo, al poseer una precisión tan baja, muy por debajo del 50%, no consigue realizar las predicciones y devuelve un vector vacío."
   ]
  },
  {
   "cell_type": "code",
   "execution_count": 26,
   "metadata": {
    "colab": {
     "base_uri": "https://localhost:8080/",
     "height": 504
    },
    "colab_type": "code",
    "id": "li_6WTxfEdcj",
    "outputId": "78243093-f6d4-4836-d0cd-01746fd71d3f"
   },
   "outputs": [
    {
     "data": {
      "text/html": [
       "<div>\n",
       "<style scoped>\n",
       "    .dataframe tbody tr th:only-of-type {\n",
       "        vertical-align: middle;\n",
       "    }\n",
       "\n",
       "    .dataframe tbody tr th {\n",
       "        vertical-align: top;\n",
       "    }\n",
       "\n",
       "    .dataframe thead th {\n",
       "        text-align: right;\n",
       "    }\n",
       "</style>\n",
       "<table border=\"1\" class=\"dataframe\">\n",
       "  <thead>\n",
       "    <tr style=\"text-align: right;\">\n",
       "      <th></th>\n",
       "      <th>actual</th>\n",
       "      <th>predicted</th>\n",
       "    </tr>\n",
       "  </thead>\n",
       "  <tbody>\n",
       "    <tr>\n",
       "      <th>0</th>\n",
       "      <td>she taught us singing</td>\n",
       "      <td></td>\n",
       "    </tr>\n",
       "    <tr>\n",
       "      <th>1</th>\n",
       "      <td>the dinner is almost ready</td>\n",
       "      <td></td>\n",
       "    </tr>\n",
       "    <tr>\n",
       "      <th>2</th>\n",
       "      <td>you are under arrest</td>\n",
       "      <td></td>\n",
       "    </tr>\n",
       "    <tr>\n",
       "      <th>3</th>\n",
       "      <td>if you flunk this exam youll have to repeat the course</td>\n",
       "      <td></td>\n",
       "    </tr>\n",
       "    <tr>\n",
       "      <th>4</th>\n",
       "      <td>are you freezing</td>\n",
       "      <td></td>\n",
       "    </tr>\n",
       "    <tr>\n",
       "      <th>5</th>\n",
       "      <td>boston is my home</td>\n",
       "      <td></td>\n",
       "    </tr>\n",
       "    <tr>\n",
       "      <th>6</th>\n",
       "      <td>tom is stupider than you think</td>\n",
       "      <td></td>\n",
       "    </tr>\n",
       "    <tr>\n",
       "      <th>7</th>\n",
       "      <td>i need to know whats happening</td>\n",
       "      <td></td>\n",
       "    </tr>\n",
       "    <tr>\n",
       "      <th>8</th>\n",
       "      <td>tom only eats lean meats and vegetables</td>\n",
       "      <td></td>\n",
       "    </tr>\n",
       "    <tr>\n",
       "      <th>9</th>\n",
       "      <td>i had things to take care of</td>\n",
       "      <td></td>\n",
       "    </tr>\n",
       "    <tr>\n",
       "      <th>10</th>\n",
       "      <td>have you seen toms room</td>\n",
       "      <td></td>\n",
       "    </tr>\n",
       "    <tr>\n",
       "      <th>11</th>\n",
       "      <td>that guy is off his rocker</td>\n",
       "      <td></td>\n",
       "    </tr>\n",
       "    <tr>\n",
       "      <th>12</th>\n",
       "      <td>she was almost hit by a car</td>\n",
       "      <td></td>\n",
       "    </tr>\n",
       "    <tr>\n",
       "      <th>13</th>\n",
       "      <td>did you wash your hands</td>\n",
       "      <td></td>\n",
       "    </tr>\n",
       "    <tr>\n",
       "      <th>14</th>\n",
       "      <td>islam first reached china about the middle of the 7th century</td>\n",
       "      <td></td>\n",
       "    </tr>\n",
       "  </tbody>\n",
       "</table>\n",
       "</div>"
      ],
      "text/plain": [
       "                                                           actual predicted\n",
       "0                                           she taught us singing          \n",
       "1                                      the dinner is almost ready          \n",
       "2                                            you are under arrest          \n",
       "3          if you flunk this exam youll have to repeat the course          \n",
       "4                                                are you freezing          \n",
       "5                                               boston is my home          \n",
       "6                                  tom is stupider than you think          \n",
       "7                                  i need to know whats happening          \n",
       "8                         tom only eats lean meats and vegetables          \n",
       "9                                    i had things to take care of          \n",
       "10                                        have you seen toms room          \n",
       "11                                     that guy is off his rocker          \n",
       "12                                    she was almost hit by a car          \n",
       "13                                        did you wash your hands          \n",
       "14  islam first reached china about the middle of the 7th century          "
      ]
     },
     "execution_count": 26,
     "metadata": {
      "tags": []
     },
     "output_type": "execute_result"
    }
   ],
   "source": [
    "pred_df.head(15)"
   ]
  },
  {
   "cell_type": "markdown",
   "metadata": {
    "colab_type": "text",
    "id": "1RWWDsGgU2Xt"
   },
   "source": [
    "Lo ocurrido con la arquitectura del segundo modelo sirve para constatar lo estudiado durante las clases téoricas: el modelo SimpleRNN es demasiado simplista para que sea de utilidad. Aunque en teoría debería ser capaz de retener la información del texto durante un cierto periodo de tiempo, en la práctica las dependencias a largo plazo resultan imposibles de aprender para una red neuronal recurrente simple.\n",
    "\n",
    "Esto se debe al problema de desvanecimiento del gradiente, que se da cuando el gradiente va disminuyendo a valores muy pequeños, impidiendo a los pesos de la red cambiar eficazmente su valor. En el peor de los casos, el problema impide que la red neuronal continúe su entrenamiento. Esto es lo que ha ocurrido en la presente práctica con el segundo modelo, ya que el entrenamiento no ha avanzado sino que se ha quedado estancado en un punto de precisión 0.2 y pérdidas en torno a un valor de 5.\n"
   ]
  },
  {
   "cell_type": "markdown",
   "metadata": {
    "colab_type": "text",
    "id": "iwpMkuoWAlhv"
   },
   "source": [
    "## Tercer modelo\n",
    "En el tercer y último modelo se va a hacer uso de una arquitectura que emplea capas GRU en lugar de capas LSTM. Precisamente, con el objetivo de eliminar el problema del descenso del gradiente, aparecen las capas recurrentes tipo LSTM y GRU. \n",
    "\n",
    "Las arquitectura con LSTM ya se he implementado en el primer modelo y se han observado sus buenos resultados. A continuación se construye un modelo con capas GRU a fin de poder comparar su eficacia."
   ]
  },
  {
   "cell_type": "markdown",
   "metadata": {
    "colab_type": "text",
    "id": "hB0YlehROjZs"
   },
   "source": [
    "### Construir y entrenar el modelo"
   ]
  },
  {
   "cell_type": "code",
   "execution_count": 0,
   "metadata": {
    "colab": {},
    "colab_type": "code",
    "id": "m10Ty7u3BGob"
   },
   "outputs": [],
   "source": [
    "# build NMT model\n",
    "def build_model(in_vocab, out_vocab, in_timesteps, out_timesteps, units):\n",
    "    model = Sequential()\n",
    "    model.add(Embedding(in_vocab, units, input_length=in_timesteps, mask_zero=True))\n",
    "    #o comentar esta última línea\n",
    "    model.add(GRU(units))\n",
    "    model.add(RepeatVector(out_timesteps))\n",
    "    model.add(GRU(units, return_sequences=True))\n",
    "    model.add(Dense(out_vocab, activation='softmax'))\n",
    "  \n",
    "    return model"
   ]
  },
  {
   "cell_type": "code",
   "execution_count": 22,
   "metadata": {
    "colab": {
     "base_uri": "https://localhost:8080/",
     "height": 337
    },
    "colab_type": "code",
    "id": "2gYY2vv9Sc_K",
    "outputId": "a46f06c2-f968-4abd-ed09-60254b4e70d7"
   },
   "outputs": [
    {
     "name": "stdout",
     "output_type": "stream",
     "text": [
      "Model: \"sequential_1\"\n",
      "_________________________________________________________________\n",
      "Layer (type)                 Output Shape              Param #   \n",
      "=================================================================\n",
      "embedding_1 (Embedding)      (None, 8, 64)             1755584   \n",
      "_________________________________________________________________\n",
      "gru_1 (GRU)                  (None, 64)                24768     \n",
      "_________________________________________________________________\n",
      "repeat_vector_1 (RepeatVecto (None, 8, 64)             0         \n",
      "_________________________________________________________________\n",
      "gru_2 (GRU)                  (None, 8, 64)             24768     \n",
      "_________________________________________________________________\n",
      "dense_1 (Dense)              (None, 8, 13731)          892515    \n",
      "=================================================================\n",
      "Total params: 2,697,635\n",
      "Trainable params: 2,697,635\n",
      "Non-trainable params: 0\n",
      "_________________________________________________________________\n"
     ]
    }
   ],
   "source": [
    "model = build_model(spa_vocab_size, eng_vocab_size, spa_length, eng_length, 64)\n",
    "model.summary()"
   ]
  },
  {
   "cell_type": "markdown",
   "metadata": {
    "colab_type": "text",
    "id": "e-KWbXA4aBje"
   },
   "source": [
    "El modelo se entrena durante 15 épocas puesto que, como se pudo observar con el primer modelo, es el punto medio entre complejidad y precisión. El tamaño de batch es igual a 512 y similar al empleado en el modelo 1 de tal forma que los resultados de ambos sean comparables."
   ]
  },
  {
   "cell_type": "code",
   "execution_count": 0,
   "metadata": {
    "colab": {},
    "colab_type": "code",
    "id": "JxdHICkvFNa9"
   },
   "outputs": [],
   "source": [
    "rms = optimizers.RMSprop(lr=0.001)\n",
    "model.compile(optimizer=rms, loss='sparse_categorical_crossentropy', metrics=['accuracy'])"
   ]
  },
  {
   "cell_type": "code",
   "execution_count": 24,
   "metadata": {
    "colab": {
     "base_uri": "https://localhost:8080/",
     "height": 1000
    },
    "colab_type": "code",
    "id": "vMTxRnB3FNF1",
    "outputId": "f6f343d2-5074-4313-c6c3-9efb9bca298d"
   },
   "outputs": [
    {
     "name": "stderr",
     "output_type": "stream",
     "text": [
      "/usr/local/lib/python3.6/dist-packages/tensorflow/python/framework/indexed_slices.py:434: UserWarning: Converting sparse IndexedSlices to a dense Tensor of unknown shape. This may consume a large amount of memory.\n",
      "  \"Converting sparse IndexedSlices to a dense Tensor of unknown shape. \"\n"
     ]
    },
    {
     "name": "stdout",
     "output_type": "stream",
     "text": [
      "Train on 708111 samples, validate on 177028 samples\n",
      "Epoch 1/15\n",
      "708111/708111 [==============================] - 306s 431us/step - loss: 4.7263 - accuracy: 0.3100 - val_loss: 4.3511 - val_accuracy: 0.3339\n",
      "\n",
      "Epoch 00001: val_loss improved from inf to 4.35110, saving model to model.h1.27_apr_20_m3\n",
      "Epoch 2/15\n",
      "708111/708111 [==============================] - 303s 427us/step - loss: 4.0879 - accuracy: 0.3644 - val_loss: 3.8704 - val_accuracy: 0.3835\n",
      "\n",
      "Epoch 00002: val_loss improved from 4.35110 to 3.87036, saving model to model.h1.27_apr_20_m3\n",
      "Epoch 3/15\n",
      "708111/708111 [==============================] - 303s 427us/step - loss: 3.5905 - accuracy: 0.4104 - val_loss: 3.4127 - val_accuracy: 0.4262\n",
      "\n",
      "Epoch 00003: val_loss improved from 3.87036 to 3.41271, saving model to model.h1.27_apr_20_m3\n",
      "Epoch 4/15\n",
      "708111/708111 [==============================] - 303s 428us/step - loss: 3.2043 - accuracy: 0.4502 - val_loss: 3.0854 - val_accuracy: 0.4635\n",
      "\n",
      "Epoch 00004: val_loss improved from 3.41271 to 3.08536, saving model to model.h1.27_apr_20_m3\n",
      "Epoch 5/15\n",
      "708111/708111 [==============================] - 302s 427us/step - loss: 2.9001 - accuracy: 0.4857 - val_loss: 2.8341 - val_accuracy: 0.4930\n",
      "\n",
      "Epoch 00005: val_loss improved from 3.08536 to 2.83411, saving model to model.h1.27_apr_20_m3\n",
      "Epoch 6/15\n",
      "708111/708111 [==============================] - 302s 426us/step - loss: 2.6576 - accuracy: 0.5165 - val_loss: 2.6093 - val_accuracy: 0.5223\n",
      "\n",
      "Epoch 00006: val_loss improved from 2.83411 to 2.60927, saving model to model.h1.27_apr_20_m3\n",
      "Epoch 7/15\n",
      "708111/708111 [==============================] - 302s 427us/step - loss: 2.4684 - accuracy: 0.5426 - val_loss: 2.4520 - val_accuracy: 0.5446\n",
      "\n",
      "Epoch 00007: val_loss improved from 2.60927 to 2.45204, saving model to model.h1.27_apr_20_m3\n",
      "Epoch 8/15\n",
      "708111/708111 [==============================] - 302s 426us/step - loss: 2.3156 - accuracy: 0.5651 - val_loss: 2.3217 - val_accuracy: 0.5636\n",
      "\n",
      "Epoch 00008: val_loss improved from 2.45204 to 2.32168, saving model to model.h1.27_apr_20_m3\n",
      "Epoch 9/15\n",
      "708111/708111 [==============================] - 302s 426us/step - loss: 2.1913 - accuracy: 0.5840 - val_loss: 2.2335 - val_accuracy: 0.5755\n",
      "\n",
      "Epoch 00009: val_loss improved from 2.32168 to 2.23354, saving model to model.h1.27_apr_20_m3\n",
      "Epoch 10/15\n",
      "708111/708111 [==============================] - 302s 426us/step - loss: 2.0885 - accuracy: 0.6004 - val_loss: 2.1717 - val_accuracy: 0.5830\n",
      "\n",
      "Epoch 00010: val_loss improved from 2.23354 to 2.17169, saving model to model.h1.27_apr_20_m3\n",
      "Epoch 11/15\n",
      "708111/708111 [==============================] - 302s 427us/step - loss: 2.0017 - accuracy: 0.6143 - val_loss: 2.0507 - val_accuracy: 0.6055\n",
      "\n",
      "Epoch 00011: val_loss improved from 2.17169 to 2.05069, saving model to model.h1.27_apr_20_m3\n",
      "Epoch 12/15\n",
      "708111/708111 [==============================] - 302s 427us/step - loss: 1.9282 - accuracy: 0.6267 - val_loss: 1.9944 - val_accuracy: 0.6144\n",
      "\n",
      "Epoch 00012: val_loss improved from 2.05069 to 1.99440, saving model to model.h1.27_apr_20_m3\n",
      "Epoch 13/15\n",
      "708111/708111 [==============================] - 303s 427us/step - loss: 1.8651 - accuracy: 0.6376 - val_loss: 1.9863 - val_accuracy: 0.6144\n",
      "\n",
      "Epoch 00013: val_loss improved from 1.99440 to 1.98628, saving model to model.h1.27_apr_20_m3\n",
      "Epoch 14/15\n",
      "708111/708111 [==============================] - 302s 427us/step - loss: 1.8096 - accuracy: 0.6473 - val_loss: 1.9187 - val_accuracy: 0.6248\n",
      "\n",
      "Epoch 00014: val_loss improved from 1.98628 to 1.91871, saving model to model.h1.27_apr_20_m3\n",
      "Epoch 15/15\n",
      "708111/708111 [==============================] - 302s 427us/step - loss: 1.7609 - accuracy: 0.6559 - val_loss: 1.8405 - val_accuracy: 0.6415\n",
      "\n",
      "Epoch 00015: val_loss improved from 1.91871 to 1.84055, saving model to model.h1.27_apr_20_m3\n"
     ]
    }
   ],
   "source": [
    "filename = 'model.h1.27_apr_20_m3'\n",
    "checkpoint = ModelCheckpoint(filename, monitor='val_loss', verbose=1, save_best_only=True, mode='min')\n",
    "\n",
    "history = model.fit(trainX, trainY.reshape(trainY.shape[0], trainY.shape[1], 1), \n",
    "          epochs=15, batch_size=512, \n",
    "          validation_split = 0.2,\n",
    "          callbacks=[checkpoint], verbose=1)"
   ]
  },
  {
   "cell_type": "markdown",
   "metadata": {
    "colab_type": "text",
    "id": "LPzEtiq2NBf3"
   },
   "source": [
    "La salida obtenida tras el entrenamiento del modelo se muestra a continuación y en ella puede observarse que en este caso los niveles de precisión alcanzados rondan el 66% mientra que las pérdidas son aproximadamente de 1.8:\n",
    "\n",
    "```\n",
    "Train on 708111 samples, validate on 177028 samples\n",
    "Epoch 1/15\n",
    "708111/708111 [==============================] - 306s 431us/step - loss: 4.7263 - accuracy: 0.3100 - val_loss: 4.3511 - val_accuracy: 0.3339\n",
    "\n",
    "Epoch 00001: val_loss improved from inf to 4.35110, saving model to model.h1.27_apr_20_m3\n",
    "Epoch 2/15\n",
    "708111/708111 [==============================] - 303s 427us/step - loss: 4.0879 - accuracy: 0.3644 - val_loss: 3.8704 - val_accuracy: 0.3835\n",
    "\n",
    "Epoch 00002: val_loss improved from 4.35110 to 3.87036, saving model to model.h1.27_apr_20_m3\n",
    "Epoch 3/15\n",
    "708111/708111 [==============================] - 303s 427us/step - loss: 3.5905 - accuracy: 0.4104 - val_loss: 3.4127 - val_accuracy: 0.4262\n",
    "\n",
    "Epoch 00003: val_loss improved from 3.87036 to 3.41271, saving model to model.h1.27_apr_20_m3\n",
    "Epoch 4/15\n",
    "708111/708111 [==============================] - 303s 428us/step - loss: 3.2043 - accuracy: 0.4502 - val_loss: 3.0854 - val_accuracy: 0.4635\n",
    "\n",
    "Epoch 00004: val_loss improved from 3.41271 to 3.08536, saving model to model.h1.27_apr_20_m3\n",
    "Epoch 5/15\n",
    "708111/708111 [==============================] - 302s 427us/step - loss: 2.9001 - accuracy: 0.4857 - val_loss: 2.8341 - val_accuracy: 0.4930\n",
    "\n",
    "Epoch 00005: val_loss improved from 3.08536 to 2.83411, saving model to model.h1.27_apr_20_m3\n",
    "Epoch 6/15\n",
    "708111/708111 [==============================] - 302s 426us/step - loss: 2.6576 - accuracy: 0.5165 - val_loss: 2.6093 - val_accuracy: 0.5223\n",
    "\n",
    "Epoch 00006: val_loss improved from 2.83411 to 2.60927, saving model to model.h1.27_apr_20_m3\n",
    "Epoch 7/15\n",
    "708111/708111 [==============================] - 302s 427us/step - loss: 2.4684 - accuracy: 0.5426 - val_loss: 2.4520 - val_accuracy: 0.5446\n",
    "\n",
    "Epoch 00007: val_loss improved from 2.60927 to 2.45204, saving model to model.h1.27_apr_20_m3\n",
    "Epoch 8/15\n",
    "708111/708111 [==============================] - 302s 426us/step - loss: 2.3156 - accuracy: 0.5651 - val_loss: 2.3217 - val_accuracy: 0.5636\n",
    "\n",
    "Epoch 00008: val_loss improved from 2.45204 to 2.32168, saving model to model.h1.27_apr_20_m3\n",
    "Epoch 9/15\n",
    "708111/708111 [==============================] - 302s 426us/step - loss: 2.1913 - accuracy: 0.5840 - val_loss: 2.2335 - val_accuracy: 0.5755\n",
    "\n",
    "Epoch 00009: val_loss improved from 2.32168 to 2.23354, saving model to model.h1.27_apr_20_m3\n",
    "Epoch 10/15\n",
    "708111/708111 [==============================] - 302s 426us/step - loss: 2.0885 - accuracy: 0.6004 - val_loss: 2.1717 - val_accuracy: 0.5830\n",
    "\n",
    "Epoch 00010: val_loss improved from 2.23354 to 2.17169, saving model to model.h1.27_apr_20_m3\n",
    "Epoch 11/15\n",
    "708111/708111 [==============================] - 302s 427us/step - loss: 2.0017 - accuracy: 0.6143 - val_loss: 2.0507 - val_accuracy: 0.6055\n",
    "\n",
    "Epoch 00011: val_loss improved from 2.17169 to 2.05069, saving model to model.h1.27_apr_20_m3\n",
    "Epoch 12/15\n",
    "708111/708111 [==============================] - 302s 427us/step - loss: 1.9282 - accuracy: 0.6267 - val_loss: 1.9944 - val_accuracy: 0.6144\n",
    "\n",
    "Epoch 00012: val_loss improved from 2.05069 to 1.99440, saving model to model.h1.27_apr_20_m3\n",
    "Epoch 13/15\n",
    "708111/708111 [==============================] - 303s 427us/step - loss: 1.8651 - accuracy: 0.6376 - val_loss: 1.9863 - val_accuracy: 0.6144\n",
    "\n",
    "Epoch 00013: val_loss improved from 1.99440 to 1.98628, saving model to model.h1.27_apr_20_m3\n",
    "Epoch 14/15\n",
    "708111/708111 [==============================] - 302s 427us/step - loss: 1.8096 - accuracy: 0.6473 - val_loss: 1.9187 - val_accuracy: 0.6248\n",
    "\n",
    "Epoch 00014: val_loss improved from 1.98628 to 1.91871, saving model to model.h1.27_apr_20_m3\n",
    "Epoch 15/15\n",
    "708111/708111 [==============================] - 302s 427us/step - loss: 1.7609 - accuracy: 0.6559 - val_loss: 1.8405 - val_accuracy: 0.6415\n",
    "```"
   ]
  },
  {
   "cell_type": "markdown",
   "metadata": {
    "colab_type": "text",
    "id": "brdEPDsUalvP"
   },
   "source": [
    "El primer modelo, en la epoch número 15 ya consigue alcanzar una precisión del 97% mientras que el tercer modelo se queda en el 64% con lo que puede decirse que el tercer modelo obtiene buenos resultados pero no es tan eficiente como el primero, ya que, a igualdad de epócas, el primero obtiene mejores resultados.\n",
    "\n",
    "En las gráficas que muestran la evolución de la precisión y de las pérdidas puede apreciarse que las curvas comienzan a estabilizarse a partir de la época 15. Se podría aumentar el número de épocas pero por la tendencia parece que el aumento de la precisión y la disminución de las pérdidas no vayan a ser demasiado significativas, al menos no para alcanzar los niveles del modelo uno."
   ]
  },
  {
   "cell_type": "code",
   "execution_count": 26,
   "metadata": {
    "colab": {
     "base_uri": "https://localhost:8080/",
     "height": 295
    },
    "colab_type": "code",
    "id": "9pAavFfWFrEU",
    "outputId": "65a01533-6346-43a5-afdb-b4ec011a6592"
   },
   "outputs": [
    {
     "data": {
      "image/png": "[encoded data removed]",
      "text/plain": [
       "<Figure size 432x288 with 1 Axes>"
      ]
     },
     "metadata": {
      "needs_background": "light",
      "tags": []
     },
     "output_type": "display_data"
    }
   ],
   "source": [
    "plt.plot(history.history['accuracy'])\n",
    "plt.plot(history.history['val_accuracy'])\n",
    "plt.title('model accuracy')\n",
    "plt.ylabel('accuracy')\n",
    "plt.xlabel('epoch')\n",
    "plt.legend(['train','validation'])\n",
    "plt.show()"
   ]
  },
  {
   "cell_type": "code",
   "execution_count": 27,
   "metadata": {
    "colab": {
     "base_uri": "https://localhost:8080/",
     "height": 295
    },
    "colab_type": "code",
    "id": "j2I-u-BXIcAV",
    "outputId": "0f11510b-79eb-491a-8f9f-066b5863ddab"
   },
   "outputs": [
    {
     "data": {
      "image/png": "[encoded data removed]",
      "text/plain": [
       "<Figure size 432x288 with 1 Axes>"
      ]
     },
     "metadata": {
      "needs_background": "light",
      "tags": []
     },
     "output_type": "display_data"
    }
   ],
   "source": [
    "plt.plot(history.history['loss'])\n",
    "plt.plot(history.history['val_loss'])\n",
    "plt.title('model loss')\n",
    "plt.ylabel('loss')\n",
    "plt.xlabel('epoch')\n",
    "plt.legend(['train','validation'])\n",
    "plt.show()"
   ]
  },
  {
   "cell_type": "markdown",
   "metadata": {
    "colab_type": "text",
    "id": "b_lJg0wLIiS0"
   },
   "source": [
    "### Hacer predicciones\n",
    "\n",
    "Al igual que se ha hecho con los modelos anteriores, se realizan las predicciones para un conjunto de frases iniciales del dataset."
   ]
  },
  {
   "cell_type": "code",
   "execution_count": 56,
   "metadata": {
    "colab": {
     "base_uri": "https://localhost:8080/",
     "height": 72
    },
    "colab_type": "code",
    "id": "cD2fHVpaJOeV",
    "outputId": "ae4fc885-4c67-460f-b8f3-8978a691fedc"
   },
   "outputs": [
    {
     "name": "stderr",
     "output_type": "stream",
     "text": [
      "/usr/local/lib/python3.6/dist-packages/tensorflow/python/framework/indexed_slices.py:434: UserWarning: Converting sparse IndexedSlices to a dense Tensor of unknown shape. This may consume a large amount of memory.\n",
      "  \"Converting sparse IndexedSlices to a dense Tensor of unknown shape. \"\n"
     ]
    }
   ],
   "source": [
    "model = load_model('model.h1.27_apr_20_m3')\n",
    "preds = model.predict_classes(testX[:50000,:].reshape((testX[:50000,:].shape[0],testX[:50000,:].shape[1])))"
   ]
  },
  {
   "cell_type": "code",
   "execution_count": 0,
   "metadata": {
    "colab": {},
    "colab_type": "code",
    "id": "SGv-SPw7JfEv"
   },
   "outputs": [],
   "source": [
    "def get_word(n, tokenizer):\n",
    "    for word, index in tokenizer.word_index.items():\n",
    "        if index == n:\n",
    "            return word\n",
    "    return None"
   ]
  },
  {
   "cell_type": "code",
   "execution_count": 0,
   "metadata": {
    "colab": {},
    "colab_type": "code",
    "id": "Z7bcrVKxJmv1"
   },
   "outputs": [],
   "source": [
    "# convert predictions into text (English)\n",
    "preds_text = []\n",
    "for i in preds:\n",
    "    temp = []\n",
    "    for j in range(len(i)):\n",
    "        t = get_word(i[j], eng_tokenizer)\n",
    "        if j > 0:\n",
    "            if (t == get_word(i[j-1], eng_tokenizer)) or (t == None):\n",
    "                temp.append('')\n",
    "            else:\n",
    "                temp.append(t)\n",
    "             \n",
    "        else:\n",
    "            if(t == None):\n",
    "                temp.append('')\n",
    "            else:\n",
    "                temp.append(t)            \n",
    "        \n",
    "    preds_text.append(' '.join(temp))"
   ]
  },
  {
   "cell_type": "code",
   "execution_count": 0,
   "metadata": {
    "colab": {},
    "colab_type": "code",
    "id": "UaK-0NGCJqPF"
   },
   "outputs": [],
   "source": [
    "pred_df = pd.DataFrame({'actual' : test[:50000,0], 'predicted' : preds_text})"
   ]
  },
  {
   "cell_type": "code",
   "execution_count": 0,
   "metadata": {
    "colab": {},
    "colab_type": "code",
    "id": "dHPQAvL2JyEC"
   },
   "outputs": [],
   "source": [
    "pd.set_option('display.max_colwidth', 200)"
   ]
  },
  {
   "cell_type": "markdown",
   "metadata": {
    "colab_type": "text",
    "id": "jM7dL8UylUf-"
   },
   "source": [
    "Como puede deducirse de los niveles de precisión alcanzados, las traducciones no se realizan con tan exactitud como ocurría con el modelo uno. El traductor encuentra dificultades sobre todo con ciertas palabras de vocabulario. Para cada frase, consigue traducir bien la mayoría de las palabras salvo algún verbo o nombres que intercambia por otros u omite.\n",
    "\n",
    "La precisión alcanzada es elevada, pero no demasiado."
   ]
  },
  {
   "cell_type": "code",
   "execution_count": 69,
   "metadata": {
    "colab": {
     "base_uri": "https://localhost:8080/",
     "height": 504
    },
    "colab_type": "code",
    "id": "IJdFFb67Knbo",
    "outputId": "d5d4bf8e-9203-4499-bd7b-05eac509aeae"
   },
   "outputs": [
    {
     "data": {
      "text/html": [
       "<div>\n",
       "<style scoped>\n",
       "    .dataframe tbody tr th:only-of-type {\n",
       "        vertical-align: middle;\n",
       "    }\n",
       "\n",
       "    .dataframe tbody tr th {\n",
       "        vertical-align: top;\n",
       "    }\n",
       "\n",
       "    .dataframe thead th {\n",
       "        text-align: right;\n",
       "    }\n",
       "</style>\n",
       "<table border=\"1\" class=\"dataframe\">\n",
       "  <thead>\n",
       "    <tr style=\"text-align: right;\">\n",
       "      <th></th>\n",
       "      <th>actual</th>\n",
       "      <th>predicted</th>\n",
       "    </tr>\n",
       "  </thead>\n",
       "  <tbody>\n",
       "    <tr>\n",
       "      <th>0</th>\n",
       "      <td>she taught us singing</td>\n",
       "      <td>she wanted to sing</td>\n",
       "    </tr>\n",
       "    <tr>\n",
       "      <th>1</th>\n",
       "      <td>the dinner is almost ready</td>\n",
       "      <td>father is almost ready</td>\n",
       "    </tr>\n",
       "    <tr>\n",
       "      <th>2</th>\n",
       "      <td>you are under arrest</td>\n",
       "      <td>you are arrested arrest</td>\n",
       "    </tr>\n",
       "    <tr>\n",
       "      <th>3</th>\n",
       "      <td>if you flunk this exam youll have to repeat the course</td>\n",
       "      <td>the youll   to be the this</td>\n",
       "    </tr>\n",
       "    <tr>\n",
       "      <th>4</th>\n",
       "      <td>are you freezing</td>\n",
       "      <td>are you clean</td>\n",
       "    </tr>\n",
       "    <tr>\n",
       "      <th>5</th>\n",
       "      <td>boston is my home</td>\n",
       "      <td>my is my house</td>\n",
       "    </tr>\n",
       "    <tr>\n",
       "      <th>6</th>\n",
       "      <td>tom is stupider than you think</td>\n",
       "      <td>tom is what think you think</td>\n",
       "    </tr>\n",
       "    <tr>\n",
       "      <th>7</th>\n",
       "      <td>i need to know whats happening</td>\n",
       "      <td>i need to know what it</td>\n",
       "    </tr>\n",
       "    <tr>\n",
       "      <th>8</th>\n",
       "      <td>tom only eats lean meats and vegetables</td>\n",
       "      <td>tom just eats vegetables  and</td>\n",
       "    </tr>\n",
       "    <tr>\n",
       "      <th>9</th>\n",
       "      <td>i had things to take care of</td>\n",
       "      <td>i just mind to care  of</td>\n",
       "    </tr>\n",
       "    <tr>\n",
       "      <th>10</th>\n",
       "      <td>have you seen toms room</td>\n",
       "      <td>did you see toms room</td>\n",
       "    </tr>\n",
       "    <tr>\n",
       "      <th>11</th>\n",
       "      <td>that guy is off his rocker</td>\n",
       "      <td>this guy is under my</td>\n",
       "    </tr>\n",
       "    <tr>\n",
       "      <th>12</th>\n",
       "      <td>she was almost hit by a car</td>\n",
       "      <td>she was almost hit by a car</td>\n",
       "    </tr>\n",
       "    <tr>\n",
       "      <th>13</th>\n",
       "      <td>did you wash your hands</td>\n",
       "      <td>did you wash your hands</td>\n",
       "    </tr>\n",
       "    <tr>\n",
       "      <th>14</th>\n",
       "      <td>islam first reached china about the middle of the 7th century</td>\n",
       "      <td>of the  middle of the most century</td>\n",
       "    </tr>\n",
       "  </tbody>\n",
       "</table>\n",
       "</div>"
      ],
      "text/plain": [
       "                                                           actual                           predicted\n",
       "0                                           she taught us singing              she wanted to sing    \n",
       "1                                      the dinner is almost ready          father is almost ready    \n",
       "2                                            you are under arrest         you are arrested arrest    \n",
       "3          if you flunk this exam youll have to repeat the course          the youll   to be the this\n",
       "4                                                are you freezing                  are you clean     \n",
       "5                                               boston is my home                  my is my house    \n",
       "6                                  tom is stupider than you think       tom is what think you think  \n",
       "7                                  i need to know whats happening            i need to know what it  \n",
       "8                         tom only eats lean meats and vegetables     tom just eats vegetables  and  \n",
       "9                                    i had things to take care of            i just mind to care  of \n",
       "10                                        have you seen toms room            did you see toms room   \n",
       "11                                     that guy is off his rocker             this guy is under my   \n",
       "12                                    she was almost hit by a car        she was almost hit by a car \n",
       "13                                        did you wash your hands          did you wash your hands   \n",
       "14  islam first reached china about the middle of the 7th century  of the  middle of the most century"
      ]
     },
     "execution_count": 69,
     "metadata": {
      "tags": []
     },
     "output_type": "execute_result"
    }
   ],
   "source": [
    "pred_df.head(15)"
   ]
  },
  {
   "cell_type": "markdown",
   "metadata": {
    "colab_type": "text",
    "id": "3b_Cne8vmS_u"
   },
   "source": [
    "Similar ocurre con esta otra muestra de predicciones."
   ]
  },
  {
   "cell_type": "code",
   "execution_count": 70,
   "metadata": {
    "colab": {
     "base_uri": "https://localhost:8080/",
     "height": 504
    },
    "colab_type": "code",
    "id": "jF0wmrEOKn7Y",
    "outputId": "5e41cc75-074b-4069-8977-aaa95feac285"
   },
   "outputs": [
    {
     "data": {
      "text/html": [
       "<div>\n",
       "<style scoped>\n",
       "    .dataframe tbody tr th:only-of-type {\n",
       "        vertical-align: middle;\n",
       "    }\n",
       "\n",
       "    .dataframe tbody tr th {\n",
       "        vertical-align: top;\n",
       "    }\n",
       "\n",
       "    .dataframe thead th {\n",
       "        text-align: right;\n",
       "    }\n",
       "</style>\n",
       "<table border=\"1\" class=\"dataframe\">\n",
       "  <thead>\n",
       "    <tr style=\"text-align: right;\">\n",
       "      <th></th>\n",
       "      <th>actual</th>\n",
       "      <th>predicted</th>\n",
       "    </tr>\n",
       "  </thead>\n",
       "  <tbody>\n",
       "    <tr>\n",
       "      <th>49985</th>\n",
       "      <td>i cant forget tom</td>\n",
       "      <td>i cant forget tom</td>\n",
       "    </tr>\n",
       "    <tr>\n",
       "      <th>49986</th>\n",
       "      <td>tom says that hes never tried eating dog food</td>\n",
       "      <td>never    to feed the food</td>\n",
       "    </tr>\n",
       "    <tr>\n",
       "      <th>49987</th>\n",
       "      <td>driving through that snowstorm was a nightmare</td>\n",
       "      <td>a of the building was a  meeting</td>\n",
       "    </tr>\n",
       "    <tr>\n",
       "      <th>49988</th>\n",
       "      <td>thats true too</td>\n",
       "      <td>that is too</td>\n",
       "    </tr>\n",
       "    <tr>\n",
       "      <th>49989</th>\n",
       "      <td>eating with you is a pleasure</td>\n",
       "      <td>a is a  to with you</td>\n",
       "    </tr>\n",
       "    <tr>\n",
       "      <th>49990</th>\n",
       "      <td>where did you learn that</td>\n",
       "      <td>where did you learn that</td>\n",
       "    </tr>\n",
       "    <tr>\n",
       "      <th>49991</th>\n",
       "      <td>my sister likes melons and so do i</td>\n",
       "      <td>he mother the  when i</td>\n",
       "    </tr>\n",
       "    <tr>\n",
       "      <th>49992</th>\n",
       "      <td>ill look up the location of the town on my map</td>\n",
       "      <td>the     in the map</td>\n",
       "    </tr>\n",
       "    <tr>\n",
       "      <th>49993</th>\n",
       "      <td>youd better not go</td>\n",
       "      <td>i better   he go</td>\n",
       "    </tr>\n",
       "    <tr>\n",
       "      <th>49994</th>\n",
       "      <td>tom arrived the day mary left</td>\n",
       "      <td>tom left the day time he</td>\n",
       "    </tr>\n",
       "    <tr>\n",
       "      <th>49995</th>\n",
       "      <td>i wish i had been kind to her then</td>\n",
       "      <td>i been  to school her</td>\n",
       "    </tr>\n",
       "    <tr>\n",
       "      <th>49996</th>\n",
       "      <td>i bought the same shirt as yours</td>\n",
       "      <td>i bought the same way i</td>\n",
       "    </tr>\n",
       "    <tr>\n",
       "      <th>49997</th>\n",
       "      <td>tom is in love with mary</td>\n",
       "      <td>tom is in love with mary</td>\n",
       "    </tr>\n",
       "    <tr>\n",
       "      <th>49998</th>\n",
       "      <td>it hardly ever rains there</td>\n",
       "      <td>it almost  hardly here</td>\n",
       "    </tr>\n",
       "    <tr>\n",
       "      <th>49999</th>\n",
       "      <td>it was rather easy for them</td>\n",
       "      <td>it was easy  for</td>\n",
       "    </tr>\n",
       "  </tbody>\n",
       "</table>\n",
       "</div>"
      ],
      "text/plain": [
       "                                               actual                         predicted\n",
       "49985                               i cant forget tom             i cant forget tom    \n",
       "49986   tom says that hes never tried eating dog food         never    to feed the food\n",
       "49987  driving through that snowstorm was a nightmare  a of the building was a  meeting\n",
       "49988                                  thats true too                  that is too     \n",
       "49989                   eating with you is a pleasure              a is a  to with you \n",
       "49990                        where did you learn that       where did you learn that   \n",
       "49991              my sister likes melons and so do i           he mother the  when i  \n",
       "49992  ill look up the location of the town on my map                the     in the map\n",
       "49993                              youd better not go                i better   he go  \n",
       "49994                   tom arrived the day mary left        tom left the day time he  \n",
       "49995              i wish i had been kind to her then           i been  to school her  \n",
       "49996                i bought the same shirt as yours         i bought the same way i  \n",
       "49997                        tom is in love with mary        tom is in love with mary  \n",
       "49998                      it hardly ever rains there         it almost  hardly here   \n",
       "49999                     it was rather easy for them               it was easy  for   "
      ]
     },
     "execution_count": 70,
     "metadata": {
      "tags": []
     },
     "output_type": "execute_result"
    }
   ],
   "source": [
    "pred_df.tail(15)"
   ]
  },
  {
   "cell_type": "markdown",
   "metadata": {
    "colab_type": "text",
    "id": "sRKCKr_aKqPE"
   },
   "source": [
    "Cuando se hacen las traducciones para 15 frases aleatorias se obtiene algo similar a los casos anteriores. Además, destaca el hecho de que el traductor posee mayor dificultad para traducir frases largas y complejas que frases más cortas, como es el caso de la frase 39313 y la 30814."
   ]
  },
  {
   "cell_type": "code",
   "execution_count": 71,
   "metadata": {
    "colab": {
     "base_uri": "https://localhost:8080/",
     "height": 538
    },
    "colab_type": "code",
    "id": "aP5xpH8-KyvK",
    "outputId": "d313c4b0-08bc-4e5a-c610-2810b46147e0"
   },
   "outputs": [
    {
     "data": {
      "text/html": [
       "<div>\n",
       "<style scoped>\n",
       "    .dataframe tbody tr th:only-of-type {\n",
       "        vertical-align: middle;\n",
       "    }\n",
       "\n",
       "    .dataframe tbody tr th {\n",
       "        vertical-align: top;\n",
       "    }\n",
       "\n",
       "    .dataframe thead th {\n",
       "        text-align: right;\n",
       "    }\n",
       "</style>\n",
       "<table border=\"1\" class=\"dataframe\">\n",
       "  <thead>\n",
       "    <tr style=\"text-align: right;\">\n",
       "      <th></th>\n",
       "      <th>actual</th>\n",
       "      <th>predicted</th>\n",
       "    </tr>\n",
       "  </thead>\n",
       "  <tbody>\n",
       "    <tr>\n",
       "      <th>35191</th>\n",
       "      <td>i have something to give to you</td>\n",
       "      <td>i have something to  you</td>\n",
       "    </tr>\n",
       "    <tr>\n",
       "      <th>13747</th>\n",
       "      <td>mary looks pretty today</td>\n",
       "      <td>tom is very</td>\n",
       "    </tr>\n",
       "    <tr>\n",
       "      <th>44029</th>\n",
       "      <td>she allegedly murdered him</td>\n",
       "      <td>she murdered killed him</td>\n",
       "    </tr>\n",
       "    <tr>\n",
       "      <th>41676</th>\n",
       "      <td>he is usually straightforward and sincere and thereby gains the confidence of those who meet him</td>\n",
       "      <td>a many words that word who do trust</td>\n",
       "    </tr>\n",
       "    <tr>\n",
       "      <th>39313</th>\n",
       "      <td>even now i occasionally think id like to see you not the you that you are today but the you i remember from the past</td>\n",
       "      <td>i dont i you i you</td>\n",
       "    </tr>\n",
       "    <tr>\n",
       "      <th>18970</th>\n",
       "      <td>he wrote a book on china</td>\n",
       "      <td>he wrote a book of the china</td>\n",
       "    </tr>\n",
       "    <tr>\n",
       "      <th>45764</th>\n",
       "      <td>dont just read books go outside once in a while and get some exercise</td>\n",
       "      <td>i and  long something  some exercise</td>\n",
       "    </tr>\n",
       "    <tr>\n",
       "      <th>37575</th>\n",
       "      <td>you may return</td>\n",
       "      <td>you may return</td>\n",
       "    </tr>\n",
       "    <tr>\n",
       "      <th>28262</th>\n",
       "      <td>everyone is carrying an umbrella</td>\n",
       "      <td>no have their here</td>\n",
       "    </tr>\n",
       "    <tr>\n",
       "      <th>17763</th>\n",
       "      <td>four hundred fifty black pilots were in the group</td>\n",
       "      <td>there  many  were in the group</td>\n",
       "    </tr>\n",
       "    <tr>\n",
       "      <th>24298</th>\n",
       "      <td>it didnt break</td>\n",
       "      <td>he not</td>\n",
       "    </tr>\n",
       "    <tr>\n",
       "      <th>20901</th>\n",
       "      <td>they asked us if we knew when the movie started</td>\n",
       "      <td>we  if we the  movie</td>\n",
       "    </tr>\n",
       "    <tr>\n",
       "      <th>23724</th>\n",
       "      <td>i have to get in touch with tom</td>\n",
       "      <td>i must to stay in  with tom</td>\n",
       "    </tr>\n",
       "    <tr>\n",
       "      <th>43203</th>\n",
       "      <td>this newspaper is free</td>\n",
       "      <td>this is  free</td>\n",
       "    </tr>\n",
       "    <tr>\n",
       "      <th>30814</th>\n",
       "      <td>call me later</td>\n",
       "      <td>call me later</td>\n",
       "    </tr>\n",
       "  </tbody>\n",
       "</table>\n",
       "</div>"
      ],
      "text/plain": [
       "                                                                                                                     actual                             predicted\n",
       "35191                                                                                       i have something to give to you            i have something to  you  \n",
       "13747                                                                                               mary looks pretty today                      tom is very     \n",
       "44029                                                                                            she allegedly murdered him           she murdered killed him    \n",
       "41676                      he is usually straightforward and sincere and thereby gains the confidence of those who meet him   a many words that word who do trust\n",
       "39313  even now i occasionally think id like to see you not the you that you are today but the you i remember from the past                  i dont i you i you  \n",
       "18970                                                                                              he wrote a book on china         he wrote a book of the china \n",
       "45764                                                 dont just read books go outside once in a while and get some exercise  i and  long something  some exercise\n",
       "37575                                                                                                        you may return                   you may return     \n",
       "28262                                                                                      everyone is carrying an umbrella                no have their here    \n",
       "17763                                                                     four hundred fifty black pilots were in the group        there  many  were in the group\n",
       "24298                                                                                                        it didnt break                          he not      \n",
       "20901                                                                       they asked us if we knew when the movie started                 we  if we the  movie \n",
       "23724                                                                                       i have to get in touch with tom           i must to stay in  with tom\n",
       "43203                                                                                                this newspaper is free                     this is  free    \n",
       "30814                                                                                                         call me later                    call me later     "
      ]
     },
     "execution_count": 71,
     "metadata": {
      "tags": []
     },
     "output_type": "execute_result"
    }
   ],
   "source": [
    "pred_df.sample(15)"
   ]
  },
  {
   "cell_type": "markdown",
   "metadata": {
    "colab_type": "text",
    "id": "eW7ZvYjNja_F"
   },
   "source": [
    "A continuación se muestran las traducciones en inglés de muestras aleatorias junto con la frase en español, de manera que pueda apreciarse con mayor claridad el trabajo realizado por el algoritmo."
   ]
  },
  {
   "cell_type": "code",
   "execution_count": 0,
   "metadata": {
    "colab": {},
    "colab_type": "code",
    "id": "VYJZia0hjXT7"
   },
   "outputs": [],
   "source": [
    "pred_df_spa = pd.DataFrame({'actual' : test[:50000,1], 'predicted' : preds_text})"
   ]
  },
  {
   "cell_type": "code",
   "execution_count": 66,
   "metadata": {
    "colab": {
     "base_uri": "https://localhost:8080/",
     "height": 504
    },
    "colab_type": "code",
    "id": "hQ1MpLtFjXKf",
    "outputId": "3483484e-c9fb-4a23-8328-beb52f5e269a"
   },
   "outputs": [
    {
     "data": {
      "text/html": [
       "<div>\n",
       "<style scoped>\n",
       "    .dataframe tbody tr th:only-of-type {\n",
       "        vertical-align: middle;\n",
       "    }\n",
       "\n",
       "    .dataframe tbody tr th {\n",
       "        vertical-align: top;\n",
       "    }\n",
       "\n",
       "    .dataframe thead th {\n",
       "        text-align: right;\n",
       "    }\n",
       "</style>\n",
       "<table border=\"1\" class=\"dataframe\">\n",
       "  <thead>\n",
       "    <tr style=\"text-align: right;\">\n",
       "      <th></th>\n",
       "      <th>actual</th>\n",
       "      <th>predicted</th>\n",
       "    </tr>\n",
       "  </thead>\n",
       "  <tbody>\n",
       "    <tr>\n",
       "      <th>3955</th>\n",
       "      <td>estamos trabajando para reparar ese error</td>\n",
       "      <td>they it to  this mistake</td>\n",
       "    </tr>\n",
       "    <tr>\n",
       "      <th>31338</th>\n",
       "      <td>te prestaré este libro</td>\n",
       "      <td>ill do you  book</td>\n",
       "    </tr>\n",
       "    <tr>\n",
       "      <th>15886</th>\n",
       "      <td>es él ¿no</td>\n",
       "      <td>its is he</td>\n",
       "    </tr>\n",
       "    <tr>\n",
       "      <th>35680</th>\n",
       "      <td>él no es como nosotros</td>\n",
       "      <td>he isnt not with</td>\n",
       "    </tr>\n",
       "    <tr>\n",
       "      <th>13221</th>\n",
       "      <td>hablo tres idiomas</td>\n",
       "      <td>i speak three languages</td>\n",
       "    </tr>\n",
       "    <tr>\n",
       "      <th>18173</th>\n",
       "      <td>la tiré un puñetazo a la mandíbula</td>\n",
       "      <td>i saw him in the red</td>\n",
       "    </tr>\n",
       "    <tr>\n",
       "      <th>33291</th>\n",
       "      <td>él se sintió un poco culpable</td>\n",
       "      <td>he felt a felt guilty</td>\n",
       "    </tr>\n",
       "    <tr>\n",
       "      <th>35245</th>\n",
       "      <td>¿te vienes</td>\n",
       "      <td>are you coming</td>\n",
       "    </tr>\n",
       "    <tr>\n",
       "      <th>29929</th>\n",
       "      <td>solo quería hacerte unas pocas preguntas</td>\n",
       "      <td>i wanted to ask you a few questions</td>\n",
       "    </tr>\n",
       "    <tr>\n",
       "      <th>8996</th>\n",
       "      <td>ella le dijo que reescribiera su resumen</td>\n",
       "      <td>she told him to her his promised</td>\n",
       "    </tr>\n",
       "    <tr>\n",
       "      <th>38011</th>\n",
       "      <td>manténgase alejado de mí</td>\n",
       "      <td>keep away from me</td>\n",
       "    </tr>\n",
       "    <tr>\n",
       "      <th>6193</th>\n",
       "      <td>¿cuánto es el alquiler de esta habitación</td>\n",
       "      <td>how much is this rent this  room</td>\n",
       "    </tr>\n",
       "    <tr>\n",
       "      <th>26806</th>\n",
       "      <td>¿qué necesita</td>\n",
       "      <td>what do i need</td>\n",
       "    </tr>\n",
       "    <tr>\n",
       "      <th>18483</th>\n",
       "      <td>creo que deberías añadir un poco más de pimienta</td>\n",
       "      <td>you  should a  little more pepper</td>\n",
       "    </tr>\n",
       "    <tr>\n",
       "      <th>19699</th>\n",
       "      <td>ella no debería haber hecho semejante cosa</td>\n",
       "      <td>he shouldnt have done  a wrong thing</td>\n",
       "    </tr>\n",
       "  </tbody>\n",
       "</table>\n",
       "</div>"
      ],
      "text/plain": [
       "                                                 actual                             predicted\n",
       "3955          estamos trabajando para reparar ese error            they it to  this mistake  \n",
       "31338                            te prestaré este libro                   ill do you  book   \n",
       "15886                                         es él ¿no                        its is he     \n",
       "35680                            él no es como nosotros                  he isnt not with    \n",
       "13221                                hablo tres idiomas           i speak three languages    \n",
       "18173                la tiré un puñetazo a la mandíbula                i saw him in the red  \n",
       "33291                     él se sintió un poco culpable              he felt a felt guilty   \n",
       "35245                                        ¿te vienes                   are you coming     \n",
       "29929          solo quería hacerte unas pocas preguntas   i wanted to ask you a few questions\n",
       "8996           ella le dijo que reescribiera su resumen     she told him to her his promised \n",
       "38011                          manténgase alejado de mí                 keep away from me    \n",
       "6193          ¿cuánto es el alquiler de esta habitación      how much is this rent this  room\n",
       "26806                                     ¿qué necesita                    what do i need    \n",
       "18483  creo que deberías añadir un poco más de pimienta     you  should a  little more pepper\n",
       "19699        ella no debería haber hecho semejante cosa  he shouldnt have done  a wrong thing"
      ]
     },
     "execution_count": 66,
     "metadata": {
      "tags": []
     },
     "output_type": "execute_result"
    }
   ],
   "source": [
    "pred_df_spa.sample(15)"
   ]
  },
  {
   "cell_type": "markdown",
   "metadata": {
    "colab_type": "text",
    "id": "Ao03oFUymymJ"
   },
   "source": [
    "Puede observarse que, a igual número de épocas, el primer algoritmo, haciendo uso de LSTM obtiene mejores resultados que el tercero, haciendo uso de GRU. Sin embargo, la tendencia de este último es buena, mejor que la de SimpleRNN, y podría iterarse sobre el mismo para mejorarlo. "
   ]
  },
  {
   "cell_type": "markdown",
   "metadata": {
    "colab_type": "text",
    "id": "no_OYPELHgru"
   },
   "source": [
    "## Conclusión\n",
    "\n",
    "Para concluir, cabe destacar que con esta práctica se ha hecho un barrido por las distintas arquitecturas existentes y que mejor se adaptan para el procesamiento de lenguaje natural. Así, se han probado modelos hacen uso tanto de capas LSTM como de RNN simples y de GRU.\n",
    "\n",
    "La práctica ha sevido para afianzar los conceptos estudiados durante la teoría y comprobar de manera empírica cuáles son las arquitecturas de redes neuronales recurrentes más efectivas en el campo del procesamiento de lenguaje natural. \n",
    "\n",
    "Concretamente, se ha comprobado que las capas SimpleRNN obtienen los peores resultados y que, además, pueden caer con facilidad en el problema del desvanecimiento del gradiente. Con el fin de solucionar este problema existen las capas LSTM y GRU. Estas últimas obtienen buenos resultados, alcanando precisiones de en torno al 65% pero son sin duda las capas LSTM acompañadas de una arquitectura tipo *sequence to sequence* las que mejores resultados alcanzan para modelos de traducción automática, alcanzado una precisión del 97%. A igualdad de épocas, el primer modelo alcanza mejores resultados que los otros dos."
   ]
  }
 ],
 "metadata": {
  "accelerator": "TPU",
  "colab": {
   "collapsed_sections": [],
   "machine_shape": "hm",
   "name": "LAB_TEXT_MachineTranslation_SP_EN_IreneEspNov.ipynb",
   "provenance": [],
   "toc_visible": true
  },
  "kernelspec": {
   "display_name": "Python 3",
   "language": "python",
   "name": "python3"
  },
  "language_info": {
   "codemirror_mode": {
    "name": "ipython",
    "version": 3
   },
   "file_extension": ".py",
   "mimetype": "text/x-python",
   "name": "python",
   "nbconvert_exporter": "python",
   "pygments_lexer": "ipython3",
   "version": "3.7.4"
  }
 },
 "nbformat": 4,
 "nbformat_minor": 1
}
